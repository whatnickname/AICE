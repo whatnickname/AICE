{
 "cells": [
  {
   "cell_type": "markdown",
   "id": "7ad0dacc-e725-4fc9-ba9c-af2c9153039f",
   "metadata": {},
   "source": [
    "## <b><font color =\"red\"> Numpy 기본문법"
   ]
  },
  {
   "cell_type": "code",
   "execution_count": 1,
   "id": "de9802d5-5b09-455d-ac86-3b8a6db1c3ce",
   "metadata": {},
   "outputs": [
    {
     "name": "stdout",
     "output_type": "stream",
     "text": [
      "Requirement already satisfied: numpy in c:\\users\\user\\anaconda3\\lib\\site-packages (1.26.4)\n",
      "Note: you may need to restart the kernel to use updated packages.\n"
     ]
    }
   ],
   "source": [
    "pip install numpy"
   ]
  },
  {
   "cell_type": "code",
   "execution_count": 3,
   "id": "6f823638-73cb-407c-92e5-e863b2c811ce",
   "metadata": {},
   "outputs": [
    {
     "name": "stdout",
     "output_type": "stream",
     "text": [
      "Note: you may need to restart the kernel to use updated packages.\n"
     ]
    },
    {
     "name": "stderr",
     "output_type": "stream",
     "text": [
      "\n",
      "Usage:   \n",
      "  C:\\Users\\User\\anaconda3\\python.exe -m pip install [options] <requirement specifier> [package-index-options] ...\n",
      "  C:\\Users\\User\\anaconda3\\python.exe -m pip install [options] -r <requirements file> [package-index-options] ...\n",
      "  C:\\Users\\User\\anaconda3\\python.exe -m pip install [options] [-e] <vcs project url> ...\n",
      "  C:\\Users\\User\\anaconda3\\python.exe -m pip install [options] [-e] <local project path> ...\n",
      "  C:\\Users\\User\\anaconda3\\python.exe -m pip install [options] <archive url/path> ...\n",
      "\n",
      "no such option: -u\n"
     ]
    }
   ],
   "source": [
    "pip install numpy -q -upgrade"
   ]
  },
  {
   "cell_type": "code",
   "execution_count": 5,
   "id": "8c49342b-ed91-43e6-8ae2-874a58d2653f",
   "metadata": {},
   "outputs": [],
   "source": [
    "# Numpy 라이브러리 불러오기\n",
    "import numpy as np  # Numpy를 np라는 이름으로 불러옵니다."
   ]
  },
  {
   "cell_type": "code",
   "execution_count": 41,
   "id": "9d57aebe-b384-48ed-868d-deb74cce01a7",
   "metadata": {},
   "outputs": [],
   "source": [
    "# 아래는 1차원 배열을 생성하는 코드입니다.\n",
    "array = np.array([1, 2, 3, 4, 5])  # np.array()는 배열을 생성합니다."
   ]
  },
  {
   "cell_type": "code",
   "execution_count": 21,
   "id": "5ed442b5-e117-4eaf-b3f2-19e5868e017a",
   "metadata": {},
   "outputs": [
    {
     "name": "stdout",
     "output_type": "stream",
     "text": [
      "1차원 배열: [1 2 3 4 5]\n"
     ]
    }
   ],
   "source": [
    "# 1차원 배열 생성\n",
    "array = np.array([1, 2, 3, 4, 5])  # 리스트를 사용해 배열 생성\n",
    "print(\"1차원 배열:\", array)"
   ]
  },
  {
   "cell_type": "code",
   "execution_count": 43,
   "id": "c64b47e3-0622-4ce7-95f9-15b663f3dd42",
   "metadata": {},
   "outputs": [
    {
     "name": "stdout",
     "output_type": "stream",
     "text": [
      "배열의 자료형: int32\n"
     ]
    }
   ],
   "source": [
    "# 배열의 자료형 확인\n",
    "print(\"배열의 자료형:\", array.dtype)  # 배열의 자료형을 출력\n"
   ]
  },
  {
   "cell_type": "code",
   "execution_count": 25,
   "id": "c38c584b-c9e9-4196-b3f0-dd1d216a2c4a",
   "metadata": {},
   "outputs": [
    {
     "name": "stdout",
     "output_type": "stream",
     "text": [
      "2차원 배열:\n",
      " [[1 2 3]\n",
      " [4 5 6]]\n"
     ]
    }
   ],
   "source": [
    "# 2차원 배열 생성\n",
    "matrix = np.array([[1, 2, 3], [4, 5, 6]])  # 2행 3열의 배열 생성\n",
    "print(\"2차원 배열:\\n\", matrix)"
   ]
  },
  {
   "cell_type": "code",
   "execution_count": 13,
   "id": "cc43fe94-dfe0-4d04-8385-fa63295e4b71",
   "metadata": {},
   "outputs": [
    {
     "name": "stdout",
     "output_type": "stream",
     "text": [
      "배열의 크기: 6\n",
      "배열의 형태: (2, 3)\n",
      "배열의 차원: 2\n"
     ]
    }
   ],
   "source": [
    "# 배열의 크기 확인\n",
    "print(\"배열의 크기:\", matrix.size)  # 배열의 총 요소 개수\n",
    "# 배열의 형태 확인\n",
    "print(\"배열의 형태:\", matrix.shape)  # 배열의 행과 열의 개수\n",
    "# 배열의 차원 확인\n",
    "print(\"배열의 차원:\", matrix.ndim)  # 배열의 차원을 출력"
   ]
  },
  {
   "cell_type": "code",
   "execution_count": 14,
   "id": "68f7222b-61e9-45e1-9b55-0371b398fd02",
   "metadata": {},
   "outputs": [
    {
     "name": "stdout",
     "output_type": "stream",
     "text": [
      "배열의 합: 21\n",
      "배열의 평균: 3.5\n",
      "배열의 최대값: 6\n",
      "배열의 최소값: 1\n",
      "배열의 최대값: 6\n",
      "배열의 최소값: 1\n"
     ]
    }
   ],
   "source": [
    "# 배열의 합과 평균\n",
    "print(\"배열의 합:\", np.sum(matrix))      # 모든 요소의 합\n",
    "print(\"배열의 평균:\", np.mean(matrix))   # 모든 요소의 평균\n",
    "# 배열의 최대값과 최소값\n",
    "print(\"배열의 최대값:\", np.max(matrix))  # 배열에서 가장 큰 값\n",
    "print(\"배열의 최소값:\", np.min(matrix))  # 배열에서 가장 작은 값\n",
    "# 배열의 최대값과 최소값\n",
    "print(\"배열의 최대값:\", np.max(matrix))  # 배열에서 가장 큰 값\n",
    "print(\"배열의 최소값:\", np.min(matrix))  # 배열에서 가장 작은 값"
   ]
  },
  {
   "cell_type": "code",
   "execution_count": 15,
   "id": "8e7e6127-9408-4150-a93e-b635dcfcd0f3",
   "metadata": {},
   "outputs": [
    {
     "name": "stdout",
     "output_type": "stream",
     "text": [
      "전치된 배열:\n",
      " [[1 4]\n",
      " [2 5]\n",
      " [3 6]]\n"
     ]
    }
   ],
   "source": [
    "# 배열의 전치\n",
    "transposed = matrix.T  # 행과 열을 바꿉니다.\n",
    "print(\"전치된 배열:\\n\", transposed)\n"
   ]
  },
  {
   "cell_type": "markdown",
   "id": "e50f7550-5053-4f2a-9c9f-c581603a36fb",
   "metadata": {},
   "source": [
    "## <b><font color =\"red\"> 판다스 기본문법"
   ]
  },
  {
   "cell_type": "code",
   "execution_count": 18,
   "id": "bebf2d1b-2de2-4f4d-84ac-e29825105c1a",
   "metadata": {},
   "outputs": [
    {
     "name": "stdout",
     "output_type": "stream",
     "text": [
      "Requirement already satisfied: pandas in c:\\users\\value\\anaconda3\\lib\\site-packages (2.2.2)\n",
      "Requirement already satisfied: numpy>=1.26.0 in c:\\users\\value\\anaconda3\\lib\\site-packages (from pandas) (1.26.4)\n",
      "Requirement already satisfied: python-dateutil>=2.8.2 in c:\\users\\value\\anaconda3\\lib\\site-packages (from pandas) (2.9.0.post0)\n",
      "Requirement already satisfied: pytz>=2020.1 in c:\\users\\value\\anaconda3\\lib\\site-packages (from pandas) (2024.1)\n",
      "Requirement already satisfied: tzdata>=2022.7 in c:\\users\\value\\anaconda3\\lib\\site-packages (from pandas) (2023.3)\n",
      "Requirement already satisfied: six>=1.5 in c:\\users\\value\\anaconda3\\lib\\site-packages (from python-dateutil>=2.8.2->pandas) (1.16.0)\n",
      "Note: you may need to restart the kernel to use updated packages.\n"
     ]
    }
   ],
   "source": [
    "pip install pandas"
   ]
  },
  {
   "cell_type": "code",
   "execution_count": 19,
   "id": "60d77459-a6e1-4eb5-b345-04726328a66a",
   "metadata": {},
   "outputs": [],
   "source": [
    "import pandas as pd"
   ]
  },
  {
   "cell_type": "code",
   "execution_count": 20,
   "id": "3c0e914c-004d-419a-8089-b07fcc002261",
   "metadata": {},
   "outputs": [
    {
     "name": "stdout",
     "output_type": "stream",
     "text": [
      "Series:\n",
      " 0    10\n",
      "1    20\n",
      "2    30\n",
      "3    40\n",
      "dtype: int64\n"
     ]
    }
   ],
   "source": [
    "import pandas as pd\n",
    "\n",
    "# Series 생성\n",
    "data = [10, 20, 30, 40]\n",
    "series = pd.Series(data)\n",
    "print(\"Series:\\n\", series)"
   ]
  },
  {
   "cell_type": "code",
   "execution_count": 21,
   "id": "f16c9830-2809-47d7-99af-b5cf176adfb9",
   "metadata": {},
   "outputs": [
    {
     "name": "stdout",
     "output_type": "stream",
     "text": [
      "첫 번째 값: 10\n"
     ]
    }
   ],
   "source": [
    "# 특정 값 참조\n",
    "print(\"첫 번째 값:\", series[0])  # 출력: 10"
   ]
  },
  {
   "cell_type": "code",
   "execution_count": 23,
   "id": "1f365f3d-11f9-4c69-86e1-905a4bd179a0",
   "metadata": {},
   "outputs": [
    {
     "name": "stdout",
     "output_type": "stream",
     "text": [
      "DataFrame:\n",
      "     이름  수학  영어\n",
      "0  김철수  85  88\n",
      "1  이영희  90  84\n",
      "2  박민수  78  95\n"
     ]
    }
   ],
   "source": [
    "# 딕셔너리를 사용해 DataFrame 생성\n",
    "data = {\n",
    "    \"이름\": [\"김철수\", \"이영희\", \"박민수\"],\n",
    "    \"수학\": [85, 90, 78],\n",
    "    \"영어\": [88, 84, 95]\n",
    "}\n",
    "df = pd.DataFrame(data)\n",
    "print(\"DataFrame:\\n\", df)"
   ]
  },
  {
   "cell_type": "code",
   "execution_count": 24,
   "id": "b3b87660-1f67-4591-95ef-52ba0107e93d",
   "metadata": {},
   "outputs": [
    {
     "name": "stdout",
     "output_type": "stream",
     "text": [
      "print()로 출력:\n",
      "    이름  수학  영어\n",
      "0  김철수  85  88\n",
      "1  이영희  90  84\n",
      "2  박민수  78  95\n",
      "\n",
      "DataFrame 형태로 출력:\n"
     ]
    },
    {
     "data": {
      "text/html": [
       "<div>\n",
       "<style scoped>\n",
       "    .dataframe tbody tr th:only-of-type {\n",
       "        vertical-align: middle;\n",
       "    }\n",
       "\n",
       "    .dataframe tbody tr th {\n",
       "        vertical-align: top;\n",
       "    }\n",
       "\n",
       "    .dataframe thead th {\n",
       "        text-align: right;\n",
       "    }\n",
       "</style>\n",
       "<table border=\"1\" class=\"dataframe\">\n",
       "  <thead>\n",
       "    <tr style=\"text-align: right;\">\n",
       "      <th></th>\n",
       "      <th>이름</th>\n",
       "      <th>수학</th>\n",
       "      <th>영어</th>\n",
       "    </tr>\n",
       "  </thead>\n",
       "  <tbody>\n",
       "    <tr>\n",
       "      <th>0</th>\n",
       "      <td>김철수</td>\n",
       "      <td>85</td>\n",
       "      <td>88</td>\n",
       "    </tr>\n",
       "    <tr>\n",
       "      <th>1</th>\n",
       "      <td>이영희</td>\n",
       "      <td>90</td>\n",
       "      <td>84</td>\n",
       "    </tr>\n",
       "    <tr>\n",
       "      <th>2</th>\n",
       "      <td>박민수</td>\n",
       "      <td>78</td>\n",
       "      <td>95</td>\n",
       "    </tr>\n",
       "  </tbody>\n",
       "</table>\n",
       "</div>"
      ],
      "text/plain": [
       "    이름  수학  영어\n",
       "0  김철수  85  88\n",
       "1  이영희  90  84\n",
       "2  박민수  78  95"
      ]
     },
     "execution_count": 24,
     "metadata": {},
     "output_type": "execute_result"
    }
   ],
   "source": [
    "import pandas as pd\n",
    "\n",
    "# 예제 데이터프레임 생성\n",
    "data = {\n",
    "    \"이름\": [\"김철수\", \"이영희\", \"박민수\"],\n",
    "    \"수학\": [85, 90, 78],\n",
    "    \"영어\": [88, 84, 95]\n",
    "}\n",
    "df = pd.DataFrame(data)\n",
    "\n",
    "# (1) print()로 출력\n",
    "print(\"print()로 출력:\")\n",
    "print(df)\n",
    "\n",
    "# (2) DataFrame 형태로 출력 (인터랙티브 환경에서)\n",
    "print(\"\\nDataFrame 형태로 출력:\")\n",
    "df  # Jupyter Notebook에서는 df만 작성하면 표 형태로 출력\n"
   ]
  },
  {
   "cell_type": "code",
   "execution_count": null,
   "id": "6e245cab-4ff5-45d7-9248-4dcc0386a7a3",
   "metadata": {},
   "outputs": [],
   "source": []
  }
 ],
 "metadata": {
  "kernelspec": {
   "display_name": "Python [conda env:base] *",
   "language": "python",
   "name": "conda-base-py"
  },
  "language_info": {
   "codemirror_mode": {
    "name": "ipython",
    "version": 3
   },
   "file_extension": ".py",
   "mimetype": "text/x-python",
   "name": "python",
   "nbconvert_exporter": "python",
   "pygments_lexer": "ipython3",
   "version": "3.12.7"
  }
 },
 "nbformat": 4,
 "nbformat_minor": 5
}
