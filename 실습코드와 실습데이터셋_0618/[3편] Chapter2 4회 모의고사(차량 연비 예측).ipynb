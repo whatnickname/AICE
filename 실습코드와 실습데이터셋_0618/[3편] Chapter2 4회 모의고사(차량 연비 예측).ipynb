{
 "cells": [
  {
   "cell_type": "markdown",
   "id": "4e78c8e6-1acf-4c47-be53-d7d3893ccd04",
   "metadata": {},
   "source": [
    "# <font color=\"#2E86C1\"><b>AICE Associate 4회 모의고사</b></font>\n",
    "---"
   ]
  },
  {
   "cell_type": "markdown",
   "id": "a343b713-5242-44e5-9595-99b5220527fb",
   "metadata": {},
   "source": [
    "##  <font color=\"#117A65\"><b>차량 연비 예측</b></font>"
   ]
  },
  {
   "cell_type": "markdown",
   "id": "005557ec-e2ef-4da8-ae09-4167a430827a",
   "metadata": {},
   "source": [
    "### <font color=\"#5D6D7E\"><b>목적</b></font>  \n",
    "<b>차량의 제원 및 주행 성능 정보를 바탕으로 연비(`mpg`)를 예측</b>하여  \n",
    "고연비 차량 개발, 고객 맞춤형 추천 서비스 등에 활용할 수 있도록  \n",
    "예측 모델을 구축합니다.\n",
    "\n",
    "### <font color=\"#5D6D7E\"><b>배경 시나리오</b></font>\n",
    "\n",
    "자동차 제조사 <b>B사</b>는 연비 효율에 대한 소비자들의 관심이 높아짐에 따라  \n",
    "각 차량의 스펙(엔진, 무게, 가속도 등)과 실제 연비(`mpg`) 간의 관계를 분석하고,  \n",
    "연비 예측 모델을 개발하고자 합니다.  \n",
    "\n",
    "회사는 다양한 차종의 연비와 차량 제원 데이터를 수집하였으며,  \n",
    "다음 정보를 기반으로 <b>연비(`mpg`)</b>를 예측하는 회귀 모델을 구축하려고 합니다.\n",
    "\n",
    "---"
   ]
  },
  {
   "cell_type": "markdown",
   "id": "2318b34c-2103-4fe6-be51-afb14152708e",
   "metadata": {},
   "source": [
    "### 📊 <font color=\"#5D6D7E\"><b>데이터 설명</b></font>  \n",
    "<b>파일 이름: `auto_mpg.xlsx`</b>\n",
    "\n",
    "| 컬럼명           | 설명                                                              |\n",
    "|------------------|-------------------------------------------------------------------|\n",
    "| `mpg`            | <mark><b>연비 (Miles Per Gallon)</b></mark> ← <b>예측 대상</b>     |\n",
    "| `cylinders`      | 실린더 수                                                         |\n",
    "| `displacement`   | 배기량 (단위: cubic inches)                                       |\n",
    "| `horsepower`     | 마력                                                              |\n",
    "| `weight`         | 차량 무게 (단위: lbs)                                             |\n",
    "| `acceleration`   | 가속 성능 (0→60mph까지 걸리는 시간, 초 단위)                     |\n",
    "| `model_year`     | 차량 출시 연도 (예: 70 = 1970)                                     |\n",
    "| `origin`         | 제조 국가 코드 (1: 미국, 2: 유럽, 3: 일본)                        |\n",
    "| `name`           | 차량 이름 (예: \"chevrolet chevelle malibu\")                      |\n",
    "\n",
    "---"
   ]
  },
  {
   "cell_type": "markdown",
   "id": "9d55a772",
   "metadata": {},
   "source": [
    "\n",
    "### 문제 1. 라이브러리 불러오기\n",
    "\n",
    "🎯 목표  \n",
    "데이터 분석을 위해 pandas, numpy, seaborn, matplotlib 라이브러리를 불러옵니다.\n",
    "\n",
    "📑 조건  \n",
    "- pandas를 `pd`, numpy를 `np`, seaborn을 `sns`, matplotlib.pyplot을 `plt`로 임포트하세요.\n",
    "\n"
   ]
  },
  {
   "cell_type": "code",
   "execution_count": 305,
   "id": "bdf4fdc3",
   "metadata": {},
   "outputs": [],
   "source": [
    "# 여기에 답안을 작성하세요.\n"
   ]
  },
  {
   "cell_type": "markdown",
   "id": "44519a75-fb53-481e-bd28-4a20385f8bf1",
   "metadata": {},
   "source": [
    "##### **정답코드**"
   ]
  },
  {
   "cell_type": "code",
   "execution_count": null,
   "id": "ffaa029e-5376-4106-96a3-91dd19db5f47",
   "metadata": {},
   "outputs": [],
   "source": [
    "import pandas as pd\n",
    "import numpy as np\n",
    "import seaborn as sns\n",
    "import matplotlib.pyplot as plt"
   ]
  },
  {
   "cell_type": "markdown",
   "id": "da0fbd81",
   "metadata": {},
   "source": [
    "\n",
    "### 문제 2. 데이터 파일 불러오기\n",
    "\n",
    "🎯 목표  \n",
    "auto_mpg.xlsx 파일을 불러와 mpg_df 데이터프레임을 생성합니다.\n",
    "\n",
    "📑 조건\n",
    "- pandas를 이용하여 파일을 읽고 `mpg_df`에 저장하세요.\n",
    "\n"
   ]
  },
  {
   "cell_type": "code",
   "execution_count": 303,
   "id": "98dfff40",
   "metadata": {},
   "outputs": [],
   "source": [
    "# 여기에 답안코드를 작성하세요.\n"
   ]
  },
  {
   "cell_type": "markdown",
   "id": "173597d5-d5a9-4003-b068-bbc0b4640b21",
   "metadata": {},
   "source": [
    "##### **정답코드**"
   ]
  },
  {
   "cell_type": "code",
   "execution_count": null,
   "id": "e01ddca8-a998-4c24-a7ef-cfd53c20dc82",
   "metadata": {},
   "outputs": [],
   "source": [
    "mpg_df = pd.read_excel('auto_mpg.xlsx')\n",
    "mpg_df"
   ]
  },
  {
   "cell_type": "markdown",
   "id": "efdca2f3",
   "metadata": {},
   "source": [
    "## [문제 3] 컬럼명 변경\n",
    "\n",
    "🎯 목표\n",
    "- 영어로 되어져 있는 컬럼명을 한글로 수정하고자 합니다.\n",
    "\n",
    "📑 컬럼명 변경 조건\n",
    "  - mpg\t연비\n",
    "  - cylinders = 실린더 수\n",
    "  - displacement = 배기량\n",
    "  - horsepower = 마력\n",
    "  - weight = 차량 무게\n",
    "  - acceleration = 가속 성능 \n",
    "  - model_year = 차량 출시 연도\n",
    "  - origin = 제조 국가 코드\n",
    "  - name = 차량 이름\n",
    "\n",
    "📑 조건\n",
    "- inplace = True"
   ]
  },
  {
   "cell_type": "code",
   "execution_count": 103,
   "id": "d36bc7f7",
   "metadata": {},
   "outputs": [],
   "source": [
    "# 여기에 답안코드를 작성하세요.\n"
   ]
  },
  {
   "cell_type": "markdown",
   "id": "8d6625e9-4f01-47ae-9aaa-c5cb6da102b8",
   "metadata": {},
   "source": [
    "##### **정답코드**"
   ]
  },
  {
   "cell_type": "code",
   "execution_count": null,
   "id": "8cf964a4-2ce8-4110-9cce-1b6cd6ae1325",
   "metadata": {},
   "outputs": [],
   "source": [
    "mpg_df.rename(columns={\n",
    "     'mpg': '연비',\n",
    "    'cylinders': '실린더 수',\n",
    "    'displacement': '배기량',\n",
    "    'horsepower': '마력',\n",
    "    'weight': '차량 무게',\n",
    "    'acceleration': '가속 성능',\n",
    "    'model_year': '차량 출시 연도',\n",
    "    'origin': '제조 국가 코드',\n",
    "    'name': '차량 이름'\n",
    "}, inplace=True)"
   ]
  },
  {
   "cell_type": "markdown",
   "id": "1c9b14dd",
   "metadata": {},
   "source": [
    "## [문제 4] 결측치 확인 및 처리\n",
    "\n",
    "🎯 목표\n",
    "- 전체 컬럼에 대한 결측치를 확인하는 코드를 이용하여, 결측치를 처리하세요.\n",
    "\n",
    "📑 조건\n",
    "- 결측치가 존재하는 해당 행 삭제\n",
    "- 처리한 데이터는 del_df 변수에 저장"
   ]
  },
  {
   "cell_type": "code",
   "execution_count": 300,
   "id": "93d09e6a-ffc1-46f9-82bf-84f7003cf60d",
   "metadata": {},
   "outputs": [],
   "source": [
    "# 여기에 답안코드를 작성하세요."
   ]
  },
  {
   "cell_type": "markdown",
   "id": "d248842b-d356-4611-b8af-f90bc218430c",
   "metadata": {},
   "source": [
    "##### **정답코드**"
   ]
  },
  {
   "cell_type": "code",
   "execution_count": null,
   "id": "5554b53a-db7e-45e4-912b-2b521f932655",
   "metadata": {},
   "outputs": [],
   "source": [
    "del_df = mpg_df.dropna()"
   ]
  },
  {
   "cell_type": "markdown",
   "id": "6adebe1f-2d32-49b1-8d84-b4c643795e36",
   "metadata": {},
   "source": [
    "### 한글 깨짐을 방지하기 위해 아래의 코드를 실행하여 주세요."
   ]
  },
  {
   "cell_type": "code",
   "execution_count": 69,
   "id": "b9b16797-78ec-4448-96c3-865a9cc00657",
   "metadata": {},
   "outputs": [],
   "source": [
    "import matplotlib.font_manager as fm\n",
    "import platform\n",
    "\n",
    "# 운영체제별 폰트 설정\n",
    "if platform.system() == 'Windows':\n",
    "    plt.rc('font', family='Malgun Gothic')  # 윈도우: 맑은 고딕\n",
    "elif platform.system() == 'Darwin':  # macOS\n",
    "    plt.rc('font', family='AppleGothic')\n",
    "else:\n",
    "    plt.rc('font', family='NanumGothic')  # 리눅스: 나눔고딕 설치 필요\n",
    "\n",
    "# 마이너스 깨짐 방지\n",
    "plt.rcParams['axes.unicode_minus'] = False"
   ]
  },
  {
   "cell_type": "markdown",
   "id": "317cbee4",
   "metadata": {},
   "source": [
    "## [문제 5] 이상치 제거\n",
    "\n",
    "🎯 목표  \n",
    "마력과 연비에 대한 그래프를 확인하고 이상치를 제거하고자 합니다.\n",
    "\n",
    "[사전 실행 지시사항]\n",
    "- 아래 셀을 실행하여 scatterplot을 확인하세요.\n"
   ]
  },
  {
   "cell_type": "code",
   "execution_count": 113,
   "id": "faf8f1ca",
   "metadata": {},
   "outputs": [
    {
     "data": {
      "text/plain": [
       "<Axes: xlabel='마력', ylabel='연비'>"
      ]
     },
     "execution_count": 113,
     "metadata": {},
     "output_type": "execute_result"
    },
    {
     "data": {
      "image/png": "[encoded data removed]",
      "text/plain": [
       "<Figure size 640x480 with 1 Axes>"
      ]
     },
     "metadata": {},
     "output_type": "display_data"
    }
   ],
   "source": [
    "sns.scatterplot(data=del_df, x='마력', y='연비')"
   ]
  },
  {
   "cell_type": "markdown",
   "id": "0676352d-0a3c-4c9d-99d6-ad18c3eb5f98",
   "metadata": {},
   "source": [
    "📑 조건  \n",
    "위의 그래프를 보면 이상치가 존재한다는 것을 확인할 수 있습니다.\n",
    "\n",
    "- 마력이 150이상이면서 연비가 50 초과하는 이상치를 제거하세요.\n",
    "- inplace= True"
   ]
  },
  {
   "cell_type": "code",
   "execution_count": 298,
   "id": "b6ee6995-4ff5-4e9f-83f4-fb5e7b3dc08d",
   "metadata": {},
   "outputs": [],
   "source": [
    "# 여기에 답안코드를 작성하세요.\n"
   ]
  },
  {
   "cell_type": "markdown",
   "id": "fb7fb1f1-a0d4-4e3d-a95a-787dad42459e",
   "metadata": {},
   "source": [
    "##### **정답코드**"
   ]
  },
  {
   "cell_type": "code",
   "execution_count": null,
   "id": "30970dbb-7340-4efb-bf96-c5c0d23384dc",
   "metadata": {},
   "outputs": [],
   "source": [
    "del_df.drop(del_df[(del_df['마력'] >= 150) & (del_df['연비'] > 50)].index, inplace=True)\n",
    "del_df"
   ]
  },
  {
   "cell_type": "markdown",
   "id": "8ae28945",
   "metadata": {},
   "source": [
    "## [문제 6] 연속형 변수 상관 관계 해석\n",
    "🎯 목표\n",
    "\n",
    "- seaborn의 heatmap을 이용하여 변수들 간의 상관 관계 그래프를 그리세요.\n",
    "- 가장 적절한 해석을 답06 변수에 저장하세요.\n",
    "\n",
    "[사전 실행 지시사항]\n",
    "- 아래 리스트를 이용하여 히트맵을 그리세요."
   ]
  },
  {
   "cell_type": "code",
   "execution_count": 150,
   "id": "25025832",
   "metadata": {},
   "outputs": [],
   "source": [
    "col_list = ['배기량','마력','차량 무게','가속 성능']"
   ]
  },
  {
   "cell_type": "markdown",
   "id": "09dc7159-4ae6-4537-8a6a-95ea27455856",
   "metadata": {},
   "source": [
    "📑 조건  \n",
    "- col_list를 이용하여 히트맵을 그리세요.\n",
    "- annot = True\n",
    "\n",
    "📑 보기\n",
    "\n",
    "1. 배기량과 차량 무게는 함께 사용하는 것이 일반적이므로 모두 유지한다.\n",
    "\n",
    "2. 마력과 배기량은 상관계수가 낮으므로 배기량을 남기고 마력을 제거한다.\n",
    "\n",
    "3. 배기량과 차량 무게는 높은 상관관계를 가지므로, 예측력이나 변수 중요도를 고려하여 차량 무게를 제거한다.\n",
    "\n",
    "4. 모든 변수는 예측력이 있으므로, 상관관계에 관계없이 모두 사용하는 것이 바람직하다."
   ]
  },
  {
   "cell_type": "code",
   "execution_count": 154,
   "id": "2d0c7b07",
   "metadata": {},
   "outputs": [
    {
     "data": {
      "image/png": "[encoded data removed]",
      "text/plain": [
       "<Figure size 640x480 with 2 Axes>"
      ]
     },
     "metadata": {},
     "output_type": "display_data"
    }
   ],
   "source": [
    "# 여기에 답안코드를 작성하세요.\n"
   ]
  },
  {
   "cell_type": "markdown",
   "id": "eaeb1ac4-1012-42da-9699-c4b2a86ad77a",
   "metadata": {},
   "source": [
    "##### **정답코드**"
   ]
  },
  {
   "cell_type": "code",
   "execution_count": null,
   "id": "f67627a4-8690-4a0c-99ca-d2311aba8f91",
   "metadata": {},
   "outputs": [],
   "source": [
    "sns.heatmap(data=del_df[col_list].corr(), annot=True)\n",
    "답06 = 3"
   ]
  },
  {
   "cell_type": "markdown",
   "id": "2b8e9bf9",
   "metadata": {},
   "source": [
    "## [문제 7] 불필요 컬럼 제거\n",
    "\n",
    "🎯 목표  \n",
    "예측 모델의 성능을 높이기 위해 불필요한 변수들을 제거하고자 합니다.\n",
    "\n",
    "📑 조건  \n",
    "- 문제 6번에서 선택한 보기에 따라 다중공선성이 우려되는 변수를 제거합니다.\n",
    "- 여기에 더해 다음의 3개 변수도 함께 제거하세요: '차량 출시 연도', '제조 국가 코드', '차량 이름'\n",
    "- 단, 문제 6번에서 선택한 변수를 유지하기로 했다면, 위 3개 컬럼만 제거합니다.\n",
    "- 처리된 데이터는 clear_df 변수에 저장"
   ]
  },
  {
   "cell_type": "code",
   "execution_count": null,
   "id": "d7b64cab-65ed-45a2-85b2-bd851504d9d6",
   "metadata": {},
   "outputs": [],
   "source": [
    "# 여기에 답안코드를 작성하세요.\n"
   ]
  },
  {
   "cell_type": "markdown",
   "id": "6957d22d-eb98-493c-af56-883aeeefbbfb",
   "metadata": {},
   "source": [
    "##### **정답코드**"
   ]
  },
  {
   "cell_type": "code",
   "execution_count": null,
   "id": "d26f1d0d-44a4-470f-9735-1c66d2645821",
   "metadata": {},
   "outputs": [],
   "source": [
    "clear_df = del_df.drop(['차량 무게', '차량 출시 연도', '제조 국가 코드', '차량 이름'], axis=1)\n",
    "clear_df"
   ]
  },
  {
   "cell_type": "markdown",
   "id": "16e2515e",
   "metadata": {},
   "source": [
    "## [문제 8] 범주형 변수 인코딩\n",
    "\n",
    "🖋 상황 설명  \n",
    "실린더 수 컬럼을 get_dummies로 변환하세요.\n",
    "\n",
    "🎯 목표\n",
    "- drop_first=True 옵션 사용\n",
    "- 처리된 데이터는 encoding_df 변수에 저장하세요."
   ]
  },
  {
   "cell_type": "code",
   "execution_count": 176,
   "id": "4bb7d05f",
   "metadata": {},
   "outputs": [],
   "source": [
    "# 여기에 답안코드를 작성하세요."
   ]
  },
  {
   "cell_type": "markdown",
   "id": "30e8351f-edb5-43a7-b16b-3ee32250766f",
   "metadata": {},
   "source": [
    "##### **정답코드**"
   ]
  },
  {
   "cell_type": "code",
   "execution_count": null,
   "id": "f9ffb29e-91a2-4534-9e25-3dd0eb4e1a3b",
   "metadata": {},
   "outputs": [],
   "source": [
    "encoding_df = pd.get_dummies(data=clear_df, columns=['실린더 수'], drop_first=True)"
   ]
  },
  {
   "cell_type": "markdown",
   "id": "48a6499f",
   "metadata": {},
   "source": [
    "## [문제 9] train/test 데이터 분리\n",
    "\n",
    "🎯 목표  \n",
    "train_test_split을 이용하여 데이터를 분리하려고 합니다.\n",
    "\n",
    "📑 조건  \n",
    "- Feature: 연비 컬럼 제외 전부\n",
    "- Target: 연비\n",
    "- 데이터셋을 분리하기 위해 train_test_split을 import하세요.\n",
    "- 훈련 데이터 셋 = X_train, y_train\n",
    "- 검증 데이터 셋 = X_valid, y_valid\n",
    "- random_state=42\n",
    "- 훈련 데이터셋과 검증 데이터셋의 비율은 8:2"
   ]
  },
  {
   "cell_type": "code",
   "execution_count": 179,
   "id": "7aaa1764",
   "metadata": {},
   "outputs": [],
   "source": [
    "# 여기에 답안코드를 작성하세요."
   ]
  },
  {
   "cell_type": "markdown",
   "id": "668170c7-fb4c-44dc-a993-f0400eb61eea",
   "metadata": {},
   "source": [
    "##### **정답코드**"
   ]
  },
  {
   "cell_type": "code",
   "execution_count": null,
   "id": "05541f8b-0334-49a7-b028-266addf49804",
   "metadata": {},
   "outputs": [],
   "source": [
    "from sklearn.model_selection import train_test_split\n",
    "X_train, X_valid, y_train, y_valid = train_test_split(encoding_df.drop(columns='연비'), encoding_df['연비'], test_size=0.2, random_state=42)"
   ]
  },
  {
   "cell_type": "markdown",
   "id": "a4f1afb6",
   "metadata": {},
   "source": [
    "## [문제 10] 데이터 표준화\n",
    "\n",
    "🎯 목표  \n",
    "데이터 스케일링을 통해 모델 학습의 성능을 높입니다.\n",
    "\n",
    "[사전 실행 지시사항]\n",
    "- 아래 셀을 실행하여 StandardScaler를 불러오세요."
   ]
  },
  {
   "cell_type": "code",
   "execution_count": 182,
   "id": "e81f9881",
   "metadata": {},
   "outputs": [],
   "source": [
    "from sklearn.preprocessing import StandardScaler\n",
    "scaler = StandardScaler()"
   ]
  },
  {
   "cell_type": "markdown",
   "id": "1d8cd0c0-b18f-4f73-a50a-55e160f84dd8",
   "metadata": {},
   "source": [
    "📑 조건  \n",
    "- StandardScaler를 이용해 Feature 데이터를 스케일링하세요.\n",
    "- X_train은 fit_tranform을 이용하여 X_train 변수에 저장\n",
    "- X_valid는 transform을 이용하여 X_test의 변수에 저장"
   ]
  },
  {
   "cell_type": "code",
   "execution_count": 186,
   "id": "e168b010",
   "metadata": {},
   "outputs": [],
   "source": [
    "# 여기에 답안을 작성하세요.\n"
   ]
  },
  {
   "cell_type": "markdown",
   "id": "e1d78b03-f1d7-4d2b-bfeb-3114d85e9720",
   "metadata": {},
   "source": [
    "##### **정답코드**"
   ]
  },
  {
   "cell_type": "code",
   "execution_count": null,
   "id": "6f67970e-e50c-49e4-859d-160b9e16e7f2",
   "metadata": {},
   "outputs": [],
   "source": [
    "X_train = scaler.fit_transform(X_train)\n",
    "X_test = scaler.transform(X_valid)"
   ]
  },
  {
   "cell_type": "markdown",
   "id": "507e4df5",
   "metadata": {},
   "source": [
    "## [문제 11] 서포트 벡터 머신(SVM) 모델 학습\n",
    "🎯 목표  \n",
    "서포트 벡터 머신(SVM)을 활용하여 연비를 예측합니다.\n",
    "\n",
    "[사전 실행 지시사항]\n",
    "- 아래 셀을 실행하여 서포트 벡터 머신의 회귀모델인 SVR을 불러오세요."
   ]
  },
  {
   "cell_type": "code",
   "execution_count": 204,
   "id": "16bf7332",
   "metadata": {},
   "outputs": [],
   "source": [
    "from sklearn.svm import SVR"
   ]
  },
  {
   "cell_type": "markdown",
   "id": "bd7faaba-f188-43db-8c45-8151110b1f6d",
   "metadata": {},
   "source": [
    "📑 조건  \n",
    "- SVR 모델은 svr 변수에 저장하세요.\n",
    "- kernel='rbf', C=1.0, epsilon=0.2\n",
    "- 훈련은 스케일링 처리된 데이터를 사용해 주세요."
   ]
  },
  {
   "cell_type": "code",
   "execution_count": 216,
   "id": "b2df2059",
   "metadata": {},
   "outputs": [
    {
     "data": {
      "text/html": [
       "<style>#sk-container-id-3 {\n",
       "  /* Definition of color scheme common for light and dark mode */\n",
       "  --sklearn-color-text: black;\n",
       "  --sklearn-color-line: gray;\n",
       "  /* Definition of color scheme for unfitted estimators */\n",
       "  --sklearn-color-unfitted-level-0: #fff5e6;\n",
       "  --sklearn-color-unfitted-level-1: #f6e4d2;\n",
       "  --sklearn-color-unfitted-level-2: #ffe0b3;\n",
       "  --sklearn-color-unfitted-level-3: chocolate;\n",
       "  /* Definition of color scheme for fitted estimators */\n",
       "  --sklearn-color-fitted-level-0: #f0f8ff;\n",
       "  --sklearn-color-fitted-level-1: #d4ebff;\n",
       "  --sklearn-color-fitted-level-2: #b3dbfd;\n",
       "  --sklearn-color-fitted-level-3: cornflowerblue;\n",
       "\n",
       "  /* Specific color for light theme */\n",
       "  --sklearn-color-text-on-default-background: var(--sg-text-color, var(--theme-code-foreground, var(--jp-content-font-color1, black)));\n",
       "  --sklearn-color-background: var(--sg-background-color, var(--theme-background, var(--jp-layout-color0, white)));\n",
       "  --sklearn-color-border-box: var(--sg-text-color, var(--theme-code-foreground, var(--jp-content-font-color1, black)));\n",
       "  --sklearn-color-icon: #696969;\n",
       "\n",
       "  @media (prefers-color-scheme: dark) {\n",
       "    /* Redefinition of color scheme for dark theme */\n",
       "    --sklearn-color-text-on-default-background: var(--sg-text-color, var(--theme-code-foreground, var(--jp-content-font-color1, white)));\n",
       "    --sklearn-color-background: var(--sg-background-color, var(--theme-background, var(--jp-layout-color0, #111)));\n",
       "    --sklearn-color-border-box: var(--sg-text-color, var(--theme-code-foreground, var(--jp-content-font-color1, white)));\n",
       "    --sklearn-color-icon: #878787;\n",
       "  }\n",
       "}\n",
       "\n",
       "#sk-container-id-3 {\n",
       "  color: var(--sklearn-color-text);\n",
       "}\n",
       "\n",
       "#sk-container-id-3 pre {\n",
       "  padding: 0;\n",
       "}\n",
       "\n",
       "#sk-container-id-3 input.sk-hidden--visually {\n",
       "  border: 0;\n",
       "  clip: rect(1px 1px 1px 1px);\n",
       "  clip: rect(1px, 1px, 1px, 1px);\n",
       "  height: 1px;\n",
       "  margin: -1px;\n",
       "  overflow: hidden;\n",
       "  padding: 0;\n",
       "  position: absolute;\n",
       "  width: 1px;\n",
       "}\n",
       "\n",
       "#sk-container-id-3 div.sk-dashed-wrapped {\n",
       "  border: 1px dashed var(--sklearn-color-line);\n",
       "  margin: 0 0.4em 0.5em 0.4em;\n",
       "  box-sizing: border-box;\n",
       "  padding-bottom: 0.4em;\n",
       "  background-color: var(--sklearn-color-background);\n",
       "}\n",
       "\n",
       "#sk-container-id-3 div.sk-container {\n",
       "  /* jupyter's `normalize.less` sets `[hidden] { display: none; }`\n",
       "     but bootstrap.min.css set `[hidden] { display: none !important; }`\n",
       "     so we also need the `!important` here to be able to override the\n",
       "     default hidden behavior on the sphinx rendered scikit-learn.org.\n",
       "     See: https://github.com/scikit-learn/scikit-learn/issues/21755 */\n",
       "  display: inline-block !important;\n",
       "  position: relative;\n",
       "}\n",
       "\n",
       "#sk-container-id-3 div.sk-text-repr-fallback {\n",
       "  display: none;\n",
       "}\n",
       "\n",
       "div.sk-parallel-item,\n",
       "div.sk-serial,\n",
       "div.sk-item {\n",
       "  /* draw centered vertical line to link estimators */\n",
       "  background-image: linear-gradient(var(--sklearn-color-text-on-default-background), var(--sklearn-color-text-on-default-background));\n",
       "  background-size: 2px 100%;\n",
       "  background-repeat: no-repeat;\n",
       "  background-position: center center;\n",
       "}\n",
       "\n",
       "/* Parallel-specific style estimator block */\n",
       "\n",
       "#sk-container-id-3 div.sk-parallel-item::after {\n",
       "  content: \"\";\n",
       "  width: 100%;\n",
       "  border-bottom: 2px solid var(--sklearn-color-text-on-default-background);\n",
       "  flex-grow: 1;\n",
       "}\n",
       "\n",
       "#sk-container-id-3 div.sk-parallel {\n",
       "  display: flex;\n",
       "  align-items: stretch;\n",
       "  justify-content: center;\n",
       "  background-color: var(--sklearn-color-background);\n",
       "  position: relative;\n",
       "}\n",
       "\n",
       "#sk-container-id-3 div.sk-parallel-item {\n",
       "  display: flex;\n",
       "  flex-direction: column;\n",
       "}\n",
       "\n",
       "#sk-container-id-3 div.sk-parallel-item:first-child::after {\n",
       "  align-self: flex-end;\n",
       "  width: 50%;\n",
       "}\n",
       "\n",
       "#sk-container-id-3 div.sk-parallel-item:last-child::after {\n",
       "  align-self: flex-start;\n",
       "  width: 50%;\n",
       "}\n",
       "\n",
       "#sk-container-id-3 div.sk-parallel-item:only-child::after {\n",
       "  width: 0;\n",
       "}\n",
       "\n",
       "/* Serial-specific style estimator block */\n",
       "\n",
       "#sk-container-id-3 div.sk-serial {\n",
       "  display: flex;\n",
       "  flex-direction: column;\n",
       "  align-items: center;\n",
       "  background-color: var(--sklearn-color-background);\n",
       "  padding-right: 1em;\n",
       "  padding-left: 1em;\n",
       "}\n",
       "\n",
       "\n",
       "/* Toggleable style: style used for estimator/Pipeline/ColumnTransformer box that is\n",
       "clickable and can be expanded/collapsed.\n",
       "- Pipeline and ColumnTransformer use this feature and define the default style\n",
       "- Estimators will overwrite some part of the style using the `sk-estimator` class\n",
       "*/\n",
       "\n",
       "/* Pipeline and ColumnTransformer style (default) */\n",
       "\n",
       "#sk-container-id-3 div.sk-toggleable {\n",
       "  /* Default theme specific background. It is overwritten whether we have a\n",
       "  specific estimator or a Pipeline/ColumnTransformer */\n",
       "  background-color: var(--sklearn-color-background);\n",
       "}\n",
       "\n",
       "/* Toggleable label */\n",
       "#sk-container-id-3 label.sk-toggleable__label {\n",
       "  cursor: pointer;\n",
       "  display: block;\n",
       "  width: 100%;\n",
       "  margin-bottom: 0;\n",
       "  padding: 0.5em;\n",
       "  box-sizing: border-box;\n",
       "  text-align: center;\n",
       "}\n",
       "\n",
       "#sk-container-id-3 label.sk-toggleable__label-arrow:before {\n",
       "  /* Arrow on the left of the label */\n",
       "  content: \"▸\";\n",
       "  float: left;\n",
       "  margin-right: 0.25em;\n",
       "  color: var(--sklearn-color-icon);\n",
       "}\n",
       "\n",
       "#sk-container-id-3 label.sk-toggleable__label-arrow:hover:before {\n",
       "  color: var(--sklearn-color-text);\n",
       "}\n",
       "\n",
       "/* Toggleable content - dropdown */\n",
       "\n",
       "#sk-container-id-3 div.sk-toggleable__content {\n",
       "  max-height: 0;\n",
       "  max-width: 0;\n",
       "  overflow: hidden;\n",
       "  text-align: left;\n",
       "  /* unfitted */\n",
       "  background-color: var(--sklearn-color-unfitted-level-0);\n",
       "}\n",
       "\n",
       "#sk-container-id-3 div.sk-toggleable__content.fitted {\n",
       "  /* fitted */\n",
       "  background-color: var(--sklearn-color-fitted-level-0);\n",
       "}\n",
       "\n",
       "#sk-container-id-3 div.sk-toggleable__content pre {\n",
       "  margin: 0.2em;\n",
       "  border-radius: 0.25em;\n",
       "  color: var(--sklearn-color-text);\n",
       "  /* unfitted */\n",
       "  background-color: var(--sklearn-color-unfitted-level-0);\n",
       "}\n",
       "\n",
       "#sk-container-id-3 div.sk-toggleable__content.fitted pre {\n",
       "  /* unfitted */\n",
       "  background-color: var(--sklearn-color-fitted-level-0);\n",
       "}\n",
       "\n",
       "#sk-container-id-3 input.sk-toggleable__control:checked~div.sk-toggleable__content {\n",
       "  /* Expand drop-down */\n",
       "  max-height: 200px;\n",
       "  max-width: 100%;\n",
       "  overflow: auto;\n",
       "}\n",
       "\n",
       "#sk-container-id-3 input.sk-toggleable__control:checked~label.sk-toggleable__label-arrow:before {\n",
       "  content: \"▾\";\n",
       "}\n",
       "\n",
       "/* Pipeline/ColumnTransformer-specific style */\n",
       "\n",
       "#sk-container-id-3 div.sk-label input.sk-toggleable__control:checked~label.sk-toggleable__label {\n",
       "  color: var(--sklearn-color-text);\n",
       "  background-color: var(--sklearn-color-unfitted-level-2);\n",
       "}\n",
       "\n",
       "#sk-container-id-3 div.sk-label.fitted input.sk-toggleable__control:checked~label.sk-toggleable__label {\n",
       "  background-color: var(--sklearn-color-fitted-level-2);\n",
       "}\n",
       "\n",
       "/* Estimator-specific style */\n",
       "\n",
       "/* Colorize estimator box */\n",
       "#sk-container-id-3 div.sk-estimator input.sk-toggleable__control:checked~label.sk-toggleable__label {\n",
       "  /* unfitted */\n",
       "  background-color: var(--sklearn-color-unfitted-level-2);\n",
       "}\n",
       "\n",
       "#sk-container-id-3 div.sk-estimator.fitted input.sk-toggleable__control:checked~label.sk-toggleable__label {\n",
       "  /* fitted */\n",
       "  background-color: var(--sklearn-color-fitted-level-2);\n",
       "}\n",
       "\n",
       "#sk-container-id-3 div.sk-label label.sk-toggleable__label,\n",
       "#sk-container-id-3 div.sk-label label {\n",
       "  /* The background is the default theme color */\n",
       "  color: var(--sklearn-color-text-on-default-background);\n",
       "}\n",
       "\n",
       "/* On hover, darken the color of the background */\n",
       "#sk-container-id-3 div.sk-label:hover label.sk-toggleable__label {\n",
       "  color: var(--sklearn-color-text);\n",
       "  background-color: var(--sklearn-color-unfitted-level-2);\n",
       "}\n",
       "\n",
       "/* Label box, darken color on hover, fitted */\n",
       "#sk-container-id-3 div.sk-label.fitted:hover label.sk-toggleable__label.fitted {\n",
       "  color: var(--sklearn-color-text);\n",
       "  background-color: var(--sklearn-color-fitted-level-2);\n",
       "}\n",
       "\n",
       "/* Estimator label */\n",
       "\n",
       "#sk-container-id-3 div.sk-label label {\n",
       "  font-family: monospace;\n",
       "  font-weight: bold;\n",
       "  display: inline-block;\n",
       "  line-height: 1.2em;\n",
       "}\n",
       "\n",
       "#sk-container-id-3 div.sk-label-container {\n",
       "  text-align: center;\n",
       "}\n",
       "\n",
       "/* Estimator-specific */\n",
       "#sk-container-id-3 div.sk-estimator {\n",
       "  font-family: monospace;\n",
       "  border: 1px dotted var(--sklearn-color-border-box);\n",
       "  border-radius: 0.25em;\n",
       "  box-sizing: border-box;\n",
       "  margin-bottom: 0.5em;\n",
       "  /* unfitted */\n",
       "  background-color: var(--sklearn-color-unfitted-level-0);\n",
       "}\n",
       "\n",
       "#sk-container-id-3 div.sk-estimator.fitted {\n",
       "  /* fitted */\n",
       "  background-color: var(--sklearn-color-fitted-level-0);\n",
       "}\n",
       "\n",
       "/* on hover */\n",
       "#sk-container-id-3 div.sk-estimator:hover {\n",
       "  /* unfitted */\n",
       "  background-color: var(--sklearn-color-unfitted-level-2);\n",
       "}\n",
       "\n",
       "#sk-container-id-3 div.sk-estimator.fitted:hover {\n",
       "  /* fitted */\n",
       "  background-color: var(--sklearn-color-fitted-level-2);\n",
       "}\n",
       "\n",
       "/* Specification for estimator info (e.g. \"i\" and \"?\") */\n",
       "\n",
       "/* Common style for \"i\" and \"?\" */\n",
       "\n",
       ".sk-estimator-doc-link,\n",
       "a:link.sk-estimator-doc-link,\n",
       "a:visited.sk-estimator-doc-link {\n",
       "  float: right;\n",
       "  font-size: smaller;\n",
       "  line-height: 1em;\n",
       "  font-family: monospace;\n",
       "  background-color: var(--sklearn-color-background);\n",
       "  border-radius: 1em;\n",
       "  height: 1em;\n",
       "  width: 1em;\n",
       "  text-decoration: none !important;\n",
       "  margin-left: 1ex;\n",
       "  /* unfitted */\n",
       "  border: var(--sklearn-color-unfitted-level-1) 1pt solid;\n",
       "  color: var(--sklearn-color-unfitted-level-1);\n",
       "}\n",
       "\n",
       ".sk-estimator-doc-link.fitted,\n",
       "a:link.sk-estimator-doc-link.fitted,\n",
       "a:visited.sk-estimator-doc-link.fitted {\n",
       "  /* fitted */\n",
       "  border: var(--sklearn-color-fitted-level-1) 1pt solid;\n",
       "  color: var(--sklearn-color-fitted-level-1);\n",
       "}\n",
       "\n",
       "/* On hover */\n",
       "div.sk-estimator:hover .sk-estimator-doc-link:hover,\n",
       ".sk-estimator-doc-link:hover,\n",
       "div.sk-label-container:hover .sk-estimator-doc-link:hover,\n",
       ".sk-estimator-doc-link:hover {\n",
       "  /* unfitted */\n",
       "  background-color: var(--sklearn-color-unfitted-level-3);\n",
       "  color: var(--sklearn-color-background);\n",
       "  text-decoration: none;\n",
       "}\n",
       "\n",
       "div.sk-estimator.fitted:hover .sk-estimator-doc-link.fitted:hover,\n",
       ".sk-estimator-doc-link.fitted:hover,\n",
       "div.sk-label-container:hover .sk-estimator-doc-link.fitted:hover,\n",
       ".sk-estimator-doc-link.fitted:hover {\n",
       "  /* fitted */\n",
       "  background-color: var(--sklearn-color-fitted-level-3);\n",
       "  color: var(--sklearn-color-background);\n",
       "  text-decoration: none;\n",
       "}\n",
       "\n",
       "/* Span, style for the box shown on hovering the info icon */\n",
       ".sk-estimator-doc-link span {\n",
       "  display: none;\n",
       "  z-index: 9999;\n",
       "  position: relative;\n",
       "  font-weight: normal;\n",
       "  right: .2ex;\n",
       "  padding: .5ex;\n",
       "  margin: .5ex;\n",
       "  width: min-content;\n",
       "  min-width: 20ex;\n",
       "  max-width: 50ex;\n",
       "  color: var(--sklearn-color-text);\n",
       "  box-shadow: 2pt 2pt 4pt #999;\n",
       "  /* unfitted */\n",
       "  background: var(--sklearn-color-unfitted-level-0);\n",
       "  border: .5pt solid var(--sklearn-color-unfitted-level-3);\n",
       "}\n",
       "\n",
       ".sk-estimator-doc-link.fitted span {\n",
       "  /* fitted */\n",
       "  background: var(--sklearn-color-fitted-level-0);\n",
       "  border: var(--sklearn-color-fitted-level-3);\n",
       "}\n",
       "\n",
       ".sk-estimator-doc-link:hover span {\n",
       "  display: block;\n",
       "}\n",
       "\n",
       "/* \"?\"-specific style due to the `<a>` HTML tag */\n",
       "\n",
       "#sk-container-id-3 a.estimator_doc_link {\n",
       "  float: right;\n",
       "  font-size: 1rem;\n",
       "  line-height: 1em;\n",
       "  font-family: monospace;\n",
       "  background-color: var(--sklearn-color-background);\n",
       "  border-radius: 1rem;\n",
       "  height: 1rem;\n",
       "  width: 1rem;\n",
       "  text-decoration: none;\n",
       "  /* unfitted */\n",
       "  color: var(--sklearn-color-unfitted-level-1);\n",
       "  border: var(--sklearn-color-unfitted-level-1) 1pt solid;\n",
       "}\n",
       "\n",
       "#sk-container-id-3 a.estimator_doc_link.fitted {\n",
       "  /* fitted */\n",
       "  border: var(--sklearn-color-fitted-level-1) 1pt solid;\n",
       "  color: var(--sklearn-color-fitted-level-1);\n",
       "}\n",
       "\n",
       "/* On hover */\n",
       "#sk-container-id-3 a.estimator_doc_link:hover {\n",
       "  /* unfitted */\n",
       "  background-color: var(--sklearn-color-unfitted-level-3);\n",
       "  color: var(--sklearn-color-background);\n",
       "  text-decoration: none;\n",
       "}\n",
       "\n",
       "#sk-container-id-3 a.estimator_doc_link.fitted:hover {\n",
       "  /* fitted */\n",
       "  background-color: var(--sklearn-color-fitted-level-3);\n",
       "}\n",
       "</style><div id=\"sk-container-id-3\" class=\"sk-top-container\"><div class=\"sk-text-repr-fallback\"><pre>SVR(epsilon=0.2)</pre><b>In a Jupyter environment, please rerun this cell to show the HTML representation or trust the notebook. <br />On GitHub, the HTML representation is unable to render, please try loading this page with nbviewer.org.</b></div><div class=\"sk-container\" hidden><div class=\"sk-item\"><div class=\"sk-estimator fitted sk-toggleable\"><input class=\"sk-toggleable__control sk-hidden--visually\" id=\"sk-estimator-id-3\" type=\"checkbox\" checked><label for=\"sk-estimator-id-3\" class=\"sk-toggleable__label fitted sk-toggleable__label-arrow fitted\">&nbsp;&nbsp;SVR<a class=\"sk-estimator-doc-link fitted\" rel=\"noreferrer\" target=\"_blank\" href=\"https://scikit-learn.org/1.5/modules/generated/sklearn.svm.SVR.html\">?<span>Documentation for SVR</span></a><span class=\"sk-estimator-doc-link fitted\">i<span>Fitted</span></span></label><div class=\"sk-toggleable__content fitted\"><pre>SVR(epsilon=0.2)</pre></div> </div></div></div></div>"
      ],
      "text/plain": [
       "SVR(epsilon=0.2)"
      ]
     },
     "execution_count": 216,
     "metadata": {},
     "output_type": "execute_result"
    }
   ],
   "source": [
    "# 여기에 답안코드를 작성하세요.\n"
   ]
  },
  {
   "cell_type": "markdown",
   "id": "d44cbb77-dfc8-4cff-9173-bc7d6bae83db",
   "metadata": {},
   "source": [
    "##### **정답코드**"
   ]
  },
  {
   "cell_type": "code",
   "execution_count": null,
   "id": "338437a0-d316-4a50-841b-14fb8c3d938c",
   "metadata": {},
   "outputs": [],
   "source": [
    "svr = SVR(kernel='rbf', C=1.0, epsilon=0.2)\n",
    "svr.fit(X_train, y_train)"
   ]
  },
  {
   "cell_type": "markdown",
   "id": "45048727",
   "metadata": {},
   "source": [
    "## [문제 12] 랜덤포레스트 회귀 모델 학습\n",
    "\n",
    "🎯 목표  \n",
    "랜덤포레스트 모델을 활용하여 연비를 예측합니다.\n",
    "\n",
    "[사전 실행 지시사항]\n",
    "- 아래 셀을 실행하여 RandomForestRegressor를 불러오세요."
   ]
  },
  {
   "cell_type": "code",
   "execution_count": 209,
   "id": "40b8bf9a",
   "metadata": {},
   "outputs": [],
   "source": [
    "from sklearn.ensemble import RandomForestRegressor"
   ]
  },
  {
   "cell_type": "markdown",
   "id": "d3478a35-60d0-43f4-a106-0767b7780209",
   "metadata": {},
   "source": [
    "📑 조건  \n",
    "- 랜덤포레스트모델을 rfr변수에 저장하세요.\n",
    "- n_estimators=200, max_depth=10, min_samples_split=7, random_state=42\n",
    "- 훈련은 스케일링 처리된 데이터를 사용해 주세요."
   ]
  },
  {
   "cell_type": "code",
   "execution_count": 296,
   "id": "bb6abaec",
   "metadata": {},
   "outputs": [],
   "source": [
    "# 여기에 답안코드를 작성하세요."
   ]
  },
  {
   "cell_type": "markdown",
   "id": "54257ab7-c509-4f7f-97ba-4d54fee621ab",
   "metadata": {},
   "source": [
    "##### **정답코드**"
   ]
  },
  {
   "cell_type": "code",
   "execution_count": null,
   "id": "e5d765ee-e014-4fd2-99d7-17dfa6be891f",
   "metadata": {},
   "outputs": [],
   "source": [
    "rfc = RandomForestRegressor(n_estimators=200, max_depth=10, min_samples_split=7, random_state=42)\n",
    "rfc.fit(X_train,y_train)"
   ]
  },
  {
   "cell_type": "markdown",
   "id": "6d22f50a",
   "metadata": {},
   "source": [
    "## [문제 13] 딥러닝 모델 설계 및 학습\n",
    "\n",
    "🎯 목표  \n",
    "\n",
    "다음을 보고 모델을 구성하고 학습하세요.\n",
    "\n",
    "[사전 실행 지시사항]  \n",
    "아래 코드를 실행하고 진행하세요."
   ]
  },
  {
   "cell_type": "code",
   "execution_count": 257,
   "id": "5c5c9d9b",
   "metadata": {},
   "outputs": [],
   "source": [
    "import tensorflow as tf\n",
    "from tensorflow.keras.models import Sequential\n",
    "from tensorflow.keras.layers import Dense, Dropout\n",
    "tf.random.set_seed(42)"
   ]
  },
  {
   "cell_type": "markdown",
   "id": "ee572690-1a09-4a0b-bcfd-b0b4e5281160",
   "metadata": {},
   "source": [
    "- **모델 구조**  \n",
    "  - `Dense(32, activation='tanh')` → `Dropout(0.3)`  \n",
    "  - `Dense(24, activation='tanh')` → `Dropout(0.3)`  \n",
    "  - `Dense(16, activation='tanh')`\n",
    "  - `Dense(8, activation='tanh')`  \n",
    "  - `Dense(1, activation='linear')`      \n",
    "\n",
    "\n",
    "- **학습 설정**  \n",
    "  - Optimizer: `rmsprop`  \n",
    "  - Loss: `mean_absolute_error`  \n",
    "  - Metric: `mean_squared_error`  \n",
    "  - Epochs: `50`  \n",
    "  - Batch size: `8`"
   ]
  },
  {
   "cell_type": "code",
   "execution_count": 294,
   "id": "d6aecd06",
   "metadata": {
    "scrolled": true
   },
   "outputs": [],
   "source": [
    "# 여기에 답안코드를 작성하세요."
   ]
  },
  {
   "cell_type": "markdown",
   "id": "4e2c8337-f6c2-4de4-ad7b-b8d3643b9bfa",
   "metadata": {},
   "source": [
    "##### **정답코드**"
   ]
  },
  {
   "cell_type": "code",
   "execution_count": null,
   "id": "f2ad6360-6ceb-4285-a590-33688d9224cc",
   "metadata": {},
   "outputs": [],
   "source": [
    "model = Sequential()\n",
    "model.add(Dense(32, activation='tanh', input_shape=(X_train.shape[1],)))\n",
    "model.add(Dropout(0.3))\n",
    "model.add(Dense(24, activation='tanh'))\n",
    "model.add(Dropout(0.3))\n",
    "model.add(Dense(16, activation='tanh'))\n",
    "model.add(Dense(8, activation='tanh'))\n",
    "model.add(Dense(1, activation='linear'))\n",
    "\n",
    "model.compile(optimizer='rmsprop',\n",
    "              loss='mean_absolute_error',\n",
    "              metrics=['mean_squared_error'])\n",
    "\n",
    "model.fit(X_train, y_train,\n",
    "          epochs=50,\n",
    "          batch_size=8)"
   ]
  },
  {
   "cell_type": "markdown",
   "id": "8a694e8d",
   "metadata": {},
   "source": [
    "\n",
    "### 문제 14. 딥러닝 모델을 이용한 시뮬레이션 예측\n",
    "\n",
    "🖋 상황 설명   \n",
    "딥러닝 모델을 이용해 새로운 데이터를 예측합니다.\n",
    "\n",
    "🎯 목표  \n",
    "- 아래 셀을 실행하여 시뮬레이션 데이터를 생성하세요."
   ]
  },
  {
   "cell_type": "code",
   "execution_count": 261,
   "id": "bcf232a1-dbc4-4e46-95a6-ac9def8315a7",
   "metadata": {},
   "outputs": [],
   "source": [
    "simul_data = np.array([[200.0, 95.0, 15.0, 1, 0, 0, 0]])"
   ]
  },
  {
   "cell_type": "markdown",
   "id": "26dfb9ef-e41c-49bd-8dca-a92cbe88f858",
   "metadata": {},
   "source": [
    "📑 조건  \n",
    "- `simul_data`를 모델에 입력하기 전에, 학습 시 사용한 `StandardScaler`의 `transform()`을 사용하여 **동일하게 스케일링**하세요.\n",
    "- 스케일링된 결과를 `deep_pre` 변수에 저장하세요.\n",
    "- `simul_data`는 원본 입력값이므로 반드시 스케일링을 적용한 후 예측에 사용해야 합니다."
   ]
  },
  {
   "cell_type": "code",
   "execution_count": 292,
   "id": "0e2ed0bf",
   "metadata": {},
   "outputs": [],
   "source": [
    "# 여기에 답안코드를 작성하세요."
   ]
  },
  {
   "cell_type": "markdown",
   "id": "672bb4db-5e17-4113-9253-d5ac6f097a18",
   "metadata": {},
   "source": [
    "##### **정답코드**"
   ]
  },
  {
   "cell_type": "code",
   "execution_count": null,
   "id": "5e8c1f27-1720-4fd1-8483-782fc84c05c2",
   "metadata": {},
   "outputs": [],
   "source": [
    "simul_data = scaler.transform(simul_data)\n",
    "\n",
    "deep_pre = model.predict(simul_data)\n",
    "deep_pre"
   ]
  }
 ],
 "metadata": {
  "kernelspec": {
   "display_name": "Python 3 (ipykernel)",
   "language": "python",
   "name": "python3"
  },
  "language_info": {
   "codemirror_mode": {
    "name": "ipython",
    "version": 3
   },
   "file_extension": ".py",
   "mimetype": "text/x-python",
   "name": "python",
   "nbconvert_exporter": "python",
   "pygments_lexer": "ipython3",
   "version": "3.12.4"
  }
 },
 "nbformat": 4,
 "nbformat_minor": 5
}
