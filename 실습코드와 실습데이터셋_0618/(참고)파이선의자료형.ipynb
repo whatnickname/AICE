{
 "cells": [
  {
   "cell_type": "code",
   "execution_count": 2,
   "id": "25943ede-3a23-46fb-a990-36ba21b56dae",
   "metadata": {},
   "outputs": [
    {
     "name": "stdout",
     "output_type": "stream",
     "text": [
      "<class 'int'>\n",
      "<class 'float'>\n"
     ]
    }
   ],
   "source": [
    "x = 10  # 정수형\n",
    "y = -5  # 음수도 정수\n",
    "print(type(x))  # <class 'int'>"
   ]
  },
  {
   "cell_type": "code",
   "execution_count": 3,
   "id": "e5dfb28d-3e49-47ff-8cae-d0494ab1fac5",
   "metadata": {},
   "outputs": [
    {
     "name": "stdout",
     "output_type": "stream",
     "text": [
      "<class 'float'>\n"
     ]
    }
   ],
   "source": [
    "pi = 3.14  # 실수형\n",
    "print(type(pi))  # <class 'float'>"
   ]
  },
  {
   "cell_type": "code",
   "execution_count": 4,
   "id": "9f5df74b-32a3-41e1-8187-beca6e7da418",
   "metadata": {},
   "outputs": [
    {
     "name": "stdout",
     "output_type": "stream",
     "text": [
      "<class 'complex'>\n"
     ]
    }
   ],
   "source": [
    "z = 3 + 4j  # 복소수\n",
    "print(type(z))  # <class 'complex'>"
   ]
  },
  {
   "cell_type": "code",
   "execution_count": 1,
   "id": "3b35b7a1-707c-4c1e-98fc-261accb4ef20",
   "metadata": {},
   "outputs": [
    {
     "name": "stdout",
     "output_type": "stream",
     "text": [
      "<class 'str'>\n"
     ]
    }
   ],
   "source": [
    "name = \"Alice\"  # 큰 따옴표\n",
    "greeting = 'Hello, World!'  # 작은 따옴표\n",
    "print(type(name))  # <class 'str'>"
   ]
  },
  {
   "cell_type": "code",
   "execution_count": 3,
   "id": "153e7546-cc69-445b-8936-c6369708f92d",
   "metadata": {},
   "outputs": [
    {
     "name": "stdout",
     "output_type": "stream",
     "text": [
      "John Doe\n"
     ]
    }
   ],
   "source": [
    "first_name = \"John\"\n",
    "last_name = \"Doe\"\n",
    "full_name = first_name + \" \" + last_name  # 문자열 연결\n",
    "print(full_name)  # John Doe"
   ]
  },
  {
   "cell_type": "code",
   "execution_count": 7,
   "id": "6e567355-6924-44cd-9464-26d16ec2812a",
   "metadata": {},
   "outputs": [
    {
     "name": "stdout",
     "output_type": "stream",
     "text": [
      "6\n"
     ]
    }
   ],
   "source": [
    "message = \"Python\"\n",
    "print(len(message))  # 6"
   ]
  },
  {
   "cell_type": "code",
   "execution_count": 8,
   "id": "3d36dcc3-d333-4dec-9ec1-efa988fcc8a4",
   "metadata": {},
   "outputs": [
    {
     "name": "stdout",
     "output_type": "stream",
     "text": [
      "Hi Hi Hi \n"
     ]
    }
   ],
   "source": [
    "print(\"Hi \" * 3)  # Hi Hi Hi"
   ]
  },
  {
   "cell_type": "code",
   "execution_count": 9,
   "id": "fe32bf7e-3e56-4125-97d4-9be41cf32969",
   "metadata": {},
   "outputs": [
    {
     "name": "stdout",
     "output_type": "stream",
     "text": [
      "<class 'bool'>\n",
      "True\n",
      "False\n"
     ]
    }
   ],
   "source": [
    "is_sunny = True\n",
    "is_raining = False\n",
    "print(type(is_sunny))  # <class 'bool'>\n",
    "\n",
    "# 논리 연산\n",
    "print(10 > 5)  # True\n",
    "print(3 == 4)  # False"
   ]
  },
  {
   "cell_type": "code",
   "execution_count": 5,
   "id": "983bdd7c-97fc-4280-a7b3-299482624e7e",
   "metadata": {},
   "outputs": [
    {
     "name": "stdout",
     "output_type": "stream",
     "text": [
      "<class 'list'>\n"
     ]
    }
   ],
   "source": [
    "fruits = [\"apple\", \"banana\", \"cherry\"]\n",
    "numbers = [1, 2, 3, 4, 5]\n",
    "print(type(fruits))  # <class 'list'>"
   ]
  },
  {
   "cell_type": "code",
   "execution_count": 11,
   "id": "3d25f931-7245-43de-85e6-30b32bdbbe2f",
   "metadata": {},
   "outputs": [
    {
     "name": "stdout",
     "output_type": "stream",
     "text": [
      "apple\n",
      "cherry\n"
     ]
    }
   ],
   "source": [
    "print(fruits[0])  # apple (첫 번째 요소)\n",
    "print(fruits[-1])  # cherry (마지막 요소)"
   ]
  },
  {
   "cell_type": "code",
   "execution_count": 12,
   "id": "8f9dacf7-a5e3-449a-88b7-ae26ce2688a0",
   "metadata": {},
   "outputs": [
    {
     "name": "stdout",
     "output_type": "stream",
     "text": [
      "['apple', 'banana', 'cherry', 'orange']\n",
      "['apple', 'cherry', 'orange']\n"
     ]
    }
   ],
   "source": [
    "fruits.append(\"orange\")  # 요소 추가\n",
    "print(fruits)  # ['apple', 'banana', 'cherry', 'orange']\n",
    "\n",
    "fruits.remove(\"banana\")  # 특정 요소 삭제\n",
    "print(fruits)  # ['apple', 'cherry', 'orange']"
   ]
  },
  {
   "cell_type": "code",
   "execution_count": 9,
   "id": "8a2381f3-5a04-4f2a-ad36-eed74d123cf6",
   "metadata": {},
   "outputs": [
    {
     "name": "stdout",
     "output_type": "stream",
     "text": [
      "green\n"
     ]
    },
    {
     "ename": "TypeError",
     "evalue": "'tuple' object does not support item assignment",
     "output_type": "error",
     "traceback": [
      "\u001b[1;31m---------------------------------------------------------------------------\u001b[0m",
      "\u001b[1;31mTypeError\u001b[0m                                 Traceback (most recent call last)",
      "Cell \u001b[1;32mIn[9], line 3\u001b[0m\n\u001b[0;32m      1\u001b[0m colors \u001b[38;5;241m=\u001b[39m (\u001b[38;5;124m\"\u001b[39m\u001b[38;5;124mred\u001b[39m\u001b[38;5;124m\"\u001b[39m, \u001b[38;5;124m\"\u001b[39m\u001b[38;5;124mgreen\u001b[39m\u001b[38;5;124m\"\u001b[39m, \u001b[38;5;124m\"\u001b[39m\u001b[38;5;124mblue\u001b[39m\u001b[38;5;124m\"\u001b[39m)\n\u001b[0;32m      2\u001b[0m \u001b[38;5;28mprint\u001b[39m(colors[\u001b[38;5;241m1\u001b[39m])  \u001b[38;5;66;03m# green\u001b[39;00m\n\u001b[1;32m----> 3\u001b[0m colors[\u001b[38;5;241m1\u001b[39m] \u001b[38;5;241m=\u001b[39m \u001b[38;5;124m\"\u001b[39m\u001b[38;5;124myellow\u001b[39m\u001b[38;5;124m\"\u001b[39m\n",
      "\u001b[1;31mTypeError\u001b[0m: 'tuple' object does not support item assignment"
     ]
    }
   ],
   "source": [
    "colors = (\"red\", \"green\", \"blue\")\n",
    "print(colors[1])  # green\n",
    "colors[1] = \"yellow\"  # 오류 발생 (튜플은 변경 불가)"
   ]
  },
  {
   "cell_type": "code",
   "execution_count": 14,
   "id": "e677946a-e8af-4b2d-833c-f4ad68441028",
   "metadata": {},
   "outputs": [
    {
     "name": "stdout",
     "output_type": "stream",
     "text": [
      "Alice\n",
      "{'name': 'Alice', 'age': 26, 'city': 'Seoul'}\n"
     ]
    }
   ],
   "source": [
    "person = {\"name\": \"Alice\", \"age\": 25, \"city\": \"Seoul\"}\n",
    "print(person[\"name\"])  # Alice\n",
    "person[\"age\"] = 26  # 값 변경\n",
    "print(person)  # {'name': 'Alice', 'age': 26, 'city': 'Seoul'}"
   ]
  },
  {
   "cell_type": "code",
   "execution_count": 15,
   "id": "9700830d-356e-4a7c-bc37-5d840f121d59",
   "metadata": {},
   "outputs": [
    {
     "name": "stdout",
     "output_type": "stream",
     "text": [
      "{1, 2, 3, 4, 5}\n"
     ]
    }
   ],
   "source": [
    "numbers = {1, 2, 3, 4, 4, 5}\n",
    "print(numbers)  # {1, 2, 3, 4, 5} (중복 제거)"
   ]
  },
  {
   "cell_type": "code",
   "execution_count": 16,
   "id": "1905c8bf-0983-4a9e-aa0b-fcc14c7424df",
   "metadata": {},
   "outputs": [
    {
     "name": "stdout",
     "output_type": "stream",
     "text": [
      "<class 'NoneType'>\n"
     ]
    }
   ],
   "source": [
    "value = None\n",
    "print(type(value))  # <class 'NoneType'>"
   ]
  },
  {
   "cell_type": "code",
   "execution_count": null,
   "id": "8e503814-0380-4891-86de-f010ea7453c9",
   "metadata": {},
   "outputs": [],
   "source": []
  }
 ],
 "metadata": {
  "kernelspec": {
   "display_name": "Python [conda env:base] *",
   "language": "python",
   "name": "conda-base-py"
  },
  "language_info": {
   "codemirror_mode": {
    "name": "ipython",
    "version": 3
   },
   "file_extension": ".py",
   "mimetype": "text/x-python",
   "name": "python",
   "nbconvert_exporter": "python",
   "pygments_lexer": "ipython3",
   "version": "3.12.7"
  }
 },
 "nbformat": 4,
 "nbformat_minor": 5
}
