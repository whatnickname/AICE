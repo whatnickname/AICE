{
 "cells": [
  {
   "cell_type": "markdown",
   "id": "7014e431-a93f-46de-b743-a65ebd9a537e",
   "metadata": {},
   "source": [
    "# <B> 1.기초통계량 분석"
   ]
  },
  {
   "cell_type": "markdown",
   "id": "52d0ca61-ffd6-4392-99f2-d22d879ac32b",
   "metadata": {},
   "source": [
    "## <B> 기초통계량 분석"
   ]
  },
  {
   "cell_type": "markdown",
   "id": "66dba9ca-6cdd-4da4-befb-b1a6dc8b553d",
   "metadata": {},
   "source": [
    "## 평균(MEAN)"
   ]
  },
  {
   "cell_type": "code",
   "execution_count": 1,
   "id": "ef8759ae-70a7-43d5-abe6-78d2d686bfb2",
   "metadata": {},
   "outputs": [
    {
     "name": "stdout",
     "output_type": "stream",
     "text": [
      "평균(Mean): 85.0\n"
     ]
    }
   ],
   "source": [
    "# Pandas를 사용한 평균 계산\n",
    "import pandas as pd\n",
    "\n",
    "data = {'Score': [80, 90, 100, 70, 85]}  # 예제 데이터\n",
    "df = pd.DataFrame(data)\n",
    "\n",
    "# 평균 계산\n",
    "mean_value = df['Score'].mean()\n",
    "print(\"평균(Mean):\", mean_value)"
   ]
  },
  {
   "cell_type": "markdown",
   "id": "1f7e656a-e32f-4a92-9f20-5270a693c105",
   "metadata": {},
   "source": [
    "## 중앙값(MEDIAN)"
   ]
  },
  {
   "cell_type": "code",
   "execution_count": 4,
   "id": "232d415a-406c-46d5-a6f3-122f1a211d13",
   "metadata": {},
   "outputs": [
    {
     "name": "stdout",
     "output_type": "stream",
     "text": [
      "중앙값(Median): 85.0\n"
     ]
    }
   ],
   "source": [
    "# 중앙값 계산\n",
    "median_value = df['Score'].median()\n",
    "print(\"중앙값(Median):\", median_value)"
   ]
  },
  {
   "cell_type": "markdown",
   "id": "8601d689-0789-4b84-a82a-0d05ab406273",
   "metadata": {},
   "source": [
    "## 최빈값(MODE)"
   ]
  },
  {
   "cell_type": "code",
   "execution_count": 7,
   "id": "fe240b96-7180-40d4-936d-a8308f2ace7b",
   "metadata": {},
   "outputs": [
    {
     "name": "stdout",
     "output_type": "stream",
     "text": [
      "최빈값(Mode): 0     70\n",
      "1     80\n",
      "2     85\n",
      "3     90\n",
      "4    100\n",
      "Name: Score, dtype: int64\n"
     ]
    }
   ],
   "source": [
    "# 최빈값 계산\n",
    "mode_value = df['Score'].mode()\n",
    "print(\"최빈값(Mode):\", mode_value)"
   ]
  },
  {
   "cell_type": "markdown",
   "id": "6fe37cdf-4285-4960-adec-d511330ed7fb",
   "metadata": {},
   "source": [
    "## 최대값(Max) 과 최소값(Min)"
   ]
  },
  {
   "cell_type": "code",
   "execution_count": 10,
   "id": "df4717a5-caa9-4a88-9183-95ded5a927a8",
   "metadata": {},
   "outputs": [
    {
     "name": "stdout",
     "output_type": "stream",
     "text": [
      "최댓값(Max): 100\n",
      "최솟값(Min): 70\n"
     ]
    }
   ],
   "source": [
    "# 최댓값과 최솟값 계산\n",
    "max_value = df['Score'].max()\n",
    "min_value = df['Score'].min()\n",
    "print(\"최댓값(Max):\", max_value)\n",
    "print(\"최솟값(Min):\", min_value)"
   ]
  },
  {
   "cell_type": "markdown",
   "id": "b029edce-c655-462d-8df1-2b0593dd8e66",
   "metadata": {},
   "source": [
    "## 표준편차(Standard Deviation, std)"
   ]
  },
  {
   "cell_type": "code",
   "execution_count": 13,
   "id": "6deebcbf-0d6d-49a1-a88f-ab97ac61529b",
   "metadata": {},
   "outputs": [
    {
     "name": "stdout",
     "output_type": "stream",
     "text": [
      "표준편차(std): 11.180339887498949\n"
     ]
    }
   ],
   "source": [
    "# 표준편차 계산\n",
    "std_value = df['Score'].std()\n",
    "print(\"표준편차(std):\",std_value)"
   ]
  },
  {
   "cell_type": "markdown",
   "id": "57a06a1e-77dc-45e6-a628-b9dd616f615c",
   "metadata": {},
   "source": [
    "## 분산(Variance)"
   ]
  },
  {
   "cell_type": "code",
   "execution_count": 16,
   "id": "c7d1af9c-d2b8-48f4-be11-87a90d38a188",
   "metadata": {},
   "outputs": [
    {
     "name": "stdout",
     "output_type": "stream",
     "text": [
      "분산(Variance): 125.0\n"
     ]
    }
   ],
   "source": [
    "# 분산 계산\n",
    "variance_value = df['Score'].var()\n",
    "print(\"분산(Variance):\", variance_value)"
   ]
  },
  {
   "cell_type": "code",
   "execution_count": 18,
   "id": "24b5269a-6b8a-4bb5-9940-86239dcf26ea",
   "metadata": {
    "scrolled": true
   },
   "outputs": [
    {
     "name": "stdout",
     "output_type": "stream",
     "text": [
      "\n",
      "기초통계량 분석 결과:\n",
      "\n",
      "              age         sex          cp      trtbps        chol         fbs  \\\n",
      "count  303.000000  303.000000  303.000000  303.000000  303.000000  303.000000   \n",
      "mean    54.366337    0.683168    0.966997  131.623762  246.264026    0.148515   \n",
      "std      9.082101    0.466011    1.032052   17.538143   51.830751    0.356198   \n",
      "min     29.000000    0.000000    0.000000   94.000000  126.000000    0.000000   \n",
      "25%     47.500000    0.000000    0.000000  120.000000  211.000000    0.000000   \n",
      "50%     55.000000    1.000000    1.000000  130.000000  240.000000    0.000000   \n",
      "75%     61.000000    1.000000    2.000000  140.000000  274.500000    0.000000   \n",
      "max     77.000000    1.000000    3.000000  200.000000  564.000000    1.000000   \n",
      "\n",
      "          restecg    thalachh        exng     oldpeak         slp         caa  \\\n",
      "count  303.000000  303.000000  303.000000  303.000000  303.000000  303.000000   \n",
      "mean     0.528053  149.646865    0.326733    1.039604    1.399340    0.729373   \n",
      "std      0.525860   22.905161    0.469794    1.161075    0.616226    1.022606   \n",
      "min      0.000000   71.000000    0.000000    0.000000    0.000000    0.000000   \n",
      "25%      0.000000  133.500000    0.000000    0.000000    1.000000    0.000000   \n",
      "50%      1.000000  153.000000    0.000000    0.800000    1.000000    0.000000   \n",
      "75%      1.000000  166.000000    1.000000    1.600000    2.000000    1.000000   \n",
      "max      2.000000  202.000000    1.000000    6.200000    2.000000    4.000000   \n",
      "\n",
      "            thall      output  \n",
      "count  303.000000  303.000000  \n",
      "mean     2.313531    0.544554  \n",
      "std      0.612277    0.498835  \n",
      "min      0.000000    0.000000  \n",
      "25%      2.000000    0.000000  \n",
      "50%      2.000000    1.000000  \n",
      "75%      3.000000    1.000000  \n",
      "max      3.000000    1.000000  \n",
      "\n",
      "평균(Mean):\n",
      "age          54.366337\n",
      "sex           0.683168\n",
      "cp            0.966997\n",
      "trtbps      131.623762\n",
      "chol        246.264026\n",
      "fbs           0.148515\n",
      "restecg       0.528053\n",
      "thalachh    149.646865\n",
      "exng          0.326733\n",
      "oldpeak       1.039604\n",
      "slp           1.399340\n",
      "caa           0.729373\n",
      "thall         2.313531\n",
      "output        0.544554\n",
      "dtype: float64\n",
      "\n",
      "중앙값(Median):\n",
      "age          55.0\n",
      "sex           1.0\n",
      "cp            1.0\n",
      "trtbps      130.0\n",
      "chol        240.0\n",
      "fbs           0.0\n",
      "restecg       1.0\n",
      "thalachh    153.0\n",
      "exng          0.0\n",
      "oldpeak       0.8\n",
      "slp           1.0\n",
      "caa           0.0\n",
      "thall         2.0\n",
      "output        1.0\n",
      "dtype: float64\n",
      "\n",
      "최빈값(Mode):\n",
      "    age  sex   cp  trtbps  chol  fbs  restecg  thalachh  exng  oldpeak  slp  \\\n",
      "0  58.0  1.0  0.0   120.0   197  0.0      1.0     162.0   0.0      0.0  2.0   \n",
      "1   NaN  NaN  NaN     NaN   204  NaN      NaN       NaN   NaN      NaN  NaN   \n",
      "2   NaN  NaN  NaN     NaN   234  NaN      NaN       NaN   NaN      NaN  NaN   \n",
      "\n",
      "   caa  thall  output  \n",
      "0  0.0    2.0     1.0  \n",
      "1  NaN    NaN     NaN  \n",
      "2  NaN    NaN     NaN  \n",
      "\n",
      "최댓값(Max)과 최솟값(Min):\n",
      "최댓값(Max):\n",
      " age          77.0\n",
      "sex           1.0\n",
      "cp            3.0\n",
      "trtbps      200.0\n",
      "chol        564.0\n",
      "fbs           1.0\n",
      "restecg       2.0\n",
      "thalachh    202.0\n",
      "exng          1.0\n",
      "oldpeak       6.2\n",
      "slp           2.0\n",
      "caa           4.0\n",
      "thall         3.0\n",
      "output        1.0\n",
      "dtype: float64\n",
      "최솟값(Min):\n",
      " age          29.0\n",
      "sex           0.0\n",
      "cp            0.0\n",
      "trtbps       94.0\n",
      "chol        126.0\n",
      "fbs           0.0\n",
      "restecg       0.0\n",
      "thalachh     71.0\n",
      "exng          0.0\n",
      "oldpeak       0.0\n",
      "slp           0.0\n",
      "caa           0.0\n",
      "thall         0.0\n",
      "output        0.0\n",
      "dtype: float64\n",
      "\n",
      "표준편차(Standard Deviation):\n",
      "age          9.082101\n",
      "sex          0.466011\n",
      "cp           1.032052\n",
      "trtbps      17.538143\n",
      "chol        51.830751\n",
      "fbs          0.356198\n",
      "restecg      0.525860\n",
      "thalachh    22.905161\n",
      "exng         0.469794\n",
      "oldpeak      1.161075\n",
      "slp          0.616226\n",
      "caa          1.022606\n",
      "thall        0.612277\n",
      "output       0.498835\n",
      "dtype: float64\n",
      "\n",
      "분산(Variance):\n",
      "age           82.484558\n",
      "sex            0.217166\n",
      "cp             1.065132\n",
      "trtbps       307.586453\n",
      "chol        2686.426748\n",
      "fbs            0.126877\n",
      "restecg        0.276528\n",
      "thalachh     524.646406\n",
      "exng           0.220707\n",
      "oldpeak        1.348095\n",
      "slp            0.379735\n",
      "caa            1.045724\n",
      "thall          0.374883\n",
      "output         0.248836\n",
      "dtype: float64\n"
     ]
    }
   ],
   "source": [
    "# pandas 라이브러리 임포트\n",
    "import pandas as pd\n",
    "\n",
    "# heart.csv 파일 읽기\n",
    "file_path = 'datasets/heart.csv'  # CSV 파일 경로 지정\n",
    "df = pd.read_csv(file_path)  # 데이터프레임 생성\n",
    "\n",
    "# 기초통계량 분석\n",
    "print(\"\\n기초통계량 분석 결과:\\n\")\n",
    "print(df.describe())  # 전체 통계 요약\n",
    "\n",
    "# 평균(Mean) 계산\n",
    "print(\"\\n평균(Mean):\")\n",
    "print(df.mean())  # 각 열의 평균값 계산\n",
    "\n",
    "# 중앙값(Median) 계산\n",
    "print(\"\\n중앙값(Median):\")\n",
    "print(df.median())  # 각 열의 중앙값 계산\n",
    "\n",
    "# 최빈값(Mode) 계산\n",
    "print(\"\\n최빈값(Mode):\")\n",
    "print(df.mode())  # 각 열의 최빈값 계산\n",
    "\n",
    "# 최대값(Max)과 최소값(Min) 계산\n",
    "print(\"\\n최댓값(Max)과 최솟값(Min):\")\n",
    "print(\"최댓값(Max):\\n\", df.max())  # 각 열의 최대값 계산\n",
    "print(\"최솟값(Min):\\n\", df.min())  # 각 열의 최소값 계산\n",
    "\n",
    "# 표준편차(Standard Deviation) 계산\n",
    "print(\"\\n표준편차(Standard Deviation):\")\n",
    "print(df.std())  # 각 열의 표준편차 계산\n",
    "\n",
    "# 분산(Variance) 계산\n",
    "print(\"\\n분산(Variance):\")\n",
    "print(df.var())  # 각 열의 분산 계산"
   ]
  },
  {
   "cell_type": "markdown",
   "id": "b2cfdd2d-3d1e-4304-adb3-dc37af6b630e",
   "metadata": {},
   "source": [
    "# <B> 2. 상관분석"
   ]
  },
  {
   "cell_type": "markdown",
   "id": "28144b88-c596-48d2-a075-f62676832fe0",
   "metadata": {},
   "source": [
    "### pandas와 시각화 라이브러리 임포트"
   ]
  },
  {
   "cell_type": "code",
   "execution_count": 26,
   "id": "7f315ac3-90b5-4b81-8b0a-14c15cc8e7bb",
   "metadata": {},
   "outputs": [],
   "source": [
    "import pandas as pd\n",
    "import seaborn as sns\n",
    "import matplotlib.pyplot as plt"
   ]
  },
  {
   "cell_type": "markdown",
   "id": "497948e4-c4cf-4c5c-a7ca-81397e2ec4cf",
   "metadata": {},
   "source": [
    "### csv파일 읽기"
   ]
  },
  {
   "cell_type": "code",
   "execution_count": 28,
   "id": "edbbe109-fd05-487a-8981-d6f949162273",
   "metadata": {},
   "outputs": [
    {
     "data": {
      "text/html": [
       "<div>\n",
       "<style scoped>\n",
       "    .dataframe tbody tr th:only-of-type {\n",
       "        vertical-align: middle;\n",
       "    }\n",
       "\n",
       "    .dataframe tbody tr th {\n",
       "        vertical-align: top;\n",
       "    }\n",
       "\n",
       "    .dataframe thead th {\n",
       "        text-align: right;\n",
       "    }\n",
       "</style>\n",
       "<table border=\"1\" class=\"dataframe\">\n",
       "  <thead>\n",
       "    <tr style=\"text-align: right;\">\n",
       "      <th></th>\n",
       "      <th>age</th>\n",
       "      <th>sex</th>\n",
       "      <th>cp</th>\n",
       "      <th>trtbps</th>\n",
       "      <th>chol</th>\n",
       "      <th>fbs</th>\n",
       "      <th>restecg</th>\n",
       "      <th>thalachh</th>\n",
       "      <th>exng</th>\n",
       "      <th>oldpeak</th>\n",
       "      <th>slp</th>\n",
       "      <th>caa</th>\n",
       "      <th>thall</th>\n",
       "      <th>output</th>\n",
       "    </tr>\n",
       "  </thead>\n",
       "  <tbody>\n",
       "    <tr>\n",
       "      <th>0</th>\n",
       "      <td>63</td>\n",
       "      <td>1</td>\n",
       "      <td>3</td>\n",
       "      <td>145</td>\n",
       "      <td>233</td>\n",
       "      <td>1</td>\n",
       "      <td>0</td>\n",
       "      <td>150</td>\n",
       "      <td>0</td>\n",
       "      <td>2.3</td>\n",
       "      <td>0</td>\n",
       "      <td>0</td>\n",
       "      <td>1</td>\n",
       "      <td>1</td>\n",
       "    </tr>\n",
       "    <tr>\n",
       "      <th>1</th>\n",
       "      <td>37</td>\n",
       "      <td>1</td>\n",
       "      <td>2</td>\n",
       "      <td>130</td>\n",
       "      <td>250</td>\n",
       "      <td>0</td>\n",
       "      <td>1</td>\n",
       "      <td>187</td>\n",
       "      <td>0</td>\n",
       "      <td>3.5</td>\n",
       "      <td>0</td>\n",
       "      <td>0</td>\n",
       "      <td>2</td>\n",
       "      <td>1</td>\n",
       "    </tr>\n",
       "    <tr>\n",
       "      <th>2</th>\n",
       "      <td>41</td>\n",
       "      <td>0</td>\n",
       "      <td>1</td>\n",
       "      <td>130</td>\n",
       "      <td>204</td>\n",
       "      <td>0</td>\n",
       "      <td>0</td>\n",
       "      <td>172</td>\n",
       "      <td>0</td>\n",
       "      <td>1.4</td>\n",
       "      <td>2</td>\n",
       "      <td>0</td>\n",
       "      <td>2</td>\n",
       "      <td>1</td>\n",
       "    </tr>\n",
       "    <tr>\n",
       "      <th>3</th>\n",
       "      <td>56</td>\n",
       "      <td>1</td>\n",
       "      <td>1</td>\n",
       "      <td>120</td>\n",
       "      <td>236</td>\n",
       "      <td>0</td>\n",
       "      <td>1</td>\n",
       "      <td>178</td>\n",
       "      <td>0</td>\n",
       "      <td>0.8</td>\n",
       "      <td>2</td>\n",
       "      <td>0</td>\n",
       "      <td>2</td>\n",
       "      <td>1</td>\n",
       "    </tr>\n",
       "    <tr>\n",
       "      <th>4</th>\n",
       "      <td>57</td>\n",
       "      <td>0</td>\n",
       "      <td>0</td>\n",
       "      <td>120</td>\n",
       "      <td>354</td>\n",
       "      <td>0</td>\n",
       "      <td>1</td>\n",
       "      <td>163</td>\n",
       "      <td>1</td>\n",
       "      <td>0.6</td>\n",
       "      <td>2</td>\n",
       "      <td>0</td>\n",
       "      <td>2</td>\n",
       "      <td>1</td>\n",
       "    </tr>\n",
       "  </tbody>\n",
       "</table>\n",
       "</div>"
      ],
      "text/plain": [
       "   age  sex  cp  trtbps  chol  fbs  restecg  thalachh  exng  oldpeak  slp  \\\n",
       "0   63    1   3     145   233    1        0       150     0      2.3    0   \n",
       "1   37    1   2     130   250    0        1       187     0      3.5    0   \n",
       "2   41    0   1     130   204    0        0       172     0      1.4    2   \n",
       "3   56    1   1     120   236    0        1       178     0      0.8    2   \n",
       "4   57    0   0     120   354    0        1       163     1      0.6    2   \n",
       "\n",
       "   caa  thall  output  \n",
       "0    0      1       1  \n",
       "1    0      2       1  \n",
       "2    0      2       1  \n",
       "3    0      2       1  \n",
       "4    0      2       1  "
      ]
     },
     "execution_count": 28,
     "metadata": {},
     "output_type": "execute_result"
    }
   ],
   "source": [
    "file_path = 'datasets/heart.csv'  # 파일 경로 지정\n",
    "df = pd.read_csv(file_path)\n",
    "df.head()"
   ]
  },
  {
   "cell_type": "markdown",
   "id": "65456380-b7c5-4f08-8ebe-d025c590e474",
   "metadata": {},
   "source": [
    "### 상관계수 계산"
   ]
  },
  {
   "cell_type": "code",
   "execution_count": 30,
   "id": "6b404abb-018f-4b9e-89da-cbfa7ea8c677",
   "metadata": {},
   "outputs": [
    {
     "name": "stdout",
     "output_type": "stream",
     "text": [
      "\n",
      "상관계수 행렬:\n",
      "                age       sex        cp    trtbps      chol       fbs  \\\n",
      "age       1.000000 -0.098447 -0.068653  0.279351  0.213678  0.121308   \n",
      "sex      -0.098447  1.000000 -0.049353 -0.056769 -0.197912  0.045032   \n",
      "cp       -0.068653 -0.049353  1.000000  0.047608 -0.076904  0.094444   \n",
      "trtbps    0.279351 -0.056769  0.047608  1.000000  0.123174  0.177531   \n",
      "chol      0.213678 -0.197912 -0.076904  0.123174  1.000000  0.013294   \n",
      "fbs       0.121308  0.045032  0.094444  0.177531  0.013294  1.000000   \n",
      "restecg  -0.116211 -0.058196  0.044421 -0.114103 -0.151040 -0.084189   \n",
      "thalachh -0.398522 -0.044020  0.295762 -0.046698 -0.009940 -0.008567   \n",
      "exng      0.096801  0.141664 -0.394280  0.067616  0.067023  0.025665   \n",
      "oldpeak   0.210013  0.096093 -0.149230  0.193216  0.053952  0.005747   \n",
      "slp      -0.168814 -0.030711  0.119717 -0.121475 -0.004038 -0.059894   \n",
      "caa       0.276326  0.118261 -0.181053  0.101389  0.070511  0.137979   \n",
      "thall     0.068001  0.210041 -0.161736  0.062210  0.098803 -0.032019   \n",
      "output   -0.225439 -0.280937  0.433798 -0.144931 -0.085239 -0.028046   \n",
      "\n",
      "           restecg  thalachh      exng   oldpeak       slp       caa  \\\n",
      "age      -0.116211 -0.398522  0.096801  0.210013 -0.168814  0.276326   \n",
      "sex      -0.058196 -0.044020  0.141664  0.096093 -0.030711  0.118261   \n",
      "cp        0.044421  0.295762 -0.394280 -0.149230  0.119717 -0.181053   \n",
      "trtbps   -0.114103 -0.046698  0.067616  0.193216 -0.121475  0.101389   \n",
      "chol     -0.151040 -0.009940  0.067023  0.053952 -0.004038  0.070511   \n",
      "fbs      -0.084189 -0.008567  0.025665  0.005747 -0.059894  0.137979   \n",
      "restecg   1.000000  0.044123 -0.070733 -0.058770  0.093045 -0.072042   \n",
      "thalachh  0.044123  1.000000 -0.378812 -0.344187  0.386784 -0.213177   \n",
      "exng     -0.070733 -0.378812  1.000000  0.288223 -0.257748  0.115739   \n",
      "oldpeak  -0.058770 -0.344187  0.288223  1.000000 -0.577537  0.222682   \n",
      "slp       0.093045  0.386784 -0.257748 -0.577537  1.000000 -0.080155   \n",
      "caa      -0.072042 -0.213177  0.115739  0.222682 -0.080155  1.000000   \n",
      "thall    -0.011981 -0.096439  0.206754  0.210244 -0.104764  0.151832   \n",
      "output    0.137230  0.421741 -0.436757 -0.430696  0.345877 -0.391724   \n",
      "\n",
      "             thall    output  \n",
      "age       0.068001 -0.225439  \n",
      "sex       0.210041 -0.280937  \n",
      "cp       -0.161736  0.433798  \n",
      "trtbps    0.062210 -0.144931  \n",
      "chol      0.098803 -0.085239  \n",
      "fbs      -0.032019 -0.028046  \n",
      "restecg  -0.011981  0.137230  \n",
      "thalachh -0.096439  0.421741  \n",
      "exng      0.206754 -0.436757  \n",
      "oldpeak   0.210244 -0.430696  \n",
      "slp      -0.104764  0.345877  \n",
      "caa       0.151832 -0.391724  \n",
      "thall     1.000000 -0.344029  \n",
      "output   -0.344029  1.000000  \n"
     ]
    }
   ],
   "source": [
    "correlation_matrix = df.corr(method='pearson')\n",
    "print(\"\\n상관계수 행렬:\\n\", correlation_matrix)"
   ]
  },
  {
   "cell_type": "markdown",
   "id": "f54bf5b4-d1c5-439f-98b1-50c80adc80ad",
   "metadata": {},
   "source": [
    "### 상관계수 시각화(히트맵)"
   ]
  },
  {
   "cell_type": "code",
   "execution_count": 35,
   "id": "afd181c0-2a66-4326-af8c-43f3649f59af",
   "metadata": {},
   "outputs": [
    {
     "data": {
      "image/png": "[encoded data removed]",
      "text/plain": [
       "<Figure size 1200x800 with 2 Axes>"
      ]
     },
     "metadata": {},
     "output_type": "display_data"
    }
   ],
   "source": [
    "plt.figure(figsize=(12, 8))\n",
    "sns.heatmap(correlation_matrix, annot=True, fmt=\".2f\", cmap='coolwarm', cbar=True)\n",
    "plt.title('Correlation Matrix Heatmap')\n",
    "plt.show()"
   ]
  },
  {
   "cell_type": "markdown",
   "id": "b32a1ef3-a332-4456-a7e6-879eed16f895",
   "metadata": {},
   "source": [
    "# <B> 3. 교차분석"
   ]
  },
  {
   "cell_type": "markdown",
   "id": "7ebf42e0-777f-477b-a34e-2d7df6e2ced1",
   "metadata": {},
   "source": [
    "### 데이터준비"
   ]
  },
  {
   "cell_type": "code",
   "execution_count": 4,
   "id": "2686657f-ac4d-456d-b8a8-85fbecb6b214",
   "metadata": {},
   "outputs": [
    {
     "data": {
      "text/html": [
       "<div>\n",
       "<style scoped>\n",
       "    .dataframe tbody tr th:only-of-type {\n",
       "        vertical-align: middle;\n",
       "    }\n",
       "\n",
       "    .dataframe tbody tr th {\n",
       "        vertical-align: top;\n",
       "    }\n",
       "\n",
       "    .dataframe thead th {\n",
       "        text-align: right;\n",
       "    }\n",
       "</style>\n",
       "<table border=\"1\" class=\"dataframe\">\n",
       "  <thead>\n",
       "    <tr style=\"text-align: right;\">\n",
       "      <th></th>\n",
       "      <th>age</th>\n",
       "      <th>sex</th>\n",
       "      <th>cp</th>\n",
       "      <th>trtbps</th>\n",
       "      <th>chol</th>\n",
       "      <th>fbs</th>\n",
       "      <th>restecg</th>\n",
       "      <th>thalachh</th>\n",
       "      <th>exng</th>\n",
       "      <th>oldpeak</th>\n",
       "      <th>slp</th>\n",
       "      <th>caa</th>\n",
       "      <th>thall</th>\n",
       "      <th>output</th>\n",
       "    </tr>\n",
       "  </thead>\n",
       "  <tbody>\n",
       "    <tr>\n",
       "      <th>0</th>\n",
       "      <td>63</td>\n",
       "      <td>1</td>\n",
       "      <td>3</td>\n",
       "      <td>145</td>\n",
       "      <td>233</td>\n",
       "      <td>1</td>\n",
       "      <td>0</td>\n",
       "      <td>150</td>\n",
       "      <td>0</td>\n",
       "      <td>2.3</td>\n",
       "      <td>0</td>\n",
       "      <td>0</td>\n",
       "      <td>1</td>\n",
       "      <td>1</td>\n",
       "    </tr>\n",
       "    <tr>\n",
       "      <th>1</th>\n",
       "      <td>37</td>\n",
       "      <td>1</td>\n",
       "      <td>2</td>\n",
       "      <td>130</td>\n",
       "      <td>250</td>\n",
       "      <td>0</td>\n",
       "      <td>1</td>\n",
       "      <td>187</td>\n",
       "      <td>0</td>\n",
       "      <td>3.5</td>\n",
       "      <td>0</td>\n",
       "      <td>0</td>\n",
       "      <td>2</td>\n",
       "      <td>1</td>\n",
       "    </tr>\n",
       "    <tr>\n",
       "      <th>2</th>\n",
       "      <td>41</td>\n",
       "      <td>0</td>\n",
       "      <td>1</td>\n",
       "      <td>130</td>\n",
       "      <td>204</td>\n",
       "      <td>0</td>\n",
       "      <td>0</td>\n",
       "      <td>172</td>\n",
       "      <td>0</td>\n",
       "      <td>1.4</td>\n",
       "      <td>2</td>\n",
       "      <td>0</td>\n",
       "      <td>2</td>\n",
       "      <td>1</td>\n",
       "    </tr>\n",
       "    <tr>\n",
       "      <th>3</th>\n",
       "      <td>56</td>\n",
       "      <td>1</td>\n",
       "      <td>1</td>\n",
       "      <td>120</td>\n",
       "      <td>236</td>\n",
       "      <td>0</td>\n",
       "      <td>1</td>\n",
       "      <td>178</td>\n",
       "      <td>0</td>\n",
       "      <td>0.8</td>\n",
       "      <td>2</td>\n",
       "      <td>0</td>\n",
       "      <td>2</td>\n",
       "      <td>1</td>\n",
       "    </tr>\n",
       "    <tr>\n",
       "      <th>4</th>\n",
       "      <td>57</td>\n",
       "      <td>0</td>\n",
       "      <td>0</td>\n",
       "      <td>120</td>\n",
       "      <td>354</td>\n",
       "      <td>0</td>\n",
       "      <td>1</td>\n",
       "      <td>163</td>\n",
       "      <td>1</td>\n",
       "      <td>0.6</td>\n",
       "      <td>2</td>\n",
       "      <td>0</td>\n",
       "      <td>2</td>\n",
       "      <td>1</td>\n",
       "    </tr>\n",
       "  </tbody>\n",
       "</table>\n",
       "</div>"
      ],
      "text/plain": [
       "   age  sex  cp  trtbps  chol  fbs  restecg  thalachh  exng  oldpeak  slp  \\\n",
       "0   63    1   3     145   233    1        0       150     0      2.3    0   \n",
       "1   37    1   2     130   250    0        1       187     0      3.5    0   \n",
       "2   41    0   1     130   204    0        0       172     0      1.4    2   \n",
       "3   56    1   1     120   236    0        1       178     0      0.8    2   \n",
       "4   57    0   0     120   354    0        1       163     1      0.6    2   \n",
       "\n",
       "   caa  thall  output  \n",
       "0    0      1       1  \n",
       "1    0      2       1  \n",
       "2    0      2       1  \n",
       "3    0      2       1  \n",
       "4    0      2       1  "
      ]
     },
     "execution_count": 4,
     "metadata": {},
     "output_type": "execute_result"
    }
   ],
   "source": [
    "import pandas as pd # pandas 라이브러리 임포트 \n",
    "file_path = \"datasets/heart.csv\" # 파일 경로\n",
    "df = pd.read_csv(file_path)\n",
    "df.head(5)"
   ]
  },
  {
   "cell_type": "markdown",
   "id": "03551bc1-7429-43f0-b568-2c7c955ad422",
   "metadata": {},
   "source": [
    "### 교차표 생성"
   ]
  },
  {
   "cell_type": "code",
   "execution_count": 7,
   "id": "c55e2283-fb5f-4bcc-8156-799fc96da873",
   "metadata": {},
   "outputs": [
    {
     "name": "stdout",
     "output_type": "stream",
     "text": [
      "교차표(빈도):\n",
      "\n"
     ]
    },
    {
     "data": {
      "text/html": [
       "<div>\n",
       "<style scoped>\n",
       "    .dataframe tbody tr th:only-of-type {\n",
       "        vertical-align: middle;\n",
       "    }\n",
       "\n",
       "    .dataframe tbody tr th {\n",
       "        vertical-align: top;\n",
       "    }\n",
       "\n",
       "    .dataframe thead th {\n",
       "        text-align: right;\n",
       "    }\n",
       "</style>\n",
       "<table border=\"1\" class=\"dataframe\">\n",
       "  <thead>\n",
       "    <tr style=\"text-align: right;\">\n",
       "      <th>output</th>\n",
       "      <th>0</th>\n",
       "      <th>1</th>\n",
       "    </tr>\n",
       "    <tr>\n",
       "      <th>sex</th>\n",
       "      <th></th>\n",
       "      <th></th>\n",
       "    </tr>\n",
       "  </thead>\n",
       "  <tbody>\n",
       "    <tr>\n",
       "      <th>0</th>\n",
       "      <td>24</td>\n",
       "      <td>72</td>\n",
       "    </tr>\n",
       "    <tr>\n",
       "      <th>1</th>\n",
       "      <td>114</td>\n",
       "      <td>93</td>\n",
       "    </tr>\n",
       "  </tbody>\n",
       "</table>\n",
       "</div>"
      ],
      "text/plain": [
       "output    0   1\n",
       "sex            \n",
       "0        24  72\n",
       "1       114  93"
      ]
     },
     "execution_count": 7,
     "metadata": {},
     "output_type": "execute_result"
    }
   ],
   "source": [
    "# 교차표 생성 \n",
    "crosstab = pd.crosstab(df['sex'], df['output']) \n",
    "# 교차표 출력 \n",
    "print(\"교차표(빈도):\\n\")\n",
    "crosstab"
   ]
  },
  {
   "cell_type": "markdown",
   "id": "1d69c701-740b-449e-af1e-05e230a103d2",
   "metadata": {},
   "source": [
    "### 교차표 비율계산 : 행 기준 비율"
   ]
  },
  {
   "cell_type": "code",
   "execution_count": 21,
   "id": "6578819b-4bf9-4505-badc-9673c4495110",
   "metadata": {},
   "outputs": [
    {
     "name": "stdout",
     "output_type": "stream",
     "text": [
      "\n",
      "행 기준 비율:\n",
      "\n"
     ]
    },
    {
     "data": {
      "text/html": [
       "<div>\n",
       "<style scoped>\n",
       "    .dataframe tbody tr th:only-of-type {\n",
       "        vertical-align: middle;\n",
       "    }\n",
       "\n",
       "    .dataframe tbody tr th {\n",
       "        vertical-align: top;\n",
       "    }\n",
       "\n",
       "    .dataframe thead th {\n",
       "        text-align: right;\n",
       "    }\n",
       "</style>\n",
       "<table border=\"1\" class=\"dataframe\">\n",
       "  <thead>\n",
       "    <tr style=\"text-align: right;\">\n",
       "      <th>output</th>\n",
       "      <th>0</th>\n",
       "      <th>1</th>\n",
       "    </tr>\n",
       "    <tr>\n",
       "      <th>sex</th>\n",
       "      <th></th>\n",
       "      <th></th>\n",
       "    </tr>\n",
       "  </thead>\n",
       "  <tbody>\n",
       "    <tr>\n",
       "      <th>0</th>\n",
       "      <td>25.000000</td>\n",
       "      <td>75.000000</td>\n",
       "    </tr>\n",
       "    <tr>\n",
       "      <th>1</th>\n",
       "      <td>55.072464</td>\n",
       "      <td>44.927536</td>\n",
       "    </tr>\n",
       "  </tbody>\n",
       "</table>\n",
       "</div>"
      ],
      "text/plain": [
       "output          0          1\n",
       "sex                         \n",
       "0       25.000000  75.000000\n",
       "1       55.072464  44.927536"
      ]
     },
     "execution_count": 21,
     "metadata": {},
     "output_type": "execute_result"
    }
   ],
   "source": [
    "# 행 기준 비율 계산\n",
    "row_percentage = pd.crosstab(df['sex'], df['output'], normalize='index') * 100\n",
    "print(\"\\n행 기준 비율:\\n\")\n",
    "row_percentage"
   ]
  },
  {
   "cell_type": "markdown",
   "id": "a3e83a58-89e5-4390-b4e7-c063e2fd65ac",
   "metadata": {},
   "source": [
    "### ○ 교차표 비율계산 : 열 기준 비율"
   ]
  },
  {
   "cell_type": "code",
   "execution_count": 26,
   "id": "b8f5609d-2138-4d91-8274-8eb3fb82f3c6",
   "metadata": {},
   "outputs": [
    {
     "name": "stdout",
     "output_type": "stream",
     "text": [
      "\n",
      "열 기준 비율:\n",
      "\n"
     ]
    },
    {
     "data": {
      "text/html": [
       "<div>\n",
       "<style scoped>\n",
       "    .dataframe tbody tr th:only-of-type {\n",
       "        vertical-align: middle;\n",
       "    }\n",
       "\n",
       "    .dataframe tbody tr th {\n",
       "        vertical-align: top;\n",
       "    }\n",
       "\n",
       "    .dataframe thead th {\n",
       "        text-align: right;\n",
       "    }\n",
       "</style>\n",
       "<table border=\"1\" class=\"dataframe\">\n",
       "  <thead>\n",
       "    <tr style=\"text-align: right;\">\n",
       "      <th>output</th>\n",
       "      <th>0</th>\n",
       "      <th>1</th>\n",
       "    </tr>\n",
       "    <tr>\n",
       "      <th>sex</th>\n",
       "      <th></th>\n",
       "      <th></th>\n",
       "    </tr>\n",
       "  </thead>\n",
       "  <tbody>\n",
       "    <tr>\n",
       "      <th>0</th>\n",
       "      <td>17.391304</td>\n",
       "      <td>43.636364</td>\n",
       "    </tr>\n",
       "    <tr>\n",
       "      <th>1</th>\n",
       "      <td>82.608696</td>\n",
       "      <td>56.363636</td>\n",
       "    </tr>\n",
       "  </tbody>\n",
       "</table>\n",
       "</div>"
      ],
      "text/plain": [
       "output          0          1\n",
       "sex                         \n",
       "0       17.391304  43.636364\n",
       "1       82.608696  56.363636"
      ]
     },
     "execution_count": 26,
     "metadata": {},
     "output_type": "execute_result"
    }
   ],
   "source": [
    "# 열 기준 비율 계산\n",
    "col_percentage = pd.crosstab(df['sex'], df['output'], normalize='columns') * 100\n",
    "print(\"\\n열 기준 비율:\\n\")\n",
    "col_percentage"
   ]
  },
  {
   "cell_type": "markdown",
   "id": "2a333222-b70c-4da4-992f-c118d11adcfc",
   "metadata": {},
   "source": [
    "### 교차표 비율계산 : 전체 비율"
   ]
  },
  {
   "cell_type": "code",
   "execution_count": 16,
   "id": "49127844-3a9d-41fe-a148-91a5f6cae239",
   "metadata": {
    "scrolled": true
   },
   "outputs": [
    {
     "name": "stdout",
     "output_type": "stream",
     "text": [
      "\n",
      "전체 기준 비율:\n",
      "\n"
     ]
    },
    {
     "data": {
      "text/html": [
       "<div>\n",
       "<style scoped>\n",
       "    .dataframe tbody tr th:only-of-type {\n",
       "        vertical-align: middle;\n",
       "    }\n",
       "\n",
       "    .dataframe tbody tr th {\n",
       "        vertical-align: top;\n",
       "    }\n",
       "\n",
       "    .dataframe thead th {\n",
       "        text-align: right;\n",
       "    }\n",
       "</style>\n",
       "<table border=\"1\" class=\"dataframe\">\n",
       "  <thead>\n",
       "    <tr style=\"text-align: right;\">\n",
       "      <th>output</th>\n",
       "      <th>0</th>\n",
       "      <th>1</th>\n",
       "    </tr>\n",
       "    <tr>\n",
       "      <th>sex</th>\n",
       "      <th></th>\n",
       "      <th></th>\n",
       "    </tr>\n",
       "  </thead>\n",
       "  <tbody>\n",
       "    <tr>\n",
       "      <th>0</th>\n",
       "      <td>7.920792</td>\n",
       "      <td>23.762376</td>\n",
       "    </tr>\n",
       "    <tr>\n",
       "      <th>1</th>\n",
       "      <td>37.623762</td>\n",
       "      <td>30.693069</td>\n",
       "    </tr>\n",
       "  </tbody>\n",
       "</table>\n",
       "</div>"
      ],
      "text/plain": [
       "output          0          1\n",
       "sex                         \n",
       "0        7.920792  23.762376\n",
       "1       37.623762  30.693069"
      ]
     },
     "execution_count": 16,
     "metadata": {},
     "output_type": "execute_result"
    }
   ],
   "source": [
    "# 전체 기준 비율 계산\n",
    "total_percentage = pd.crosstab(df['sex'], df['output'], normalize=True) * 100\n",
    "print(\"\\n전체 기준 비율:\\n\")\n",
    "total_percentage"
   ]
  },
  {
   "cell_type": "markdown",
   "id": "1060bec9-1ee0-4097-b946-b77aed904d30",
   "metadata": {},
   "source": [
    "### 교차표 비율계산 : 전체 비율 (소수점자리, 합계 표시 옵션)"
   ]
  },
  {
   "cell_type": "code",
   "execution_count": 19,
   "id": "358ae819-692e-4b9a-a5ea-a7197e5c9517",
   "metadata": {},
   "outputs": [
    {
     "name": "stdout",
     "output_type": "stream",
     "text": [
      "\n",
      "전체 기준 비율 (합계 포함):\n",
      "\n"
     ]
    },
    {
     "data": {
      "text/html": [
       "<div>\n",
       "<style scoped>\n",
       "    .dataframe tbody tr th:only-of-type {\n",
       "        vertical-align: middle;\n",
       "    }\n",
       "\n",
       "    .dataframe tbody tr th {\n",
       "        vertical-align: top;\n",
       "    }\n",
       "\n",
       "    .dataframe thead th {\n",
       "        text-align: right;\n",
       "    }\n",
       "</style>\n",
       "<table border=\"1\" class=\"dataframe\">\n",
       "  <thead>\n",
       "    <tr style=\"text-align: right;\">\n",
       "      <th>output</th>\n",
       "      <th>0</th>\n",
       "      <th>1</th>\n",
       "      <th>All</th>\n",
       "    </tr>\n",
       "    <tr>\n",
       "      <th>sex</th>\n",
       "      <th></th>\n",
       "      <th></th>\n",
       "      <th></th>\n",
       "    </tr>\n",
       "  </thead>\n",
       "  <tbody>\n",
       "    <tr>\n",
       "      <th>0</th>\n",
       "      <td>7.92</td>\n",
       "      <td>23.76</td>\n",
       "      <td>31.68</td>\n",
       "    </tr>\n",
       "    <tr>\n",
       "      <th>1</th>\n",
       "      <td>37.62</td>\n",
       "      <td>30.69</td>\n",
       "      <td>68.32</td>\n",
       "    </tr>\n",
       "    <tr>\n",
       "      <th>All</th>\n",
       "      <td>45.54</td>\n",
       "      <td>54.46</td>\n",
       "      <td>100.00</td>\n",
       "    </tr>\n",
       "  </tbody>\n",
       "</table>\n",
       "</div>"
      ],
      "text/plain": [
       "output      0      1     All\n",
       "sex                         \n",
       "0        7.92  23.76   31.68\n",
       "1       37.62  30.69   68.32\n",
       "All     45.54  54.46  100.00"
      ]
     },
     "execution_count": 19,
     "metadata": {},
     "output_type": "execute_result"
    }
   ],
   "source": [
    "# 전체 기준 비율 계산 및 합계 포함\n",
    "total_percentage_with_totals = pd.crosstab(df['sex'], df['output'], normalize=True, margins=True) * 100\n",
    "total_percentage_with_totals = total_percentage_with_totals.round(2)\n",
    "print(\"\\n전체 기준 비율 (합계 포함):\\n\") \n",
    "total_percentage_with_totals"
   ]
  },
  {
   "cell_type": "markdown",
   "id": "4871b011-fe7c-469c-bdd1-26334a1235e0",
   "metadata": {},
   "source": [
    "### 교차분석 시각화"
   ]
  },
  {
   "cell_type": "code",
   "execution_count": 61,
   "id": "a8b5d7af-97f1-4097-896f-458fbeec322e",
   "metadata": {},
   "outputs": [
    {
     "data": {
      "image/png": "[encoded data removed]",
      "text/plain": [
       "<Figure size 800x600 with 2 Axes>"
      ]
     },
     "metadata": {},
     "output_type": "display_data"
    }
   ],
   "source": [
    "import seaborn as sns\n",
    "import matplotlib.pyplot as plt\n",
    "\n",
    "# 교차표를 히트맵으로 시각화\n",
    "plt.figure(figsize=(8, 6))\n",
    "sns.heatmap(crosstab, annot=True, fmt=\"d\", cmap=\"coolwarm\", cbar=True)\n",
    "plt.title(\"Sex vs. Target (Crosstab Heatmap)\")\n",
    "plt.xlabel(\"Target (Heart Disease)\")\n",
    "plt.ylabel(\"Sex\")\n",
    "plt.show()"
   ]
  }
 ],
 "metadata": {
  "kernelspec": {
   "display_name": "Python [conda env:base] *",
   "language": "python",
   "name": "conda-base-py"
  },
  "language_info": {
   "codemirror_mode": {
    "name": "ipython",
    "version": 3
   },
   "file_extension": ".py",
   "mimetype": "text/x-python",
   "name": "python",
   "nbconvert_exporter": "python",
   "pygments_lexer": "ipython3",
   "version": "3.12.7"
  }
 },
 "nbformat": 4,
 "nbformat_minor": 5
}
