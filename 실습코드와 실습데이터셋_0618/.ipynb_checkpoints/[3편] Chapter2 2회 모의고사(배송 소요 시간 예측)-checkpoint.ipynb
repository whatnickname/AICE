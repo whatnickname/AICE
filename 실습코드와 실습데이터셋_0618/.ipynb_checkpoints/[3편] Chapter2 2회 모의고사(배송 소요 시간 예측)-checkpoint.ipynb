{
 "cells": [
  {
   "cell_type": "markdown",
   "id": "ca07d970-4b5b-41d7-8c15-19b59def81a2",
   "metadata": {},
   "source": [
    "# <font color=\"#2E86C1\"><b>AICE Associate 2회 모의고사</b></font>\n",
    "---"
   ]
  },
  {
   "cell_type": "markdown",
   "id": "ad938650-5d43-47ce-a991-f5f719e7af1c",
   "metadata": {},
   "source": [
    "##  <font color=\"#117A65\"><b>배송 소요 시간 예측</b></font>"
   ]
  },
  {
   "cell_type": "markdown",
   "id": "d1c00a1a-1053-4d7d-bbeb-b4e2e122c778",
   "metadata": {},
   "source": [
    "### <font color=\"#5D6D7E\"><b>목적</b></font>  \n",
    "<b>배송 소요 시간을 예측</b>하여\n",
    "물류 운영의 효율성을 높이고, 고객 만족도를 개선하기 위한\n",
    "예측 모델을 구축합니다.\n",
    "\n",
    "### <font color=\"#5D6D7E\"><b>배경 시나리오</b></font>  \n",
    "전자상거래 플랫폼을 운영하는 <b>B사</b>는 배송 지연으로 인한 고객 불만이 증가함에 따라 정확한 배송 시간 예측의 중요성이 커지고 있습니다.  \n",
    "회사는 고객 주문 데이터와 배송 이력을 수집하여, 다양한 변수에 따른 <b>배송 소요 시간(delivery_time)</b>을 예측하는 모델을 구축하고자 합니다.  \n",
    "이를 통해 예상 배송 일정을 사전에 고객에게 안내하고, 물류 리소스를 효율적으로 배분하려고 합니다.  "
   ]
  },
  {
   "cell_type": "markdown",
   "id": "f6a94525-c03d-432d-b782-d02017209e9e",
   "metadata": {},
   "source": [
    "### 📊 <font color=\"#5D6D7E\"><b>데이터 설명</b></font>\n",
    "<b>파일 이름: delivery_time.csv</b>\n",
    "\n",
    "데이터의 주요 컬럼은 다음과 같습니다.\n",
    "| <b>컬럼명</b>             | <b>설명</b>                                                                 |\n",
    "|--------------------------|------------------------------------------------------------------------------|\n",
    "| `order_amount`           | 주문 금액 (단위: USD)                                   |\n",
    "| `num_items`              | 주문한 아이템 개수                                          |\n",
    "| `distance_km`            | 배달 거리 (단위: km)                                        |\n",
    "| `rider_experience`       | 배달원 숙련도 (`low`, `medium`, `high`)                                     |\n",
    "| `weather`                | 날씨 상태 (`sunny`, `cloudy`, `rain`, `storm`, `fog`)                        |\n",
    "| `order_time`             | 주문 시간대 (`morning`, `afternoon`, `evening`, `night`)                     |\n",
    "| `promotion_applied`      | 프로모션 적용 여부 (`Y`: 적용됨, `N`: 미적용)                                 |\n",
    "| `delivery_time_min`      | <mark><b>실제 배달 소요 시간 (분)</b></mark> ← <b>예측 대상</b>               |\n"
   ]
  },
  {
   "cell_type": "markdown",
   "id": "4ca468e9",
   "metadata": {},
   "source": [
    "## [문제 1] 라이브러리 임포트\n",
    "\n",
    "🖋 상황 설명  \n",
    "배송 시간 예측을 위해 필요한 라이브러리를 임포트하려 합니다.  \n",
    "\n",
    "🎯 목표  \n",
    "- pandas, numpy, seaborn, matplotlib을 임포트하세요.\n",
    "\n",
    "📑 조건  \n",
    "- 순서대로 별칭(alias)은 pd, np, sns, plt로 지정"
   ]
  },
  {
   "cell_type": "code",
   "execution_count": 506,
   "id": "1f9c2292",
   "metadata": {},
   "outputs": [],
   "source": [
    "# 여기에 답안코드를 작성하세요."
   ]
  },
  {
   "cell_type": "markdown",
   "id": "fd1a9337-a225-4277-bb1c-10a4ecb142d9",
   "metadata": {
    "jp-MarkdownHeadingCollapsed": true
   },
   "source": [
    "##### **정답코드**"
   ]
  },
  {
   "cell_type": "code",
   "execution_count": 509,
   "id": "989de144-93bc-419d-b86b-d2fc32b460fe",
   "metadata": {},
   "outputs": [],
   "source": [
    "import pandas as pd\n",
    "import numpy as np\n",
    "import seaborn as sns\n",
    "import matplotlib.pyplot as plt"
   ]
  },
  {
   "cell_type": "markdown",
   "id": "372108e4",
   "metadata": {},
   "source": [
    "## [문제 2] 데이터 불러오기\n",
    "\n",
    "🖋 상황 설명  \n",
    "delivery_time.csv 파일을 불러와야 합니다.\n",
    "\n",
    "🎯 목표\n",
    "- 파일을 읽어 delivery_df라는 이름의 데이터프레임에 저장하세요.\n",
    "\n",
    "📑 조건\n",
    "- 파일명: delivery_time.csv"
   ]
  },
  {
   "cell_type": "code",
   "execution_count": 547,
   "id": "c5412557",
   "metadata": {},
   "outputs": [],
   "source": [
    "# 여기에 답안코드를 작성하세요."
   ]
  },
  {
   "cell_type": "markdown",
   "id": "9906c2da-e1f0-40e5-b864-f6bb14dca223",
   "metadata": {
    "jp-MarkdownHeadingCollapsed": true
   },
   "source": [
    "##### **정답코드**"
   ]
  },
  {
   "cell_type": "code",
   "execution_count": null,
   "id": "2a7a4e83-9c9c-483b-bf28-14143432119f",
   "metadata": {},
   "outputs": [],
   "source": [
    "delivery_df = pd.read_csv('delivery_time.csv')"
   ]
  },
  {
   "cell_type": "markdown",
   "id": "16af5d4c",
   "metadata": {},
   "source": [
    "## [문제 3] 데이터 확인\n",
    "\n",
    "🖋 상황 설명  \n",
    "날씨상태(weather), 배달원 숙련도(rider_experience)에 따른 배달시간(deliverty_time_min)의 차이를 확인하고자 합니다.\n",
    "\n",
    "🎯 목표  \n",
    "- seaborn의 barplot()을 이용하여 시각화하고, 결과를 바탕으로 올바른 해석을 '답03'변수에 저장하세요.  \n",
    "  \n",
    "📑 조건\n",
    "- x = weather\n",
    "- y = delivery_time_min\n",
    "- hue = rider_experience\n",
    "\n",
    "  \n",
    "1. snow 조건에서는 숙련도 간 차이가 가장 뚜렷하며, low 숙련도 라이더의 배송 시간이 다른 조건에 비해 가장 길다.  \n",
    "2. rain 조건에서는 숙련도 간 차이가 가장 크고, high 숙련도 라이더가 유일하게 다른 날씨보다 느리게 배달했다.  \n",
    "3. fog 조건에서는 숙련도가 높을수록 평균 배송 시간이 낮아지는 일관된 경향이 관찰된다.  \n",
    "4. clear 조건에서는 숙련도 간의 차이가 가장 적고, 모든 그룹이 비슷한 평균 배송 시간을 기록했다."
   ]
  },
  {
   "cell_type": "code",
   "execution_count": 544,
   "id": "9eac9242",
   "metadata": {},
   "outputs": [],
   "source": [
    "# 여기에 답안코드를 작성하세요."
   ]
  },
  {
   "cell_type": "markdown",
   "id": "6ada3552-885b-4fa2-8206-14d231695d08",
   "metadata": {},
   "source": [
    "##### **정답코드**"
   ]
  },
  {
   "cell_type": "code",
   "execution_count": null,
   "id": "56b53b91-747e-4275-a8af-291b24b15249",
   "metadata": {},
   "outputs": [],
   "source": [
    "sns.barplot(data=delivery_df, x=\"weather\", y=\"delivery_time_min\", hue = 'rider_experience')\n",
    "답03 = 1"
   ]
  },
  {
   "cell_type": "markdown",
   "id": "aba13ff8",
   "metadata": {},
   "source": [
    "## [문제 4] 데이터 시각화에 따른 이상치 제거\n",
    "\n",
    "🖋 상황 설명  \n",
    "seaborn의 jointplot을 이용하여 배달시간(delivery_time_min)과 배달 거리(distance_km)간을 분석하고 이상치를 제거하고자 합니다.\n",
    "\n",
    "🎯 목표\n",
    "- x = distance_km\n",
    "- y = delivery_time_min\n",
    "- 시각화를 통해 데이터를 확인한 후, 이상치를 제거하고 del_df에 저장하세요."
   ]
  },
  {
   "cell_type": "markdown",
   "id": "09855f02-d955-43f6-be2f-ce627bd142fe",
   "metadata": {},
   "source": [
    "##### 4-1 문제"
   ]
  },
  {
   "cell_type": "code",
   "execution_count": 541,
   "id": "8407737c",
   "metadata": {},
   "outputs": [],
   "source": [
    "# 여기에 시각화 코드 답안을 작성하세요."
   ]
  },
  {
   "cell_type": "markdown",
   "id": "3da425ec-9b0b-4103-bbaf-62892e839b5c",
   "metadata": {
    "jp-MarkdownHeadingCollapsed": true
   },
   "source": [
    "##### **정답코드**"
   ]
  },
  {
   "cell_type": "code",
   "execution_count": null,
   "id": "c98b7bf4-849d-4c14-a91f-e6576b3ea557",
   "metadata": {},
   "outputs": [],
   "source": [
    "sns.jointplot(data=delivery_df, x=\"distance_km\", y=\"delivery_time_min\")"
   ]
  },
  {
   "cell_type": "markdown",
   "id": "6e099d8e-b8dd-4155-ad3b-da8aed8dacaa",
   "metadata": {},
   "source": [
    "##### 4-2 문제"
   ]
  },
  {
   "cell_type": "code",
   "execution_count": 554,
   "id": "ca45e3a9-704a-4f2f-a7dc-2aa54978ec1b",
   "metadata": {},
   "outputs": [],
   "source": [
    "# 여기에 이상치 제거 코드를 작성하세요."
   ]
  },
  {
   "cell_type": "markdown",
   "id": "bc283be3-0bb9-4e28-82cb-052005119a9c",
   "metadata": {
    "jp-MarkdownHeadingCollapsed": true
   },
   "source": [
    "##### **정답코드**"
   ]
  },
  {
   "cell_type": "code",
   "execution_count": null,
   "id": "ce0e6821-dadd-464f-ad6d-81ab2221000f",
   "metadata": {},
   "outputs": [],
   "source": [
    "del_df = df.drop(delivery_df[delivery_df['delivery_time_min'] >= 100].index, axis=0)\n",
    "del_df"
   ]
  },
  {
   "cell_type": "markdown",
   "id": "9e7daed8-2ebd-43bf-91aa-139503133491",
   "metadata": {},
   "source": [
    "## [문제 5] 이상치 제거 및 인덱스 초기화\n",
    "\n",
    "🖋 상황 설명  \n",
    "'delivery_time_min'의 데이터에는 음수 값이 존재하고 있습니다. 이 음수 값들에 해당하는 데이터들을 삭제하고, index를 초기화 하세요.\n",
    "\n",
    "🎯 목표\n",
    "- axis=1, inplace=True\n",
    "- reset_index()에서는 drop=True, inplace=True를 사용하세요."
   ]
  },
  {
   "cell_type": "code",
   "execution_count": 455,
   "id": "aadb5ff6-239e-49e4-8138-b66783b205b5",
   "metadata": {},
   "outputs": [
    {
     "data": {
      "text/html": [
       "<div>\n",
       "<style scoped>\n",
       "    .dataframe tbody tr th:only-of-type {\n",
       "        vertical-align: middle;\n",
       "    }\n",
       "\n",
       "    .dataframe tbody tr th {\n",
       "        vertical-align: top;\n",
       "    }\n",
       "\n",
       "    .dataframe thead th {\n",
       "        text-align: right;\n",
       "    }\n",
       "</style>\n",
       "<table border=\"1\" class=\"dataframe\">\n",
       "  <thead>\n",
       "    <tr style=\"text-align: right;\">\n",
       "      <th></th>\n",
       "      <th>order_amount</th>\n",
       "      <th>num_items</th>\n",
       "      <th>distance_km</th>\n",
       "      <th>rider_experience</th>\n",
       "      <th>weather</th>\n",
       "      <th>order_time</th>\n",
       "      <th>promotion_applied</th>\n",
       "      <th>delivery_time_min</th>\n",
       "    </tr>\n",
       "  </thead>\n",
       "  <tbody>\n",
       "    <tr>\n",
       "      <th>0</th>\n",
       "      <td>30.18</td>\n",
       "      <td>5</td>\n",
       "      <td>6.49</td>\n",
       "      <td>medium</td>\n",
       "      <td>rain</td>\n",
       "      <td>afternoon</td>\n",
       "      <td>N</td>\n",
       "      <td>26.5</td>\n",
       "    </tr>\n",
       "    <tr>\n",
       "      <th>1</th>\n",
       "      <td>33.76</td>\n",
       "      <td>1</td>\n",
       "      <td>9.17</td>\n",
       "      <td>low</td>\n",
       "      <td>fog</td>\n",
       "      <td>morning</td>\n",
       "      <td>N</td>\n",
       "      <td>26.4</td>\n",
       "    </tr>\n",
       "    <tr>\n",
       "      <th>2</th>\n",
       "      <td>97.96</td>\n",
       "      <td>2</td>\n",
       "      <td>11.80</td>\n",
       "      <td>low</td>\n",
       "      <td>fog</td>\n",
       "      <td>night</td>\n",
       "      <td>Y</td>\n",
       "      <td>37.1</td>\n",
       "    </tr>\n",
       "    <tr>\n",
       "      <th>3</th>\n",
       "      <td>99.36</td>\n",
       "      <td>5</td>\n",
       "      <td>10.67</td>\n",
       "      <td>high</td>\n",
       "      <td>snow</td>\n",
       "      <td>evening</td>\n",
       "      <td>N</td>\n",
       "      <td>45.0</td>\n",
       "    </tr>\n",
       "    <tr>\n",
       "      <th>4</th>\n",
       "      <td>99.55</td>\n",
       "      <td>5</td>\n",
       "      <td>5.81</td>\n",
       "      <td>high</td>\n",
       "      <td>snow</td>\n",
       "      <td>night</td>\n",
       "      <td>Y</td>\n",
       "      <td>20.0</td>\n",
       "    </tr>\n",
       "    <tr>\n",
       "      <th>...</th>\n",
       "      <td>...</td>\n",
       "      <td>...</td>\n",
       "      <td>...</td>\n",
       "      <td>...</td>\n",
       "      <td>...</td>\n",
       "      <td>...</td>\n",
       "      <td>...</td>\n",
       "      <td>...</td>\n",
       "    </tr>\n",
       "    <tr>\n",
       "      <th>1148</th>\n",
       "      <td>34.71</td>\n",
       "      <td>1</td>\n",
       "      <td>1.17</td>\n",
       "      <td>low</td>\n",
       "      <td>snow</td>\n",
       "      <td>night</td>\n",
       "      <td>N</td>\n",
       "      <td>19.4</td>\n",
       "    </tr>\n",
       "    <tr>\n",
       "      <th>1149</th>\n",
       "      <td>27.30</td>\n",
       "      <td>1</td>\n",
       "      <td>12.14</td>\n",
       "      <td>low</td>\n",
       "      <td>snow</td>\n",
       "      <td>morning</td>\n",
       "      <td>Y</td>\n",
       "      <td>38.1</td>\n",
       "    </tr>\n",
       "    <tr>\n",
       "      <th>1150</th>\n",
       "      <td>71.34</td>\n",
       "      <td>2</td>\n",
       "      <td>14.61</td>\n",
       "      <td>low</td>\n",
       "      <td>clear</td>\n",
       "      <td>evening</td>\n",
       "      <td>N</td>\n",
       "      <td>42.1</td>\n",
       "    </tr>\n",
       "    <tr>\n",
       "      <th>1151</th>\n",
       "      <td>27.79</td>\n",
       "      <td>1</td>\n",
       "      <td>7.37</td>\n",
       "      <td>low</td>\n",
       "      <td>fog</td>\n",
       "      <td>night</td>\n",
       "      <td>Y</td>\n",
       "      <td>25.3</td>\n",
       "    </tr>\n",
       "    <tr>\n",
       "      <th>1152</th>\n",
       "      <td>35.03</td>\n",
       "      <td>1</td>\n",
       "      <td>1.52</td>\n",
       "      <td>medium</td>\n",
       "      <td>clear</td>\n",
       "      <td>morning</td>\n",
       "      <td>Y</td>\n",
       "      <td>15.6</td>\n",
       "    </tr>\n",
       "  </tbody>\n",
       "</table>\n",
       "<p>1153 rows × 8 columns</p>\n",
       "</div>"
      ],
      "text/plain": [
       "      order_amount  num_items  distance_km rider_experience weather  \\\n",
       "0            30.18          5         6.49           medium    rain   \n",
       "1            33.76          1         9.17              low     fog   \n",
       "2            97.96          2        11.80              low     fog   \n",
       "3            99.36          5        10.67             high    snow   \n",
       "4            99.55          5         5.81             high    snow   \n",
       "...            ...        ...          ...              ...     ...   \n",
       "1148         34.71          1         1.17              low    snow   \n",
       "1149         27.30          1        12.14              low    snow   \n",
       "1150         71.34          2        14.61              low   clear   \n",
       "1151         27.79          1         7.37              low     fog   \n",
       "1152         35.03          1         1.52           medium   clear   \n",
       "\n",
       "     order_time promotion_applied  delivery_time_min  \n",
       "0     afternoon                 N               26.5  \n",
       "1       morning                 N               26.4  \n",
       "2         night                 Y               37.1  \n",
       "3       evening                 N               45.0  \n",
       "4         night                 Y               20.0  \n",
       "...         ...               ...                ...  \n",
       "1148      night                 N               19.4  \n",
       "1149    morning                 Y               38.1  \n",
       "1150    evening                 N               42.1  \n",
       "1151      night                 Y               25.3  \n",
       "1152    morning                 Y               15.6  \n",
       "\n",
       "[1153 rows x 8 columns]"
      ]
     },
     "execution_count": 455,
     "metadata": {},
     "output_type": "execute_result"
    }
   ],
   "source": [
    "# 여기에 답안코드를 작성하세요."
   ]
  },
  {
   "cell_type": "markdown",
   "id": "78803ff6-7c78-47a0-ac7c-33936b21043e",
   "metadata": {},
   "source": [
    "##### **정답코드**"
   ]
  },
  {
   "cell_type": "code",
   "execution_count": null,
   "id": "8dc8d6af-6f98-492e-b63c-efa005b0770f",
   "metadata": {},
   "outputs": [],
   "source": [
    "del_df.drop(del_df[del_df['delivery_time_min'] < 0].index, axis=0, inplace=True)\n",
    "del_df.reset_index(drop=True, inplace=True)\n",
    "del_df"
   ]
  },
  {
   "cell_type": "markdown",
   "id": "07982c0b-116d-4a93-b75b-73e8ca3924c9",
   "metadata": {},
   "source": [
    "## [문제 6] 필요없는 컬럼 제거\n",
    "\n",
    "🖋 상황 설명  \n",
    "'order_amount', 'num_items' 컬럼을 삭제합니다.\n",
    "\n",
    "🎯 목표\n",
    "- axis=1, inplace=True"
   ]
  },
  {
   "cell_type": "code",
   "execution_count": 537,
   "id": "63344dc8-ed94-4615-9cc0-187ca2256704",
   "metadata": {},
   "outputs": [],
   "source": [
    "# 여기에 답안코드를 작성하세요."
   ]
  },
  {
   "cell_type": "markdown",
   "id": "85049f68-a9fc-46c7-9ab5-5e2354bc1ac4",
   "metadata": {
    "jp-MarkdownHeadingCollapsed": true
   },
   "source": [
    "##### **정답코드**"
   ]
  },
  {
   "cell_type": "code",
   "execution_count": null,
   "id": "c7dfb690-97e2-49f4-9399-ca4c163db52f",
   "metadata": {},
   "outputs": [],
   "source": [
    "del_df.drop(columns=['num_items', 'order_amount'], inplace=True)\n",
    "del_df"
   ]
  },
  {
   "cell_type": "markdown",
   "id": "997e82a5",
   "metadata": {},
   "source": [
    "## [문제 7] 범주형 변수 인코딩\n",
    "\n",
    "🖋 상황 설명  \n",
    "rider_experience, weather, order_time 컬럼을 get_dummies로 변환하세요.\n",
    "\n",
    "🎯 목표\n",
    "- drop_first=True 옵션 사용\n",
    "- 처리된 데이터는 encoding_df 변수에 저장하세요.\n",
    "\n",
    "⚙ 주어진 코드"
   ]
  },
  {
   "cell_type": "code",
   "execution_count": 461,
   "id": "e7f0878d",
   "metadata": {},
   "outputs": [],
   "source": [
    "cat_col = ['rider_experience', 'weather', 'order_time'] "
   ]
  },
  {
   "cell_type": "markdown",
   "id": "8fbfba94-f6da-4ba3-818f-28eb7c458c02",
   "metadata": {},
   "source": [
    "위의 cat_col을 이용하여 원핫인코딩을 진행하세요."
   ]
  },
  {
   "cell_type": "code",
   "execution_count": 556,
   "id": "c6708dc5",
   "metadata": {},
   "outputs": [],
   "source": [
    "# 여기에 답안코드를 작성하세요."
   ]
  },
  {
   "cell_type": "markdown",
   "id": "0edcfcb8-2a6d-4e59-897b-c806b0f22d5d",
   "metadata": {
    "jp-MarkdownHeadingCollapsed": true
   },
   "source": [
    "##### **정답코드**"
   ]
  },
  {
   "cell_type": "code",
   "execution_count": null,
   "id": "4952617e-484f-4be5-89c5-1764f8277625",
   "metadata": {},
   "outputs": [],
   "source": [
    "encoding_df = pd.get_dummies(data=del_df, columns=cat_col, drop_first=True)\n",
    "encoding_df"
   ]
  },
  {
   "cell_type": "markdown",
   "id": "95231eda",
   "metadata": {},
   "source": [
    "## [문제 8] 이진 범주형 변수 인코딩\n",
    "\n",
    "🖋 상황 설명  \n",
    "이진값으로 이루어진 'promotion_applied'변수를 label eocoding 하세요.\n",
    "\n",
    "🎯 목표\n",
    "- labelencoder 적용\n",
    "- fit_transform을 사용하세요\n",
    "\n",
    "⚙ 주어진 코드"
   ]
  },
  {
   "cell_type": "code",
   "execution_count": 469,
   "id": "5ded245c",
   "metadata": {},
   "outputs": [],
   "source": [
    "from sklearn.preprocessing import LabelEncoder\n",
    "le = LabelEncoder()"
   ]
  },
  {
   "cell_type": "code",
   "execution_count": 533,
   "id": "1136b0ed",
   "metadata": {},
   "outputs": [],
   "source": [
    "# 여기에 답안코드를 작성하세요."
   ]
  },
  {
   "cell_type": "markdown",
   "id": "1123ca77-c02a-41f0-9c9d-5c9766db5ee8",
   "metadata": {
    "jp-MarkdownHeadingCollapsed": true
   },
   "source": [
    "##### **정답코드**"
   ]
  },
  {
   "cell_type": "code",
   "execution_count": null,
   "id": "fb09c9f9-10f1-4c5b-802f-87254bc2f368",
   "metadata": {},
   "outputs": [],
   "source": [
    "encoding_df['promotion_applied'] = le.fit_transform(encoding_df['promotion_applied'])\n",
    "encoding_df"
   ]
  },
  {
   "cell_type": "markdown",
   "id": "c70994f3",
   "metadata": {},
   "source": [
    "## [문제 9] train/test 데이터 분리\n",
    "\n",
    "🖋 상황 설명  \n",
    "모델 학습을 위해 feature(X)와 target(y)을 분리하고 평가를 위해 데이터를 8:2로 나눕니다.\n",
    "\n",
    "🎯 목표\n",
    "- 데이터 분리하기 위해 train_test_split을 불러오세요.\n",
    "- X = delivery_time_min을 제외한 전부\n",
    "- y = delivery_time_min  \n",
    "- 훈련 데이터 셋 = X_train, y_train\n",
    "- 검증 데이터 셋 = X_valid, y_valid\n",
    "- 훈련데이터 셋과 검증 데이터셋의 비율은 8:2\n",
    "- random_state=42"
   ]
  },
  {
   "cell_type": "code",
   "execution_count": 531,
   "id": "824764f2",
   "metadata": {},
   "outputs": [],
   "source": [
    "# 여기에 답안코드를 작성하세요."
   ]
  },
  {
   "cell_type": "markdown",
   "id": "623a6ee3-4b53-40aa-9854-7f4c29e3c2a1",
   "metadata": {
    "jp-MarkdownHeadingCollapsed": true
   },
   "source": [
    "##### **정답코드**"
   ]
  },
  {
   "cell_type": "code",
   "execution_count": null,
   "id": "7f4ea1b4-c207-46d1-ade7-cc165e8272a4",
   "metadata": {},
   "outputs": [],
   "source": [
    "X = encoding_df.drop(columns='delivery_time_min')\n",
    "y = encoding_df['delivery_time_min']\n",
    "\n",
    "from sklearn.model_selection import train_test_split\n",
    "X_train, X_valid, y_train, y_valid = train_test_split(X, y, test_size=0.2, random_state=42)"
   ]
  },
  {
   "cell_type": "markdown",
   "id": "9d3d76ca",
   "metadata": {},
   "source": [
    "## [문제 10] 데이터 표준화\n",
    "\n",
    "🖋 상황 설명  \n",
    "StandardScaler를 이용하여 X_train과 X_valid를 표준화합니다.\n",
    "\n",
    "🎯 목표\n",
    "- StandardScaler를 불러오세요.\n",
    "- X_train은 fit_tranform을 이용하여 X_train 변수에 저장\n",
    "- X_valid는 transform을 이용하여 X_test의 변수에 저장"
   ]
  },
  {
   "cell_type": "code",
   "execution_count": 528,
   "id": "56584357",
   "metadata": {},
   "outputs": [],
   "source": [
    "# 여기에 답안코드를 작성하세요."
   ]
  },
  {
   "cell_type": "markdown",
   "id": "70da040b-4afc-41c5-bcd9-ff3fc637747b",
   "metadata": {
    "jp-MarkdownHeadingCollapsed": true
   },
   "source": [
    "##### **정답코드**"
   ]
  },
  {
   "cell_type": "code",
   "execution_count": null,
   "id": "440895ad-0940-4f06-a932-cf26c7bbf3d1",
   "metadata": {},
   "outputs": [],
   "source": [
    "from sklearn.preprocessing import StandardScaler\n",
    "\n",
    "ss = StandardScaler()\n",
    "\n",
    "X_train = ss.fit_transform(X_train)\n",
    "X_test = ss.transform(X_valid)"
   ]
  },
  {
   "cell_type": "markdown",
   "id": "54a0081b",
   "metadata": {},
   "source": [
    "## [문제 11] 선형 회귀 모델 학습\n",
    "\n",
    "🖋 상황 설명  \n",
    "LinearRegression 모델을 학습하여 배송 시간을 예측합니다.\n",
    "\n",
    "🎯 목표\n",
    "- LinearRegression 불러오기 및 모델 학습\n",
    "- 불러온 LinearRegression모델은 lr 변수로 저장하세요.\n",
    "- 훈련은 스케일링 처리된 데이터를 사용해 주세요."
   ]
  },
  {
   "cell_type": "code",
   "execution_count": 525,
   "id": "4afe6ff9",
   "metadata": {},
   "outputs": [],
   "source": [
    "# 여기에 답안코드를 작성하세요."
   ]
  },
  {
   "cell_type": "markdown",
   "id": "74395c3f-d247-45ae-98fc-cdb64c6db3a0",
   "metadata": {
    "jp-MarkdownHeadingCollapsed": true
   },
   "source": [
    "##### **정답코드**"
   ]
  },
  {
   "cell_type": "code",
   "execution_count": null,
   "id": "27f98292-cb1c-4a55-a067-25e9551396ba",
   "metadata": {},
   "outputs": [],
   "source": [
    "from sklearn.linear_model import LinearRegression\n",
    "\n",
    "lr = LinearRegression()\n",
    "\n",
    "lr.fit(X_train,y_train)"
   ]
  },
  {
   "cell_type": "markdown",
   "id": "5817b9f4",
   "metadata": {},
   "source": [
    "## [문제 12] 랜덤포레스트 회귀 모델 학습\n",
    "\n",
    "🖋 상황 설명  \n",
    "RandomForestRegressor를 학습하여 배송 시간을 예측합니다.\n",
    "\n",
    "🎯 목표\n",
    "- 랜덤포레스트모델을 rfr변수에 저장하세요.\n",
    "- n_estimators=100, max_depth=10, random_state=42\n",
    "- 훈련은 스케일링 처리된 데이터를 사용해 주세요.\n",
    "\n",
    "⚙ 주어진 코드"
   ]
  },
  {
   "cell_type": "code",
   "execution_count": 483,
   "id": "c7659547",
   "metadata": {},
   "outputs": [],
   "source": [
    "from sklearn.ensemble import RandomForestRegressor"
   ]
  },
  {
   "cell_type": "code",
   "execution_count": 523,
   "id": "ac6d2487",
   "metadata": {},
   "outputs": [],
   "source": [
    "# 여기에 답안코드를 작성하세요."
   ]
  },
  {
   "cell_type": "markdown",
   "id": "b2ed573a-b0aa-4543-8462-874350d447bb",
   "metadata": {
    "jp-MarkdownHeadingCollapsed": true
   },
   "source": [
    "##### **정답코드**"
   ]
  },
  {
   "cell_type": "code",
   "execution_count": null,
   "id": "61429879-6c59-4892-a77b-b71c6307df64",
   "metadata": {},
   "outputs": [],
   "source": [
    "rfr = RandomForestRegressor(n_estimators=100, max_depth=10, random_state=42)\n",
    "\n",
    "rfr.fit(X_train,y_train)"
   ]
  },
  {
   "cell_type": "markdown",
   "id": "21d1f1df",
   "metadata": {},
   "source": [
    "## [문제 13] 딥러닝 모델 설계 및 학습\n",
    "\n",
    "🖋 상황 설명\n",
    "딥러닝 모델을 사용해 배송 시간을 예측하려 합니다.\n",
    "\n",
    "🎯 목표\n",
    "- Sequential 모델을 설계하고 학습하세요.\n",
    "\n",
    "📑 조건\n",
    "- 구조:\n",
    "  - Dense(64, relu) → BatchNormalization\n",
    "  - Dense(32, relu) → BatchNormalization\n",
    "  - Dense(16, relu)\n",
    "  - Dense(1, linear)\n",
    "- optimizer: adam\n",
    "- loss: mean_squared_error\n",
    "- metric: mean_absolute_error\n",
    "- epochs=50\n",
    "- batch_size=128\n",
    "\n",
    "⚙ 주어진 코드"
   ]
  },
  {
   "cell_type": "code",
   "execution_count": 494,
   "id": "c863e09e",
   "metadata": {},
   "outputs": [],
   "source": [
    "import tensorflow as tf\n",
    "from tensorflow.keras.models import Sequential\n",
    "from tensorflow.keras.layers import Dense, BatchNormalization\n",
    "\n",
    "tf.random.set_seed(42)"
   ]
  },
  {
   "cell_type": "code",
   "execution_count": 520,
   "id": "3ffc8d62",
   "metadata": {
    "scrolled": true
   },
   "outputs": [],
   "source": [
    "# 여기에 답안코드를 작성하세요."
   ]
  },
  {
   "cell_type": "markdown",
   "id": "0c762859-d93b-4029-aab3-7f6d3319d14a",
   "metadata": {
    "jp-MarkdownHeadingCollapsed": true
   },
   "source": [
    "##### **정답코드**"
   ]
  },
  {
   "cell_type": "code",
   "execution_count": null,
   "id": "5db9556c-98c5-4bf7-bc5f-085643702b6e",
   "metadata": {},
   "outputs": [],
   "source": [
    "model = Sequential()\n",
    "\n",
    "model.add(Dense(64, activation='relu', input_shape=(X_train.shape[1],)))\n",
    "model.add(BatchNormalization())\n",
    "model.add(Dense(32, activation='relu'))\n",
    "model.add(BatchNormalization())\n",
    "model.add(Dense(16, activation='relu'))\n",
    "model.add(Dense(1, activation='linear')) \n",
    "\n",
    "model.compile(optimizer='adam',\n",
    "              loss='mean_squared_error', \n",
    "              metrics=['mean_absolute_error'])\n",
    "\n",
    "model.fit(X_train, y_train, epochs=50, batch_size=128,\n",
    "          validation_data=(X_valid, y_valid)) "
   ]
  },
  {
   "cell_type": "markdown",
   "id": "1407eb99",
   "metadata": {},
   "source": [
    "## [문제 14] 모델 EarlyStopping, 체크포인트 저장\n",
    "\n",
    "🖋 상황 설명  \n",
    "모델 학습 중 과적합을 방지하고, 최적 가중치를 저장하려 합니다.\n",
    "\n",
    "🎯 목표\n",
    "- EarlyStopping과 ModelCheckpoint를 설정하여 학습하세요.\n",
    "\n",
    "📑 조건\n",
    "- EarlyStopping: monitor='val_loss', patience=5\n",
    "- ModelCheckpoint: monitor='val_loss', save_best_only=True, 파일명 'best_model.h5'\n",
    "\n",
    "⚙ 주어진 코드"
   ]
  },
  {
   "cell_type": "code",
   "execution_count": 500,
   "id": "a9e6e424",
   "metadata": {},
   "outputs": [],
   "source": [
    "from tensorflow.keras.callbacks import EarlyStopping, ModelCheckpoint"
   ]
  },
  {
   "cell_type": "code",
   "execution_count": 518,
   "id": "d2fe6954",
   "metadata": {},
   "outputs": [],
   "source": [
    "# 여기에 답안코드를 작성하세요."
   ]
  },
  {
   "cell_type": "markdown",
   "id": "6f13cd97-4864-4bf7-b7d8-a320e11b8162",
   "metadata": {
    "jp-MarkdownHeadingCollapsed": true
   },
   "source": [
    "##### **정답코드**"
   ]
  },
  {
   "cell_type": "code",
   "execution_count": null,
   "id": "e2036609-a111-4b5b-ba48-ef63bf9fbcae",
   "metadata": {},
   "outputs": [],
   "source": [
    "early_stopping = EarlyStopping(\n",
    "    monitor='val_loss',    \n",
    "    patience=5,            \n",
    "    restore_best_weights=True\n",
    ")\n",
    "\n",
    "model_checkpoint = ModelCheckpoint(\n",
    "    filepath='best_model.h5',     \n",
    "    monitor='val_loss',           \n",
    "    save_best_only=True,          \n",
    "    verbose=1\n",
    ")\n",
    "\n",
    "model.fit(\n",
    "    X_train, y_train,\n",
    "    epochs=50,\n",
    "    batch_size=128,\n",
    "    validation_data=(X_valid, y_valid),\n",
    "    callbacks=[early_stopping, model_checkpoint]\n",
    ")"
   ]
  }
 ],
 "metadata": {
  "kernelspec": {
   "display_name": "Python [conda env:Orange]",
   "language": "python",
   "name": "conda-env-Orange-py"
  },
  "language_info": {
   "codemirror_mode": {
    "name": "ipython",
    "version": 3
   },
   "file_extension": ".py",
   "mimetype": "text/x-python",
   "name": "python",
   "nbconvert_exporter": "python",
   "pygments_lexer": "ipython3",
   "version": "3.11.8"
  }
 },
 "nbformat": 4,
 "nbformat_minor": 5
}
