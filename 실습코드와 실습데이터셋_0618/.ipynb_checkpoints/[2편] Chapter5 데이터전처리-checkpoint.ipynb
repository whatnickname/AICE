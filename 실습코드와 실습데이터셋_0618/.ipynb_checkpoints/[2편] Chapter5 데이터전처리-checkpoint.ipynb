{
 "cells": [
  {
   "cell_type": "markdown",
   "id": "479a8e76-b365-4726-bb6a-bceae7966085",
   "metadata": {},
   "source": [
    "# <B> 1.데이터 전처리"
   ]
  },
  {
   "cell_type": "markdown",
   "id": "039832d0-a6b1-4c4f-a981-5af5d9e5f047",
   "metadata": {},
   "source": [
    "## 결측치 확인"
   ]
  },
  {
   "cell_type": "markdown",
   "id": "1d207380-9abf-4c3b-b770-473bd7f73628",
   "metadata": {},
   "source": [
    "### <B> isnull()의 기본 사용법"
   ]
  },
  {
   "cell_type": "code",
   "execution_count": 58,
   "id": "8aa58c58-3b34-4d7c-830c-11cc01170061",
   "metadata": {},
   "outputs": [
    {
     "name": "stdout",
     "output_type": "stream",
     "text": [
      "결측치 여부 확인:\n",
      "    Name    Age  Score\n",
      "0  False  False  False\n",
      "1  False   True  False\n",
      "2  False  False   True\n"
     ]
    }
   ],
   "source": [
    "import pandas as pd \n",
    "\n",
    "# 예제 데이터프레임 생성 \n",
    "data = {'Name': ['Alice', 'Bob', 'Charlie'], # 이름 \n",
    "         'Age': [25, None, 30], # 나이 (Bob의 나이가 비어 있음)\n",
    "         'Score': [90, 85, None]} # 점수 (Charlie's 점수가 비어 있음) \n",
    "df = pd.DataFrame(data) \n",
    "\n",
    "# 결측치 여부 확인 \n",
    "print(\"결측치 여부 확인:\")\n",
    "print(df.isnull())"
   ]
  },
  {
   "cell_type": "markdown",
   "id": "a3cd05d2-76f8-4e9e-af5e-1f764ca0afb9",
   "metadata": {},
   "source": [
    "### <B> isnull().sum()으로 결측치 개수 확인하기"
   ]
  },
  {
   "cell_type": "code",
   "execution_count": 61,
   "id": "7b895687-2407-4c8b-b011-ecfac9bbe46e",
   "metadata": {},
   "outputs": [
    {
     "name": "stdout",
     "output_type": "stream",
     "text": [
      "컬럼별 결측치 개수:\n"
     ]
    },
    {
     "data": {
      "text/plain": [
       "Name     0\n",
       "Age      1\n",
       "Score    1\n",
       "dtype: int64"
      ]
     },
     "execution_count": 61,
     "metadata": {},
     "output_type": "execute_result"
    }
   ],
   "source": [
    "# 컬럼별 결측치 개수 확인\n",
    "print(\"컬럼별 결측치 개수:\")\n",
    "df.isnull().sum()"
   ]
  },
  {
   "cell_type": "markdown",
   "id": "f5aa6f56-8ed5-41c7-baa6-9970aac3a7c1",
   "metadata": {},
   "source": [
    "### <B> 결측치 처리"
   ]
  },
  {
   "cell_type": "code",
   "execution_count": 64,
   "id": "ed2c802c-ca78-4e89-b416-cb168d2e3f8b",
   "metadata": {},
   "outputs": [
    {
     "name": "stdout",
     "output_type": "stream",
     "text": [
      "결측치 삭제 후 데이터:\n",
      "    Name   Age  Score\n",
      "0  Alice  25.0   90.0\n"
     ]
    }
   ],
   "source": [
    "# 결측치가 있는 행 삭제\n",
    "df_cleaned = df.dropna()\n",
    "print(\"결측치 삭제 후 데이터:\")\n",
    "print(df_cleaned)"
   ]
  },
  {
   "cell_type": "code",
   "execution_count": 66,
   "id": "33692995-af3e-4bc7-9f1c-6d2ded024924",
   "metadata": {},
   "outputs": [
    {
     "name": "stdout",
     "output_type": "stream",
     "text": [
      "\n",
      "Age 열 평균값으로 결측치 대체:\n",
      "      Name   Age  Score\n",
      "0    Alice  25.0   90.0\n",
      "1      Bob  27.5   85.0\n",
      "2  Charlie  30.0    NaN\n"
     ]
    }
   ],
   "source": [
    "# Age 열의 평균값으로 결측치 대체\n",
    "mean_age = df['Age'].mean()  # 평균값 계산\n",
    "df['Age'] = df['Age'].fillna(mean_age)\n",
    "print(\"\\nAge 열 평균값으로 결측치 대체:\")\n",
    "print(df)"
   ]
  },
  {
   "cell_type": "code",
   "execution_count": 68,
   "id": "6850c37e-872d-4760-b01f-beb9e6ee89c1",
   "metadata": {},
   "outputs": [
    {
     "name": "stdout",
     "output_type": "stream",
     "text": [
      "\n",
      "Score 열 0으로 결측치 대체:\n",
      "      Name   Age  Score\n",
      "0    Alice  25.0   90.0\n",
      "1      Bob  27.5   85.0\n",
      "2  Charlie  30.0    0.0\n"
     ]
    }
   ],
   "source": [
    "# Score 열의 결측치를 0으로 대체\n",
    "df['Score'] = df['Score'].fillna(0)\n",
    "print(\"\\nScore 열 0으로 결측치 대체:\")\n",
    "print(df)"
   ]
  },
  {
   "cell_type": "code",
   "execution_count": 70,
   "id": "2f592ec8-585d-4b10-ab5f-ee5bb782bc82",
   "metadata": {},
   "outputs": [
    {
     "name": "stdout",
     "output_type": "stream",
     "text": [
      "결측치 확인:\n",
      "Name     0\n",
      "Age      1\n",
      "Score    1\n",
      "dtype: int64\n",
      "\n",
      "결측치 처리 후 데이터:\n",
      "      Name   Age  Score\n",
      "0    Alice  25.0   90.0\n",
      "1      Bob  27.5   85.0\n",
      "2  Charlie  30.0    0.0\n"
     ]
    }
   ],
   "source": [
    "import pandas as pd\n",
    "\n",
    "# 데이터 생성\n",
    "data = {'Name': ['Alice', 'Bob', 'Charlie'],\n",
    "        'Age': [25, None, 30],\n",
    "        'Score': [90, 85, None]}\n",
    "df = pd.DataFrame(data)\n",
    "\n",
    "# 결측치 확인\n",
    "print(\"결측치 확인:\")\n",
    "print(df.isnull().sum())\n",
    "\n",
    "# 결측치 처리\n",
    "# 1. Age 열의 결측치를 평균값으로 대체\n",
    "mean_age = df['Age'].mean()\n",
    "df['Age'] = df['Age'].fillna(mean_age)\n",
    "\n",
    "# 2. Score 열의 결측치를 0으로 대체\n",
    "df['Score'] = df['Score'].fillna(0)\n",
    "\n",
    "print(\"\\n결측치 처리 후 데이터:\")\n",
    "print(df)"
   ]
  },
  {
   "cell_type": "markdown",
   "id": "ceffa973-d889-46d2-98b1-7d0aa6915598",
   "metadata": {},
   "source": [
    "## <b> 기본적인 이상치 확인 방법"
   ]
  },
  {
   "cell_type": "code",
   "execution_count": 73,
   "id": "eec33951-4a55-4693-ab2e-530787d2a725",
   "metadata": {},
   "outputs": [
    {
     "name": "stdout",
     "output_type": "stream",
     "text": [
      "데이터:\n",
      "    Height\n",
      "0     150\n",
      "1     160\n",
      "2     170\n",
      "3     180\n",
      "4     350\n",
      "\n",
      "Height의 최대값: 350\n",
      "Height의 최소값: 150\n"
     ]
    }
   ],
   "source": [
    "import pandas as pd\n",
    "# 예제 데이터프레임 생성\n",
    "data = {'Height': [150, 160, 170, 180, 350]}  # 300은 이상치로 가정\n",
    "df = pd.DataFrame(data)\n",
    "# 데이터 출력\n",
    "print(\"데이터:\\n\", df)\n",
    "# 최대값과 최소값 확인\n",
    "print(\"\\nHeight의 최대값:\", df['Height'].max())\n",
    "print(\"Height의 최소값:\", df['Height'].min())"
   ]
  },
  {
   "cell_type": "markdown",
   "id": "50b094af-7f20-4255-a04e-2ac607f74bf8",
   "metadata": {},
   "source": [
    "## <b> IQR(Interquartile Range) 방법"
   ]
  },
  {
   "cell_type": "code",
   "execution_count": 76,
   "id": "86d501b3-b8dc-4a9f-a2e2-0e269c2e2d52",
   "metadata": {},
   "outputs": [
    {
     "name": "stdout",
     "output_type": "stream",
     "text": [
      "IQR 기준으로 찾은 이상치:\n",
      "    Height\n",
      "4     350\n"
     ]
    }
   ],
   "source": [
    "# IQR을 이용한 이상치 확인\n",
    "Q1 = df['Height'].quantile(0.25)  # 1사분위 값\n",
    "Q3 = df['Height'].quantile(0.75)  # 3사분위 값\n",
    "IQR = Q3 - Q1  # IQR 계산\n",
    "# 이상치 기준 계산\n",
    "lower_bound = Q1 - 1.5 * IQR  # 하한\n",
    "upper_bound = Q3 + 1.5 * IQR  # 상한\n",
    "# 이상치 확인\n",
    "outliers = df[(df['Height'] < lower_bound) | (df['Height'] > upper_bound)]\n",
    "print(\"IQR 기준으로 찾은 이상치:\\n\", outliers)"
   ]
  },
  {
   "cell_type": "markdown",
   "id": "384dbbb9-bd57-4a1f-9862-00371e67ae1b",
   "metadata": {},
   "source": [
    "## <b> Z-스코어를 활용한 이상치 확인"
   ]
  },
  {
   "cell_type": "code",
   "execution_count": 79,
   "id": "4b53d21a-a275-46e8-a3a9-d0c5ad44a2c3",
   "metadata": {},
   "outputs": [
    {
     "name": "stdout",
     "output_type": "stream",
     "text": [
      "\n",
      "Z-스코어:\n",
      "    Height   Z_Score\n",
      "0     150 -0.696373\n",
      "1     160 -0.562455\n",
      "2     170 -0.428537\n",
      "3     180 -0.294619\n",
      "4     350  1.981985\n",
      "\n",
      "Z-스코어 기준으로 찾은 이상치:\n",
      " Empty DataFrame\n",
      "Columns: [Height, Z_Score]\n",
      "Index: []\n"
     ]
    }
   ],
   "source": [
    "from scipy.stats import zscore\n",
    "\n",
    "# Z-스코어 계산\n",
    "df['Z_Score'] = zscore(df['Height'])  # Z-스코어 계산\n",
    "print(\"\\nZ-스코어:\\n\", df)\n",
    "\n",
    "# Z-스코어 기준으로 이상치 탐지\n",
    "outliers = df[df['Z_Score'].abs() > 3]\n",
    "print(\"\\nZ-스코어 기준으로 찾은 이상치:\\n\", outliers)"
   ]
  },
  {
   "cell_type": "markdown",
   "id": "3cc142d8-c6b7-4369-bace-7795cf867c89",
   "metadata": {},
   "source": [
    "## <b> IQR기준 이상치 제거"
   ]
  },
  {
   "cell_type": "code",
   "execution_count": 82,
   "id": "4904b900-283d-494d-a8eb-0311463ed2d7",
   "metadata": {},
   "outputs": [
    {
     "name": "stdout",
     "output_type": "stream",
     "text": [
      "\n",
      "이상치 제거 후 데이터:\n",
      "    Height   Z_Score\n",
      "0     150 -0.696373\n",
      "1     160 -0.562455\n",
      "2     170 -0.428537\n",
      "3     180 -0.294619\n"
     ]
    }
   ],
   "source": [
    "# IQR 기준으로 이상치 제거\n",
    "df_cleaned = df[(df['Height'] >= lower_bound) & (df['Height'] <= upper_bound)]\n",
    "print(\"\\n이상치 제거 후 데이터:\\n\", df_cleaned)"
   ]
  },
  {
   "cell_type": "markdown",
   "id": "6ca643c4-310c-45aa-869a-89531985a21b",
   "metadata": {},
   "source": [
    "## <b> 이상치를 특정 값으로 대체"
   ]
  },
  {
   "cell_type": "code",
   "execution_count": 85,
   "id": "0d82554a-1fc5-48c8-b5ac-82a5d4f80f31",
   "metadata": {},
   "outputs": [
    {
     "name": "stdout",
     "output_type": "stream",
     "text": [
      "이상치를 중앙값으로 대체한 데이터:\n",
      "    Height   Z_Score\n",
      "0   150.0 -0.696373\n",
      "1   160.0 -0.562455\n",
      "2   170.0 -0.428537\n",
      "3   180.0 -0.294619\n",
      "4   165.0  1.981985\n"
     ]
    }
   ],
   "source": [
    "# 이상치를 중앙값으로 대체\n",
    "median_value = df[(df['Height'] >= lower_bound) & (df['Height'] <= upper_bound)]['Height'].median()\n",
    "df['Height'] = df['Height'].apply(lambda x: median_value if (x < lower_bound or x > upper_bound) else x)\n",
    "print(\"이상치를 중앙값으로 대체한 데이터:\\n\", df)"
   ]
  },
  {
   "cell_type": "markdown",
   "id": "812b047c-f1bd-47e3-b20e-8f2b41bf5601",
   "metadata": {},
   "source": [
    "## <b> 이상치 제거 전체코드"
   ]
  },
  {
   "cell_type": "code",
   "execution_count": 88,
   "id": "af4e6416-55cc-4ead-a1cd-141c01479575",
   "metadata": {},
   "outputs": [
    {
     "name": "stdout",
     "output_type": "stream",
     "text": [
      "최종 데이터:\n",
      "    Height   Z_Score\n",
      "0   150.0 -0.696373\n",
      "1   160.0 -0.562455\n",
      "2   170.0 -0.428537\n",
      "3   180.0 -0.294619\n",
      "4   165.0  1.981985\n"
     ]
    }
   ],
   "source": [
    "import pandas as pd\n",
    "from scipy.stats import zscore\n",
    "\n",
    "# 데이터 생성\n",
    "data = {'Height': [150, 160, 170, 180, 350]}\n",
    "df = pd.DataFrame(data)\n",
    "# IQR 방법\n",
    "Q1 = df['Height'].quantile(0.25)\n",
    "Q3 = df['Height'].quantile(0.75)\n",
    "IQR = Q3 - Q1\n",
    "lower_bound = Q1 - 1.5 * IQR\n",
    "upper_bound = Q3 + 1.5 * IQR\n",
    "\n",
    "# Z-스코어 계산\n",
    "df['Z_Score'] = zscore(df['Height'])\n",
    "\n",
    "# 이상치 제거\n",
    "df_cleaned = df[(df['Height'] >= lower_bound) & (df['Height'] <= upper_bound)]\n",
    "\n",
    "# 이상치를 중앙값으로 대체\n",
    "median_value = df_cleaned['Height'].median()\n",
    "df['Height'] = df['Height'].apply(lambda x: median_value if (x < lower_bound or x > upper_bound) else x)\n",
    "\n",
    "print(\"최종 데이터:\\n\", df)"
   ]
  },
  {
   "cell_type": "markdown",
   "id": "84929318-909e-42c3-a92a-49f6f84b1d15",
   "metadata": {},
   "source": [
    "### <B> 수치형 데이터 전처리"
   ]
  },
  {
   "cell_type": "markdown",
   "id": "3c55ead0-42db-472b-a199-4c5d6beee9f5",
   "metadata": {},
   "source": [
    "### <b> 예제 : 나이 데이터를 구간화하기"
   ]
  },
  {
   "cell_type": "code",
   "execution_count": 92,
   "id": "ef4b6281-c4d1-412b-b44b-c2a3fcc2df22",
   "metadata": {},
   "outputs": [
    {
     "name": "stdout",
     "output_type": "stream",
     "text": [
      "   Age Age_Group\n",
      "0   15       10대\n",
      "1   22       20대\n",
      "2   35       20대\n",
      "3   50       30대\n",
      "4   72    40대 이상\n"
     ]
    }
   ],
   "source": [
    "import pandas as pd\n",
    "\n",
    "# 데이터 생성\n",
    "data = {'Age': [15, 22, 35, 50, 72]}\n",
    "df = pd.DataFrame(data)\n",
    "\n",
    "# 나이를 구간화 (10대, 20대, 30대, ...)\n",
    "bins = [0, 20, 40, 60, 80]  # 구간 경계 설정\n",
    "labels = ['10대', '20대', '30대', '40대 이상']  # 각 구간의 이름\n",
    "df['Age_Group'] = pd.cut(df['Age'], bins=bins, labels=labels)\n",
    "\n",
    "# 결과 출력\n",
    "print(df)"
   ]
  },
  {
   "cell_type": "markdown",
   "id": "46df62bd-77c3-4fd1-8eca-bb2077d300a7",
   "metadata": {},
   "source": [
    "## <b> 구간화를 자동으로 수행하기"
   ]
  },
  {
   "cell_type": "code",
   "execution_count": 95,
   "id": "ac75510c-cae7-4d18-b79d-417de16ea12f",
   "metadata": {},
   "outputs": [
    {
     "name": "stdout",
     "output_type": "stream",
     "text": [
      "   Age Age_Group Age_Quantile\n",
      "0   15       10대           하위\n",
      "1   22       20대           하위\n",
      "2   35       20대           중위\n",
      "3   50       30대           상위\n",
      "4   72    40대 이상           상위\n"
     ]
    }
   ],
   "source": [
    "# 나이를 자동으로 3개의 구간으로 나누기\n",
    "df['Age_Quantile'] = pd.qcut(df['Age'], q=3, labels=['하위', '중위', '상위'])\n",
    "# 결과 출력\n",
    "print(df)"
   ]
  },
  {
   "cell_type": "markdown",
   "id": "75e31bb9-63e6-4e06-8efe-4f3a4ac2afa7",
   "metadata": {},
   "source": [
    "## <b> 예제: MinMaxScaler를 사용한 정규화"
   ]
  },
  {
   "cell_type": "code",
   "execution_count": 98,
   "id": "247fb605-743a-48d1-a863-f45c7810b20b",
   "metadata": {},
   "outputs": [
    {
     "name": "stdout",
     "output_type": "stream",
     "text": [
      "   Height  Height_Normalized\n",
      "0     150               0.00\n",
      "1     160               0.25\n",
      "2     170               0.50\n",
      "3     180               0.75\n",
      "4     190               1.00\n"
     ]
    }
   ],
   "source": [
    "from sklearn.preprocessing import MinMaxScaler\n",
    "import pandas as pd\n",
    "\n",
    "# 데이터 생성\n",
    "data = {'Height': [150, 160, 170, 180, 190]}\n",
    "df = pd.DataFrame(data)\n",
    "\n",
    "# MinMaxScaler 적용\n",
    "scaler = MinMaxScaler()\n",
    "df['Height_Normalized'] = scaler.fit_transform(df[['Height']])\n",
    "\n",
    "# 결과 출력\n",
    "print(df)"
   ]
  },
  {
   "cell_type": "markdown",
   "id": "9bccc4ea-c9eb-40b4-93eb-c78cc007ec2e",
   "metadata": {},
   "source": [
    "## <b> 예제: StandardScaler를 사용한 표준화"
   ]
  },
  {
   "cell_type": "code",
   "execution_count": 101,
   "id": "38c1fb84-8fa4-4009-be05-313a939d1b5e",
   "metadata": {},
   "outputs": [
    {
     "name": "stdout",
     "output_type": "stream",
     "text": [
      "   Weight  Weight_Standardized\n",
      "0      50            -1.414214\n",
      "1      60            -0.707107\n",
      "2      70             0.000000\n",
      "3      80             0.707107\n",
      "4      90             1.414214\n"
     ]
    }
   ],
   "source": [
    "from sklearn.preprocessing import StandardScaler\n",
    "import pandas as pd\n",
    "\n",
    "# 데이터 생성\n",
    "data = {'Weight': [50, 60, 70, 80, 90]}\n",
    "df = pd.DataFrame(data)\n",
    "\n",
    "# StandardScaler 적용\n",
    "scaler = StandardScaler()\n",
    "df['Weight_Standardized'] = scaler.fit_transform(df[['Weight']])\n",
    "\n",
    "# 결과 출력\n",
    "print(df)"
   ]
  },
  {
   "cell_type": "markdown",
   "id": "b788551f-fb14-4fee-901b-f6c1f02b9919",
   "metadata": {},
   "source": [
    "## <b>  스케일링 전체 코드"
   ]
  },
  {
   "cell_type": "code",
   "execution_count": 104,
   "id": "93ef15e4-f6de-48d0-a550-89581cd4abd4",
   "metadata": {},
   "outputs": [
    {
     "name": "stdout",
     "output_type": "stream",
     "text": [
      "   Age  Weight Age_Group  Weight_Normalized  Weight_Standardized\n",
      "0   15      50       10대               0.00            -1.414214\n",
      "1   22      60       20대               0.25            -0.707107\n",
      "2   35      70       20대               0.50             0.000000\n",
      "3   50      80       30대               0.75             0.707107\n",
      "4   72      90    40대 이상               1.00             1.414214\n"
     ]
    }
   ],
   "source": [
    "import pandas as pd\n",
    "from sklearn.preprocessing import MinMaxScaler, StandardScaler\n",
    "\n",
    "# 데이터 생성\n",
    "data = {'Age': [15, 22, 35, 50, 72], 'Weight': [50, 60, 70, 80, 90]}\n",
    "df = pd.DataFrame(data)\n",
    "\n",
    "# 구간화\n",
    "bins = [0, 20, 40, 60, 80]\n",
    "labels = ['10대', '20대', '30대', '40대 이상']\n",
    "df['Age_Group'] = pd.cut(df['Age'], bins=bins, labels=labels)\n",
    "\n",
    "# 정규화\n",
    "minmax_scaler = MinMaxScaler()\n",
    "df['Weight_Normalized'] = minmax_scaler.fit_transform(df[['Weight']])\n",
    "\n",
    "# 표준화\n",
    "std_scaler = StandardScaler()\n",
    "df['Weight_Standardized'] = std_scaler.fit_transform(df[['Weight']])\n",
    "print(df)"
   ]
  },
  {
   "cell_type": "markdown",
   "id": "6faa4e5f-c9c4-4791-a2ca-9fed4971d46f",
   "metadata": {},
   "source": [
    "## <b> 예제코드 : 레이블 인코딩"
   ]
  },
  {
   "cell_type": "code",
   "execution_count": 107,
   "id": "a26b7308-83e9-4f1e-97e7-34bc4f8ced30",
   "metadata": {},
   "outputs": [
    {
     "name": "stdout",
     "output_type": "stream",
     "text": [
      "  City  City_Encoded\n",
      "0   서울             2\n",
      "1   부산             1\n",
      "2   대구             0\n",
      "3   서울             2\n",
      "4   부산             1\n"
     ]
    }
   ],
   "source": [
    "import pandas as pd\n",
    "from sklearn.preprocessing import LabelEncoder  # 레이블 인코딩을 위한 라이브러리\n",
    "\n",
    "# 데이터 생성\n",
    "data = {'City': ['서울', '부산', '대구', '서울', '부산']}\n",
    "df = pd.DataFrame(data)\n",
    "\n",
    "# 레이블 인코딩\n",
    "encoder = LabelEncoder()  # 레이블 인코더 생성\n",
    "df['City_Encoded'] = encoder.fit_transform(df['City'])  # 범주형 데이터를 숫자로 변환\n",
    "# 결과 출력\n",
    "print(df)"
   ]
  },
  {
   "cell_type": "markdown",
   "id": "e4d0e9bc-298a-4787-b031-79c91c1af238",
   "metadata": {},
   "source": [
    "## <b> 예제코드 : 원핫 인코딩"
   ]
  },
  {
   "cell_type": "code",
   "execution_count": 110,
   "id": "043f0829-6ba3-4a35-9724-86a30cff24d5",
   "metadata": {},
   "outputs": [
    {
     "name": "stdout",
     "output_type": "stream",
     "text": [
      "   City_대구  City_부산  City_서울\n",
      "0    False    False     True\n",
      "1    False     True    False\n",
      "2     True    False    False\n",
      "3    False    False     True\n",
      "4    False     True    False\n"
     ]
    }
   ],
   "source": [
    "import pandas as pd\n",
    "\n",
    "# 데이터 생성\n",
    "data = {'City': ['서울', '부산', '대구', '서울', '부산']}\n",
    "df = pd.DataFrame(data)\n",
    "# 원핫 인코딩\n",
    "df_encoded = pd.get_dummies(df, columns=['City'])  # City 열을 원핫 인코딩\n",
    "\n",
    "# 결과 출력\n",
    "print(df_encoded)"
   ]
  },
  {
   "cell_type": "markdown",
   "id": "6665d72d-4fa7-4628-8283-b8fa9e2bb784",
   "metadata": {},
   "source": [
    "## <b> 기존 데이터 삭제 : 특정 행(Row) 삭제\n"
   ]
  },
  {
   "cell_type": "code",
   "execution_count": 162,
   "id": "78fc4f6a-321e-4711-83b3-244d1f29683f",
   "metadata": {},
   "outputs": [
    {
     "name": "stdout",
     "output_type": "stream",
     "text": [
      "특정 행 삭제 후 데이터:\n",
      "    Name  Age  Score\n",
      "0  Alice   25     90\n",
      "1    Bob   30     85\n",
      "3  David   40     60\n"
     ]
    }
   ],
   "source": [
    "import pandas as pd\n",
    "\n",
    "# 데이터 생성\n",
    "data = {'Name': ['Alice', 'Bob', 'Charlie', 'David'],\n",
    "        'Age': [25, 30, 35, 40],\n",
    "        'Score': [90, 85, 75, 60]}\n",
    "df = pd.DataFrame(data)\n",
    "\n",
    "# 특정 행 삭제 (예: 인덱스 2번 삭제)\n",
    "df_dropped = df.drop(index=2)\n",
    "\n",
    "print(\"특정 행 삭제 후 데이터:\")\n",
    "print(df_dropped)"
   ]
  },
  {
   "cell_type": "markdown",
   "id": "95467e00-0ee2-44ce-b51e-84881a9e34aa",
   "metadata": {},
   "source": [
    "## <b> 기존 데이터 삭제 : 특정 열(column) 삭제\n"
   ]
  },
  {
   "cell_type": "code",
   "execution_count": 165,
   "id": "379a080f-42a5-4f30-b678-f14d95b230db",
   "metadata": {},
   "outputs": [
    {
     "name": "stdout",
     "output_type": "stream",
     "text": [
      "특정 열 삭제 후 데이터:\n",
      "      Name  Age\n",
      "0    Alice   25\n",
      "1      Bob   30\n",
      "2  Charlie   35\n",
      "3    David   40\n"
     ]
    }
   ],
   "source": [
    "# 특정 열 삭제 (예: 'Score' 열 삭제)\n",
    "df_dropped = df.drop(columns=['Score'])\n",
    "\n",
    "print(\"특정 열 삭제 후 데이터:\")\n",
    "print(df_dropped)"
   ]
  },
  {
   "cell_type": "markdown",
   "id": "3d1ecff6-6a5d-4561-8c36-0b0c44d01569",
   "metadata": {},
   "source": [
    "## <b> 기존 데이터 삭제 : 결측치가 많은 행(Row) 삭제\n"
   ]
  },
  {
   "cell_type": "code",
   "execution_count": 121,
   "id": "53d3fb15-8471-423f-9ced-501694be86e6",
   "metadata": {},
   "outputs": [
    {
     "name": "stdout",
     "output_type": "stream",
     "text": [
      "결측치가 포함된 행 삭제 후 데이터:\n",
      "    Name   Age  Score\n",
      "0  Alice  25.0   90.0\n",
      "3  David  40.0   60.0\n"
     ]
    }
   ],
   "source": [
    "# 결측치가 있는 데이터 생성\n",
    "data_with_na = {'Name': ['Alice', 'Bob', 'Charlie', 'David'],\n",
    "                'Age': [25, None, 35, 40],\n",
    "                'Score': [90, 85, None, 60]}\n",
    "df_with_na = pd.DataFrame(data_with_na)\n",
    "\n",
    "# 결측치가 포함된 행 삭제\n",
    "df_cleaned = df_with_na.dropna()\n",
    "print(\"결측치가 포함된 행 삭제 후 데이터:\")\n",
    "print(df_cleaned)"
   ]
  },
  {
   "cell_type": "markdown",
   "id": "7a1ea369-37fc-4e9d-867f-34b393fbb5db",
   "metadata": {},
   "source": [
    "## <b> 기존 데이터 삭제 : 중복 데이터 삭제\n",
    "\n"
   ]
  },
  {
   "cell_type": "code",
   "execution_count": 124,
   "id": "0bce6f3b-2302-407e-be87-27344b97cb74",
   "metadata": {},
   "outputs": [
    {
     "name": "stdout",
     "output_type": "stream",
     "text": [
      "중복 데이터 삭제 후 데이터:\n",
      "    Name  Age  Score\n",
      "0  Alice   25     90\n",
      "1    Bob   30     85\n",
      "3  David   40     60\n"
     ]
    }
   ],
   "source": [
    "# 중복 데이터 생성\n",
    "data_with_duplicates = {'Name': ['Alice', 'Bob', 'Alice', 'David'],\n",
    "                        'Age': [25, 30, 25, 40],\n",
    "                        'Score': [90, 85, 90, 60]}\n",
    "df_with_duplicates = pd.DataFrame(data_with_duplicates)\n",
    "\n",
    "# 중복된 행 삭제\n",
    "df_unique = df_with_duplicates.drop_duplicates()\n",
    "\n",
    "print(\"중복 데이터 삭제 후 데이터:\")\n",
    "print(df_unique)"
   ]
  },
  {
   "cell_type": "markdown",
   "id": "bad86c9c-1cd2-4fba-a080-2de4b68de068",
   "metadata": {},
   "source": [
    "## <b> 기존 데이터 삭제 : 실습 예제\n"
   ]
  },
  {
   "cell_type": "code",
   "execution_count": 167,
   "id": "d4df878f-b97c-4dac-83ad-d3b31b1d2450",
   "metadata": {},
   "outputs": [
    {
     "name": "stdout",
     "output_type": "stream",
     "text": [
      "정제된 데이터:\n",
      "      Name   Age\n",
      "0    Alice  25.0\n",
      "2  Charlie  35.0\n",
      "3    David  40.0\n",
      "4      Eve  29.0\n"
     ]
    }
   ],
   "source": [
    "import pandas as pd\n",
    "\n",
    "# 데이터 생성\n",
    "data = {'Name': ['Alice', 'Bob', 'Charlie', 'David', 'Eve'],\n",
    "        'Age': [25, None, 35, 40, 29],\n",
    "        'Score': [90, 85, 75, 60, 85]}\n",
    "df = pd.DataFrame(data)\n",
    "\n",
    "# 1. 특정 행 삭제 (예: 인덱스 1번 삭제)\n",
    "df = df.drop(index=1)\n",
    "\n",
    "# 2. 특정 열 삭제 (예: 'Score' 열 삭제)\n",
    "df = df.drop(columns=['Score'])\n",
    "\n",
    "# 3. 결측치가 포함된 행 삭제\n",
    "df = df.dropna()\n",
    "print(\"정제된 데이터:\")\n",
    "print(df)"
   ]
  },
  {
   "cell_type": "markdown",
   "id": "c7d4a664-f4d3-48b2-b255-01f56f0f1784",
   "metadata": {},
   "source": [
    "## <b> 컬럼명 변경"
   ]
  },
  {
   "cell_type": "code",
   "execution_count": 173,
   "id": "aad433cc-debe-4516-97aa-c9f960b9e7c4",
   "metadata": {},
   "outputs": [
    {
     "name": "stdout",
     "output_type": "stream",
     "text": [
      "컬럼명 확인:\n",
      "Index(['age', 'sex', 'cp', 'trtbps', 'chol', 'fbs', 'restecg', 'thalachh',\n",
      "       'exng', 'oldpeak', 'slp', 'caa', 'thall', 'output'],\n",
      "      dtype='object')\n"
     ]
    }
   ],
   "source": [
    "import pandas as pd\n",
    "\n",
    "# 데이터 로드\n",
    "file_path = \"datasets/heart.csv\"\n",
    "df = pd.read_csv(file_path)\n",
    "\n",
    "# 컬럼명 출력\n",
    "print(\"컬럼명 확인:\")\n",
    "print(df.columns)"
   ]
  },
  {
   "cell_type": "markdown",
   "id": "ce19e992-5b42-4e7d-ad89-67d6f64bb4bc",
   "metadata": {},
   "source": [
    "### 방법 1: rename() 메서드로 특정 컬럼명 변경"
   ]
  },
  {
   "cell_type": "code",
   "execution_count": 176,
   "id": "1a5bbefa-6104-4ae5-beb7-d197b9ec4146",
   "metadata": {},
   "outputs": [
    {
     "name": "stdout",
     "output_type": "stream",
     "text": [
      "변경된 컬럼명 (일부 변경):\n",
      "Index(['나이', '성별', '흉통유형', 'trtbps', 'chol', 'fbs', 'restecg', 'thalachh',\n",
      "       'exng', 'oldpeak', 'slp', 'caa', 'thall', 'output'],\n",
      "      dtype='object')\n"
     ]
    }
   ],
   "source": [
    "# 특정 컬럼명 변경\n",
    "df.rename(columns={'age': '나이', 'sex': '성별', 'cp': '흉통유형'}, inplace=True)\n",
    "# 변경 후 컬럼명 확인\n",
    "print(\"변경된 컬럼명 (일부 변경):\")\n",
    "print(df.columns)"
   ]
  },
  {
   "cell_type": "markdown",
   "id": "5721a088-66cb-4819-bdf6-88e57e2b0552",
   "metadata": {},
   "source": [
    "### 방법 2: columns 속성으로 전체 컬럼명 변경"
   ]
  },
  {
   "cell_type": "code",
   "execution_count": 179,
   "id": "621bf9a4-07ca-4e76-b2b4-cd64e9f636da",
   "metadata": {},
   "outputs": [
    {
     "name": "stdout",
     "output_type": "stream",
     "text": [
      "변경된 컬럼명 (전체 변경):\n",
      "Index(['나이', '성별', '흉통유형', '안정시혈압', '콜레스테롤', '공복혈당', '심전도', '최대심박수', '운동유발협심증',\n",
      "       'ST우울증', '운동후ST경사', '주요혈관수', '결함유형', '심장질환여부'],\n",
      "      dtype='object')\n"
     ]
    }
   ],
   "source": [
    "# 전체 컬럼명 변경\n",
    "df.columns = ['나이', '성별', '흉통유형', '안정시혈압', '콜레스테롤', '공복혈당', '심전도',\n",
    "              '최대심박수', '운동유발협심증', 'ST우울증', '운동후ST경사', '주요혈관수',\n",
    "              '결함유형', '심장질환여부']\n",
    "# 변경 후 컬럼명 확인\n",
    "print(\"변경된 컬럼명 (전체 변경):\")\n",
    "print(df.columns)"
   ]
  },
  {
   "cell_type": "code",
   "execution_count": 181,
   "id": "0a904f4d-f658-4331-b29b-f26e1d98aa62",
   "metadata": {},
   "outputs": [
    {
     "name": "stdout",
     "output_type": "stream",
     "text": [
      "변경된 데이터 상위 5개 행:\n"
     ]
    },
    {
     "data": {
      "text/html": [
       "<div>\n",
       "<style scoped>\n",
       "    .dataframe tbody tr th:only-of-type {\n",
       "        vertical-align: middle;\n",
       "    }\n",
       "\n",
       "    .dataframe tbody tr th {\n",
       "        vertical-align: top;\n",
       "    }\n",
       "\n",
       "    .dataframe thead th {\n",
       "        text-align: right;\n",
       "    }\n",
       "</style>\n",
       "<table border=\"1\" class=\"dataframe\">\n",
       "  <thead>\n",
       "    <tr style=\"text-align: right;\">\n",
       "      <th></th>\n",
       "      <th>나이</th>\n",
       "      <th>성별</th>\n",
       "      <th>흉통유형</th>\n",
       "      <th>안정시혈압</th>\n",
       "      <th>콜레스테롤</th>\n",
       "      <th>공복혈당</th>\n",
       "      <th>심전도</th>\n",
       "      <th>최대심박수</th>\n",
       "      <th>운동유발협심증</th>\n",
       "      <th>ST우울증</th>\n",
       "      <th>운동후ST경사</th>\n",
       "      <th>주요혈관수</th>\n",
       "      <th>결함유형</th>\n",
       "      <th>심장질환여부</th>\n",
       "    </tr>\n",
       "  </thead>\n",
       "  <tbody>\n",
       "    <tr>\n",
       "      <th>0</th>\n",
       "      <td>63</td>\n",
       "      <td>1</td>\n",
       "      <td>3</td>\n",
       "      <td>145</td>\n",
       "      <td>233</td>\n",
       "      <td>1</td>\n",
       "      <td>0</td>\n",
       "      <td>150</td>\n",
       "      <td>0</td>\n",
       "      <td>2.3</td>\n",
       "      <td>0</td>\n",
       "      <td>0</td>\n",
       "      <td>1</td>\n",
       "      <td>1</td>\n",
       "    </tr>\n",
       "    <tr>\n",
       "      <th>1</th>\n",
       "      <td>37</td>\n",
       "      <td>1</td>\n",
       "      <td>2</td>\n",
       "      <td>130</td>\n",
       "      <td>250</td>\n",
       "      <td>0</td>\n",
       "      <td>1</td>\n",
       "      <td>187</td>\n",
       "      <td>0</td>\n",
       "      <td>3.5</td>\n",
       "      <td>0</td>\n",
       "      <td>0</td>\n",
       "      <td>2</td>\n",
       "      <td>1</td>\n",
       "    </tr>\n",
       "    <tr>\n",
       "      <th>2</th>\n",
       "      <td>41</td>\n",
       "      <td>0</td>\n",
       "      <td>1</td>\n",
       "      <td>130</td>\n",
       "      <td>204</td>\n",
       "      <td>0</td>\n",
       "      <td>0</td>\n",
       "      <td>172</td>\n",
       "      <td>0</td>\n",
       "      <td>1.4</td>\n",
       "      <td>2</td>\n",
       "      <td>0</td>\n",
       "      <td>2</td>\n",
       "      <td>1</td>\n",
       "    </tr>\n",
       "    <tr>\n",
       "      <th>3</th>\n",
       "      <td>56</td>\n",
       "      <td>1</td>\n",
       "      <td>1</td>\n",
       "      <td>120</td>\n",
       "      <td>236</td>\n",
       "      <td>0</td>\n",
       "      <td>1</td>\n",
       "      <td>178</td>\n",
       "      <td>0</td>\n",
       "      <td>0.8</td>\n",
       "      <td>2</td>\n",
       "      <td>0</td>\n",
       "      <td>2</td>\n",
       "      <td>1</td>\n",
       "    </tr>\n",
       "    <tr>\n",
       "      <th>4</th>\n",
       "      <td>57</td>\n",
       "      <td>0</td>\n",
       "      <td>0</td>\n",
       "      <td>120</td>\n",
       "      <td>354</td>\n",
       "      <td>0</td>\n",
       "      <td>1</td>\n",
       "      <td>163</td>\n",
       "      <td>1</td>\n",
       "      <td>0.6</td>\n",
       "      <td>2</td>\n",
       "      <td>0</td>\n",
       "      <td>2</td>\n",
       "      <td>1</td>\n",
       "    </tr>\n",
       "  </tbody>\n",
       "</table>\n",
       "</div>"
      ],
      "text/plain": [
       "   나이  성별  흉통유형  안정시혈압  콜레스테롤  공복혈당  심전도  최대심박수  운동유발협심증  ST우울증  운동후ST경사  \\\n",
       "0  63   1     3    145    233     1    0    150        0    2.3        0   \n",
       "1  37   1     2    130    250     0    1    187        0    3.5        0   \n",
       "2  41   0     1    130    204     0    0    172        0    1.4        2   \n",
       "3  56   1     1    120    236     0    1    178        0    0.8        2   \n",
       "4  57   0     0    120    354     0    1    163        1    0.6        2   \n",
       "\n",
       "   주요혈관수  결함유형  심장질환여부  \n",
       "0      0     1       1  \n",
       "1      0     2       1  \n",
       "2      0     2       1  \n",
       "3      0     2       1  \n",
       "4      0     2       1  "
      ]
     },
     "execution_count": 181,
     "metadata": {},
     "output_type": "execute_result"
    }
   ],
   "source": [
    "# 변경 후 데이터 확인\n",
    "print(\"변경된 데이터 상위 5개 행:\")\n",
    "df.head()"
   ]
  },
  {
   "cell_type": "markdown",
   "id": "b875617d-9bf0-4883-86c3-f78fcbb1ca72",
   "metadata": {},
   "source": [
    "## <b> 데이터정렬"
   ]
  },
  {
   "cell_type": "code",
   "execution_count": 108,
   "id": "79d1df16-0bce-4a1d-a8e7-768f01bf5454",
   "metadata": {},
   "outputs": [
    {
     "name": "stdout",
     "output_type": "stream",
     "text": [
      "원본 데이터:\n"
     ]
    },
    {
     "data": {
      "text/html": [
       "<div>\n",
       "<style scoped>\n",
       "    .dataframe tbody tr th:only-of-type {\n",
       "        vertical-align: middle;\n",
       "    }\n",
       "\n",
       "    .dataframe tbody tr th {\n",
       "        vertical-align: top;\n",
       "    }\n",
       "\n",
       "    .dataframe thead th {\n",
       "        text-align: right;\n",
       "    }\n",
       "</style>\n",
       "<table border=\"1\" class=\"dataframe\">\n",
       "  <thead>\n",
       "    <tr style=\"text-align: right;\">\n",
       "      <th></th>\n",
       "      <th>age</th>\n",
       "      <th>sex</th>\n",
       "      <th>cp</th>\n",
       "      <th>trtbps</th>\n",
       "      <th>chol</th>\n",
       "      <th>fbs</th>\n",
       "      <th>restecg</th>\n",
       "      <th>thalachh</th>\n",
       "      <th>exng</th>\n",
       "      <th>oldpeak</th>\n",
       "      <th>slp</th>\n",
       "      <th>caa</th>\n",
       "      <th>thall</th>\n",
       "      <th>output</th>\n",
       "    </tr>\n",
       "  </thead>\n",
       "  <tbody>\n",
       "    <tr>\n",
       "      <th>0</th>\n",
       "      <td>63</td>\n",
       "      <td>1</td>\n",
       "      <td>3</td>\n",
       "      <td>145</td>\n",
       "      <td>233</td>\n",
       "      <td>1</td>\n",
       "      <td>0</td>\n",
       "      <td>150</td>\n",
       "      <td>0</td>\n",
       "      <td>2.3</td>\n",
       "      <td>0</td>\n",
       "      <td>0</td>\n",
       "      <td>1</td>\n",
       "      <td>1</td>\n",
       "    </tr>\n",
       "    <tr>\n",
       "      <th>1</th>\n",
       "      <td>37</td>\n",
       "      <td>1</td>\n",
       "      <td>2</td>\n",
       "      <td>130</td>\n",
       "      <td>250</td>\n",
       "      <td>0</td>\n",
       "      <td>1</td>\n",
       "      <td>187</td>\n",
       "      <td>0</td>\n",
       "      <td>3.5</td>\n",
       "      <td>0</td>\n",
       "      <td>0</td>\n",
       "      <td>2</td>\n",
       "      <td>1</td>\n",
       "    </tr>\n",
       "    <tr>\n",
       "      <th>2</th>\n",
       "      <td>41</td>\n",
       "      <td>0</td>\n",
       "      <td>1</td>\n",
       "      <td>130</td>\n",
       "      <td>204</td>\n",
       "      <td>0</td>\n",
       "      <td>0</td>\n",
       "      <td>172</td>\n",
       "      <td>0</td>\n",
       "      <td>1.4</td>\n",
       "      <td>2</td>\n",
       "      <td>0</td>\n",
       "      <td>2</td>\n",
       "      <td>1</td>\n",
       "    </tr>\n",
       "    <tr>\n",
       "      <th>3</th>\n",
       "      <td>56</td>\n",
       "      <td>1</td>\n",
       "      <td>1</td>\n",
       "      <td>120</td>\n",
       "      <td>236</td>\n",
       "      <td>0</td>\n",
       "      <td>1</td>\n",
       "      <td>178</td>\n",
       "      <td>0</td>\n",
       "      <td>0.8</td>\n",
       "      <td>2</td>\n",
       "      <td>0</td>\n",
       "      <td>2</td>\n",
       "      <td>1</td>\n",
       "    </tr>\n",
       "    <tr>\n",
       "      <th>4</th>\n",
       "      <td>57</td>\n",
       "      <td>0</td>\n",
       "      <td>0</td>\n",
       "      <td>120</td>\n",
       "      <td>354</td>\n",
       "      <td>0</td>\n",
       "      <td>1</td>\n",
       "      <td>163</td>\n",
       "      <td>1</td>\n",
       "      <td>0.6</td>\n",
       "      <td>2</td>\n",
       "      <td>0</td>\n",
       "      <td>2</td>\n",
       "      <td>1</td>\n",
       "    </tr>\n",
       "  </tbody>\n",
       "</table>\n",
       "</div>"
      ],
      "text/plain": [
       "   age  sex  cp  trtbps  chol  fbs  restecg  thalachh  exng  oldpeak  slp  \\\n",
       "0   63    1   3     145   233    1        0       150     0      2.3    0   \n",
       "1   37    1   2     130   250    0        1       187     0      3.5    0   \n",
       "2   41    0   1     130   204    0        0       172     0      1.4    2   \n",
       "3   56    1   1     120   236    0        1       178     0      0.8    2   \n",
       "4   57    0   0     120   354    0        1       163     1      0.6    2   \n",
       "\n",
       "   caa  thall  output  \n",
       "0    0      1       1  \n",
       "1    0      2       1  \n",
       "2    0      2       1  \n",
       "3    0      2       1  \n",
       "4    0      2       1  "
      ]
     },
     "execution_count": 108,
     "metadata": {},
     "output_type": "execute_result"
    }
   ],
   "source": [
    "import pandas as pd\n",
    "\n",
    "# 데이터 로드\n",
    "file_path = \"datasets/heart.csv\"\n",
    "df = pd.read_csv(file_path)\n",
    "\n",
    "# 데이터 확인\n",
    "print(\"원본 데이터:\")\n",
    "df.head()"
   ]
  },
  {
   "cell_type": "markdown",
   "id": "96004417-8676-410d-887a-0526b532e780",
   "metadata": {},
   "source": [
    "### 특정 열 기준으로 정렬하기"
   ]
  },
  {
   "cell_type": "code",
   "execution_count": 111,
   "id": "f1b4afca-6155-4408-9a05-b88675a581cb",
   "metadata": {},
   "outputs": [
    {
     "name": "stdout",
     "output_type": "stream",
     "text": [
      "나이(age) 기준 오름차순 정렬:\n"
     ]
    },
    {
     "data": {
      "text/html": [
       "<div>\n",
       "<style scoped>\n",
       "    .dataframe tbody tr th:only-of-type {\n",
       "        vertical-align: middle;\n",
       "    }\n",
       "\n",
       "    .dataframe tbody tr th {\n",
       "        vertical-align: top;\n",
       "    }\n",
       "\n",
       "    .dataframe thead th {\n",
       "        text-align: right;\n",
       "    }\n",
       "</style>\n",
       "<table border=\"1\" class=\"dataframe\">\n",
       "  <thead>\n",
       "    <tr style=\"text-align: right;\">\n",
       "      <th></th>\n",
       "      <th>age</th>\n",
       "      <th>sex</th>\n",
       "      <th>cp</th>\n",
       "      <th>trtbps</th>\n",
       "      <th>chol</th>\n",
       "      <th>fbs</th>\n",
       "      <th>restecg</th>\n",
       "      <th>thalachh</th>\n",
       "      <th>exng</th>\n",
       "      <th>oldpeak</th>\n",
       "      <th>slp</th>\n",
       "      <th>caa</th>\n",
       "      <th>thall</th>\n",
       "      <th>output</th>\n",
       "    </tr>\n",
       "  </thead>\n",
       "  <tbody>\n",
       "    <tr>\n",
       "      <th>72</th>\n",
       "      <td>29</td>\n",
       "      <td>1</td>\n",
       "      <td>1</td>\n",
       "      <td>130</td>\n",
       "      <td>204</td>\n",
       "      <td>0</td>\n",
       "      <td>0</td>\n",
       "      <td>202</td>\n",
       "      <td>0</td>\n",
       "      <td>0.0</td>\n",
       "      <td>2</td>\n",
       "      <td>0</td>\n",
       "      <td>2</td>\n",
       "      <td>1</td>\n",
       "    </tr>\n",
       "    <tr>\n",
       "      <th>58</th>\n",
       "      <td>34</td>\n",
       "      <td>1</td>\n",
       "      <td>3</td>\n",
       "      <td>118</td>\n",
       "      <td>182</td>\n",
       "      <td>0</td>\n",
       "      <td>0</td>\n",
       "      <td>174</td>\n",
       "      <td>0</td>\n",
       "      <td>0.0</td>\n",
       "      <td>2</td>\n",
       "      <td>0</td>\n",
       "      <td>2</td>\n",
       "      <td>1</td>\n",
       "    </tr>\n",
       "    <tr>\n",
       "      <th>125</th>\n",
       "      <td>34</td>\n",
       "      <td>0</td>\n",
       "      <td>1</td>\n",
       "      <td>118</td>\n",
       "      <td>210</td>\n",
       "      <td>0</td>\n",
       "      <td>1</td>\n",
       "      <td>192</td>\n",
       "      <td>0</td>\n",
       "      <td>0.7</td>\n",
       "      <td>2</td>\n",
       "      <td>0</td>\n",
       "      <td>2</td>\n",
       "      <td>1</td>\n",
       "    </tr>\n",
       "    <tr>\n",
       "      <th>239</th>\n",
       "      <td>35</td>\n",
       "      <td>1</td>\n",
       "      <td>0</td>\n",
       "      <td>126</td>\n",
       "      <td>282</td>\n",
       "      <td>0</td>\n",
       "      <td>0</td>\n",
       "      <td>156</td>\n",
       "      <td>1</td>\n",
       "      <td>0.0</td>\n",
       "      <td>2</td>\n",
       "      <td>0</td>\n",
       "      <td>3</td>\n",
       "      <td>0</td>\n",
       "    </tr>\n",
       "    <tr>\n",
       "      <th>65</th>\n",
       "      <td>35</td>\n",
       "      <td>0</td>\n",
       "      <td>0</td>\n",
       "      <td>138</td>\n",
       "      <td>183</td>\n",
       "      <td>0</td>\n",
       "      <td>1</td>\n",
       "      <td>182</td>\n",
       "      <td>0</td>\n",
       "      <td>1.4</td>\n",
       "      <td>2</td>\n",
       "      <td>0</td>\n",
       "      <td>2</td>\n",
       "      <td>1</td>\n",
       "    </tr>\n",
       "  </tbody>\n",
       "</table>\n",
       "</div>"
      ],
      "text/plain": [
       "     age  sex  cp  trtbps  chol  fbs  restecg  thalachh  exng  oldpeak  slp  \\\n",
       "72    29    1   1     130   204    0        0       202     0      0.0    2   \n",
       "58    34    1   3     118   182    0        0       174     0      0.0    2   \n",
       "125   34    0   1     118   210    0        1       192     0      0.7    2   \n",
       "239   35    1   0     126   282    0        0       156     1      0.0    2   \n",
       "65    35    0   0     138   183    0        1       182     0      1.4    2   \n",
       "\n",
       "     caa  thall  output  \n",
       "72     0      2       1  \n",
       "58     0      2       1  \n",
       "125    0      2       1  \n",
       "239    0      3       0  \n",
       "65     0      2       1  "
      ]
     },
     "execution_count": 111,
     "metadata": {},
     "output_type": "execute_result"
    }
   ],
   "source": [
    "# 나이(age) 기준으로 오름차순 정렬\n",
    "df_sorted_by_age = df.sort_values(by='age', ascending=True)\n",
    "\n",
    "# 정렬된 데이터 확인\n",
    "print(\"나이(age) 기준 오름차순 정렬:\")\n",
    "df_sorted_by_age.head()"
   ]
  },
  {
   "cell_type": "markdown",
   "id": "0e09b0ea-ad35-48ea-8f68-b1a2ba86be2d",
   "metadata": {},
   "source": [
    "### 여러 열 기준으로 정렬하기"
   ]
  },
  {
   "cell_type": "code",
   "execution_count": 114,
   "id": "be96fd4f-578f-4f1f-8fc0-95fbb69fca02",
   "metadata": {},
   "outputs": [
    {
     "name": "stdout",
     "output_type": "stream",
     "text": [
      "나이(age)와 최대심박수(thalachh) 기준 정렬:\n"
     ]
    },
    {
     "data": {
      "text/html": [
       "<div>\n",
       "<style scoped>\n",
       "    .dataframe tbody tr th:only-of-type {\n",
       "        vertical-align: middle;\n",
       "    }\n",
       "\n",
       "    .dataframe tbody tr th {\n",
       "        vertical-align: top;\n",
       "    }\n",
       "\n",
       "    .dataframe thead th {\n",
       "        text-align: right;\n",
       "    }\n",
       "</style>\n",
       "<table border=\"1\" class=\"dataframe\">\n",
       "  <thead>\n",
       "    <tr style=\"text-align: right;\">\n",
       "      <th></th>\n",
       "      <th>age</th>\n",
       "      <th>sex</th>\n",
       "      <th>cp</th>\n",
       "      <th>trtbps</th>\n",
       "      <th>chol</th>\n",
       "      <th>fbs</th>\n",
       "      <th>restecg</th>\n",
       "      <th>thalachh</th>\n",
       "      <th>exng</th>\n",
       "      <th>oldpeak</th>\n",
       "      <th>slp</th>\n",
       "      <th>caa</th>\n",
       "      <th>thall</th>\n",
       "      <th>output</th>\n",
       "    </tr>\n",
       "  </thead>\n",
       "  <tbody>\n",
       "    <tr>\n",
       "      <th>72</th>\n",
       "      <td>29</td>\n",
       "      <td>1</td>\n",
       "      <td>1</td>\n",
       "      <td>130</td>\n",
       "      <td>204</td>\n",
       "      <td>0</td>\n",
       "      <td>0</td>\n",
       "      <td>202</td>\n",
       "      <td>0</td>\n",
       "      <td>0.0</td>\n",
       "      <td>2</td>\n",
       "      <td>0</td>\n",
       "      <td>2</td>\n",
       "      <td>1</td>\n",
       "    </tr>\n",
       "    <tr>\n",
       "      <th>125</th>\n",
       "      <td>34</td>\n",
       "      <td>0</td>\n",
       "      <td>1</td>\n",
       "      <td>118</td>\n",
       "      <td>210</td>\n",
       "      <td>0</td>\n",
       "      <td>1</td>\n",
       "      <td>192</td>\n",
       "      <td>0</td>\n",
       "      <td>0.7</td>\n",
       "      <td>2</td>\n",
       "      <td>0</td>\n",
       "      <td>2</td>\n",
       "      <td>1</td>\n",
       "    </tr>\n",
       "    <tr>\n",
       "      <th>58</th>\n",
       "      <td>34</td>\n",
       "      <td>1</td>\n",
       "      <td>3</td>\n",
       "      <td>118</td>\n",
       "      <td>182</td>\n",
       "      <td>0</td>\n",
       "      <td>0</td>\n",
       "      <td>174</td>\n",
       "      <td>0</td>\n",
       "      <td>0.0</td>\n",
       "      <td>2</td>\n",
       "      <td>0</td>\n",
       "      <td>2</td>\n",
       "      <td>1</td>\n",
       "    </tr>\n",
       "    <tr>\n",
       "      <th>65</th>\n",
       "      <td>35</td>\n",
       "      <td>0</td>\n",
       "      <td>0</td>\n",
       "      <td>138</td>\n",
       "      <td>183</td>\n",
       "      <td>0</td>\n",
       "      <td>1</td>\n",
       "      <td>182</td>\n",
       "      <td>0</td>\n",
       "      <td>1.4</td>\n",
       "      <td>2</td>\n",
       "      <td>0</td>\n",
       "      <td>2</td>\n",
       "      <td>1</td>\n",
       "    </tr>\n",
       "    <tr>\n",
       "      <th>157</th>\n",
       "      <td>35</td>\n",
       "      <td>1</td>\n",
       "      <td>1</td>\n",
       "      <td>122</td>\n",
       "      <td>192</td>\n",
       "      <td>0</td>\n",
       "      <td>1</td>\n",
       "      <td>174</td>\n",
       "      <td>0</td>\n",
       "      <td>0.0</td>\n",
       "      <td>2</td>\n",
       "      <td>0</td>\n",
       "      <td>2</td>\n",
       "      <td>1</td>\n",
       "    </tr>\n",
       "  </tbody>\n",
       "</table>\n",
       "</div>"
      ],
      "text/plain": [
       "     age  sex  cp  trtbps  chol  fbs  restecg  thalachh  exng  oldpeak  slp  \\\n",
       "72    29    1   1     130   204    0        0       202     0      0.0    2   \n",
       "125   34    0   1     118   210    0        1       192     0      0.7    2   \n",
       "58    34    1   3     118   182    0        0       174     0      0.0    2   \n",
       "65    35    0   0     138   183    0        1       182     0      1.4    2   \n",
       "157   35    1   1     122   192    0        1       174     0      0.0    2   \n",
       "\n",
       "     caa  thall  output  \n",
       "72     0      2       1  \n",
       "125    0      2       1  \n",
       "58     0      2       1  \n",
       "65     0      2       1  \n",
       "157    0      2       1  "
      ]
     },
     "execution_count": 114,
     "metadata": {},
     "output_type": "execute_result"
    }
   ],
   "source": [
    "# 나이(age)와 최대심박수(thalachh) 기준으로 정렬\n",
    "df_sorted_by_multiple = df.sort_values(by=['age', 'thalachh'], ascending=[True, False])\n",
    "\n",
    "# 정렬된 데이터 확인\n",
    "print(\"나이(age)와 최대심박수(thalachh) 기준 정렬:\")\n",
    "df_sorted_by_multiple.head()"
   ]
  },
  {
   "cell_type": "markdown",
   "id": "cb9d1480-71bc-4270-92d0-7efa541f7a1c",
   "metadata": {},
   "source": [
    "### 인덱스 기준으로 정렬하기"
   ]
  },
  {
   "cell_type": "code",
   "execution_count": 117,
   "id": "9ff3a576-c1cb-412b-94c0-5dcf26749432",
   "metadata": {},
   "outputs": [
    {
     "name": "stdout",
     "output_type": "stream",
     "text": [
      "인덱스 기준 내림차순 정렬:\n"
     ]
    },
    {
     "data": {
      "text/html": [
       "<div>\n",
       "<style scoped>\n",
       "    .dataframe tbody tr th:only-of-type {\n",
       "        vertical-align: middle;\n",
       "    }\n",
       "\n",
       "    .dataframe tbody tr th {\n",
       "        vertical-align: top;\n",
       "    }\n",
       "\n",
       "    .dataframe thead th {\n",
       "        text-align: right;\n",
       "    }\n",
       "</style>\n",
       "<table border=\"1\" class=\"dataframe\">\n",
       "  <thead>\n",
       "    <tr style=\"text-align: right;\">\n",
       "      <th></th>\n",
       "      <th>age</th>\n",
       "      <th>sex</th>\n",
       "      <th>cp</th>\n",
       "      <th>trtbps</th>\n",
       "      <th>chol</th>\n",
       "      <th>fbs</th>\n",
       "      <th>restecg</th>\n",
       "      <th>thalachh</th>\n",
       "      <th>exng</th>\n",
       "      <th>oldpeak</th>\n",
       "      <th>slp</th>\n",
       "      <th>caa</th>\n",
       "      <th>thall</th>\n",
       "      <th>output</th>\n",
       "    </tr>\n",
       "  </thead>\n",
       "  <tbody>\n",
       "    <tr>\n",
       "      <th>302</th>\n",
       "      <td>57</td>\n",
       "      <td>0</td>\n",
       "      <td>1</td>\n",
       "      <td>130</td>\n",
       "      <td>236</td>\n",
       "      <td>0</td>\n",
       "      <td>0</td>\n",
       "      <td>174</td>\n",
       "      <td>0</td>\n",
       "      <td>0.0</td>\n",
       "      <td>1</td>\n",
       "      <td>1</td>\n",
       "      <td>2</td>\n",
       "      <td>0</td>\n",
       "    </tr>\n",
       "    <tr>\n",
       "      <th>301</th>\n",
       "      <td>57</td>\n",
       "      <td>1</td>\n",
       "      <td>0</td>\n",
       "      <td>130</td>\n",
       "      <td>131</td>\n",
       "      <td>0</td>\n",
       "      <td>1</td>\n",
       "      <td>115</td>\n",
       "      <td>1</td>\n",
       "      <td>1.2</td>\n",
       "      <td>1</td>\n",
       "      <td>1</td>\n",
       "      <td>3</td>\n",
       "      <td>0</td>\n",
       "    </tr>\n",
       "    <tr>\n",
       "      <th>300</th>\n",
       "      <td>68</td>\n",
       "      <td>1</td>\n",
       "      <td>0</td>\n",
       "      <td>144</td>\n",
       "      <td>193</td>\n",
       "      <td>1</td>\n",
       "      <td>1</td>\n",
       "      <td>141</td>\n",
       "      <td>0</td>\n",
       "      <td>3.4</td>\n",
       "      <td>1</td>\n",
       "      <td>2</td>\n",
       "      <td>3</td>\n",
       "      <td>0</td>\n",
       "    </tr>\n",
       "    <tr>\n",
       "      <th>299</th>\n",
       "      <td>45</td>\n",
       "      <td>1</td>\n",
       "      <td>3</td>\n",
       "      <td>110</td>\n",
       "      <td>264</td>\n",
       "      <td>0</td>\n",
       "      <td>1</td>\n",
       "      <td>132</td>\n",
       "      <td>0</td>\n",
       "      <td>1.2</td>\n",
       "      <td>1</td>\n",
       "      <td>0</td>\n",
       "      <td>3</td>\n",
       "      <td>0</td>\n",
       "    </tr>\n",
       "    <tr>\n",
       "      <th>298</th>\n",
       "      <td>57</td>\n",
       "      <td>0</td>\n",
       "      <td>0</td>\n",
       "      <td>140</td>\n",
       "      <td>241</td>\n",
       "      <td>0</td>\n",
       "      <td>1</td>\n",
       "      <td>123</td>\n",
       "      <td>1</td>\n",
       "      <td>0.2</td>\n",
       "      <td>1</td>\n",
       "      <td>0</td>\n",
       "      <td>3</td>\n",
       "      <td>0</td>\n",
       "    </tr>\n",
       "  </tbody>\n",
       "</table>\n",
       "</div>"
      ],
      "text/plain": [
       "     age  sex  cp  trtbps  chol  fbs  restecg  thalachh  exng  oldpeak  slp  \\\n",
       "302   57    0   1     130   236    0        0       174     0      0.0    1   \n",
       "301   57    1   0     130   131    0        1       115     1      1.2    1   \n",
       "300   68    1   0     144   193    1        1       141     0      3.4    1   \n",
       "299   45    1   3     110   264    0        1       132     0      1.2    1   \n",
       "298   57    0   0     140   241    0        1       123     1      0.2    1   \n",
       "\n",
       "     caa  thall  output  \n",
       "302    1      2       0  \n",
       "301    1      3       0  \n",
       "300    2      3       0  \n",
       "299    0      3       0  \n",
       "298    0      3       0  "
      ]
     },
     "execution_count": 117,
     "metadata": {},
     "output_type": "execute_result"
    }
   ],
   "source": [
    "# 인덱스 기준으로 정렬\n",
    "df_sorted_by_index = df.sort_index(ascending=False)\n",
    "\n",
    "# 정렬된 데이터 확인\n",
    "print(\"인덱스 기준 내림차순 정렬:\")\n",
    "df_sorted_by_index.head()"
   ]
  },
  {
   "cell_type": "markdown",
   "id": "19d0d28c-cd95-48a5-be0f-61ba2bd70912",
   "metadata": {},
   "source": [
    "### 열 이름 기준으로 정렬하기"
   ]
  },
  {
   "cell_type": "code",
   "execution_count": 120,
   "id": "8173b6e2-1d64-4d31-94d6-ea5502a5cd50",
   "metadata": {},
   "outputs": [
    {
     "name": "stdout",
     "output_type": "stream",
     "text": [
      "열 이름 기준 오름차순 정렬 전:\n"
     ]
    },
    {
     "data": {
      "text/html": [
       "<div>\n",
       "<style scoped>\n",
       "    .dataframe tbody tr th:only-of-type {\n",
       "        vertical-align: middle;\n",
       "    }\n",
       "\n",
       "    .dataframe tbody tr th {\n",
       "        vertical-align: top;\n",
       "    }\n",
       "\n",
       "    .dataframe thead th {\n",
       "        text-align: right;\n",
       "    }\n",
       "</style>\n",
       "<table border=\"1\" class=\"dataframe\">\n",
       "  <thead>\n",
       "    <tr style=\"text-align: right;\">\n",
       "      <th></th>\n",
       "      <th>age</th>\n",
       "      <th>sex</th>\n",
       "      <th>cp</th>\n",
       "      <th>trtbps</th>\n",
       "      <th>chol</th>\n",
       "      <th>fbs</th>\n",
       "      <th>restecg</th>\n",
       "      <th>thalachh</th>\n",
       "      <th>exng</th>\n",
       "      <th>oldpeak</th>\n",
       "      <th>slp</th>\n",
       "      <th>caa</th>\n",
       "      <th>thall</th>\n",
       "      <th>output</th>\n",
       "    </tr>\n",
       "  </thead>\n",
       "  <tbody>\n",
       "    <tr>\n",
       "      <th>0</th>\n",
       "      <td>63</td>\n",
       "      <td>1</td>\n",
       "      <td>3</td>\n",
       "      <td>145</td>\n",
       "      <td>233</td>\n",
       "      <td>1</td>\n",
       "      <td>0</td>\n",
       "      <td>150</td>\n",
       "      <td>0</td>\n",
       "      <td>2.3</td>\n",
       "      <td>0</td>\n",
       "      <td>0</td>\n",
       "      <td>1</td>\n",
       "      <td>1</td>\n",
       "    </tr>\n",
       "    <tr>\n",
       "      <th>1</th>\n",
       "      <td>37</td>\n",
       "      <td>1</td>\n",
       "      <td>2</td>\n",
       "      <td>130</td>\n",
       "      <td>250</td>\n",
       "      <td>0</td>\n",
       "      <td>1</td>\n",
       "      <td>187</td>\n",
       "      <td>0</td>\n",
       "      <td>3.5</td>\n",
       "      <td>0</td>\n",
       "      <td>0</td>\n",
       "      <td>2</td>\n",
       "      <td>1</td>\n",
       "    </tr>\n",
       "    <tr>\n",
       "      <th>2</th>\n",
       "      <td>41</td>\n",
       "      <td>0</td>\n",
       "      <td>1</td>\n",
       "      <td>130</td>\n",
       "      <td>204</td>\n",
       "      <td>0</td>\n",
       "      <td>0</td>\n",
       "      <td>172</td>\n",
       "      <td>0</td>\n",
       "      <td>1.4</td>\n",
       "      <td>2</td>\n",
       "      <td>0</td>\n",
       "      <td>2</td>\n",
       "      <td>1</td>\n",
       "    </tr>\n",
       "    <tr>\n",
       "      <th>3</th>\n",
       "      <td>56</td>\n",
       "      <td>1</td>\n",
       "      <td>1</td>\n",
       "      <td>120</td>\n",
       "      <td>236</td>\n",
       "      <td>0</td>\n",
       "      <td>1</td>\n",
       "      <td>178</td>\n",
       "      <td>0</td>\n",
       "      <td>0.8</td>\n",
       "      <td>2</td>\n",
       "      <td>0</td>\n",
       "      <td>2</td>\n",
       "      <td>1</td>\n",
       "    </tr>\n",
       "    <tr>\n",
       "      <th>4</th>\n",
       "      <td>57</td>\n",
       "      <td>0</td>\n",
       "      <td>0</td>\n",
       "      <td>120</td>\n",
       "      <td>354</td>\n",
       "      <td>0</td>\n",
       "      <td>1</td>\n",
       "      <td>163</td>\n",
       "      <td>1</td>\n",
       "      <td>0.6</td>\n",
       "      <td>2</td>\n",
       "      <td>0</td>\n",
       "      <td>2</td>\n",
       "      <td>1</td>\n",
       "    </tr>\n",
       "  </tbody>\n",
       "</table>\n",
       "</div>"
      ],
      "text/plain": [
       "   age  sex  cp  trtbps  chol  fbs  restecg  thalachh  exng  oldpeak  slp  \\\n",
       "0   63    1   3     145   233    1        0       150     0      2.3    0   \n",
       "1   37    1   2     130   250    0        1       187     0      3.5    0   \n",
       "2   41    0   1     130   204    0        0       172     0      1.4    2   \n",
       "3   56    1   1     120   236    0        1       178     0      0.8    2   \n",
       "4   57    0   0     120   354    0        1       163     1      0.6    2   \n",
       "\n",
       "   caa  thall  output  \n",
       "0    0      1       1  \n",
       "1    0      2       1  \n",
       "2    0      2       1  \n",
       "3    0      2       1  \n",
       "4    0      2       1  "
      ]
     },
     "execution_count": 120,
     "metadata": {},
     "output_type": "execute_result"
    }
   ],
   "source": [
    "print(\"열 이름 기준 오름차순 정렬 전:\")\n",
    "df.head()"
   ]
  },
  {
   "cell_type": "code",
   "execution_count": 124,
   "id": "6362f4dc-4e15-408f-9d6a-01a09762d2d5",
   "metadata": {},
   "outputs": [
    {
     "name": "stdout",
     "output_type": "stream",
     "text": [
      "열 이름 기준 오름차순 정렬 후:\n"
     ]
    },
    {
     "data": {
      "text/html": [
       "<div>\n",
       "<style scoped>\n",
       "    .dataframe tbody tr th:only-of-type {\n",
       "        vertical-align: middle;\n",
       "    }\n",
       "\n",
       "    .dataframe tbody tr th {\n",
       "        vertical-align: top;\n",
       "    }\n",
       "\n",
       "    .dataframe thead th {\n",
       "        text-align: right;\n",
       "    }\n",
       "</style>\n",
       "<table border=\"1\" class=\"dataframe\">\n",
       "  <thead>\n",
       "    <tr style=\"text-align: right;\">\n",
       "      <th></th>\n",
       "      <th>age</th>\n",
       "      <th>caa</th>\n",
       "      <th>chol</th>\n",
       "      <th>cp</th>\n",
       "      <th>exng</th>\n",
       "      <th>fbs</th>\n",
       "      <th>oldpeak</th>\n",
       "      <th>output</th>\n",
       "      <th>restecg</th>\n",
       "      <th>sex</th>\n",
       "      <th>slp</th>\n",
       "      <th>thalachh</th>\n",
       "      <th>thall</th>\n",
       "      <th>trtbps</th>\n",
       "    </tr>\n",
       "  </thead>\n",
       "  <tbody>\n",
       "    <tr>\n",
       "      <th>0</th>\n",
       "      <td>63</td>\n",
       "      <td>0</td>\n",
       "      <td>233</td>\n",
       "      <td>3</td>\n",
       "      <td>0</td>\n",
       "      <td>1</td>\n",
       "      <td>2.3</td>\n",
       "      <td>1</td>\n",
       "      <td>0</td>\n",
       "      <td>1</td>\n",
       "      <td>0</td>\n",
       "      <td>150</td>\n",
       "      <td>1</td>\n",
       "      <td>145</td>\n",
       "    </tr>\n",
       "    <tr>\n",
       "      <th>1</th>\n",
       "      <td>37</td>\n",
       "      <td>0</td>\n",
       "      <td>250</td>\n",
       "      <td>2</td>\n",
       "      <td>0</td>\n",
       "      <td>0</td>\n",
       "      <td>3.5</td>\n",
       "      <td>1</td>\n",
       "      <td>1</td>\n",
       "      <td>1</td>\n",
       "      <td>0</td>\n",
       "      <td>187</td>\n",
       "      <td>2</td>\n",
       "      <td>130</td>\n",
       "    </tr>\n",
       "    <tr>\n",
       "      <th>2</th>\n",
       "      <td>41</td>\n",
       "      <td>0</td>\n",
       "      <td>204</td>\n",
       "      <td>1</td>\n",
       "      <td>0</td>\n",
       "      <td>0</td>\n",
       "      <td>1.4</td>\n",
       "      <td>1</td>\n",
       "      <td>0</td>\n",
       "      <td>0</td>\n",
       "      <td>2</td>\n",
       "      <td>172</td>\n",
       "      <td>2</td>\n",
       "      <td>130</td>\n",
       "    </tr>\n",
       "    <tr>\n",
       "      <th>3</th>\n",
       "      <td>56</td>\n",
       "      <td>0</td>\n",
       "      <td>236</td>\n",
       "      <td>1</td>\n",
       "      <td>0</td>\n",
       "      <td>0</td>\n",
       "      <td>0.8</td>\n",
       "      <td>1</td>\n",
       "      <td>1</td>\n",
       "      <td>1</td>\n",
       "      <td>2</td>\n",
       "      <td>178</td>\n",
       "      <td>2</td>\n",
       "      <td>120</td>\n",
       "    </tr>\n",
       "    <tr>\n",
       "      <th>4</th>\n",
       "      <td>57</td>\n",
       "      <td>0</td>\n",
       "      <td>354</td>\n",
       "      <td>0</td>\n",
       "      <td>1</td>\n",
       "      <td>0</td>\n",
       "      <td>0.6</td>\n",
       "      <td>1</td>\n",
       "      <td>1</td>\n",
       "      <td>0</td>\n",
       "      <td>2</td>\n",
       "      <td>163</td>\n",
       "      <td>2</td>\n",
       "      <td>120</td>\n",
       "    </tr>\n",
       "  </tbody>\n",
       "</table>\n",
       "</div>"
      ],
      "text/plain": [
       "   age  caa  chol  cp  exng  fbs  oldpeak  output  restecg  sex  slp  \\\n",
       "0   63    0   233   3     0    1      2.3       1        0    1    0   \n",
       "1   37    0   250   2     0    0      3.5       1        1    1    0   \n",
       "2   41    0   204   1     0    0      1.4       1        0    0    2   \n",
       "3   56    0   236   1     0    0      0.8       1        1    1    2   \n",
       "4   57    0   354   0     1    0      0.6       1        1    0    2   \n",
       "\n",
       "   thalachh  thall  trtbps  \n",
       "0       150      1     145  \n",
       "1       187      2     130  \n",
       "2       172      2     130  \n",
       "3       178      2     120  \n",
       "4       163      2     120  "
      ]
     },
     "execution_count": 124,
     "metadata": {},
     "output_type": "execute_result"
    }
   ],
   "source": [
    "# 열 이름 기준으로 오름차순 정렬\n",
    "df_sorted_by_columns = df.sort_index(axis=1, ascending=True)\n",
    "\n",
    "# 정렬된 데이터 확인\n",
    "print(\"열 이름 기준 오름차순 정렬 후:\")\n",
    "df_sorted_by_columns.head()"
   ]
  },
  {
   "cell_type": "markdown",
   "id": "84fdfc75-7f5b-43f5-ba9a-eccc161e3c6e",
   "metadata": {},
   "source": [
    "## <b>데이터 구조 변경"
   ]
  },
  {
   "cell_type": "markdown",
   "id": "9da97f6f-00c6-418a-bc5a-cea05be34f1a",
   "metadata": {},
   "source": [
    "### <b> Heart Data 불러오기 및 컬럼명 변경"
   ]
  },
  {
   "cell_type": "code",
   "execution_count": 128,
   "id": "f99d0d36-bd9c-44db-88f9-f7aa0fd37e56",
   "metadata": {},
   "outputs": [
    {
     "name": "stdout",
     "output_type": "stream",
     "text": [
      "변경된 데이터프레임 컬럼명:\n",
      "Index(['나이', '성별', '흉통유형', '안정시혈압', '콜레스테롤', '공복혈당', '심전도', '최대심박수', '운동유발협심증',\n",
      "       'ST우울증', '운동후ST경사', '주요혈관수', '결함유형', '심장질환여부'],\n",
      "      dtype='object')\n",
      "\n",
      "데이터 상위 5개 행:\n",
      "   나이  성별  흉통유형  안정시혈압  콜레스테롤  공복혈당  심전도  최대심박수  운동유발협심증  ST우울증  운동후ST경사  \\\n",
      "0  63   1     3    145    233     1    0    150        0    2.3        0   \n",
      "1  37   1     2    130    250     0    1    187        0    3.5        0   \n",
      "2  41   0     1    130    204     0    0    172        0    1.4        2   \n",
      "3  56   1     1    120    236     0    1    178        0    0.8        2   \n",
      "4  57   0     0    120    354     0    1    163        1    0.6        2   \n",
      "\n",
      "   주요혈관수  결함유형  심장질환여부  \n",
      "0      0     1       1  \n",
      "1      0     2       1  \n",
      "2      0     2       1  \n",
      "3      0     2       1  \n",
      "4      0     2       1  \n"
     ]
    }
   ],
   "source": [
    "import pandas as pd\n",
    "# 데이터 로드\n",
    "file_path = \"datasets/heart.csv\"\n",
    "df = pd.read_csv(file_path)\n",
    "# 컬럼명 변경\n",
    "df.columns = ['나이', '성별', '흉통유형', '안정시혈압', '콜레스테롤', '공복혈당', '심전도',\n",
    "              '최대심박수', '운동유발협심증', 'ST우울증', '운동후ST경사', '주요혈관수',\n",
    "              '결함유형', '심장질환여부']\n",
    "# 데이터 확인\n",
    "print(\"변경된 데이터프레임 컬럼명:\")\n",
    "print(df.columns)\n",
    "print(\"\\n데이터 상위 5개 행:\")\n",
    "print(df.head())"
   ]
  },
  {
   "cell_type": "markdown",
   "id": "0652459b-636d-4ca5-b66d-3d768458ca69",
   "metadata": {},
   "source": [
    "## <b> 성별기준 그룹화"
   ]
  },
  {
   "cell_type": "code",
   "execution_count": 132,
   "id": "08bb60aa-f890-49d4-b5bb-59a78b950457",
   "metadata": {},
   "outputs": [
    {
     "name": "stdout",
     "output_type": "stream",
     "text": [
      "그룹화된 데이터 (성별 기준):\n"
     ]
    },
    {
     "data": {
      "text/plain": [
       "성별\n",
       "0     96\n",
       "1    207\n",
       "dtype: int64"
      ]
     },
     "execution_count": 132,
     "metadata": {},
     "output_type": "execute_result"
    }
   ],
   "source": [
    "# 성별을 기준으로 데이터 그룹화\n",
    "grouped = df.groupby('성별')\n",
    "\n",
    "# 그룹별 데이터 확인\n",
    "print(\"그룹화된 데이터 (성별 기준):\")\n",
    "grouped.size()  # 각 그룹의 행 개수 출력"
   ]
  },
  {
   "cell_type": "markdown",
   "id": "43244b2c-4484-4f95-9446-71dfc682b30c",
   "metadata": {},
   "source": [
    "## <b> 성별기준 열의 평균 집계"
   ]
  },
  {
   "cell_type": "code",
   "execution_count": 145,
   "id": "6bf515d6-700d-4444-84dd-33198f416c0f",
   "metadata": {},
   "outputs": [
    {
     "name": "stdout",
     "output_type": "stream",
     "text": [
      "\n",
      "성별별 주요 열의 평균:\n",
      "           나이      흉통유형       안정시혈압       콜레스테롤     공복혈당       심전도  \\\n",
      "성별                                                                   \n",
      "0   55.677083  1.041667  133.083333  261.302083  0.12500  0.572917   \n",
      "1   53.758454  0.932367  130.946860  239.289855  0.15942  0.507246   \n",
      "\n",
      "         최대심박수   운동유발협심증     ST우울증   운동후ST경사     주요혈관수      결함유형    심장질환여부  \n",
      "성별                                                                          \n",
      "0   151.125000  0.229167  0.876042  1.427083  0.552083  2.125000  0.750000  \n",
      "1   148.961353  0.371981  1.115459  1.386473  0.811594  2.400966  0.449275  \n"
     ]
    }
   ],
   "source": [
    "# 성별별 평균 계산\n",
    "grouped_mean = grouped.mean()\n",
    "\n",
    "# 그룹화 후 평균값 출력\n",
    "print(\"\\n성별별 주요 열의 평균:\")\n",
    "print(grouped_mean)"
   ]
  },
  {
   "cell_type": "markdown",
   "id": "2938adc9-b3b5-4e77-b5bd-cb78dc73482a",
   "metadata": {},
   "source": [
    "## <b> 여러 집계 함수 적용하기"
   ]
  },
  {
   "cell_type": "code",
   "execution_count": 147,
   "id": "e0de8b43-d0ad-4762-a506-f9fefd8a7d15",
   "metadata": {},
   "outputs": [
    {
     "name": "stdout",
     "output_type": "stream",
     "text": [
      "\n",
      "성별별 나이와 콜레스테롤 통계:\n"
     ]
    },
    {
     "data": {
      "text/html": [
       "<div>\n",
       "<style scoped>\n",
       "    .dataframe tbody tr th:only-of-type {\n",
       "        vertical-align: middle;\n",
       "    }\n",
       "\n",
       "    .dataframe tbody tr th {\n",
       "        vertical-align: top;\n",
       "    }\n",
       "\n",
       "    .dataframe thead tr th {\n",
       "        text-align: left;\n",
       "    }\n",
       "\n",
       "    .dataframe thead tr:last-of-type th {\n",
       "        text-align: right;\n",
       "    }\n",
       "</style>\n",
       "<table border=\"1\" class=\"dataframe\">\n",
       "  <thead>\n",
       "    <tr>\n",
       "      <th></th>\n",
       "      <th colspan=\"2\" halign=\"left\">나이</th>\n",
       "      <th colspan=\"2\" halign=\"left\">콜레스테롤</th>\n",
       "    </tr>\n",
       "    <tr>\n",
       "      <th></th>\n",
       "      <th>max</th>\n",
       "      <th>min</th>\n",
       "      <th>mean</th>\n",
       "      <th>std</th>\n",
       "    </tr>\n",
       "    <tr>\n",
       "      <th>성별</th>\n",
       "      <th></th>\n",
       "      <th></th>\n",
       "      <th></th>\n",
       "      <th></th>\n",
       "    </tr>\n",
       "  </thead>\n",
       "  <tbody>\n",
       "    <tr>\n",
       "      <th>0</th>\n",
       "      <td>76</td>\n",
       "      <td>34</td>\n",
       "      <td>261.302083</td>\n",
       "      <td>65.088946</td>\n",
       "    </tr>\n",
       "    <tr>\n",
       "      <th>1</th>\n",
       "      <td>77</td>\n",
       "      <td>29</td>\n",
       "      <td>239.289855</td>\n",
       "      <td>42.782392</td>\n",
       "    </tr>\n",
       "  </tbody>\n",
       "</table>\n",
       "</div>"
      ],
      "text/plain": [
       "    나이           콜레스테롤           \n",
       "   max min        mean        std\n",
       "성별                               \n",
       "0   76  34  261.302083  65.088946\n",
       "1   77  29  239.289855  42.782392"
      ]
     },
     "execution_count": 147,
     "metadata": {},
     "output_type": "execute_result"
    }
   ],
   "source": [
    "# 성별별 최대값과 최소값 계산\n",
    "grouped_stats = grouped.agg({\n",
    "    '나이': ['max', 'min'],  # 나이의 최대값과 최소값\n",
    "    '콜레스테롤': ['mean', 'std']  # 콜레스테롤의 평균과 표준편차\n",
    "})\n",
    "# 결과 출력\n",
    "print(\"\\n성별별 나이와 콜레스테롤 통계:\")\n",
    "grouped_stats"
   ]
  },
  {
   "cell_type": "markdown",
   "id": "a4fa1cce-84cb-4761-9460-7fd8f6e09921",
   "metadata": {},
   "source": [
    "## <b> 여러 집계 함수 적용하기"
   ]
  },
  {
   "cell_type": "code",
   "execution_count": 149,
   "id": "bd3eceac-7372-440b-a339-dc6c294fd23b",
   "metadata": {},
   "outputs": [
    {
     "name": "stdout",
     "output_type": "stream",
     "text": [
      "\n",
      "성별과 흉통유형별 주요 열의 평균:\n"
     ]
    },
    {
     "data": {
      "text/html": [
       "<div>\n",
       "<style scoped>\n",
       "    .dataframe tbody tr th:only-of-type {\n",
       "        vertical-align: middle;\n",
       "    }\n",
       "\n",
       "    .dataframe tbody tr th {\n",
       "        vertical-align: top;\n",
       "    }\n",
       "\n",
       "    .dataframe thead th {\n",
       "        text-align: right;\n",
       "    }\n",
       "</style>\n",
       "<table border=\"1\" class=\"dataframe\">\n",
       "  <thead>\n",
       "    <tr style=\"text-align: right;\">\n",
       "      <th></th>\n",
       "      <th></th>\n",
       "      <th>나이</th>\n",
       "      <th>안정시혈압</th>\n",
       "      <th>콜레스테롤</th>\n",
       "      <th>공복혈당</th>\n",
       "      <th>심전도</th>\n",
       "      <th>최대심박수</th>\n",
       "      <th>운동유발협심증</th>\n",
       "      <th>ST우울증</th>\n",
       "      <th>운동후ST경사</th>\n",
       "      <th>주요혈관수</th>\n",
       "      <th>결함유형</th>\n",
       "      <th>심장질환여부</th>\n",
       "    </tr>\n",
       "    <tr>\n",
       "      <th>성별</th>\n",
       "      <th>흉통유형</th>\n",
       "      <th></th>\n",
       "      <th></th>\n",
       "      <th></th>\n",
       "      <th></th>\n",
       "      <th></th>\n",
       "      <th></th>\n",
       "      <th></th>\n",
       "      <th></th>\n",
       "      <th></th>\n",
       "      <th></th>\n",
       "      <th></th>\n",
       "      <th></th>\n",
       "    </tr>\n",
       "  </thead>\n",
       "  <tbody>\n",
       "    <tr>\n",
       "      <th rowspan=\"4\" valign=\"top\">0</th>\n",
       "      <th>0</th>\n",
       "      <td>57.256410</td>\n",
       "      <td>138.589744</td>\n",
       "      <td>267.538462</td>\n",
       "      <td>0.128205</td>\n",
       "      <td>0.538462</td>\n",
       "      <td>145.282051</td>\n",
       "      <td>0.461538</td>\n",
       "      <td>1.356410</td>\n",
       "      <td>1.179487</td>\n",
       "      <td>0.820513</td>\n",
       "      <td>2.282051</td>\n",
       "      <td>0.461538</td>\n",
       "    </tr>\n",
       "    <tr>\n",
       "      <th>1</th>\n",
       "      <td>51.944444</td>\n",
       "      <td>128.055556</td>\n",
       "      <td>251.444444</td>\n",
       "      <td>0.111111</td>\n",
       "      <td>0.555556</td>\n",
       "      <td>162.833333</td>\n",
       "      <td>0.111111</td>\n",
       "      <td>0.461111</td>\n",
       "      <td>1.666667</td>\n",
       "      <td>0.555556</td>\n",
       "      <td>2.000000</td>\n",
       "      <td>0.888889</td>\n",
       "    </tr>\n",
       "    <tr>\n",
       "      <th>2</th>\n",
       "      <td>54.971429</td>\n",
       "      <td>127.885714</td>\n",
       "      <td>261.057143</td>\n",
       "      <td>0.114286</td>\n",
       "      <td>0.600000</td>\n",
       "      <td>151.800000</td>\n",
       "      <td>0.057143</td>\n",
       "      <td>0.474286</td>\n",
       "      <td>1.571429</td>\n",
       "      <td>0.257143</td>\n",
       "      <td>2.028571</td>\n",
       "      <td>0.971429</td>\n",
       "    </tr>\n",
       "    <tr>\n",
       "      <th>3</th>\n",
       "      <td>63.250000</td>\n",
       "      <td>147.500000</td>\n",
       "      <td>247.000000</td>\n",
       "      <td>0.250000</td>\n",
       "      <td>0.750000</td>\n",
       "      <td>149.500000</td>\n",
       "      <td>0.000000</td>\n",
       "      <td>1.575000</td>\n",
       "      <td>1.500000</td>\n",
       "      <td>0.500000</td>\n",
       "      <td>2.000000</td>\n",
       "      <td>1.000000</td>\n",
       "    </tr>\n",
       "    <tr>\n",
       "      <th rowspan=\"4\" valign=\"top\">1</th>\n",
       "      <th>0</th>\n",
       "      <td>55.105769</td>\n",
       "      <td>129.557692</td>\n",
       "      <td>243.605769</td>\n",
       "      <td>0.125000</td>\n",
       "      <td>0.451923</td>\n",
       "      <td>138.759615</td>\n",
       "      <td>0.596154</td>\n",
       "      <td>1.393269</td>\n",
       "      <td>1.288462</td>\n",
       "      <td>1.019231</td>\n",
       "      <td>2.509615</td>\n",
       "      <td>0.201923</td>\n",
       "    </tr>\n",
       "    <tr>\n",
       "      <th>1</th>\n",
       "      <td>51.031250</td>\n",
       "      <td>128.593750</td>\n",
       "      <td>241.031250</td>\n",
       "      <td>0.093750</td>\n",
       "      <td>0.656250</td>\n",
       "      <td>162.187500</td>\n",
       "      <td>0.062500</td>\n",
       "      <td>0.234375</td>\n",
       "      <td>1.687500</td>\n",
       "      <td>0.343750</td>\n",
       "      <td>2.218750</td>\n",
       "      <td>0.781250</td>\n",
       "    </tr>\n",
       "    <tr>\n",
       "      <th>2</th>\n",
       "      <td>52.538462</td>\n",
       "      <td>132.057692</td>\n",
       "      <td>231.134615</td>\n",
       "      <td>0.250000</td>\n",
       "      <td>0.596154</td>\n",
       "      <td>158.173077</td>\n",
       "      <td>0.173077</td>\n",
       "      <td>1.015385</td>\n",
       "      <td>1.461538</td>\n",
       "      <td>0.807692</td>\n",
       "      <td>2.326923</td>\n",
       "      <td>0.673077</td>\n",
       "    </tr>\n",
       "    <tr>\n",
       "      <th>3</th>\n",
       "      <td>54.315789</td>\n",
       "      <td>139.473684</td>\n",
       "      <td>235.052632</td>\n",
       "      <td>0.210526</td>\n",
       "      <td>0.315789</td>\n",
       "      <td>157.315789</td>\n",
       "      <td>0.210526</td>\n",
       "      <td>1.352632</td>\n",
       "      <td>1.210526</td>\n",
       "      <td>0.473684</td>\n",
       "      <td>2.315789</td>\n",
       "      <td>0.631579</td>\n",
       "    </tr>\n",
       "  </tbody>\n",
       "</table>\n",
       "</div>"
      ],
      "text/plain": [
       "                나이       안정시혈압       콜레스테롤      공복혈당       심전도       최대심박수  \\\n",
       "성별 흉통유형                                                                      \n",
       "0  0     57.256410  138.589744  267.538462  0.128205  0.538462  145.282051   \n",
       "   1     51.944444  128.055556  251.444444  0.111111  0.555556  162.833333   \n",
       "   2     54.971429  127.885714  261.057143  0.114286  0.600000  151.800000   \n",
       "   3     63.250000  147.500000  247.000000  0.250000  0.750000  149.500000   \n",
       "1  0     55.105769  129.557692  243.605769  0.125000  0.451923  138.759615   \n",
       "   1     51.031250  128.593750  241.031250  0.093750  0.656250  162.187500   \n",
       "   2     52.538462  132.057692  231.134615  0.250000  0.596154  158.173077   \n",
       "   3     54.315789  139.473684  235.052632  0.210526  0.315789  157.315789   \n",
       "\n",
       "          운동유발협심증     ST우울증   운동후ST경사     주요혈관수      결함유형    심장질환여부  \n",
       "성별 흉통유형                                                              \n",
       "0  0     0.461538  1.356410  1.179487  0.820513  2.282051  0.461538  \n",
       "   1     0.111111  0.461111  1.666667  0.555556  2.000000  0.888889  \n",
       "   2     0.057143  0.474286  1.571429  0.257143  2.028571  0.971429  \n",
       "   3     0.000000  1.575000  1.500000  0.500000  2.000000  1.000000  \n",
       "1  0     0.596154  1.393269  1.288462  1.019231  2.509615  0.201923  \n",
       "   1     0.062500  0.234375  1.687500  0.343750  2.218750  0.781250  \n",
       "   2     0.173077  1.015385  1.461538  0.807692  2.326923  0.673077  \n",
       "   3     0.210526  1.352632  1.210526  0.473684  2.315789  0.631579  "
      ]
     },
     "execution_count": 149,
     "metadata": {},
     "output_type": "execute_result"
    }
   ],
   "source": [
    "# 성별과 흉통유형을 기준으로 그룹화\n",
    "grouped_multi = df.groupby(['성별', '흉통유형']).mean()\n",
    "# 결과 출력\n",
    "print(\"\\n성별과 흉통유형별 주요 열의 평균:\")\n",
    "grouped_multi"
   ]
  },
  {
   "cell_type": "markdown",
   "id": "f62d13d3-2c71-4295-96cc-284c1b3afc60",
   "metadata": {},
   "source": [
    "## <b> 피벗테이블"
   ]
  },
  {
   "cell_type": "code",
   "execution_count": 153,
   "id": "3ff26509-6cec-4417-955a-fa9aec53f391",
   "metadata": {},
   "outputs": [],
   "source": [
    "import pandas as pd\n",
    "# 데이터 로드\n",
    "file_path = \"datasets/heart.csv\"\n",
    "df = pd.read_csv(file_path)\n",
    "# 컬럼명 변경\n",
    "df.columns = ['나이', '성별', '흉통유형', '안정시혈압', '콜레스테롤', '공복혈당', '심전도',\n",
    "              '최대심박수', '운동유발협심증', 'ST우울증', '운동후ST경사', '주요혈관수',\n",
    "              '결함유형', '심장질환여부']"
   ]
  },
  {
   "cell_type": "code",
   "execution_count": 155,
   "id": "68222f4a-7bee-4dd2-8e04-5dec2bb3118d",
   "metadata": {},
   "outputs": [
    {
     "name": "stdout",
     "output_type": "stream",
     "text": [
      "성별과 흉통유형별 평균 최대심박수:\n"
     ]
    },
    {
     "data": {
      "text/html": [
       "<div>\n",
       "<style scoped>\n",
       "    .dataframe tbody tr th:only-of-type {\n",
       "        vertical-align: middle;\n",
       "    }\n",
       "\n",
       "    .dataframe tbody tr th {\n",
       "        vertical-align: top;\n",
       "    }\n",
       "\n",
       "    .dataframe thead th {\n",
       "        text-align: right;\n",
       "    }\n",
       "</style>\n",
       "<table border=\"1\" class=\"dataframe\">\n",
       "  <thead>\n",
       "    <tr style=\"text-align: right;\">\n",
       "      <th>흉통유형</th>\n",
       "      <th>0</th>\n",
       "      <th>1</th>\n",
       "      <th>2</th>\n",
       "      <th>3</th>\n",
       "    </tr>\n",
       "    <tr>\n",
       "      <th>성별</th>\n",
       "      <th></th>\n",
       "      <th></th>\n",
       "      <th></th>\n",
       "      <th></th>\n",
       "    </tr>\n",
       "  </thead>\n",
       "  <tbody>\n",
       "    <tr>\n",
       "      <th>0</th>\n",
       "      <td>145.282051</td>\n",
       "      <td>162.833333</td>\n",
       "      <td>151.800000</td>\n",
       "      <td>149.500000</td>\n",
       "    </tr>\n",
       "    <tr>\n",
       "      <th>1</th>\n",
       "      <td>138.759615</td>\n",
       "      <td>162.187500</td>\n",
       "      <td>158.173077</td>\n",
       "      <td>157.315789</td>\n",
       "    </tr>\n",
       "  </tbody>\n",
       "</table>\n",
       "</div>"
      ],
      "text/plain": [
       "흉통유형           0           1           2           3\n",
       "성별                                                  \n",
       "0     145.282051  162.833333  151.800000  149.500000\n",
       "1     138.759615  162.187500  158.173077  157.315789"
      ]
     },
     "execution_count": 155,
     "metadata": {},
     "output_type": "execute_result"
    }
   ],
   "source": [
    "# 피벗테이블 생성\n",
    "pivot = df.pivot_table(index='성별', columns='흉통유형', values='최대심박수', aggfunc='mean')\n",
    "# 결과 출력\n",
    "print(\"성별과 흉통유형별 평균 최대심박수:\")\n",
    "pivot"
   ]
  },
  {
   "cell_type": "code",
   "execution_count": 157,
   "id": "cc1acacf-b3ba-46f5-a0b5-8dbcf664bb55",
   "metadata": {},
   "outputs": [
    {
     "name": "stdout",
     "output_type": "stream",
     "text": [
      "\n",
      "성별과 흉통유형별 평균 및 최대값:\n"
     ]
    },
    {
     "data": {
      "text/html": [
       "<div>\n",
       "<style scoped>\n",
       "    .dataframe tbody tr th:only-of-type {\n",
       "        vertical-align: middle;\n",
       "    }\n",
       "\n",
       "    .dataframe tbody tr th {\n",
       "        vertical-align: top;\n",
       "    }\n",
       "\n",
       "    .dataframe thead tr th {\n",
       "        text-align: left;\n",
       "    }\n",
       "\n",
       "    .dataframe thead tr:last-of-type th {\n",
       "        text-align: right;\n",
       "    }\n",
       "</style>\n",
       "<table border=\"1\" class=\"dataframe\">\n",
       "  <thead>\n",
       "    <tr>\n",
       "      <th></th>\n",
       "      <th colspan=\"4\" halign=\"left\">mean</th>\n",
       "      <th colspan=\"4\" halign=\"left\">max</th>\n",
       "    </tr>\n",
       "    <tr>\n",
       "      <th>흉통유형</th>\n",
       "      <th>0</th>\n",
       "      <th>1</th>\n",
       "      <th>2</th>\n",
       "      <th>3</th>\n",
       "      <th>0</th>\n",
       "      <th>1</th>\n",
       "      <th>2</th>\n",
       "      <th>3</th>\n",
       "    </tr>\n",
       "    <tr>\n",
       "      <th>성별</th>\n",
       "      <th></th>\n",
       "      <th></th>\n",
       "      <th></th>\n",
       "      <th></th>\n",
       "      <th></th>\n",
       "      <th></th>\n",
       "      <th></th>\n",
       "      <th></th>\n",
       "    </tr>\n",
       "  </thead>\n",
       "  <tbody>\n",
       "    <tr>\n",
       "      <th>0</th>\n",
       "      <td>145.282051</td>\n",
       "      <td>162.833333</td>\n",
       "      <td>151.800000</td>\n",
       "      <td>149.500000</td>\n",
       "      <td>182</td>\n",
       "      <td>192</td>\n",
       "      <td>179</td>\n",
       "      <td>171</td>\n",
       "    </tr>\n",
       "    <tr>\n",
       "      <th>1</th>\n",
       "      <td>138.759615</td>\n",
       "      <td>162.187500</td>\n",
       "      <td>158.173077</td>\n",
       "      <td>157.315789</td>\n",
       "      <td>186</td>\n",
       "      <td>202</td>\n",
       "      <td>194</td>\n",
       "      <td>190</td>\n",
       "    </tr>\n",
       "  </tbody>\n",
       "</table>\n",
       "</div>"
      ],
      "text/plain": [
       "            mean                                      max               \n",
       "흉통유형           0           1           2           3    0    1    2    3\n",
       "성별                                                                      \n",
       "0     145.282051  162.833333  151.800000  149.500000  182  192  179  171\n",
       "1     138.759615  162.187500  158.173077  157.315789  186  202  194  190"
      ]
     },
     "execution_count": 157,
     "metadata": {},
     "output_type": "execute_result"
    }
   ],
   "source": [
    "# 피벗테이블 생성\n",
    "pivot_multi_agg = df.pivot_table(index='성별', columns='흉통유형', values='최대심박수', aggfunc=['mean', 'max'])\n",
    "\n",
    "# 결과 출력\n",
    "print(\"\\n성별과 흉통유형별 평균 및 최대값:\")\n",
    "pivot_multi_agg"
   ]
  },
  {
   "cell_type": "code",
   "execution_count": 159,
   "id": "f1e50a18-721f-4dd1-9042-d4b9edf9be39",
   "metadata": {},
   "outputs": [
    {
     "name": "stdout",
     "output_type": "stream",
     "text": [
      "\n",
      "성별과 흉통유형을 인덱스로 한 피벗테이블:\n"
     ]
    },
    {
     "data": {
      "text/html": [
       "<div>\n",
       "<style scoped>\n",
       "    .dataframe tbody tr th:only-of-type {\n",
       "        vertical-align: middle;\n",
       "    }\n",
       "\n",
       "    .dataframe tbody tr th {\n",
       "        vertical-align: top;\n",
       "    }\n",
       "\n",
       "    .dataframe thead th {\n",
       "        text-align: right;\n",
       "    }\n",
       "</style>\n",
       "<table border=\"1\" class=\"dataframe\">\n",
       "  <thead>\n",
       "    <tr style=\"text-align: right;\">\n",
       "      <th></th>\n",
       "      <th></th>\n",
       "      <th>최대심박수</th>\n",
       "    </tr>\n",
       "    <tr>\n",
       "      <th>성별</th>\n",
       "      <th>흉통유형</th>\n",
       "      <th></th>\n",
       "    </tr>\n",
       "  </thead>\n",
       "  <tbody>\n",
       "    <tr>\n",
       "      <th rowspan=\"4\" valign=\"top\">0</th>\n",
       "      <th>0</th>\n",
       "      <td>145.282051</td>\n",
       "    </tr>\n",
       "    <tr>\n",
       "      <th>1</th>\n",
       "      <td>162.833333</td>\n",
       "    </tr>\n",
       "    <tr>\n",
       "      <th>2</th>\n",
       "      <td>151.800000</td>\n",
       "    </tr>\n",
       "    <tr>\n",
       "      <th>3</th>\n",
       "      <td>149.500000</td>\n",
       "    </tr>\n",
       "    <tr>\n",
       "      <th rowspan=\"4\" valign=\"top\">1</th>\n",
       "      <th>0</th>\n",
       "      <td>138.759615</td>\n",
       "    </tr>\n",
       "    <tr>\n",
       "      <th>1</th>\n",
       "      <td>162.187500</td>\n",
       "    </tr>\n",
       "    <tr>\n",
       "      <th>2</th>\n",
       "      <td>158.173077</td>\n",
       "    </tr>\n",
       "    <tr>\n",
       "      <th>3</th>\n",
       "      <td>157.315789</td>\n",
       "    </tr>\n",
       "  </tbody>\n",
       "</table>\n",
       "</div>"
      ],
      "text/plain": [
       "              최대심박수\n",
       "성별 흉통유형            \n",
       "0  0     145.282051\n",
       "   1     162.833333\n",
       "   2     151.800000\n",
       "   3     149.500000\n",
       "1  0     138.759615\n",
       "   1     162.187500\n",
       "   2     158.173077\n",
       "   3     157.315789"
      ]
     },
     "execution_count": 159,
     "metadata": {},
     "output_type": "execute_result"
    }
   ],
   "source": [
    "# 피벗테이블 생성\n",
    "pivot_multi_index = df.pivot_table(index=['성별', '흉통유형'], values='최대심박수', aggfunc='mean')\n",
    "\n",
    "# 결과 출력\n",
    "print(\"\\n성별과 흉통유형을 인덱스로 한 피벗테이블:\")\n",
    "pivot_multi_index"
   ]
  },
  {
   "cell_type": "code",
   "execution_count": 163,
   "id": "3d2710f7-6e1d-470c-82a5-4f5d85d4cb38",
   "metadata": {},
   "outputs": [
    {
     "name": "stdout",
     "output_type": "stream",
     "text": [
      "피벗테이블 (결측값 포함):\n"
     ]
    },
    {
     "data": {
      "text/html": [
       "<div>\n",
       "<style scoped>\n",
       "    .dataframe tbody tr th:only-of-type {\n",
       "        vertical-align: middle;\n",
       "    }\n",
       "\n",
       "    .dataframe tbody tr th {\n",
       "        vertical-align: top;\n",
       "    }\n",
       "\n",
       "    .dataframe thead th {\n",
       "        text-align: right;\n",
       "    }\n",
       "</style>\n",
       "<table border=\"1\" class=\"dataframe\">\n",
       "  <thead>\n",
       "    <tr style=\"text-align: right;\">\n",
       "      <th>흉통유형</th>\n",
       "      <th>1</th>\n",
       "      <th>2</th>\n",
       "      <th>3</th>\n",
       "    </tr>\n",
       "    <tr>\n",
       "      <th>성별</th>\n",
       "      <th></th>\n",
       "      <th></th>\n",
       "      <th></th>\n",
       "    </tr>\n",
       "  </thead>\n",
       "  <tbody>\n",
       "    <tr>\n",
       "      <th>남성</th>\n",
       "      <td>150.0</td>\n",
       "      <td>NaN</td>\n",
       "      <td>155.0</td>\n",
       "    </tr>\n",
       "    <tr>\n",
       "      <th>여성</th>\n",
       "      <td>145.0</td>\n",
       "      <td>160.0</td>\n",
       "      <td>NaN</td>\n",
       "    </tr>\n",
       "  </tbody>\n",
       "</table>\n",
       "</div>"
      ],
      "text/plain": [
       "흉통유형      1      2      3\n",
       "성별                       \n",
       "남성    150.0    NaN  155.0\n",
       "여성    145.0  160.0    NaN"
      ]
     },
     "execution_count": 163,
     "metadata": {},
     "output_type": "execute_result"
    }
   ],
   "source": [
    "import pandas as pd\n",
    "\n",
    "# 데이터 생성\n",
    "data = {\n",
    "    '성별': ['남성', '여성', '남성', '여성'],\n",
    "    '흉통유형': [1, 2, 3, 1],\n",
    "    '최대심박수': [150, 160, 155, 145]\n",
    "}\n",
    "df = pd.DataFrame(data)\n",
    "\n",
    "# 피벗테이블 생성\n",
    "pivot = df.pivot_table(index='성별', columns='흉통유형', values='최대심박수', aggfunc='mean')\n",
    "\n",
    "# 결과 출력\n",
    "print(\"피벗테이블 (결측값 포함):\")\n",
    "pivot"
   ]
  },
  {
   "cell_type": "code",
   "execution_count": 165,
   "id": "0ff68c6b-bb10-49b1-937f-9605592c9500",
   "metadata": {},
   "outputs": [
    {
     "name": "stdout",
     "output_type": "stream",
     "text": [
      "\n",
      "결측값을 0으로 대체한 피벗테이블:\n"
     ]
    },
    {
     "data": {
      "text/html": [
       "<div>\n",
       "<style scoped>\n",
       "    .dataframe tbody tr th:only-of-type {\n",
       "        vertical-align: middle;\n",
       "    }\n",
       "\n",
       "    .dataframe tbody tr th {\n",
       "        vertical-align: top;\n",
       "    }\n",
       "\n",
       "    .dataframe thead th {\n",
       "        text-align: right;\n",
       "    }\n",
       "</style>\n",
       "<table border=\"1\" class=\"dataframe\">\n",
       "  <thead>\n",
       "    <tr style=\"text-align: right;\">\n",
       "      <th>흉통유형</th>\n",
       "      <th>1</th>\n",
       "      <th>2</th>\n",
       "      <th>3</th>\n",
       "    </tr>\n",
       "    <tr>\n",
       "      <th>성별</th>\n",
       "      <th></th>\n",
       "      <th></th>\n",
       "      <th></th>\n",
       "    </tr>\n",
       "  </thead>\n",
       "  <tbody>\n",
       "    <tr>\n",
       "      <th>남성</th>\n",
       "      <td>150.0</td>\n",
       "      <td>0.0</td>\n",
       "      <td>155.0</td>\n",
       "    </tr>\n",
       "    <tr>\n",
       "      <th>여성</th>\n",
       "      <td>145.0</td>\n",
       "      <td>160.0</td>\n",
       "      <td>0.0</td>\n",
       "    </tr>\n",
       "  </tbody>\n",
       "</table>\n",
       "</div>"
      ],
      "text/plain": [
       "흉통유형      1      2      3\n",
       "성별                       \n",
       "남성    150.0    0.0  155.0\n",
       "여성    145.0  160.0    0.0"
      ]
     },
     "execution_count": 165,
     "metadata": {},
     "output_type": "execute_result"
    }
   ],
   "source": [
    "# 결측값을 0으로 대체\n",
    "pivot_filled = df.pivot_table(index='성별', columns='흉통유형', values='최대심박수', aggfunc='mean', fill_value=0)\n",
    "# 결과 출력\n",
    "print(\"\\n결측값을 0으로 대체한 피벗테이블:\")\n",
    "pivot_filled"
   ]
  },
  {
   "cell_type": "code",
   "execution_count": 167,
   "id": "0b197813-8092-40d4-a2f3-1940ed2c132d",
   "metadata": {},
   "outputs": [
    {
     "name": "stdout",
     "output_type": "stream",
     "text": [
      "\n",
      "열 기준 평균값으로 대체한 피벗테이블:\n"
     ]
    },
    {
     "data": {
      "text/html": [
       "<div>\n",
       "<style scoped>\n",
       "    .dataframe tbody tr th:only-of-type {\n",
       "        vertical-align: middle;\n",
       "    }\n",
       "\n",
       "    .dataframe tbody tr th {\n",
       "        vertical-align: top;\n",
       "    }\n",
       "\n",
       "    .dataframe thead th {\n",
       "        text-align: right;\n",
       "    }\n",
       "</style>\n",
       "<table border=\"1\" class=\"dataframe\">\n",
       "  <thead>\n",
       "    <tr style=\"text-align: right;\">\n",
       "      <th>흉통유형</th>\n",
       "      <th>1</th>\n",
       "      <th>2</th>\n",
       "      <th>3</th>\n",
       "    </tr>\n",
       "    <tr>\n",
       "      <th>성별</th>\n",
       "      <th></th>\n",
       "      <th></th>\n",
       "      <th></th>\n",
       "    </tr>\n",
       "  </thead>\n",
       "  <tbody>\n",
       "    <tr>\n",
       "      <th>남성</th>\n",
       "      <td>150.0</td>\n",
       "      <td>160.0</td>\n",
       "      <td>155.0</td>\n",
       "    </tr>\n",
       "    <tr>\n",
       "      <th>여성</th>\n",
       "      <td>145.0</td>\n",
       "      <td>160.0</td>\n",
       "      <td>155.0</td>\n",
       "    </tr>\n",
       "  </tbody>\n",
       "</table>\n",
       "</div>"
      ],
      "text/plain": [
       "흉통유형      1      2      3\n",
       "성별                       \n",
       "남성    150.0  160.0  155.0\n",
       "여성    145.0  160.0  155.0"
      ]
     },
     "execution_count": 167,
     "metadata": {},
     "output_type": "execute_result"
    }
   ],
   "source": [
    "# 피벗테이블 생성 후 열 기준 평균값으로 대체\n",
    "pivot_mean_filled = pivot.apply(lambda x: x.fillna(x.mean()), axis=0)\n",
    "# 결과 출력\n",
    "print(\"\\n열 기준 평균값으로 대체한 피벗테이블:\")\n",
    "pivot_mean_filled"
   ]
  },
  {
   "cell_type": "code",
   "execution_count": 169,
   "id": "18e13c18-f729-49f6-9e20-ec14f3e6f16c",
   "metadata": {},
   "outputs": [
    {
     "name": "stdout",
     "output_type": "stream",
     "text": [
      "\n",
      "결측값을 특정 값(999)으로 대체한 피벗테이블:\n"
     ]
    },
    {
     "data": {
      "text/html": [
       "<div>\n",
       "<style scoped>\n",
       "    .dataframe tbody tr th:only-of-type {\n",
       "        vertical-align: middle;\n",
       "    }\n",
       "\n",
       "    .dataframe tbody tr th {\n",
       "        vertical-align: top;\n",
       "    }\n",
       "\n",
       "    .dataframe thead th {\n",
       "        text-align: right;\n",
       "    }\n",
       "</style>\n",
       "<table border=\"1\" class=\"dataframe\">\n",
       "  <thead>\n",
       "    <tr style=\"text-align: right;\">\n",
       "      <th>흉통유형</th>\n",
       "      <th>1</th>\n",
       "      <th>2</th>\n",
       "      <th>3</th>\n",
       "    </tr>\n",
       "    <tr>\n",
       "      <th>성별</th>\n",
       "      <th></th>\n",
       "      <th></th>\n",
       "      <th></th>\n",
       "    </tr>\n",
       "  </thead>\n",
       "  <tbody>\n",
       "    <tr>\n",
       "      <th>남성</th>\n",
       "      <td>150.0</td>\n",
       "      <td>999.0</td>\n",
       "      <td>155.0</td>\n",
       "    </tr>\n",
       "    <tr>\n",
       "      <th>여성</th>\n",
       "      <td>145.0</td>\n",
       "      <td>160.0</td>\n",
       "      <td>999.0</td>\n",
       "    </tr>\n",
       "  </tbody>\n",
       "</table>\n",
       "</div>"
      ],
      "text/plain": [
       "흉통유형      1      2      3\n",
       "성별                       \n",
       "남성    150.0  999.0  155.0\n",
       "여성    145.0  160.0  999.0"
      ]
     },
     "execution_count": 169,
     "metadata": {},
     "output_type": "execute_result"
    }
   ],
   "source": [
    "# 피벗테이블 생성 후 결측값을 999로 대체\n",
    "pivot_specific_value = pivot.fillna(999)\n",
    "# 결과 출력\n",
    "print(\"\\n결측값을 특정 값(999)으로 대체한 피벗테이블:\")\n",
    "pivot_specific_value"
   ]
  },
  {
   "cell_type": "markdown",
   "id": "e39f91e2-6827-4833-a947-cb852696af61",
   "metadata": {},
   "source": [
    "## <b> 인덱스와 컬럼 계층 변경"
   ]
  },
  {
   "cell_type": "markdown",
   "id": "07eea235-405a-42e7-8256-188bfd11a6d7",
   "metadata": {},
   "source": [
    "### 데이터준비"
   ]
  },
  {
   "cell_type": "code",
   "execution_count": 173,
   "id": "7dd7a569-5ac9-4622-a56e-b5428e56af5f",
   "metadata": {},
   "outputs": [
    {
     "name": "stdout",
     "output_type": "stream",
     "text": [
      "데이터프레임 상위 5개 행:\n",
      "   나이  성별  흉통유형  안정시혈압  콜레스테롤  공복혈당  심전도  최대심박수  운동유발협심증  ST우울증  운동후ST경사  \\\n",
      "0  63   1     3    145    233     1    0    150        0    2.3        0   \n",
      "1  37   1     2    130    250     0    1    187        0    3.5        0   \n",
      "2  41   0     1    130    204     0    0    172        0    1.4        2   \n",
      "3  56   1     1    120    236     0    1    178        0    0.8        2   \n",
      "4  57   0     0    120    354     0    1    163        1    0.6        2   \n",
      "\n",
      "   주요혈관수  결함유형  심장질환여부  \n",
      "0      0     1       1  \n",
      "1      0     2       1  \n",
      "2      0     2       1  \n",
      "3      0     2       1  \n",
      "4      0     2       1  \n"
     ]
    }
   ],
   "source": [
    "import pandas as pd\n",
    "\n",
    "# 데이터 로드\n",
    "file_path = \"datasets/heart.csv\"\n",
    "df = pd.read_csv(file_path)\n",
    "\n",
    "# 컬럼명 변경\n",
    "df.columns = ['나이', '성별', '흉통유형', '안정시혈압', '콜레스테롤', '공복혈당', '심전도',\n",
    "              '최대심박수', '운동유발협심증', 'ST우울증', '운동후ST경사', '주요혈관수',\n",
    "              '결함유형', '심장질환여부']\n",
    "\n",
    "# 데이터 확인\n",
    "print(\"데이터프레임 상위 5개 행:\")\n",
    "print(df.head())"
   ]
  },
  {
   "cell_type": "markdown",
   "id": "1d1cbd89-f45f-4d85-b272-d9d28edfbe10",
   "metadata": {},
   "source": [
    "### 그룹화 후 다중 인덱스 생성"
   ]
  },
  {
   "cell_type": "code",
   "execution_count": 176,
   "id": "76cabe11-906f-4d42-80ab-563993a5e3b4",
   "metadata": {},
   "outputs": [
    {
     "name": "stdout",
     "output_type": "stream",
     "text": [
      "\n",
      "성별과 흉통유형 기준 다중 인덱스:\n"
     ]
    },
    {
     "data": {
      "text/html": [
       "<div>\n",
       "<style scoped>\n",
       "    .dataframe tbody tr th:only-of-type {\n",
       "        vertical-align: middle;\n",
       "    }\n",
       "\n",
       "    .dataframe tbody tr th {\n",
       "        vertical-align: top;\n",
       "    }\n",
       "\n",
       "    .dataframe thead th {\n",
       "        text-align: right;\n",
       "    }\n",
       "</style>\n",
       "<table border=\"1\" class=\"dataframe\">\n",
       "  <thead>\n",
       "    <tr style=\"text-align: right;\">\n",
       "      <th></th>\n",
       "      <th></th>\n",
       "      <th>나이</th>\n",
       "      <th>안정시혈압</th>\n",
       "      <th>콜레스테롤</th>\n",
       "      <th>공복혈당</th>\n",
       "      <th>심전도</th>\n",
       "      <th>최대심박수</th>\n",
       "      <th>운동유발협심증</th>\n",
       "      <th>ST우울증</th>\n",
       "      <th>운동후ST경사</th>\n",
       "      <th>주요혈관수</th>\n",
       "      <th>결함유형</th>\n",
       "      <th>심장질환여부</th>\n",
       "    </tr>\n",
       "    <tr>\n",
       "      <th>성별</th>\n",
       "      <th>흉통유형</th>\n",
       "      <th></th>\n",
       "      <th></th>\n",
       "      <th></th>\n",
       "      <th></th>\n",
       "      <th></th>\n",
       "      <th></th>\n",
       "      <th></th>\n",
       "      <th></th>\n",
       "      <th></th>\n",
       "      <th></th>\n",
       "      <th></th>\n",
       "      <th></th>\n",
       "    </tr>\n",
       "  </thead>\n",
       "  <tbody>\n",
       "    <tr>\n",
       "      <th rowspan=\"4\" valign=\"top\">0</th>\n",
       "      <th>0</th>\n",
       "      <td>57.256410</td>\n",
       "      <td>138.589744</td>\n",
       "      <td>267.538462</td>\n",
       "      <td>0.128205</td>\n",
       "      <td>0.538462</td>\n",
       "      <td>145.282051</td>\n",
       "      <td>0.461538</td>\n",
       "      <td>1.356410</td>\n",
       "      <td>1.179487</td>\n",
       "      <td>0.820513</td>\n",
       "      <td>2.282051</td>\n",
       "      <td>0.461538</td>\n",
       "    </tr>\n",
       "    <tr>\n",
       "      <th>1</th>\n",
       "      <td>51.944444</td>\n",
       "      <td>128.055556</td>\n",
       "      <td>251.444444</td>\n",
       "      <td>0.111111</td>\n",
       "      <td>0.555556</td>\n",
       "      <td>162.833333</td>\n",
       "      <td>0.111111</td>\n",
       "      <td>0.461111</td>\n",
       "      <td>1.666667</td>\n",
       "      <td>0.555556</td>\n",
       "      <td>2.000000</td>\n",
       "      <td>0.888889</td>\n",
       "    </tr>\n",
       "    <tr>\n",
       "      <th>2</th>\n",
       "      <td>54.971429</td>\n",
       "      <td>127.885714</td>\n",
       "      <td>261.057143</td>\n",
       "      <td>0.114286</td>\n",
       "      <td>0.600000</td>\n",
       "      <td>151.800000</td>\n",
       "      <td>0.057143</td>\n",
       "      <td>0.474286</td>\n",
       "      <td>1.571429</td>\n",
       "      <td>0.257143</td>\n",
       "      <td>2.028571</td>\n",
       "      <td>0.971429</td>\n",
       "    </tr>\n",
       "    <tr>\n",
       "      <th>3</th>\n",
       "      <td>63.250000</td>\n",
       "      <td>147.500000</td>\n",
       "      <td>247.000000</td>\n",
       "      <td>0.250000</td>\n",
       "      <td>0.750000</td>\n",
       "      <td>149.500000</td>\n",
       "      <td>0.000000</td>\n",
       "      <td>1.575000</td>\n",
       "      <td>1.500000</td>\n",
       "      <td>0.500000</td>\n",
       "      <td>2.000000</td>\n",
       "      <td>1.000000</td>\n",
       "    </tr>\n",
       "    <tr>\n",
       "      <th rowspan=\"4\" valign=\"top\">1</th>\n",
       "      <th>0</th>\n",
       "      <td>55.105769</td>\n",
       "      <td>129.557692</td>\n",
       "      <td>243.605769</td>\n",
       "      <td>0.125000</td>\n",
       "      <td>0.451923</td>\n",
       "      <td>138.759615</td>\n",
       "      <td>0.596154</td>\n",
       "      <td>1.393269</td>\n",
       "      <td>1.288462</td>\n",
       "      <td>1.019231</td>\n",
       "      <td>2.509615</td>\n",
       "      <td>0.201923</td>\n",
       "    </tr>\n",
       "    <tr>\n",
       "      <th>1</th>\n",
       "      <td>51.031250</td>\n",
       "      <td>128.593750</td>\n",
       "      <td>241.031250</td>\n",
       "      <td>0.093750</td>\n",
       "      <td>0.656250</td>\n",
       "      <td>162.187500</td>\n",
       "      <td>0.062500</td>\n",
       "      <td>0.234375</td>\n",
       "      <td>1.687500</td>\n",
       "      <td>0.343750</td>\n",
       "      <td>2.218750</td>\n",
       "      <td>0.781250</td>\n",
       "    </tr>\n",
       "    <tr>\n",
       "      <th>2</th>\n",
       "      <td>52.538462</td>\n",
       "      <td>132.057692</td>\n",
       "      <td>231.134615</td>\n",
       "      <td>0.250000</td>\n",
       "      <td>0.596154</td>\n",
       "      <td>158.173077</td>\n",
       "      <td>0.173077</td>\n",
       "      <td>1.015385</td>\n",
       "      <td>1.461538</td>\n",
       "      <td>0.807692</td>\n",
       "      <td>2.326923</td>\n",
       "      <td>0.673077</td>\n",
       "    </tr>\n",
       "    <tr>\n",
       "      <th>3</th>\n",
       "      <td>54.315789</td>\n",
       "      <td>139.473684</td>\n",
       "      <td>235.052632</td>\n",
       "      <td>0.210526</td>\n",
       "      <td>0.315789</td>\n",
       "      <td>157.315789</td>\n",
       "      <td>0.210526</td>\n",
       "      <td>1.352632</td>\n",
       "      <td>1.210526</td>\n",
       "      <td>0.473684</td>\n",
       "      <td>2.315789</td>\n",
       "      <td>0.631579</td>\n",
       "    </tr>\n",
       "  </tbody>\n",
       "</table>\n",
       "</div>"
      ],
      "text/plain": [
       "                나이       안정시혈압       콜레스테롤      공복혈당       심전도       최대심박수  \\\n",
       "성별 흉통유형                                                                      \n",
       "0  0     57.256410  138.589744  267.538462  0.128205  0.538462  145.282051   \n",
       "   1     51.944444  128.055556  251.444444  0.111111  0.555556  162.833333   \n",
       "   2     54.971429  127.885714  261.057143  0.114286  0.600000  151.800000   \n",
       "   3     63.250000  147.500000  247.000000  0.250000  0.750000  149.500000   \n",
       "1  0     55.105769  129.557692  243.605769  0.125000  0.451923  138.759615   \n",
       "   1     51.031250  128.593750  241.031250  0.093750  0.656250  162.187500   \n",
       "   2     52.538462  132.057692  231.134615  0.250000  0.596154  158.173077   \n",
       "   3     54.315789  139.473684  235.052632  0.210526  0.315789  157.315789   \n",
       "\n",
       "          운동유발협심증     ST우울증   운동후ST경사     주요혈관수      결함유형    심장질환여부  \n",
       "성별 흉통유형                                                              \n",
       "0  0     0.461538  1.356410  1.179487  0.820513  2.282051  0.461538  \n",
       "   1     0.111111  0.461111  1.666667  0.555556  2.000000  0.888889  \n",
       "   2     0.057143  0.474286  1.571429  0.257143  2.028571  0.971429  \n",
       "   3     0.000000  1.575000  1.500000  0.500000  2.000000  1.000000  \n",
       "1  0     0.596154  1.393269  1.288462  1.019231  2.509615  0.201923  \n",
       "   1     0.062500  0.234375  1.687500  0.343750  2.218750  0.781250  \n",
       "   2     0.173077  1.015385  1.461538  0.807692  2.326923  0.673077  \n",
       "   3     0.210526  1.352632  1.210526  0.473684  2.315789  0.631579  "
      ]
     },
     "execution_count": 176,
     "metadata": {},
     "output_type": "execute_result"
    }
   ],
   "source": [
    "# 성별과 흉통유형을 기준으로 그룹화하여 평균 계산\n",
    "grouped = df.groupby(['성별', '흉통유형']).mean()\n",
    "\n",
    "# 그룹화된 데이터 확인\n",
    "print(\"\\n성별과 흉통유형 기준 다중 인덱스:\")\n",
    "grouped"
   ]
  },
  {
   "cell_type": "markdown",
   "id": "c6022439-7118-4686-8366-c6463dc5c9f3",
   "metadata": {},
   "source": [
    "### 인덱스 초기화"
   ]
  },
  {
   "cell_type": "code",
   "execution_count": 178,
   "id": "f791527b-1bf2-4774-87f0-b0048967622b",
   "metadata": {},
   "outputs": [
    {
     "name": "stdout",
     "output_type": "stream",
     "text": [
      "\n",
      "다중 인덱스 초기화:\n"
     ]
    },
    {
     "data": {
      "text/html": [
       "<div>\n",
       "<style scoped>\n",
       "    .dataframe tbody tr th:only-of-type {\n",
       "        vertical-align: middle;\n",
       "    }\n",
       "\n",
       "    .dataframe tbody tr th {\n",
       "        vertical-align: top;\n",
       "    }\n",
       "\n",
       "    .dataframe thead th {\n",
       "        text-align: right;\n",
       "    }\n",
       "</style>\n",
       "<table border=\"1\" class=\"dataframe\">\n",
       "  <thead>\n",
       "    <tr style=\"text-align: right;\">\n",
       "      <th></th>\n",
       "      <th>성별</th>\n",
       "      <th>흉통유형</th>\n",
       "      <th>나이</th>\n",
       "      <th>안정시혈압</th>\n",
       "      <th>콜레스테롤</th>\n",
       "      <th>공복혈당</th>\n",
       "      <th>심전도</th>\n",
       "      <th>최대심박수</th>\n",
       "      <th>운동유발협심증</th>\n",
       "      <th>ST우울증</th>\n",
       "      <th>운동후ST경사</th>\n",
       "      <th>주요혈관수</th>\n",
       "      <th>결함유형</th>\n",
       "      <th>심장질환여부</th>\n",
       "    </tr>\n",
       "  </thead>\n",
       "  <tbody>\n",
       "    <tr>\n",
       "      <th>0</th>\n",
       "      <td>0</td>\n",
       "      <td>0</td>\n",
       "      <td>57.256410</td>\n",
       "      <td>138.589744</td>\n",
       "      <td>267.538462</td>\n",
       "      <td>0.128205</td>\n",
       "      <td>0.538462</td>\n",
       "      <td>145.282051</td>\n",
       "      <td>0.461538</td>\n",
       "      <td>1.356410</td>\n",
       "      <td>1.179487</td>\n",
       "      <td>0.820513</td>\n",
       "      <td>2.282051</td>\n",
       "      <td>0.461538</td>\n",
       "    </tr>\n",
       "    <tr>\n",
       "      <th>1</th>\n",
       "      <td>0</td>\n",
       "      <td>1</td>\n",
       "      <td>51.944444</td>\n",
       "      <td>128.055556</td>\n",
       "      <td>251.444444</td>\n",
       "      <td>0.111111</td>\n",
       "      <td>0.555556</td>\n",
       "      <td>162.833333</td>\n",
       "      <td>0.111111</td>\n",
       "      <td>0.461111</td>\n",
       "      <td>1.666667</td>\n",
       "      <td>0.555556</td>\n",
       "      <td>2.000000</td>\n",
       "      <td>0.888889</td>\n",
       "    </tr>\n",
       "    <tr>\n",
       "      <th>2</th>\n",
       "      <td>0</td>\n",
       "      <td>2</td>\n",
       "      <td>54.971429</td>\n",
       "      <td>127.885714</td>\n",
       "      <td>261.057143</td>\n",
       "      <td>0.114286</td>\n",
       "      <td>0.600000</td>\n",
       "      <td>151.800000</td>\n",
       "      <td>0.057143</td>\n",
       "      <td>0.474286</td>\n",
       "      <td>1.571429</td>\n",
       "      <td>0.257143</td>\n",
       "      <td>2.028571</td>\n",
       "      <td>0.971429</td>\n",
       "    </tr>\n",
       "    <tr>\n",
       "      <th>3</th>\n",
       "      <td>0</td>\n",
       "      <td>3</td>\n",
       "      <td>63.250000</td>\n",
       "      <td>147.500000</td>\n",
       "      <td>247.000000</td>\n",
       "      <td>0.250000</td>\n",
       "      <td>0.750000</td>\n",
       "      <td>149.500000</td>\n",
       "      <td>0.000000</td>\n",
       "      <td>1.575000</td>\n",
       "      <td>1.500000</td>\n",
       "      <td>0.500000</td>\n",
       "      <td>2.000000</td>\n",
       "      <td>1.000000</td>\n",
       "    </tr>\n",
       "    <tr>\n",
       "      <th>4</th>\n",
       "      <td>1</td>\n",
       "      <td>0</td>\n",
       "      <td>55.105769</td>\n",
       "      <td>129.557692</td>\n",
       "      <td>243.605769</td>\n",
       "      <td>0.125000</td>\n",
       "      <td>0.451923</td>\n",
       "      <td>138.759615</td>\n",
       "      <td>0.596154</td>\n",
       "      <td>1.393269</td>\n",
       "      <td>1.288462</td>\n",
       "      <td>1.019231</td>\n",
       "      <td>2.509615</td>\n",
       "      <td>0.201923</td>\n",
       "    </tr>\n",
       "    <tr>\n",
       "      <th>5</th>\n",
       "      <td>1</td>\n",
       "      <td>1</td>\n",
       "      <td>51.031250</td>\n",
       "      <td>128.593750</td>\n",
       "      <td>241.031250</td>\n",
       "      <td>0.093750</td>\n",
       "      <td>0.656250</td>\n",
       "      <td>162.187500</td>\n",
       "      <td>0.062500</td>\n",
       "      <td>0.234375</td>\n",
       "      <td>1.687500</td>\n",
       "      <td>0.343750</td>\n",
       "      <td>2.218750</td>\n",
       "      <td>0.781250</td>\n",
       "    </tr>\n",
       "    <tr>\n",
       "      <th>6</th>\n",
       "      <td>1</td>\n",
       "      <td>2</td>\n",
       "      <td>52.538462</td>\n",
       "      <td>132.057692</td>\n",
       "      <td>231.134615</td>\n",
       "      <td>0.250000</td>\n",
       "      <td>0.596154</td>\n",
       "      <td>158.173077</td>\n",
       "      <td>0.173077</td>\n",
       "      <td>1.015385</td>\n",
       "      <td>1.461538</td>\n",
       "      <td>0.807692</td>\n",
       "      <td>2.326923</td>\n",
       "      <td>0.673077</td>\n",
       "    </tr>\n",
       "    <tr>\n",
       "      <th>7</th>\n",
       "      <td>1</td>\n",
       "      <td>3</td>\n",
       "      <td>54.315789</td>\n",
       "      <td>139.473684</td>\n",
       "      <td>235.052632</td>\n",
       "      <td>0.210526</td>\n",
       "      <td>0.315789</td>\n",
       "      <td>157.315789</td>\n",
       "      <td>0.210526</td>\n",
       "      <td>1.352632</td>\n",
       "      <td>1.210526</td>\n",
       "      <td>0.473684</td>\n",
       "      <td>2.315789</td>\n",
       "      <td>0.631579</td>\n",
       "    </tr>\n",
       "  </tbody>\n",
       "</table>\n",
       "</div>"
      ],
      "text/plain": [
       "   성별  흉통유형         나이       안정시혈압       콜레스테롤      공복혈당       심전도  \\\n",
       "0   0     0  57.256410  138.589744  267.538462  0.128205  0.538462   \n",
       "1   0     1  51.944444  128.055556  251.444444  0.111111  0.555556   \n",
       "2   0     2  54.971429  127.885714  261.057143  0.114286  0.600000   \n",
       "3   0     3  63.250000  147.500000  247.000000  0.250000  0.750000   \n",
       "4   1     0  55.105769  129.557692  243.605769  0.125000  0.451923   \n",
       "5   1     1  51.031250  128.593750  241.031250  0.093750  0.656250   \n",
       "6   1     2  52.538462  132.057692  231.134615  0.250000  0.596154   \n",
       "7   1     3  54.315789  139.473684  235.052632  0.210526  0.315789   \n",
       "\n",
       "        최대심박수   운동유발협심증     ST우울증   운동후ST경사     주요혈관수      결함유형    심장질환여부  \n",
       "0  145.282051  0.461538  1.356410  1.179487  0.820513  2.282051  0.461538  \n",
       "1  162.833333  0.111111  0.461111  1.666667  0.555556  2.000000  0.888889  \n",
       "2  151.800000  0.057143  0.474286  1.571429  0.257143  2.028571  0.971429  \n",
       "3  149.500000  0.000000  1.575000  1.500000  0.500000  2.000000  1.000000  \n",
       "4  138.759615  0.596154  1.393269  1.288462  1.019231  2.509615  0.201923  \n",
       "5  162.187500  0.062500  0.234375  1.687500  0.343750  2.218750  0.781250  \n",
       "6  158.173077  0.173077  1.015385  1.461538  0.807692  2.326923  0.673077  \n",
       "7  157.315789  0.210526  1.352632  1.210526  0.473684  2.315789  0.631579  "
      ]
     },
     "execution_count": 178,
     "metadata": {},
     "output_type": "execute_result"
    }
   ],
   "source": [
    "# 다중 인덱스 초기화\n",
    "grouped_reset = grouped.reset_index()\n",
    "\n",
    "print(\"\\n다중 인덱스 초기화:\")\n",
    "grouped_reset"
   ]
  },
  {
   "cell_type": "markdown",
   "id": "6b808b64-c199-4e1d-9344-a0b9163651ef",
   "metadata": {},
   "source": [
    "### pandas 라이브러리 데이터프레임 출력의 스타일링 기능"
   ]
  },
  {
   "cell_type": "code",
   "execution_count": 184,
   "id": "9adaac94-a75d-4903-b5c4-b44bfaa4742a",
   "metadata": {},
   "outputs": [],
   "source": [
    "pd.set_option('display.max_columns', None) # 모든 열 출력 \n",
    "pd.set_option('display.width', 1000) # 데이터프레임 너비 조정\n",
    "pd.set_option('display.float_format', '{:.2f}'.format) # 소수점 형식 설정"
   ]
  },
  {
   "cell_type": "markdown",
   "id": "73d5d60c-def9-432a-85fd-7a8226b80a22",
   "metadata": {},
   "source": [
    "### 다중 컬럼 피벗테이블 생성"
   ]
  },
  {
   "cell_type": "code",
   "execution_count": 191,
   "id": "c2d68dc2-da89-4359-bbf8-738616818eea",
   "metadata": {},
   "outputs": [
    {
     "name": "stdout",
     "output_type": "stream",
     "text": [
      "\n",
      "다중 컬럼 피벗테이블:\n"
     ]
    },
    {
     "data": {
      "text/html": [
       "<div>\n",
       "<style scoped>\n",
       "    .dataframe tbody tr th:only-of-type {\n",
       "        vertical-align: middle;\n",
       "    }\n",
       "\n",
       "    .dataframe tbody tr th {\n",
       "        vertical-align: top;\n",
       "    }\n",
       "\n",
       "    .dataframe thead tr th {\n",
       "        text-align: left;\n",
       "    }\n",
       "\n",
       "    .dataframe thead tr:last-of-type th {\n",
       "        text-align: right;\n",
       "    }\n",
       "</style>\n",
       "<table border=\"1\" class=\"dataframe\">\n",
       "  <thead>\n",
       "    <tr>\n",
       "      <th>흉통유형</th>\n",
       "      <th colspan=\"3\" halign=\"left\">0</th>\n",
       "      <th colspan=\"3\" halign=\"left\">1</th>\n",
       "      <th colspan=\"3\" halign=\"left\">2</th>\n",
       "      <th colspan=\"3\" halign=\"left\">3</th>\n",
       "    </tr>\n",
       "    <tr>\n",
       "      <th>운동후ST경사</th>\n",
       "      <th>0</th>\n",
       "      <th>1</th>\n",
       "      <th>2</th>\n",
       "      <th>0</th>\n",
       "      <th>1</th>\n",
       "      <th>2</th>\n",
       "      <th>0</th>\n",
       "      <th>1</th>\n",
       "      <th>2</th>\n",
       "      <th>0</th>\n",
       "      <th>1</th>\n",
       "      <th>2</th>\n",
       "    </tr>\n",
       "    <tr>\n",
       "      <th>성별</th>\n",
       "      <th></th>\n",
       "      <th></th>\n",
       "      <th></th>\n",
       "      <th></th>\n",
       "      <th></th>\n",
       "      <th></th>\n",
       "      <th></th>\n",
       "      <th></th>\n",
       "      <th></th>\n",
       "      <th></th>\n",
       "      <th></th>\n",
       "      <th></th>\n",
       "    </tr>\n",
       "  </thead>\n",
       "  <tbody>\n",
       "    <tr>\n",
       "      <th>0</th>\n",
       "      <td>146.00</td>\n",
       "      <td>139.00</td>\n",
       "      <td>161.40</td>\n",
       "      <td>NaN</td>\n",
       "      <td>160.50</td>\n",
       "      <td>164.00</td>\n",
       "      <td>160.00</td>\n",
       "      <td>149.15</td>\n",
       "      <td>153.05</td>\n",
       "      <td>114.00</td>\n",
       "      <td>NaN</td>\n",
       "      <td>161.33</td>\n",
       "    </tr>\n",
       "    <tr>\n",
       "      <th>1</th>\n",
       "      <td>126.75</td>\n",
       "      <td>128.43</td>\n",
       "      <td>157.05</td>\n",
       "      <td>168.50</td>\n",
       "      <td>139.83</td>\n",
       "      <td>167.25</td>\n",
       "      <td>171.25</td>\n",
       "      <td>147.25</td>\n",
       "      <td>164.11</td>\n",
       "      <td>147.50</td>\n",
       "      <td>159.27</td>\n",
       "      <td>157.00</td>\n",
       "    </tr>\n",
       "  </tbody>\n",
       "</table>\n",
       "</div>"
      ],
      "text/plain": [
       "흉통유형         0                    1                    2                    3              \n",
       "운동후ST경사      0      1      2      0      1      2      0      1      2      0      1      2\n",
       "성별                                                                                         \n",
       "0       146.00 139.00 161.40    NaN 160.50 164.00 160.00 149.15 153.05 114.00    NaN 161.33\n",
       "1       126.75 128.43 157.05 168.50 139.83 167.25 171.25 147.25 164.11 147.50 159.27 157.00"
      ]
     },
     "execution_count": 191,
     "metadata": {},
     "output_type": "execute_result"
    }
   ],
   "source": [
    "# 다중 컬럼 피벗테이블 생성\n",
    "pivot = df.pivot_table(index='성별', columns=['흉통유형', '운동후ST경사'], values='최대심박수', aggfunc='mean')\n",
    "\n",
    "print(\"\\n다중 컬럼 피벗테이블:\")\n",
    "pivot"
   ]
  },
  {
   "cell_type": "markdown",
   "id": "f918d202-63f2-4fc9-bd45-6628719189ec",
   "metadata": {},
   "source": [
    "### 컬럼 계층 초기화"
   ]
  },
  {
   "cell_type": "code",
   "execution_count": 196,
   "id": "7a169633-e9ab-4ba4-ad5b-01017a70ec9c",
   "metadata": {},
   "outputs": [
    {
     "name": "stdout",
     "output_type": "stream",
     "text": [
      "\n",
      "컬럼 계층 초기화:\n"
     ]
    },
    {
     "data": {
      "text/html": [
       "<div>\n",
       "<style scoped>\n",
       "    .dataframe tbody tr th:only-of-type {\n",
       "        vertical-align: middle;\n",
       "    }\n",
       "\n",
       "    .dataframe tbody tr th {\n",
       "        vertical-align: top;\n",
       "    }\n",
       "\n",
       "    .dataframe thead th {\n",
       "        text-align: right;\n",
       "    }\n",
       "</style>\n",
       "<table border=\"1\" class=\"dataframe\">\n",
       "  <thead>\n",
       "    <tr style=\"text-align: right;\">\n",
       "      <th></th>\n",
       "      <th>성별_</th>\n",
       "      <th>0_0</th>\n",
       "      <th>0_1</th>\n",
       "      <th>0_2</th>\n",
       "      <th>1_0</th>\n",
       "      <th>1_1</th>\n",
       "      <th>1_2</th>\n",
       "      <th>2_0</th>\n",
       "      <th>2_1</th>\n",
       "      <th>2_2</th>\n",
       "      <th>3_0</th>\n",
       "      <th>3_1</th>\n",
       "      <th>3_2</th>\n",
       "    </tr>\n",
       "  </thead>\n",
       "  <tbody>\n",
       "    <tr>\n",
       "      <th>0</th>\n",
       "      <td>0</td>\n",
       "      <td>146.00</td>\n",
       "      <td>139.00</td>\n",
       "      <td>161.40</td>\n",
       "      <td>NaN</td>\n",
       "      <td>160.50</td>\n",
       "      <td>164.00</td>\n",
       "      <td>160.00</td>\n",
       "      <td>149.15</td>\n",
       "      <td>153.05</td>\n",
       "      <td>114.00</td>\n",
       "      <td>NaN</td>\n",
       "      <td>161.33</td>\n",
       "    </tr>\n",
       "    <tr>\n",
       "      <th>1</th>\n",
       "      <td>1</td>\n",
       "      <td>126.75</td>\n",
       "      <td>128.43</td>\n",
       "      <td>157.05</td>\n",
       "      <td>168.50</td>\n",
       "      <td>139.83</td>\n",
       "      <td>167.25</td>\n",
       "      <td>171.25</td>\n",
       "      <td>147.25</td>\n",
       "      <td>164.11</td>\n",
       "      <td>147.50</td>\n",
       "      <td>159.27</td>\n",
       "      <td>157.00</td>\n",
       "    </tr>\n",
       "  </tbody>\n",
       "</table>\n",
       "</div>"
      ],
      "text/plain": [
       "   성별_    0_0    0_1    0_2    1_0    1_1    1_2    2_0    2_1    2_2    3_0    3_1    3_2\n",
       "0    0 146.00 139.00 161.40    NaN 160.50 164.00 160.00 149.15 153.05 114.00    NaN 161.33\n",
       "1    1 126.75 128.43 157.05 168.50 139.83 167.25 171.25 147.25 164.11 147.50 159.27 157.00"
      ]
     },
     "execution_count": 196,
     "metadata": {},
     "output_type": "execute_result"
    }
   ],
   "source": [
    "# 컬럼 계층 초기화\n",
    "pivot_reset = pivot.reset_index()\n",
    "pivot_reset.columns = ['_'.join(map(str, col)).strip() for col in pivot_reset.columns]\n",
    "\n",
    "print(\"\\n컬럼 계층 초기화:\")\n",
    "pivot_reset"
   ]
  },
  {
   "cell_type": "markdown",
   "id": "b902b28c-6dc5-4c14-8047-3d5813d998a8",
   "metadata": {},
   "source": [
    "### 컬럼 계층 전환"
   ]
  },
  {
   "cell_type": "code",
   "execution_count": 203,
   "id": "e71db619-03eb-4df6-a2f8-5bbb81b338b5",
   "metadata": {},
   "outputs": [
    {
     "name": "stdout",
     "output_type": "stream",
     "text": [
      "\n",
      "다중 컬럼을 다중 인덱스로 전환:\n"
     ]
    },
    {
     "data": {
      "text/html": [
       "<div>\n",
       "<style scoped>\n",
       "    .dataframe tbody tr th:only-of-type {\n",
       "        vertical-align: middle;\n",
       "    }\n",
       "\n",
       "    .dataframe tbody tr th {\n",
       "        vertical-align: top;\n",
       "    }\n",
       "\n",
       "    .dataframe thead th {\n",
       "        text-align: right;\n",
       "    }\n",
       "</style>\n",
       "<table border=\"1\" class=\"dataframe\">\n",
       "  <thead>\n",
       "    <tr style=\"text-align: right;\">\n",
       "      <th></th>\n",
       "      <th>흉통유형</th>\n",
       "      <th>0</th>\n",
       "      <th>1</th>\n",
       "      <th>2</th>\n",
       "      <th>3</th>\n",
       "    </tr>\n",
       "    <tr>\n",
       "      <th>성별</th>\n",
       "      <th>운동후ST경사</th>\n",
       "      <th></th>\n",
       "      <th></th>\n",
       "      <th></th>\n",
       "      <th></th>\n",
       "    </tr>\n",
       "  </thead>\n",
       "  <tbody>\n",
       "    <tr>\n",
       "      <th rowspan=\"3\" valign=\"top\">0</th>\n",
       "      <th>0</th>\n",
       "      <td>146.00</td>\n",
       "      <td>NaN</td>\n",
       "      <td>160.00</td>\n",
       "      <td>114.00</td>\n",
       "    </tr>\n",
       "    <tr>\n",
       "      <th>1</th>\n",
       "      <td>139.00</td>\n",
       "      <td>160.50</td>\n",
       "      <td>149.15</td>\n",
       "      <td>NaN</td>\n",
       "    </tr>\n",
       "    <tr>\n",
       "      <th>2</th>\n",
       "      <td>161.40</td>\n",
       "      <td>164.00</td>\n",
       "      <td>153.05</td>\n",
       "      <td>161.33</td>\n",
       "    </tr>\n",
       "    <tr>\n",
       "      <th rowspan=\"3\" valign=\"top\">1</th>\n",
       "      <th>0</th>\n",
       "      <td>126.75</td>\n",
       "      <td>168.50</td>\n",
       "      <td>171.25</td>\n",
       "      <td>147.50</td>\n",
       "    </tr>\n",
       "    <tr>\n",
       "      <th>1</th>\n",
       "      <td>128.43</td>\n",
       "      <td>139.83</td>\n",
       "      <td>147.25</td>\n",
       "      <td>159.27</td>\n",
       "    </tr>\n",
       "    <tr>\n",
       "      <th>2</th>\n",
       "      <td>157.05</td>\n",
       "      <td>167.25</td>\n",
       "      <td>164.11</td>\n",
       "      <td>157.00</td>\n",
       "    </tr>\n",
       "  </tbody>\n",
       "</table>\n",
       "</div>"
      ],
      "text/plain": [
       "흉통유형            0      1      2      3\n",
       "성별 운동후ST경사                            \n",
       "0  0       146.00    NaN 160.00 114.00\n",
       "   1       139.00 160.50 149.15    NaN\n",
       "   2       161.40 164.00 153.05 161.33\n",
       "1  0       126.75 168.50 171.25 147.50\n",
       "   1       128.43 139.83 147.25 159.27\n",
       "   2       157.05 167.25 164.11 157.00"
      ]
     },
     "execution_count": 203,
     "metadata": {},
     "output_type": "execute_result"
    }
   ],
   "source": [
    "# 다중 컬럼을 다중 인덱스로 전환\n",
    "pivot_stack = pivot.stack()\n",
    "\n",
    "print(\"\\n다중 컬럼을 다중 인덱스로 전환:\")\n",
    "pivot_stack"
   ]
  },
  {
   "cell_type": "markdown",
   "id": "3abbff02-1789-4c35-a2fc-1a60c0c79db3",
   "metadata": {},
   "source": [
    "### 경고 메시지 차단"
   ]
  },
  {
   "cell_type": "code",
   "execution_count": 201,
   "id": "dd8b4cfe-533d-4ed9-aab7-7dddd364cca7",
   "metadata": {},
   "outputs": [],
   "source": [
    "import warnings # 경고 메시지 차단 \n",
    "warnings.filterwarnings('ignore')"
   ]
  },
  {
   "cell_type": "markdown",
   "id": "58a60268-4860-49be-95a1-506a3db1a784",
   "metadata": {},
   "source": [
    "# <b> 3.데이터 병합과 추가"
   ]
  },
  {
   "cell_type": "markdown",
   "id": "ca63182f-9fb6-4cf0-83c1-f348d3f82fe6",
   "metadata": {},
   "source": [
    "## <B> (1) 데이터 병합(join)"
   ]
  },
  {
   "cell_type": "markdown",
   "id": "1ba2b035-100a-464e-90af-e6924461e81f",
   "metadata": {},
   "source": [
    "### 데이터준비"
   ]
  },
  {
   "cell_type": "code",
   "execution_count": 205,
   "id": "ae78c56e-88dd-4753-b8cc-bd2041393119",
   "metadata": {},
   "outputs": [
    {
     "name": "stdout",
     "output_type": "stream",
     "text": [
      "첫 번째 데이터프레임:\n",
      "   제품ID  제품명\n",
      "0     1  노트북\n",
      "1     2  모니터\n",
      "2     3  키보드\n",
      "\n",
      "두 번째 데이터프레임:\n",
      "   제품ID    가격\n",
      "0     1  1000\n",
      "1     2   200\n",
      "2     4    50\n"
     ]
    }
   ],
   "source": [
    "import pandas as pd\n",
    "\n",
    "# 첫 번째 데이터프레임 생성\n",
    "data1 = {\n",
    "    '제품ID': [1, 2, 3],\n",
    "    '제품명': ['노트북', '모니터', '키보드']\n",
    "}\n",
    "df1 = pd.DataFrame(data1)\n",
    "\n",
    "# 두 번째 데이터프레임 생성\n",
    "data2 = {\n",
    "    '제품ID': [1, 2, 4],\n",
    "    '가격': [1000, 200, 50]\n",
    "}\n",
    "df2 = pd.DataFrame(data2)\n",
    "\n",
    "# 데이터프레임 출력\n",
    "print(\"첫 번째 데이터프레임:\")\n",
    "print(df1)\n",
    "print(\"\\n두 번째 데이터프레임:\")\n",
    "print(df2)"
   ]
  },
  {
   "cell_type": "markdown",
   "id": "7795c7c1-6a05-4d35-977d-984586d32dad",
   "metadata": {},
   "source": [
    "### 내부 조인(Inner Join)"
   ]
  },
  {
   "cell_type": "code",
   "execution_count": 207,
   "id": "304fc207-c1b5-4aff-8cd5-59be59a40897",
   "metadata": {},
   "outputs": [
    {
     "name": "stdout",
     "output_type": "stream",
     "text": [
      "첫 번째 데이터프레임:\n",
      "   제품ID  제품명\n",
      "0     1  노트북\n",
      "1     2  모니터\n",
      "2     3  키보드\n",
      "\n",
      "두 번째 데이터프레임:\n",
      "   제품ID    가격\n",
      "0     1  1000\n",
      "1     2   200\n",
      "2     4    50\n",
      "\n",
      "내부 조인 결과:\n",
      "   제품ID  제품명    가격\n",
      "0     1  노트북  1000\n",
      "1     2  모니터   200\n"
     ]
    }
   ],
   "source": [
    "# 내부 조인\n",
    "inner_join = pd.merge(df1, df2, on='제품ID', how='inner')\n",
    "\n",
    "# 데이터프레임 출력\n",
    "print(\"첫 번째 데이터프레임:\")\n",
    "print(df1)\n",
    "print(\"\\n두 번째 데이터프레임:\")\n",
    "print(df2)\n",
    "print(\"\\n내부 조인 결과:\")\n",
    "print(inner_join)"
   ]
  },
  {
   "cell_type": "markdown",
   "id": "63869623-a69b-42f6-9c68-e217c9d48f66",
   "metadata": {},
   "source": [
    "### 외부 조인(Outer Join)"
   ]
  },
  {
   "cell_type": "code",
   "execution_count": 215,
   "id": "7870192b-57c0-439e-8d1c-d147b5d6b655",
   "metadata": {},
   "outputs": [
    {
     "name": "stdout",
     "output_type": "stream",
     "text": [
      "첫 번째 데이터프레임:\n",
      "   제품ID  제품명\n",
      "0     1  노트북\n",
      "1     2  모니터\n",
      "2     3  키보드\n",
      "\n",
      "두 번째 데이터프레임:\n",
      "   제품ID    가격\n",
      "0     1  1000\n",
      "1     2   200\n",
      "2     4    50\n",
      "\n",
      "외부 조인 결과:\n",
      "   제품ID  제품명      가격\n",
      "0     1  노트북 1000.00\n",
      "1     2  모니터  200.00\n",
      "2     3  키보드     NaN\n",
      "3     4  NaN   50.00\n"
     ]
    }
   ],
   "source": [
    "# 외부 조인\n",
    "outer_join = pd.merge(df1, df2, on='제품ID', how='outer')\n",
    "\n",
    "# 데이터프레임 출력\n",
    "print(\"첫 번째 데이터프레임:\")\n",
    "print(df1)\n",
    "print(\"\\n두 번째 데이터프레임:\")\n",
    "print(df2)\n",
    "print(\"\\n외부 조인 결과:\")\n",
    "print(outer_join)"
   ]
  },
  {
   "cell_type": "markdown",
   "id": "45862e21-95d2-4665-978e-4b6e7b132c17",
   "metadata": {},
   "source": [
    "### 왼쪽 조인(left join)"
   ]
  },
  {
   "cell_type": "code",
   "execution_count": 217,
   "id": "8a5712b6-9270-4ca2-a5a3-ab7997721da9",
   "metadata": {},
   "outputs": [
    {
     "name": "stdout",
     "output_type": "stream",
     "text": [
      "첫 번째 데이터프레임:\n",
      "   제품ID  제품명\n",
      "0     1  노트북\n",
      "1     2  모니터\n",
      "2     3  키보드\n",
      "\n",
      "두 번째 데이터프레임:\n",
      "   제품ID    가격\n",
      "0     1  1000\n",
      "1     2   200\n",
      "2     4    50\n",
      "\n",
      "왼쪽 조인 결과:\n",
      "   제품ID  제품명      가격\n",
      "0     1  노트북 1000.00\n",
      "1     2  모니터  200.00\n",
      "2     3  키보드     NaN\n"
     ]
    }
   ],
   "source": [
    "# 왼쪽 조인\n",
    "left_join = pd.merge(df1, df2, on='제품ID', how='left')\n",
    "\n",
    "# 데이터프레임 출력\n",
    "print(\"첫 번째 데이터프레임:\")\n",
    "print(df1)\n",
    "print(\"\\n두 번째 데이터프레임:\")\n",
    "print(df2)\n",
    "print(\"\\n왼쪽 조인 결과:\")\n",
    "print(left_join)"
   ]
  },
  {
   "cell_type": "markdown",
   "id": "bcd2e27a-d928-47c7-b88c-18f2b72d4911",
   "metadata": {},
   "source": [
    "### 오른쪽 조인(Right join)"
   ]
  },
  {
   "cell_type": "code",
   "execution_count": 219,
   "id": "185b9f5d-b8f7-41ee-97b6-7cdfceef6f8b",
   "metadata": {},
   "outputs": [
    {
     "name": "stdout",
     "output_type": "stream",
     "text": [
      "첫 번째 데이터프레임:\n",
      "   제품ID  제품명\n",
      "0     1  노트북\n",
      "1     2  모니터\n",
      "2     3  키보드\n",
      "\n",
      "두 번째 데이터프레임:\n",
      "   제품ID    가격\n",
      "0     1  1000\n",
      "1     2   200\n",
      "2     4    50\n",
      "\n",
      "오른쪽 조인 결과:\n",
      "   제품ID  제품명    가격\n",
      "0     1  노트북  1000\n",
      "1     2  모니터   200\n",
      "2     4  NaN    50\n"
     ]
    }
   ],
   "source": [
    "# 오른쪽 조인\n",
    "right_join = pd.merge(df1, df2, on='제품ID', how='right')\n",
    "\n",
    "# 데이터프레임 출력\n",
    "print(\"첫 번째 데이터프레임:\")\n",
    "print(df1)\n",
    "print(\"\\n두 번째 데이터프레임:\")\n",
    "print(df2)\n",
    "print(\"\\n오른쪽 조인 결과:\")\n",
    "print(right_join)"
   ]
  },
  {
   "cell_type": "markdown",
   "id": "0b452dc5-1048-4272-b51d-ef1a52c00379",
   "metadata": {},
   "source": [
    "### 교차 조인(Cross Join)"
   ]
  },
  {
   "cell_type": "code",
   "execution_count": 221,
   "id": "e1f24fa8-2e08-4203-a503-27163885b5e4",
   "metadata": {},
   "outputs": [
    {
     "name": "stdout",
     "output_type": "stream",
     "text": [
      "첫 번째 데이터프레임:\n",
      "   제품ID  제품명\n",
      "0     1  노트북\n",
      "1     2  모니터\n",
      "2     3  키보드\n",
      "\n",
      "두 번째 데이터프레임:\n",
      "   제품ID    가격\n",
      "0     1  1000\n",
      "1     2   200\n",
      "2     4    50\n",
      "\n",
      "교차 조인 결과:\n",
      "   제품ID_x  제품명  제품ID_y    가격\n",
      "0       1  노트북       1  1000\n",
      "1       1  노트북       2   200\n",
      "2       1  노트북       4    50\n",
      "3       2  모니터       1  1000\n",
      "4       2  모니터       2   200\n",
      "5       2  모니터       4    50\n",
      "6       3  키보드       1  1000\n",
      "7       3  키보드       2   200\n",
      "8       3  키보드       4    50\n"
     ]
    }
   ],
   "source": [
    "# 교차 조인 \n",
    "cross_join = pd.merge(df1, df2, how='cross') \n",
    "\n",
    "# 데이터프레임 출력\n",
    "print(\"첫 번째 데이터프레임:\")\n",
    "print(df1)\n",
    "print(\"\\n두 번째 데이터프레임:\")\n",
    "print(df2)\n",
    "print(\"\\n교차 조인 결과:\") \n",
    "print(cross_join)"
   ]
  },
  {
   "cell_type": "markdown",
   "id": "dc88fdbc-5e47-48ee-81c6-a53add24b149",
   "metadata": {},
   "source": [
    "## <B> (3) 데이터 추가(Union)"
   ]
  },
  {
   "cell_type": "markdown",
   "id": "1e279c97-89ba-411f-a1a5-feeaae22e0d8",
   "metadata": {},
   "source": [
    "### 데이터준비"
   ]
  },
  {
   "cell_type": "code",
   "execution_count": 223,
   "id": "13637173-6a4e-4247-b806-1272512bcf84",
   "metadata": {},
   "outputs": [
    {
     "name": "stdout",
     "output_type": "stream",
     "text": [
      "첫 번째 데이터프레임:\n",
      "    이름  나이\n",
      "0  홍길동  30\n",
      "1  이순신  40\n",
      "\n",
      "두 번째 데이터프레임:\n",
      "    이름  나이\n",
      "0  강감찬  50\n",
      "1  유관순  20\n"
     ]
    }
   ],
   "source": [
    "# 첫 번째 데이터프레임 생성\n",
    "data1 = {\n",
    "    '이름': ['홍길동', '이순신'],\n",
    "    '나이': [30, 40]\n",
    "}\n",
    "df1 = pd.DataFrame(data1)\n",
    "\n",
    "# 두 번째 데이터프레임 생성\n",
    "data2 = {\n",
    "    '이름': ['강감찬', '유관순'],\n",
    "    '나이': [50, 20]\n",
    "}\n",
    "df2 = pd.DataFrame(data2)\n",
    "\n",
    "# 데이터프레임 출력\n",
    "print(\"첫 번째 데이터프레임:\")\n",
    "print(df1)\n",
    "print(\"\\n두 번째 데이터프레임:\")\n",
    "print(df2)"
   ]
  },
  {
   "cell_type": "markdown",
   "id": "e129ebfb-c470-413e-a1d0-42047e314737",
   "metadata": {},
   "source": [
    "### 데이터프레임 결합(Union) : ignore_index = True"
   ]
  },
  {
   "cell_type": "code",
   "execution_count": 228,
   "id": "1396385f-de39-4b38-8281-2f26a01eecf5",
   "metadata": {},
   "outputs": [
    {
     "name": "stdout",
     "output_type": "stream",
     "text": [
      "첫 번째 데이터프레임:\n",
      "    이름  나이\n",
      "0  홍길동  30\n",
      "1  이순신  40\n",
      "\n",
      "두 번째 데이터프레임:\n",
      "    이름  나이\n",
      "0  강감찬  50\n",
      "1  유관순  20\n",
      "\n",
      "유니온 결과:\n",
      "    이름  나이\n",
      "0  홍길동  30\n",
      "1  이순신  40\n",
      "2  강감찬  50\n",
      "3  유관순  20\n"
     ]
    }
   ],
   "source": [
    "# 데이터프레임 세로로 결합\n",
    "union_df = pd.concat([df1, df2], ignore_index=True)\n",
    "\n",
    "# 데이터프레임 출력\n",
    "print(\"첫 번째 데이터프레임:\")\n",
    "print(df1)\n",
    "print(\"\\n두 번째 데이터프레임:\")\n",
    "print(df2)\n",
    "print(\"\\n유니온 결과:\")\n",
    "print(union_df)"
   ]
  },
  {
   "cell_type": "markdown",
   "id": "14b7576b-5979-40cc-8a87-998df336b88c",
   "metadata": {},
   "source": [
    "###  데이터프레임 결합(Union) : ignore_index = False"
   ]
  },
  {
   "cell_type": "code",
   "execution_count": 230,
   "id": "f0202261-5c8f-4f5b-9075-1163ebff1cb0",
   "metadata": {},
   "outputs": [
    {
     "name": "stdout",
     "output_type": "stream",
     "text": [
      "첫 번째 데이터프레임:\n",
      "    이름  나이\n",
      "0  홍길동  30\n",
      "1  이순신  40\n",
      "\n",
      "두 번째 데이터프레임:\n",
      "    이름  나이\n",
      "0  강감찬  50\n",
      "1  유관순  20\n",
      "\n",
      "인덱스를 유지한 유니온 결과:\n",
      "    이름  나이\n",
      "0  홍길동  30\n",
      "1  이순신  40\n",
      "0  강감찬  50\n",
      "1  유관순  20\n"
     ]
    }
   ],
   "source": [
    "# 인덱스를 유지하면서 데이터프레임 결합\n",
    "union_with_index = pd.concat([df1, df2], ignore_index=False)\n",
    "\n",
    "# 데이터프레임 출력\n",
    "print(\"첫 번째 데이터프레임:\")\n",
    "print(df1)\n",
    "print(\"\\n두 번째 데이터프레임:\")\n",
    "print(df2)\n",
    "print(\"\\n인덱스를 유지한 유니온 결과:\")\n",
    "print(union_with_index)"
   ]
  },
  {
   "cell_type": "markdown",
   "id": "1e104ad0-5825-4378-bdf3-3a0782b669cb",
   "metadata": {},
   "source": [
    "### 데이터프레임 열이 다른 경우 결합(Union) "
   ]
  },
  {
   "cell_type": "code",
   "execution_count": 232,
   "id": "e6249ad5-1c62-4617-a3d5-4bc64a6d6cf6",
   "metadata": {},
   "outputs": [
    {
     "name": "stdout",
     "output_type": "stream",
     "text": [
      "\n",
      "열이 다른 데이터프레임 결합 결과:\n",
      "    이름    나이   주소\n",
      "0  홍길동 30.00  NaN\n",
      "1  이순신 40.00  NaN\n",
      "2  정약용   NaN   서울\n",
      "3  김유신   NaN   경주\n"
     ]
    }
   ],
   "source": [
    "# 열이 다른 데이터프레임 생성\n",
    "data3 = {\n",
    "    '이름': ['정약용', '김유신'],\n",
    "    '주소': ['서울', '경주']\n",
    "}\n",
    "df3 = pd.DataFrame(data3)\n",
    "\n",
    "# 데이터프레임 결합\n",
    "union_with_different_columns = pd.concat([df1, df3], ignore_index=True)\n",
    "\n",
    "print(\"\\n열이 다른 데이터프레임 결합 결과:\")\n",
    "print(union_with_different_columns)"
   ]
  }
 ],
 "metadata": {
  "kernelspec": {
   "display_name": "Python [conda env:base] *",
   "language": "python",
   "name": "conda-base-py"
  },
  "language_info": {
   "codemirror_mode": {
    "name": "ipython",
    "version": 3
   },
   "file_extension": ".py",
   "mimetype": "text/x-python",
   "name": "python",
   "nbconvert_exporter": "python",
   "pygments_lexer": "ipython3",
   "version": "3.12.7"
  }
 },
 "nbformat": 4,
 "nbformat_minor": 5
}
