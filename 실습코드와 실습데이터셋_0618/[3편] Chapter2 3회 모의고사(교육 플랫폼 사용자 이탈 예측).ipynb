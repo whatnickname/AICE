{
 "cells": [
  {
   "cell_type": "markdown",
   "id": "90382a53-0ccb-4d53-9b0a-6b44916c55f1",
   "metadata": {},
   "source": [
    "# <font color=\"#2E86C1\"><b>AICE Associate 3회 모의고사</b></font>\n",
    "---"
   ]
  },
  {
   "cell_type": "markdown",
   "id": "b22d3f8c-1a4b-4df2-a2d1-6b7883c59f3e",
   "metadata": {},
   "source": [
    "## <font color=\"#117A65\"><b>교육 플랫폼 사용자 이탈 예측</b></font>"
   ]
  },
  {
   "cell_type": "markdown",
   "id": "b3ec71d2-e27c-4068-8411-17febe6ec1af",
   "metadata": {},
   "source": [
    "### <font color=\"#5D6D7E\"><b>목적</b></font>  \n",
    "<b>이탈 가능성이 높은 교육 플랫폼 사용자를 사전에 예측</b>하여  \n",
    "맞춤형 리텐션 마케팅, 학습 알림 강화 등 자동화된 대응이 가능하도록  \n",
    "사용자 행동 및 속성 데이터를 기반으로 예측 모델을 구축합니다.\n",
    "\n",
    "### <font color=\"#5D6D7E\"><b>배경 시나리오</b></font>  \n",
    "\n",
    "온라인 교육 플랫폼을 운영하는 <b>A사</b>는 최근 사용자 이탈률 증가로  \n",
    "수강률 및 결제 전환율이 하락하고 있습니다.  \n",
    "플랫폼을 이용하던 사용자가 일정 기간 이후 더 이상 로그인을 하지 않거나,  \n",
    "콘텐츠 소비 없이 이탈하는 사례가 증가함에 따라 이를 사전에 예측하고자 합니다.\n",
    "\n",
    "이에 따라 기업은 실제 이탈 여부 및 사용자 행동, 환경 정보를 포함한  \n",
    "데이터를 수집하였으며, 아래와 같은 조건을 기반으로  \n",
    "<b>이탈 여부(`leave_yn`)</b>를 예측하는 모델을 구축하려고 합니다.\n",
    "\n",
    "---"
   ]
  },
  {
   "cell_type": "markdown",
   "id": "3bab402e-3fd4-47cc-9889-5e779654496a",
   "metadata": {},
   "source": [
    "### 📊 <font color=\"#5D6D7E\"><b>데이터 설명</b></font>  \n",
    "<b>파일 이름: `edu_users.csv`</b>\n",
    "\n",
    "| <b>컬럼명</b>             | <b>설명</b>                                                      |\n",
    "|--------------------------|------------------------------------------------------------------|\n",
    "| `rate_math`              | 수학 과목 수강 시청률 비율 (%)                                           |\n",
    "| `rate_science`           | 과학 과목 수강 시청률 비율 (%)                                           |\n",
    "| `rate_english`           | 영어 과목 수강 시청률 비율 (%)                                           |\n",
    "| `rate_humanities`        | 인문 과목 수강 시청률 비율 (%)                                           |\n",
    "| `rate_art`               | 예체능 과목 수강 시청률 비율 (%)                                         |\n",
    "| `tot_time`               | 총 학습 시간 (분)                                                |\n",
    "| `device`                 | 접속 기기 (mobile, desktop, tablet 등)                          |\n",
    "| `gender`                 | 성별 (`M`, `F`)                                                  |\n",
    "| `age`                    | 연령                                                            |\n",
    "| `resub_yn`               | 재수강 여부 (`Y`, `N`)                                           |\n",
    "| `comb_yn`                | 융합 과목 수강 여부 (`Y`, `N`)                                   |\n",
    "| `othersub_yn`            | 기타 과목 수강 여부 (`Y`, `N`)                                   |\n",
    "| `leave_yn`               | <mark><b>이탈 여부 (1: 이탈, 0: 유지)</b></mark> ← <b>예측 대상</b> |\n"
   ]
  },
  {
   "cell_type": "markdown",
   "id": "0f0e86fc",
   "metadata": {},
   "source": [
    "\n",
    "### 문제 1. 라이브러리 불러오기\n",
    "\n",
    "🎯 목표  \n",
    "데이터 분석을 위해 pandas, numpy, seaborn, matplotlib 라이브러리를 불러옵니다.\n",
    "\n",
    "📑 조건  \n",
    "- pandas를 `pd`, numpy를 `np`, seaborn을 `sns`, matplotlib.pyplot을 `plt`로 임포트하세요."
   ]
  },
  {
   "cell_type": "code",
   "execution_count": 1,
   "id": "1b19395a",
   "metadata": {},
   "outputs": [],
   "source": [
    "# 여기에 답안을 작성하세요.\n",
    "import pandas as pd\n",
    "import numpy as np\n",
    "import seaborn as sns\n",
    "import matplotlib.pyplot as plt "
   ]
  },
  {
   "cell_type": "markdown",
   "id": "fa8d1c0d-dc18-49a8-9e66-9dc2537eb5aa",
   "metadata": {
    "jp-MarkdownHeadingCollapsed": true
   },
   "source": [
    "##### **정답코드**"
   ]
  },
  {
   "cell_type": "code",
   "execution_count": null,
   "id": "48aa1a30-a036-4fe9-a71e-c55dd1309419",
   "metadata": {},
   "outputs": [],
   "source": [
    "import pandas as pd\n",
    "import numpy as np\n",
    "import seaborn as sns\n",
    "import matplotlib.pyplot as plt"
   ]
  },
  {
   "cell_type": "markdown",
   "id": "5cc4f230",
   "metadata": {},
   "source": [
    "\n",
    "### 문제 2. 데이터 파일 불러오기\n",
    "\n",
    "🎯 목표  \n",
    "edu_users.csv 파일을 불러와 edu_df 데이터프레임을 생성합니다.\n",
    "\n",
    "📑 조건\n",
    "- pandas를 이용하여 파일을 읽고 `edu_df`에 저장하세요."
   ]
  },
  {
   "cell_type": "code",
   "execution_count": 3,
   "id": "6198cb3f",
   "metadata": {},
   "outputs": [],
   "source": [
    "# 여기에 답안을 작성하세요.\n",
    "edu_df = pd.read_csv('datasets/edu_users.csv')"
   ]
  },
  {
   "cell_type": "markdown",
   "id": "8f3172c0-1747-43f2-b14c-642ba7391a09",
   "metadata": {
    "jp-MarkdownHeadingCollapsed": true
   },
   "source": [
    "##### **정답코드**"
   ]
  },
  {
   "cell_type": "code",
   "execution_count": null,
   "id": "cf6cabe5-66d1-4e81-9893-bafdace253b1",
   "metadata": {},
   "outputs": [],
   "source": [
    "edu_df = pd.read_csv('edu_users.csv')"
   ]
  },
  {
   "cell_type": "markdown",
   "id": "137d940d",
   "metadata": {},
   "source": [
    "\n",
    "### 문제 3. 데이터프레임 구조 확인\n",
    "\n",
    "🎯 목표  \n",
    "데이터의 전체 구조(변수 타입, 결측치 여부 등)를 파악하여 이 정보를 바탕으로 다음 중 **옳지 않은 설명**을 고르세요.\n",
    "\n",
    "📑 조건  \n",
    "- edu_df에 대해 .info()를 출력하세요.\n",
    "- 정답 번호를 `답03` 변수에 저장하세요.\n",
    "\n",
    "1. `rate_math`, `rate_science`, `tot_time`은 결측치가 존재하며, 모두 실수형(`float64`)이다.  \n",
    "2. `device`, `gender`, `resub_yn`, `comb_yn`, `othersub_yn`은 범주형 변수이지만, `dtype`은 모두 `object`로 표시된다.  \n",
    "3. 전체 열은 13개이며, 이 중 수치형(numeric) 변수는 총 8개다.  \n",
    "4. `leave_yn`은 이탈 여부를 나타내는 이진 분류형 변수이며, 문자형(object)으로 저장되어 있다."
   ]
  },
  {
   "cell_type": "code",
   "execution_count": 12,
   "id": "86c3cc39",
   "metadata": {},
   "outputs": [
    {
     "name": "stdout",
     "output_type": "stream",
     "text": [
      "<class 'pandas.core.frame.DataFrame'>\n",
      "RangeIndex: 1250 entries, 0 to 1249\n",
      "Data columns (total 13 columns):\n",
      " #   Column           Non-Null Count  Dtype  \n",
      "---  ------           --------------  -----  \n",
      " 0   rate_math        1188 non-null   float64\n",
      " 1   rate_science     1188 non-null   float64\n",
      " 2   rate_english     1250 non-null   float64\n",
      " 3   rate_humanities  1250 non-null   float64\n",
      " 4   rate_art         1250 non-null   float64\n",
      " 5   tot_time         1188 non-null   float64\n",
      " 6   device           1250 non-null   object \n",
      " 7   gender           1250 non-null   object \n",
      " 8   age              1250 non-null   int64  \n",
      " 9   resub_yn         1250 non-null   object \n",
      " 10  comb_yn          1250 non-null   object \n",
      " 11  othersub_yn      1250 non-null   object \n",
      " 12  leave_yn         1250 non-null   int64  \n",
      "dtypes: float64(6), int64(2), object(5)\n",
      "memory usage: 127.1+ KB\n"
     ]
    }
   ],
   "source": [
    "# 여기에 답안을 작성하세요.\n",
    "edu_df.info()\n",
    "답03 = 4"
   ]
  },
  {
   "cell_type": "markdown",
   "id": "e27a9448-ca9b-4ec7-9da8-15d2567c07da",
   "metadata": {
    "jp-MarkdownHeadingCollapsed": true
   },
   "source": [
    "##### **정답코드**"
   ]
  },
  {
   "cell_type": "code",
   "execution_count": null,
   "id": "25e330be-e02d-4e39-b66d-ad8dfd400c6b",
   "metadata": {},
   "outputs": [],
   "source": [
    "edu_df.info()\n",
    "답03 = 4"
   ]
  },
  {
   "cell_type": "markdown",
   "id": "f357590f",
   "metadata": {},
   "source": [
    "\n",
    "### 문제 4. 주요 과목 시청률 상관관계 분석\n",
    "\n",
    "🖋 상황 설명  \n",
    "주요 과목 시청률 간의 상관관계를 분석합니다.\n",
    "\n",
    "🎯 목표\n",
    "- 아래 셀을 실행하여 corr_list 변수를 생성하세요.\n"
   ]
  },
  {
   "cell_type": "code",
   "execution_count": 14,
   "id": "fcb9d63a",
   "metadata": {},
   "outputs": [],
   "source": [
    "corr_list = ['rate_math', 'rate_science', 'rate_english', 'rate_humanities', 'rate_art']"
   ]
  },
  {
   "cell_type": "markdown",
   "id": "a035a9d4",
   "metadata": {},
   "source": [
    "\n",
    "📑 조건\n",
    "- corr_list를 활용하여 heatmap을 시각화하고 해석하여, 가장 적절한 설명을 고르세요.\n",
    "- 정답은 '답04' 변수에 저장하세요\n",
    "- annot = True\n",
    "- 소수점은 2째자리까지만 출력\n",
    "\n",
    "1. `rate_math`와 `rate_science`는 강한 양의 상관관계를 가진다.  \n",
    "2. `rate_english`와 `rate_humanities`는 -0.5 이상의 음의 상관관계를 가진다.  \n",
    "3. 전체 과목 간 상관계수는 거의 없으며, 독립적인 경향을 보인다.  \n",
    "4. `rate_art`와 다른 과목들은 대체로 양의 상관관계를 가진다."
   ]
  },
  {
   "cell_type": "code",
   "execution_count": 21,
   "id": "77d73b46",
   "metadata": {},
   "outputs": [
    {
     "data": {
      "image/png": "[encoded data removed]",
      "text/plain": [
       "<Figure size 640x480 with 2 Axes>"
      ]
     },
     "metadata": {},
     "output_type": "display_data"
    }
   ],
   "source": [
    "# 여기에 답안을 작성하세요.\n",
    "sns.heatmap(data=edu_df[corr_list].corr(),\n",
    "            annot = True,\n",
    "            fmt = \".2f\")\n",
    "답04 = 3"
   ]
  },
  {
   "cell_type": "markdown",
   "id": "d5bbf012-4438-49ea-981e-6d026a39924d",
   "metadata": {
    "jp-MarkdownHeadingCollapsed": true
   },
   "source": [
    "##### **정답코드**"
   ]
  },
  {
   "cell_type": "code",
   "execution_count": null,
   "id": "e2eb9210-df75-4a45-86fd-e1ff322d0462",
   "metadata": {},
   "outputs": [],
   "source": [
    "sns.heatmap(data=edu_df[corr_list].corr(),\n",
    "            annot=True,     \n",
    "            fmt=\".2f\")\n",
    "답04 = 3"
   ]
  },
  {
   "cell_type": "markdown",
   "id": "a8a9b865",
   "metadata": {},
   "source": [
    "\n",
    "### 문제 5. 이탈 여부에 따른 학습 시간 분포 시각화\n",
    "\n",
    "🎯 목표  \n",
    "이탈 그룹과 유지 그룹 간 학습 시간 분포를 비교합니다.\n",
    "\n",
    "📑 조건\n",
    "- leave_yn 별로 tot_time의 boxplot을 그리고, 이를 바탕으로 다음 보기 중 **올바른 해석**을 고르세요.\n",
    "\n",
    "1. 유지 사용자(0)는 이탈 사용자(1)보다 평균 학습 시간이 짧고, 이상치가 거의 없다.  \n",
    "2. 이탈 사용자(1)의 중앙값은 유지 사용자(0)보다 높으며, 전체적인 학습 시간도 길다.  \n",
    "3. 유지 사용자(0)의 학습 시간 분포가 더 넓고 이상치도 더 많이 존재한다.  \n",
    "4. 두 그룹 모두 중앙값은 유사하나, 이탈자 쪽이 이상치에 의해 상자 높이가 극단적으로 커졌다.\n",
    "\n",
    "- 정답은 `답05` 변수에 저장"
   ]
  },
  {
   "cell_type": "code",
   "execution_count": 25,
   "id": "e9692a63-43c6-4e40-aa80-20ac0f29312d",
   "metadata": {},
   "outputs": [
    {
     "data": {
      "text/plain": [
       "leave_yn\n",
       "0    30.100378\n",
       "1    28.832180\n",
       "Name: tot_time, dtype: float64"
      ]
     },
     "execution_count": 25,
     "metadata": {},
     "output_type": "execute_result"
    }
   ],
   "source": [
    "edu_df.groupby('leave_yn')['tot_time'].mean()"
   ]
  },
  {
   "cell_type": "code",
   "execution_count": 27,
   "id": "29df6db1",
   "metadata": {},
   "outputs": [
    {
     "data": {
      "image/png": "[encoded data removed]",
      "text/plain": [
       "<Figure size 640x480 with 1 Axes>"
      ]
     },
     "metadata": {},
     "output_type": "display_data"
    }
   ],
   "source": [
    "# 여기에 답안을 작성하세요.\n",
    "sns.boxplot(data=edu_df, x='leave_yn', y='tot_time')\n",
    "답05 = 3"
   ]
  },
  {
   "cell_type": "markdown",
   "id": "bb6fc8b6-c1ce-4b90-8c4a-6c9576d2a6d4",
   "metadata": {
    "jp-MarkdownHeadingCollapsed": true
   },
   "source": [
    "##### **정답코드**"
   ]
  },
  {
   "cell_type": "code",
   "execution_count": null,
   "id": "10826ec5-af37-45a8-91ae-a664b085d2b9",
   "metadata": {},
   "outputs": [],
   "source": [
    "sns.boxplot(data=edu_df, x='leave_yn', y='tot_time')\n",
    "답05 = 3"
   ]
  },
  {
   "cell_type": "markdown",
   "id": "8361a897",
   "metadata": {},
   "source": [
    "\n",
    "### 문제 6. 이탈 여부별 주요 과목 평균 시청률 계산\n",
    "\n",
    "🎯 목표  \n",
    "이탈 여부에 따른 과목 시청률 평균을 비교합니다.\n",
    "\n",
    "📑 조건\n",
    "- leave_yn 별로 rate_math, rate_science의 평균을 pivot_table()을 이용하여 만드세요.\n"
   ]
  },
  {
   "cell_type": "code",
   "execution_count": 29,
   "id": "5b75198e",
   "metadata": {},
   "outputs": [
    {
     "data": {
      "text/html": [
       "<div>\n",
       "<style scoped>\n",
       "    .dataframe tbody tr th:only-of-type {\n",
       "        vertical-align: middle;\n",
       "    }\n",
       "\n",
       "    .dataframe tbody tr th {\n",
       "        vertical-align: top;\n",
       "    }\n",
       "\n",
       "    .dataframe thead th {\n",
       "        text-align: right;\n",
       "    }\n",
       "</style>\n",
       "<table border=\"1\" class=\"dataframe\">\n",
       "  <thead>\n",
       "    <tr style=\"text-align: right;\">\n",
       "      <th></th>\n",
       "      <th>rate_math</th>\n",
       "      <th>rate_science</th>\n",
       "    </tr>\n",
       "    <tr>\n",
       "      <th>leave_yn</th>\n",
       "      <th></th>\n",
       "      <th></th>\n",
       "    </tr>\n",
       "  </thead>\n",
       "  <tbody>\n",
       "    <tr>\n",
       "      <th>0</th>\n",
       "      <td>0.487965</td>\n",
       "      <td>0.496375</td>\n",
       "    </tr>\n",
       "    <tr>\n",
       "      <th>1</th>\n",
       "      <td>0.515511</td>\n",
       "      <td>0.505424</td>\n",
       "    </tr>\n",
       "  </tbody>\n",
       "</table>\n",
       "</div>"
      ],
      "text/plain": [
       "          rate_math  rate_science\n",
       "leave_yn                         \n",
       "0          0.487965      0.496375\n",
       "1          0.515511      0.505424"
      ]
     },
     "execution_count": 29,
     "metadata": {},
     "output_type": "execute_result"
    }
   ],
   "source": [
    "# 여기에 답안을 작성하세요.\n",
    "pivot_df = edu_df.pivot_table(\n",
    "    index='leave_yn',\n",
    "    values = ['rate_math', 'rate_science'],\n",
    "    aggfunc='mean')\n",
    "pivot_df"
   ]
  },
  {
   "cell_type": "markdown",
   "id": "16853d4b-1a5d-4bf8-9ffc-724d7a38b7fd",
   "metadata": {
    "jp-MarkdownHeadingCollapsed": true
   },
   "source": [
    "##### **정답코드**"
   ]
  },
  {
   "cell_type": "code",
   "execution_count": null,
   "id": "c6cb8f92-ad07-4310-8b7e-9311a9ed6e91",
   "metadata": {},
   "outputs": [],
   "source": [
    "pivot_df = edu_df.pivot_table(\n",
    "    index='leave_yn',\n",
    "    values=['rate_math', 'rate_science'],\n",
    "    aggfunc='mean'\n",
    ")\n",
    "pivot_df"
   ]
  },
  {
   "cell_type": "markdown",
   "id": "c4ae8ecd",
   "metadata": {},
   "source": [
    "\n",
    "### 문제 7. 결측치 처리\n",
    "\n",
    "🎯 목표  \n",
    "결측치를 적절히 처리하여 데이터 품질을 향상시킵니다.\n",
    "\n",
    "📑 조건  \n",
    "- rate_math 컬럼의 결측치를 평균(mean)으로 채우세요.\n",
    "- rate_science 컬럼의 결측치를 중앙값(median)으로 채우세요. \n",
    "- tot_time 컬럼의 결측치를 최빈값(mode)으로 채우세요.\n"
   ]
  },
  {
   "cell_type": "code",
   "execution_count": 31,
   "id": "5353f4f0",
   "metadata": {},
   "outputs": [
    {
     "name": "stderr",
     "output_type": "stream",
     "text": [
      "C:\\Users\\MEDIA-CAM2\\AppData\\Local\\Temp\\ipykernel_14632\\1917176306.py:2: FutureWarning: A value is trying to be set on a copy of a DataFrame or Series through chained assignment using an inplace method.\n",
      "The behavior will change in pandas 3.0. This inplace method will never work because the intermediate object on which we are setting values always behaves as a copy.\n",
      "\n",
      "For example, when doing 'df[col].method(value, inplace=True)', try using 'df.method({col: value}, inplace=True)' or df[col] = df[col].method(value) instead, to perform the operation inplace on the original object.\n",
      "\n",
      "\n",
      "  edu_df['rate_math'].fillna(edu_df['rate_math'].mean(), inplace=True)\n",
      "C:\\Users\\MEDIA-CAM2\\AppData\\Local\\Temp\\ipykernel_14632\\1917176306.py:3: FutureWarning: A value is trying to be set on a copy of a DataFrame or Series through chained assignment using an inplace method.\n",
      "The behavior will change in pandas 3.0. This inplace method will never work because the intermediate object on which we are setting values always behaves as a copy.\n",
      "\n",
      "For example, when doing 'df[col].method(value, inplace=True)', try using 'df.method({col: value}, inplace=True)' or df[col] = df[col].method(value) instead, to perform the operation inplace on the original object.\n",
      "\n",
      "\n",
      "  edu_df['rate_science'].fillna(edu_df['rate_science'].median(), inplace=True)\n",
      "C:\\Users\\MEDIA-CAM2\\AppData\\Local\\Temp\\ipykernel_14632\\1917176306.py:4: FutureWarning: A value is trying to be set on a copy of a DataFrame or Series through chained assignment using an inplace method.\n",
      "The behavior will change in pandas 3.0. This inplace method will never work because the intermediate object on which we are setting values always behaves as a copy.\n",
      "\n",
      "For example, when doing 'df[col].method(value, inplace=True)', try using 'df.method({col: value}, inplace=True)' or df[col] = df[col].method(value) instead, to perform the operation inplace on the original object.\n",
      "\n",
      "\n",
      "  edu_df['tot_time'].fillna(edu_df['tot_time'].mode(), inplace=True)\n"
     ]
    }
   ],
   "source": [
    "# 여기에 답안을 작성하세요.\n",
    "edu_df['rate_math'].fillna(edu_df['rate_math'].mean(), inplace=True)\n",
    "edu_df['rate_science'].fillna(edu_df['rate_science'].median(), inplace=True)\n",
    "edu_df['tot_time'].fillna(edu_df['tot_time'].mode(), inplace=True)"
   ]
  },
  {
   "cell_type": "markdown",
   "id": "bacd65b2-df37-4ea0-af8a-494662b24a03",
   "metadata": {
    "jp-MarkdownHeadingCollapsed": true
   },
   "source": [
    "##### **정답코드**"
   ]
  },
  {
   "cell_type": "code",
   "execution_count": null,
   "id": "4bf0a17a-4dba-49b7-b918-92bc048a93cf",
   "metadata": {},
   "outputs": [],
   "source": [
    "edu_df['rate_math'].fillna(edu_df['rate_math'].mean(), inplace=True)\n",
    "edu_df['rate_science'].fillna(edu_df['rate_science'].median(), inplace=True)\n",
    "edu_df['tot_time'].fillna(edu_df['tot_time'].mode()[0], inplace=True)"
   ]
  },
  {
   "cell_type": "markdown",
   "id": "52efab1e",
   "metadata": {},
   "source": [
    "\n",
    "### 문제 8. train/test 데이터 분리\n",
    "\n",
    "🎯 목표  \n",
    "Feature(X)와 Target(y)을 이용하여 모델 학습과 평가를 위해 분리하려고 합니다.\n",
    "\n",
    "📑 조건  \n",
    "- Feature: rate_math, rate_science, rate_english, tot_time\n",
    "- Target: leave_yn\n",
    "- 데이터셋을 분리하기 위해 train_test_split을 import하세요.\n",
    "- 훈련 데이터 셋 = X_train, y_train\n",
    "- 검증 데이터 셋 = X_valid, y_valid\n",
    "- random_state=42\n",
    "- 훈련 데이터셋과 검증 데이터셋의 비율은 8:2\n"
   ]
  },
  {
   "cell_type": "code",
   "execution_count": 40,
   "id": "5125f64b",
   "metadata": {},
   "outputs": [],
   "source": [
    "# 여기에 답안을 작성하세요.\n",
    "Feature = edu_df[['rate_math', 'rate_science', 'rate_english', 'tot_time']]\n",
    "Target = edu_df['leave_yn']\n",
    "\n",
    "from sklearn.model_selection import train_test_split\n",
    "X_train, X_valid, y_train, y_valid = train_test_split(Feature, Target, random_state=42, test_size=0.2)"
   ]
  },
  {
   "cell_type": "markdown",
   "id": "5da63ac8-e939-4a1f-afe0-14e1e7684390",
   "metadata": {
    "jp-MarkdownHeadingCollapsed": true
   },
   "source": [
    "##### **정답코드**"
   ]
  },
  {
   "cell_type": "code",
   "execution_count": null,
   "id": "a7e6d0f1-1fe8-4700-9ad9-f49102b63551",
   "metadata": {},
   "outputs": [],
   "source": [
    "Feature = edu_df[['rate_math', 'rate_science', 'rate_english', 'tot_time']]\n",
    "Target = edu_df['leave_yn']\n",
    "\n",
    "from sklearn.model_selection import train_test_split\n",
    "X_train, X_valid, y_train, y_valid = train_test_split(Feature, Target, test_size=0.2, random_state=42)"
   ]
  },
  {
   "cell_type": "markdown",
   "id": "d038416e",
   "metadata": {},
   "source": [
    "\n",
    "### 문제 9. Feature 스케일링\n",
    "\n",
    "🎯 목표  \n",
    "데이터 스케일링을 통해 모델 학습의 성능을 높입니다.\n",
    "\n",
    "[사전 실행 지시사항]\n",
    "- 아래 셀을 실행하여 StandardScaler를 불러오세요.\n"
   ]
  },
  {
   "cell_type": "code",
   "execution_count": 42,
   "id": "6114987b",
   "metadata": {},
   "outputs": [],
   "source": [
    "from sklearn.preprocessing import StandardScaler\n",
    "scaler = StandardScaler()"
   ]
  },
  {
   "cell_type": "markdown",
   "id": "87a82bba",
   "metadata": {},
   "source": [
    "📑 조건  \n",
    "- StandardScaler를 이용해 Feature 데이터를 스케일링하세요.\n",
    "- X_train은 fit_tranform을 이용하여 X_train 변수에 저장\n",
    "- X_valid는 transform을 이용하여 X_test의 변수에 저장\n"
   ]
  },
  {
   "cell_type": "code",
   "execution_count": 45,
   "id": "6261492d",
   "metadata": {},
   "outputs": [],
   "source": [
    "# 여기에 답안을 작성하세요.\n",
    "X_train = scaler.fit_transform(X_train)\n",
    "X_test = scaler.transform(X_valid)"
   ]
  },
  {
   "cell_type": "markdown",
   "id": "e4172384-4a57-4fa8-92de-1acd514c4e70",
   "metadata": {
    "jp-MarkdownHeadingCollapsed": true
   },
   "source": [
    "##### **정답코드**"
   ]
  },
  {
   "cell_type": "code",
   "execution_count": null,
   "id": "fcffb5eb-fa39-4627-8ef0-b4cfa442a3d5",
   "metadata": {},
   "outputs": [],
   "source": [
    "X_train = scaler.fit_transform(X_train)\n",
    "X_test = scaler.transform(X_valid)"
   ]
  },
  {
   "cell_type": "markdown",
   "id": "f3b3fb9f",
   "metadata": {},
   "source": [
    "\n",
    "### 문제 10. 랜덤포레스트 모델 학습\n",
    "\n",
    "🎯 목표  \n",
    "랜덤포레스트 모델을 활용하여 이탈 여부를 예측합니다.\n",
    "\n",
    "[사전 실행 지시사항]\n",
    "- 아래 셀을 실행하여 RandomForestClassifier를 불러오세요.\n"
   ]
  },
  {
   "cell_type": "code",
   "execution_count": 47,
   "id": "589f114b",
   "metadata": {},
   "outputs": [],
   "source": [
    "from sklearn.ensemble import RandomForestClassifier"
   ]
  },
  {
   "cell_type": "markdown",
   "id": "97df3772",
   "metadata": {},
   "source": [
    "\n",
    "📑 조건  \n",
    "- RandomForestClassifier를 사용해 leave_yn을 예측하는 모델을 학습하세요.\n",
    "- 랜덤포레스트모델을 rfc변수에 저장하세요.\n",
    "- n_estimators=150, max_depth=7, min_samples_split=5, random_state=42\n",
    "- 훈련은 스케일링 처리된 데이터를 사용해 주세요.\n",
    "\n"
   ]
  },
  {
   "cell_type": "code",
   "execution_count": 49,
   "id": "82f23b62",
   "metadata": {},
   "outputs": [
    {
     "data": {
      "text/html": [
       "<style>#sk-container-id-1 {\n",
       "  /* Definition of color scheme common for light and dark mode */\n",
       "  --sklearn-color-text: black;\n",
       "  --sklearn-color-line: gray;\n",
       "  /* Definition of color scheme for unfitted estimators */\n",
       "  --sklearn-color-unfitted-level-0: #fff5e6;\n",
       "  --sklearn-color-unfitted-level-1: #f6e4d2;\n",
       "  --sklearn-color-unfitted-level-2: #ffe0b3;\n",
       "  --sklearn-color-unfitted-level-3: chocolate;\n",
       "  /* Definition of color scheme for fitted estimators */\n",
       "  --sklearn-color-fitted-level-0: #f0f8ff;\n",
       "  --sklearn-color-fitted-level-1: #d4ebff;\n",
       "  --sklearn-color-fitted-level-2: #b3dbfd;\n",
       "  --sklearn-color-fitted-level-3: cornflowerblue;\n",
       "\n",
       "  /* Specific color for light theme */\n",
       "  --sklearn-color-text-on-default-background: var(--sg-text-color, var(--theme-code-foreground, var(--jp-content-font-color1, black)));\n",
       "  --sklearn-color-background: var(--sg-background-color, var(--theme-background, var(--jp-layout-color0, white)));\n",
       "  --sklearn-color-border-box: var(--sg-text-color, var(--theme-code-foreground, var(--jp-content-font-color1, black)));\n",
       "  --sklearn-color-icon: #696969;\n",
       "\n",
       "  @media (prefers-color-scheme: dark) {\n",
       "    /* Redefinition of color scheme for dark theme */\n",
       "    --sklearn-color-text-on-default-background: var(--sg-text-color, var(--theme-code-foreground, var(--jp-content-font-color1, white)));\n",
       "    --sklearn-color-background: var(--sg-background-color, var(--theme-background, var(--jp-layout-color0, #111)));\n",
       "    --sklearn-color-border-box: var(--sg-text-color, var(--theme-code-foreground, var(--jp-content-font-color1, white)));\n",
       "    --sklearn-color-icon: #878787;\n",
       "  }\n",
       "}\n",
       "\n",
       "#sk-container-id-1 {\n",
       "  color: var(--sklearn-color-text);\n",
       "}\n",
       "\n",
       "#sk-container-id-1 pre {\n",
       "  padding: 0;\n",
       "}\n",
       "\n",
       "#sk-container-id-1 input.sk-hidden--visually {\n",
       "  border: 0;\n",
       "  clip: rect(1px 1px 1px 1px);\n",
       "  clip: rect(1px, 1px, 1px, 1px);\n",
       "  height: 1px;\n",
       "  margin: -1px;\n",
       "  overflow: hidden;\n",
       "  padding: 0;\n",
       "  position: absolute;\n",
       "  width: 1px;\n",
       "}\n",
       "\n",
       "#sk-container-id-1 div.sk-dashed-wrapped {\n",
       "  border: 1px dashed var(--sklearn-color-line);\n",
       "  margin: 0 0.4em 0.5em 0.4em;\n",
       "  box-sizing: border-box;\n",
       "  padding-bottom: 0.4em;\n",
       "  background-color: var(--sklearn-color-background);\n",
       "}\n",
       "\n",
       "#sk-container-id-1 div.sk-container {\n",
       "  /* jupyter's `normalize.less` sets `[hidden] { display: none; }`\n",
       "     but bootstrap.min.css set `[hidden] { display: none !important; }`\n",
       "     so we also need the `!important` here to be able to override the\n",
       "     default hidden behavior on the sphinx rendered scikit-learn.org.\n",
       "     See: https://github.com/scikit-learn/scikit-learn/issues/21755 */\n",
       "  display: inline-block !important;\n",
       "  position: relative;\n",
       "}\n",
       "\n",
       "#sk-container-id-1 div.sk-text-repr-fallback {\n",
       "  display: none;\n",
       "}\n",
       "\n",
       "div.sk-parallel-item,\n",
       "div.sk-serial,\n",
       "div.sk-item {\n",
       "  /* draw centered vertical line to link estimators */\n",
       "  background-image: linear-gradient(var(--sklearn-color-text-on-default-background), var(--sklearn-color-text-on-default-background));\n",
       "  background-size: 2px 100%;\n",
       "  background-repeat: no-repeat;\n",
       "  background-position: center center;\n",
       "}\n",
       "\n",
       "/* Parallel-specific style estimator block */\n",
       "\n",
       "#sk-container-id-1 div.sk-parallel-item::after {\n",
       "  content: \"\";\n",
       "  width: 100%;\n",
       "  border-bottom: 2px solid var(--sklearn-color-text-on-default-background);\n",
       "  flex-grow: 1;\n",
       "}\n",
       "\n",
       "#sk-container-id-1 div.sk-parallel {\n",
       "  display: flex;\n",
       "  align-items: stretch;\n",
       "  justify-content: center;\n",
       "  background-color: var(--sklearn-color-background);\n",
       "  position: relative;\n",
       "}\n",
       "\n",
       "#sk-container-id-1 div.sk-parallel-item {\n",
       "  display: flex;\n",
       "  flex-direction: column;\n",
       "}\n",
       "\n",
       "#sk-container-id-1 div.sk-parallel-item:first-child::after {\n",
       "  align-self: flex-end;\n",
       "  width: 50%;\n",
       "}\n",
       "\n",
       "#sk-container-id-1 div.sk-parallel-item:last-child::after {\n",
       "  align-self: flex-start;\n",
       "  width: 50%;\n",
       "}\n",
       "\n",
       "#sk-container-id-1 div.sk-parallel-item:only-child::after {\n",
       "  width: 0;\n",
       "}\n",
       "\n",
       "/* Serial-specific style estimator block */\n",
       "\n",
       "#sk-container-id-1 div.sk-serial {\n",
       "  display: flex;\n",
       "  flex-direction: column;\n",
       "  align-items: center;\n",
       "  background-color: var(--sklearn-color-background);\n",
       "  padding-right: 1em;\n",
       "  padding-left: 1em;\n",
       "}\n",
       "\n",
       "\n",
       "/* Toggleable style: style used for estimator/Pipeline/ColumnTransformer box that is\n",
       "clickable and can be expanded/collapsed.\n",
       "- Pipeline and ColumnTransformer use this feature and define the default style\n",
       "- Estimators will overwrite some part of the style using the `sk-estimator` class\n",
       "*/\n",
       "\n",
       "/* Pipeline and ColumnTransformer style (default) */\n",
       "\n",
       "#sk-container-id-1 div.sk-toggleable {\n",
       "  /* Default theme specific background. It is overwritten whether we have a\n",
       "  specific estimator or a Pipeline/ColumnTransformer */\n",
       "  background-color: var(--sklearn-color-background);\n",
       "}\n",
       "\n",
       "/* Toggleable label */\n",
       "#sk-container-id-1 label.sk-toggleable__label {\n",
       "  cursor: pointer;\n",
       "  display: block;\n",
       "  width: 100%;\n",
       "  margin-bottom: 0;\n",
       "  padding: 0.5em;\n",
       "  box-sizing: border-box;\n",
       "  text-align: center;\n",
       "}\n",
       "\n",
       "#sk-container-id-1 label.sk-toggleable__label-arrow:before {\n",
       "  /* Arrow on the left of the label */\n",
       "  content: \"▸\";\n",
       "  float: left;\n",
       "  margin-right: 0.25em;\n",
       "  color: var(--sklearn-color-icon);\n",
       "}\n",
       "\n",
       "#sk-container-id-1 label.sk-toggleable__label-arrow:hover:before {\n",
       "  color: var(--sklearn-color-text);\n",
       "}\n",
       "\n",
       "/* Toggleable content - dropdown */\n",
       "\n",
       "#sk-container-id-1 div.sk-toggleable__content {\n",
       "  max-height: 0;\n",
       "  max-width: 0;\n",
       "  overflow: hidden;\n",
       "  text-align: left;\n",
       "  /* unfitted */\n",
       "  background-color: var(--sklearn-color-unfitted-level-0);\n",
       "}\n",
       "\n",
       "#sk-container-id-1 div.sk-toggleable__content.fitted {\n",
       "  /* fitted */\n",
       "  background-color: var(--sklearn-color-fitted-level-0);\n",
       "}\n",
       "\n",
       "#sk-container-id-1 div.sk-toggleable__content pre {\n",
       "  margin: 0.2em;\n",
       "  border-radius: 0.25em;\n",
       "  color: var(--sklearn-color-text);\n",
       "  /* unfitted */\n",
       "  background-color: var(--sklearn-color-unfitted-level-0);\n",
       "}\n",
       "\n",
       "#sk-container-id-1 div.sk-toggleable__content.fitted pre {\n",
       "  /* unfitted */\n",
       "  background-color: var(--sklearn-color-fitted-level-0);\n",
       "}\n",
       "\n",
       "#sk-container-id-1 input.sk-toggleable__control:checked~div.sk-toggleable__content {\n",
       "  /* Expand drop-down */\n",
       "  max-height: 200px;\n",
       "  max-width: 100%;\n",
       "  overflow: auto;\n",
       "}\n",
       "\n",
       "#sk-container-id-1 input.sk-toggleable__control:checked~label.sk-toggleable__label-arrow:before {\n",
       "  content: \"▾\";\n",
       "}\n",
       "\n",
       "/* Pipeline/ColumnTransformer-specific style */\n",
       "\n",
       "#sk-container-id-1 div.sk-label input.sk-toggleable__control:checked~label.sk-toggleable__label {\n",
       "  color: var(--sklearn-color-text);\n",
       "  background-color: var(--sklearn-color-unfitted-level-2);\n",
       "}\n",
       "\n",
       "#sk-container-id-1 div.sk-label.fitted input.sk-toggleable__control:checked~label.sk-toggleable__label {\n",
       "  background-color: var(--sklearn-color-fitted-level-2);\n",
       "}\n",
       "\n",
       "/* Estimator-specific style */\n",
       "\n",
       "/* Colorize estimator box */\n",
       "#sk-container-id-1 div.sk-estimator input.sk-toggleable__control:checked~label.sk-toggleable__label {\n",
       "  /* unfitted */\n",
       "  background-color: var(--sklearn-color-unfitted-level-2);\n",
       "}\n",
       "\n",
       "#sk-container-id-1 div.sk-estimator.fitted input.sk-toggleable__control:checked~label.sk-toggleable__label {\n",
       "  /* fitted */\n",
       "  background-color: var(--sklearn-color-fitted-level-2);\n",
       "}\n",
       "\n",
       "#sk-container-id-1 div.sk-label label.sk-toggleable__label,\n",
       "#sk-container-id-1 div.sk-label label {\n",
       "  /* The background is the default theme color */\n",
       "  color: var(--sklearn-color-text-on-default-background);\n",
       "}\n",
       "\n",
       "/* On hover, darken the color of the background */\n",
       "#sk-container-id-1 div.sk-label:hover label.sk-toggleable__label {\n",
       "  color: var(--sklearn-color-text);\n",
       "  background-color: var(--sklearn-color-unfitted-level-2);\n",
       "}\n",
       "\n",
       "/* Label box, darken color on hover, fitted */\n",
       "#sk-container-id-1 div.sk-label.fitted:hover label.sk-toggleable__label.fitted {\n",
       "  color: var(--sklearn-color-text);\n",
       "  background-color: var(--sklearn-color-fitted-level-2);\n",
       "}\n",
       "\n",
       "/* Estimator label */\n",
       "\n",
       "#sk-container-id-1 div.sk-label label {\n",
       "  font-family: monospace;\n",
       "  font-weight: bold;\n",
       "  display: inline-block;\n",
       "  line-height: 1.2em;\n",
       "}\n",
       "\n",
       "#sk-container-id-1 div.sk-label-container {\n",
       "  text-align: center;\n",
       "}\n",
       "\n",
       "/* Estimator-specific */\n",
       "#sk-container-id-1 div.sk-estimator {\n",
       "  font-family: monospace;\n",
       "  border: 1px dotted var(--sklearn-color-border-box);\n",
       "  border-radius: 0.25em;\n",
       "  box-sizing: border-box;\n",
       "  margin-bottom: 0.5em;\n",
       "  /* unfitted */\n",
       "  background-color: var(--sklearn-color-unfitted-level-0);\n",
       "}\n",
       "\n",
       "#sk-container-id-1 div.sk-estimator.fitted {\n",
       "  /* fitted */\n",
       "  background-color: var(--sklearn-color-fitted-level-0);\n",
       "}\n",
       "\n",
       "/* on hover */\n",
       "#sk-container-id-1 div.sk-estimator:hover {\n",
       "  /* unfitted */\n",
       "  background-color: var(--sklearn-color-unfitted-level-2);\n",
       "}\n",
       "\n",
       "#sk-container-id-1 div.sk-estimator.fitted:hover {\n",
       "  /* fitted */\n",
       "  background-color: var(--sklearn-color-fitted-level-2);\n",
       "}\n",
       "\n",
       "/* Specification for estimator info (e.g. \"i\" and \"?\") */\n",
       "\n",
       "/* Common style for \"i\" and \"?\" */\n",
       "\n",
       ".sk-estimator-doc-link,\n",
       "a:link.sk-estimator-doc-link,\n",
       "a:visited.sk-estimator-doc-link {\n",
       "  float: right;\n",
       "  font-size: smaller;\n",
       "  line-height: 1em;\n",
       "  font-family: monospace;\n",
       "  background-color: var(--sklearn-color-background);\n",
       "  border-radius: 1em;\n",
       "  height: 1em;\n",
       "  width: 1em;\n",
       "  text-decoration: none !important;\n",
       "  margin-left: 1ex;\n",
       "  /* unfitted */\n",
       "  border: var(--sklearn-color-unfitted-level-1) 1pt solid;\n",
       "  color: var(--sklearn-color-unfitted-level-1);\n",
       "}\n",
       "\n",
       ".sk-estimator-doc-link.fitted,\n",
       "a:link.sk-estimator-doc-link.fitted,\n",
       "a:visited.sk-estimator-doc-link.fitted {\n",
       "  /* fitted */\n",
       "  border: var(--sklearn-color-fitted-level-1) 1pt solid;\n",
       "  color: var(--sklearn-color-fitted-level-1);\n",
       "}\n",
       "\n",
       "/* On hover */\n",
       "div.sk-estimator:hover .sk-estimator-doc-link:hover,\n",
       ".sk-estimator-doc-link:hover,\n",
       "div.sk-label-container:hover .sk-estimator-doc-link:hover,\n",
       ".sk-estimator-doc-link:hover {\n",
       "  /* unfitted */\n",
       "  background-color: var(--sklearn-color-unfitted-level-3);\n",
       "  color: var(--sklearn-color-background);\n",
       "  text-decoration: none;\n",
       "}\n",
       "\n",
       "div.sk-estimator.fitted:hover .sk-estimator-doc-link.fitted:hover,\n",
       ".sk-estimator-doc-link.fitted:hover,\n",
       "div.sk-label-container:hover .sk-estimator-doc-link.fitted:hover,\n",
       ".sk-estimator-doc-link.fitted:hover {\n",
       "  /* fitted */\n",
       "  background-color: var(--sklearn-color-fitted-level-3);\n",
       "  color: var(--sklearn-color-background);\n",
       "  text-decoration: none;\n",
       "}\n",
       "\n",
       "/* Span, style for the box shown on hovering the info icon */\n",
       ".sk-estimator-doc-link span {\n",
       "  display: none;\n",
       "  z-index: 9999;\n",
       "  position: relative;\n",
       "  font-weight: normal;\n",
       "  right: .2ex;\n",
       "  padding: .5ex;\n",
       "  margin: .5ex;\n",
       "  width: min-content;\n",
       "  min-width: 20ex;\n",
       "  max-width: 50ex;\n",
       "  color: var(--sklearn-color-text);\n",
       "  box-shadow: 2pt 2pt 4pt #999;\n",
       "  /* unfitted */\n",
       "  background: var(--sklearn-color-unfitted-level-0);\n",
       "  border: .5pt solid var(--sklearn-color-unfitted-level-3);\n",
       "}\n",
       "\n",
       ".sk-estimator-doc-link.fitted span {\n",
       "  /* fitted */\n",
       "  background: var(--sklearn-color-fitted-level-0);\n",
       "  border: var(--sklearn-color-fitted-level-3);\n",
       "}\n",
       "\n",
       ".sk-estimator-doc-link:hover span {\n",
       "  display: block;\n",
       "}\n",
       "\n",
       "/* \"?\"-specific style due to the `<a>` HTML tag */\n",
       "\n",
       "#sk-container-id-1 a.estimator_doc_link {\n",
       "  float: right;\n",
       "  font-size: 1rem;\n",
       "  line-height: 1em;\n",
       "  font-family: monospace;\n",
       "  background-color: var(--sklearn-color-background);\n",
       "  border-radius: 1rem;\n",
       "  height: 1rem;\n",
       "  width: 1rem;\n",
       "  text-decoration: none;\n",
       "  /* unfitted */\n",
       "  color: var(--sklearn-color-unfitted-level-1);\n",
       "  border: var(--sklearn-color-unfitted-level-1) 1pt solid;\n",
       "}\n",
       "\n",
       "#sk-container-id-1 a.estimator_doc_link.fitted {\n",
       "  /* fitted */\n",
       "  border: var(--sklearn-color-fitted-level-1) 1pt solid;\n",
       "  color: var(--sklearn-color-fitted-level-1);\n",
       "}\n",
       "\n",
       "/* On hover */\n",
       "#sk-container-id-1 a.estimator_doc_link:hover {\n",
       "  /* unfitted */\n",
       "  background-color: var(--sklearn-color-unfitted-level-3);\n",
       "  color: var(--sklearn-color-background);\n",
       "  text-decoration: none;\n",
       "}\n",
       "\n",
       "#sk-container-id-1 a.estimator_doc_link.fitted:hover {\n",
       "  /* fitted */\n",
       "  background-color: var(--sklearn-color-fitted-level-3);\n",
       "}\n",
       "</style><div id=\"sk-container-id-1\" class=\"sk-top-container\"><div class=\"sk-text-repr-fallback\"><pre>RandomForestClassifier(max_depth=7, min_samples_split=5, n_estimators=150,\n",
       "                       random_state=42)</pre><b>In a Jupyter environment, please rerun this cell to show the HTML representation or trust the notebook. <br />On GitHub, the HTML representation is unable to render, please try loading this page with nbviewer.org.</b></div><div class=\"sk-container\" hidden><div class=\"sk-item\"><div class=\"sk-estimator fitted sk-toggleable\"><input class=\"sk-toggleable__control sk-hidden--visually\" id=\"sk-estimator-id-1\" type=\"checkbox\" checked><label for=\"sk-estimator-id-1\" class=\"sk-toggleable__label fitted sk-toggleable__label-arrow fitted\">&nbsp;&nbsp;RandomForestClassifier<a class=\"sk-estimator-doc-link fitted\" rel=\"noreferrer\" target=\"_blank\" href=\"https://scikit-learn.org/1.4/modules/generated/sklearn.ensemble.RandomForestClassifier.html\">?<span>Documentation for RandomForestClassifier</span></a><span class=\"sk-estimator-doc-link fitted\">i<span>Fitted</span></span></label><div class=\"sk-toggleable__content fitted\"><pre>RandomForestClassifier(max_depth=7, min_samples_split=5, n_estimators=150,\n",
       "                       random_state=42)</pre></div> </div></div></div></div>"
      ],
      "text/plain": [
       "RandomForestClassifier(max_depth=7, min_samples_split=5, n_estimators=150,\n",
       "                       random_state=42)"
      ]
     },
     "execution_count": 49,
     "metadata": {},
     "output_type": "execute_result"
    }
   ],
   "source": [
    "# 여기에 답안을 작성하세요.\n",
    "rfc = RandomForestClassifier(n_estimators=150, max_depth=7, min_samples_split=5, random_state=42)\n",
    "rfc.fit(X_train, y_train)"
   ]
  },
  {
   "cell_type": "markdown",
   "id": "25c53d7e-cfd0-4c7c-85ff-2bec64b5e749",
   "metadata": {
    "jp-MarkdownHeadingCollapsed": true
   },
   "source": [
    "##### **정답코드**"
   ]
  },
  {
   "cell_type": "code",
   "execution_count": null,
   "id": "0674abb7-af43-4213-bd6c-563592f55589",
   "metadata": {},
   "outputs": [],
   "source": [
    "rfc = RandomForestClassifier(n_estimators=150, max_depth=7, min_samples_split=5, random_state=42)\n",
    "\n",
    "rfc.fit(X_train,y_train)"
   ]
  },
  {
   "cell_type": "markdown",
   "id": "23a00eed",
   "metadata": {},
   "source": [
    "\n",
    "### 문제 11. XGBoost 모델 학습\n",
    "\n",
    "🎯 목표  \n",
    "XGBoost를 활용하여 이탈 여부를 예측합니다.\n",
    "\n",
    "[사전 실행 지시사항]\n",
    "- 아래 셀을 실행하여 XGBClassifier를 불러오세요.\n"
   ]
  },
  {
   "cell_type": "code",
   "execution_count": 51,
   "id": "a542d37e",
   "metadata": {},
   "outputs": [],
   "source": [
    "from xgboost import XGBClassifier"
   ]
  },
  {
   "cell_type": "markdown",
   "id": "03db262b",
   "metadata": {},
   "source": [
    "\n",
    "📑 조건  \n",
    "- XGBClassifier를 사용해 leave_yn을 예측하는 모델을 학습하세요.\n",
    "- XGBoost모델을 xgbc변수에 저장하세요.\n",
    "- n_estimators=200, max_depth=5, learning_rate=0.1, random_state=42\n",
    "- 훈련은 스케일링 처리된 데이터를 사용하여 주세요.\n"
   ]
  },
  {
   "cell_type": "code",
   "execution_count": 53,
   "id": "96dad759",
   "metadata": {},
   "outputs": [
    {
     "data": {
      "text/html": [
       "<style>#sk-container-id-2 {\n",
       "  /* Definition of color scheme common for light and dark mode */\n",
       "  --sklearn-color-text: black;\n",
       "  --sklearn-color-line: gray;\n",
       "  /* Definition of color scheme for unfitted estimators */\n",
       "  --sklearn-color-unfitted-level-0: #fff5e6;\n",
       "  --sklearn-color-unfitted-level-1: #f6e4d2;\n",
       "  --sklearn-color-unfitted-level-2: #ffe0b3;\n",
       "  --sklearn-color-unfitted-level-3: chocolate;\n",
       "  /* Definition of color scheme for fitted estimators */\n",
       "  --sklearn-color-fitted-level-0: #f0f8ff;\n",
       "  --sklearn-color-fitted-level-1: #d4ebff;\n",
       "  --sklearn-color-fitted-level-2: #b3dbfd;\n",
       "  --sklearn-color-fitted-level-3: cornflowerblue;\n",
       "\n",
       "  /* Specific color for light theme */\n",
       "  --sklearn-color-text-on-default-background: var(--sg-text-color, var(--theme-code-foreground, var(--jp-content-font-color1, black)));\n",
       "  --sklearn-color-background: var(--sg-background-color, var(--theme-background, var(--jp-layout-color0, white)));\n",
       "  --sklearn-color-border-box: var(--sg-text-color, var(--theme-code-foreground, var(--jp-content-font-color1, black)));\n",
       "  --sklearn-color-icon: #696969;\n",
       "\n",
       "  @media (prefers-color-scheme: dark) {\n",
       "    /* Redefinition of color scheme for dark theme */\n",
       "    --sklearn-color-text-on-default-background: var(--sg-text-color, var(--theme-code-foreground, var(--jp-content-font-color1, white)));\n",
       "    --sklearn-color-background: var(--sg-background-color, var(--theme-background, var(--jp-layout-color0, #111)));\n",
       "    --sklearn-color-border-box: var(--sg-text-color, var(--theme-code-foreground, var(--jp-content-font-color1, white)));\n",
       "    --sklearn-color-icon: #878787;\n",
       "  }\n",
       "}\n",
       "\n",
       "#sk-container-id-2 {\n",
       "  color: var(--sklearn-color-text);\n",
       "}\n",
       "\n",
       "#sk-container-id-2 pre {\n",
       "  padding: 0;\n",
       "}\n",
       "\n",
       "#sk-container-id-2 input.sk-hidden--visually {\n",
       "  border: 0;\n",
       "  clip: rect(1px 1px 1px 1px);\n",
       "  clip: rect(1px, 1px, 1px, 1px);\n",
       "  height: 1px;\n",
       "  margin: -1px;\n",
       "  overflow: hidden;\n",
       "  padding: 0;\n",
       "  position: absolute;\n",
       "  width: 1px;\n",
       "}\n",
       "\n",
       "#sk-container-id-2 div.sk-dashed-wrapped {\n",
       "  border: 1px dashed var(--sklearn-color-line);\n",
       "  margin: 0 0.4em 0.5em 0.4em;\n",
       "  box-sizing: border-box;\n",
       "  padding-bottom: 0.4em;\n",
       "  background-color: var(--sklearn-color-background);\n",
       "}\n",
       "\n",
       "#sk-container-id-2 div.sk-container {\n",
       "  /* jupyter's `normalize.less` sets `[hidden] { display: none; }`\n",
       "     but bootstrap.min.css set `[hidden] { display: none !important; }`\n",
       "     so we also need the `!important` here to be able to override the\n",
       "     default hidden behavior on the sphinx rendered scikit-learn.org.\n",
       "     See: https://github.com/scikit-learn/scikit-learn/issues/21755 */\n",
       "  display: inline-block !important;\n",
       "  position: relative;\n",
       "}\n",
       "\n",
       "#sk-container-id-2 div.sk-text-repr-fallback {\n",
       "  display: none;\n",
       "}\n",
       "\n",
       "div.sk-parallel-item,\n",
       "div.sk-serial,\n",
       "div.sk-item {\n",
       "  /* draw centered vertical line to link estimators */\n",
       "  background-image: linear-gradient(var(--sklearn-color-text-on-default-background), var(--sklearn-color-text-on-default-background));\n",
       "  background-size: 2px 100%;\n",
       "  background-repeat: no-repeat;\n",
       "  background-position: center center;\n",
       "}\n",
       "\n",
       "/* Parallel-specific style estimator block */\n",
       "\n",
       "#sk-container-id-2 div.sk-parallel-item::after {\n",
       "  content: \"\";\n",
       "  width: 100%;\n",
       "  border-bottom: 2px solid var(--sklearn-color-text-on-default-background);\n",
       "  flex-grow: 1;\n",
       "}\n",
       "\n",
       "#sk-container-id-2 div.sk-parallel {\n",
       "  display: flex;\n",
       "  align-items: stretch;\n",
       "  justify-content: center;\n",
       "  background-color: var(--sklearn-color-background);\n",
       "  position: relative;\n",
       "}\n",
       "\n",
       "#sk-container-id-2 div.sk-parallel-item {\n",
       "  display: flex;\n",
       "  flex-direction: column;\n",
       "}\n",
       "\n",
       "#sk-container-id-2 div.sk-parallel-item:first-child::after {\n",
       "  align-self: flex-end;\n",
       "  width: 50%;\n",
       "}\n",
       "\n",
       "#sk-container-id-2 div.sk-parallel-item:last-child::after {\n",
       "  align-self: flex-start;\n",
       "  width: 50%;\n",
       "}\n",
       "\n",
       "#sk-container-id-2 div.sk-parallel-item:only-child::after {\n",
       "  width: 0;\n",
       "}\n",
       "\n",
       "/* Serial-specific style estimator block */\n",
       "\n",
       "#sk-container-id-2 div.sk-serial {\n",
       "  display: flex;\n",
       "  flex-direction: column;\n",
       "  align-items: center;\n",
       "  background-color: var(--sklearn-color-background);\n",
       "  padding-right: 1em;\n",
       "  padding-left: 1em;\n",
       "}\n",
       "\n",
       "\n",
       "/* Toggleable style: style used for estimator/Pipeline/ColumnTransformer box that is\n",
       "clickable and can be expanded/collapsed.\n",
       "- Pipeline and ColumnTransformer use this feature and define the default style\n",
       "- Estimators will overwrite some part of the style using the `sk-estimator` class\n",
       "*/\n",
       "\n",
       "/* Pipeline and ColumnTransformer style (default) */\n",
       "\n",
       "#sk-container-id-2 div.sk-toggleable {\n",
       "  /* Default theme specific background. It is overwritten whether we have a\n",
       "  specific estimator or a Pipeline/ColumnTransformer */\n",
       "  background-color: var(--sklearn-color-background);\n",
       "}\n",
       "\n",
       "/* Toggleable label */\n",
       "#sk-container-id-2 label.sk-toggleable__label {\n",
       "  cursor: pointer;\n",
       "  display: block;\n",
       "  width: 100%;\n",
       "  margin-bottom: 0;\n",
       "  padding: 0.5em;\n",
       "  box-sizing: border-box;\n",
       "  text-align: center;\n",
       "}\n",
       "\n",
       "#sk-container-id-2 label.sk-toggleable__label-arrow:before {\n",
       "  /* Arrow on the left of the label */\n",
       "  content: \"▸\";\n",
       "  float: left;\n",
       "  margin-right: 0.25em;\n",
       "  color: var(--sklearn-color-icon);\n",
       "}\n",
       "\n",
       "#sk-container-id-2 label.sk-toggleable__label-arrow:hover:before {\n",
       "  color: var(--sklearn-color-text);\n",
       "}\n",
       "\n",
       "/* Toggleable content - dropdown */\n",
       "\n",
       "#sk-container-id-2 div.sk-toggleable__content {\n",
       "  max-height: 0;\n",
       "  max-width: 0;\n",
       "  overflow: hidden;\n",
       "  text-align: left;\n",
       "  /* unfitted */\n",
       "  background-color: var(--sklearn-color-unfitted-level-0);\n",
       "}\n",
       "\n",
       "#sk-container-id-2 div.sk-toggleable__content.fitted {\n",
       "  /* fitted */\n",
       "  background-color: var(--sklearn-color-fitted-level-0);\n",
       "}\n",
       "\n",
       "#sk-container-id-2 div.sk-toggleable__content pre {\n",
       "  margin: 0.2em;\n",
       "  border-radius: 0.25em;\n",
       "  color: var(--sklearn-color-text);\n",
       "  /* unfitted */\n",
       "  background-color: var(--sklearn-color-unfitted-level-0);\n",
       "}\n",
       "\n",
       "#sk-container-id-2 div.sk-toggleable__content.fitted pre {\n",
       "  /* unfitted */\n",
       "  background-color: var(--sklearn-color-fitted-level-0);\n",
       "}\n",
       "\n",
       "#sk-container-id-2 input.sk-toggleable__control:checked~div.sk-toggleable__content {\n",
       "  /* Expand drop-down */\n",
       "  max-height: 200px;\n",
       "  max-width: 100%;\n",
       "  overflow: auto;\n",
       "}\n",
       "\n",
       "#sk-container-id-2 input.sk-toggleable__control:checked~label.sk-toggleable__label-arrow:before {\n",
       "  content: \"▾\";\n",
       "}\n",
       "\n",
       "/* Pipeline/ColumnTransformer-specific style */\n",
       "\n",
       "#sk-container-id-2 div.sk-label input.sk-toggleable__control:checked~label.sk-toggleable__label {\n",
       "  color: var(--sklearn-color-text);\n",
       "  background-color: var(--sklearn-color-unfitted-level-2);\n",
       "}\n",
       "\n",
       "#sk-container-id-2 div.sk-label.fitted input.sk-toggleable__control:checked~label.sk-toggleable__label {\n",
       "  background-color: var(--sklearn-color-fitted-level-2);\n",
       "}\n",
       "\n",
       "/* Estimator-specific style */\n",
       "\n",
       "/* Colorize estimator box */\n",
       "#sk-container-id-2 div.sk-estimator input.sk-toggleable__control:checked~label.sk-toggleable__label {\n",
       "  /* unfitted */\n",
       "  background-color: var(--sklearn-color-unfitted-level-2);\n",
       "}\n",
       "\n",
       "#sk-container-id-2 div.sk-estimator.fitted input.sk-toggleable__control:checked~label.sk-toggleable__label {\n",
       "  /* fitted */\n",
       "  background-color: var(--sklearn-color-fitted-level-2);\n",
       "}\n",
       "\n",
       "#sk-container-id-2 div.sk-label label.sk-toggleable__label,\n",
       "#sk-container-id-2 div.sk-label label {\n",
       "  /* The background is the default theme color */\n",
       "  color: var(--sklearn-color-text-on-default-background);\n",
       "}\n",
       "\n",
       "/* On hover, darken the color of the background */\n",
       "#sk-container-id-2 div.sk-label:hover label.sk-toggleable__label {\n",
       "  color: var(--sklearn-color-text);\n",
       "  background-color: var(--sklearn-color-unfitted-level-2);\n",
       "}\n",
       "\n",
       "/* Label box, darken color on hover, fitted */\n",
       "#sk-container-id-2 div.sk-label.fitted:hover label.sk-toggleable__label.fitted {\n",
       "  color: var(--sklearn-color-text);\n",
       "  background-color: var(--sklearn-color-fitted-level-2);\n",
       "}\n",
       "\n",
       "/* Estimator label */\n",
       "\n",
       "#sk-container-id-2 div.sk-label label {\n",
       "  font-family: monospace;\n",
       "  font-weight: bold;\n",
       "  display: inline-block;\n",
       "  line-height: 1.2em;\n",
       "}\n",
       "\n",
       "#sk-container-id-2 div.sk-label-container {\n",
       "  text-align: center;\n",
       "}\n",
       "\n",
       "/* Estimator-specific */\n",
       "#sk-container-id-2 div.sk-estimator {\n",
       "  font-family: monospace;\n",
       "  border: 1px dotted var(--sklearn-color-border-box);\n",
       "  border-radius: 0.25em;\n",
       "  box-sizing: border-box;\n",
       "  margin-bottom: 0.5em;\n",
       "  /* unfitted */\n",
       "  background-color: var(--sklearn-color-unfitted-level-0);\n",
       "}\n",
       "\n",
       "#sk-container-id-2 div.sk-estimator.fitted {\n",
       "  /* fitted */\n",
       "  background-color: var(--sklearn-color-fitted-level-0);\n",
       "}\n",
       "\n",
       "/* on hover */\n",
       "#sk-container-id-2 div.sk-estimator:hover {\n",
       "  /* unfitted */\n",
       "  background-color: var(--sklearn-color-unfitted-level-2);\n",
       "}\n",
       "\n",
       "#sk-container-id-2 div.sk-estimator.fitted:hover {\n",
       "  /* fitted */\n",
       "  background-color: var(--sklearn-color-fitted-level-2);\n",
       "}\n",
       "\n",
       "/* Specification for estimator info (e.g. \"i\" and \"?\") */\n",
       "\n",
       "/* Common style for \"i\" and \"?\" */\n",
       "\n",
       ".sk-estimator-doc-link,\n",
       "a:link.sk-estimator-doc-link,\n",
       "a:visited.sk-estimator-doc-link {\n",
       "  float: right;\n",
       "  font-size: smaller;\n",
       "  line-height: 1em;\n",
       "  font-family: monospace;\n",
       "  background-color: var(--sklearn-color-background);\n",
       "  border-radius: 1em;\n",
       "  height: 1em;\n",
       "  width: 1em;\n",
       "  text-decoration: none !important;\n",
       "  margin-left: 1ex;\n",
       "  /* unfitted */\n",
       "  border: var(--sklearn-color-unfitted-level-1) 1pt solid;\n",
       "  color: var(--sklearn-color-unfitted-level-1);\n",
       "}\n",
       "\n",
       ".sk-estimator-doc-link.fitted,\n",
       "a:link.sk-estimator-doc-link.fitted,\n",
       "a:visited.sk-estimator-doc-link.fitted {\n",
       "  /* fitted */\n",
       "  border: var(--sklearn-color-fitted-level-1) 1pt solid;\n",
       "  color: var(--sklearn-color-fitted-level-1);\n",
       "}\n",
       "\n",
       "/* On hover */\n",
       "div.sk-estimator:hover .sk-estimator-doc-link:hover,\n",
       ".sk-estimator-doc-link:hover,\n",
       "div.sk-label-container:hover .sk-estimator-doc-link:hover,\n",
       ".sk-estimator-doc-link:hover {\n",
       "  /* unfitted */\n",
       "  background-color: var(--sklearn-color-unfitted-level-3);\n",
       "  color: var(--sklearn-color-background);\n",
       "  text-decoration: none;\n",
       "}\n",
       "\n",
       "div.sk-estimator.fitted:hover .sk-estimator-doc-link.fitted:hover,\n",
       ".sk-estimator-doc-link.fitted:hover,\n",
       "div.sk-label-container:hover .sk-estimator-doc-link.fitted:hover,\n",
       ".sk-estimator-doc-link.fitted:hover {\n",
       "  /* fitted */\n",
       "  background-color: var(--sklearn-color-fitted-level-3);\n",
       "  color: var(--sklearn-color-background);\n",
       "  text-decoration: none;\n",
       "}\n",
       "\n",
       "/* Span, style for the box shown on hovering the info icon */\n",
       ".sk-estimator-doc-link span {\n",
       "  display: none;\n",
       "  z-index: 9999;\n",
       "  position: relative;\n",
       "  font-weight: normal;\n",
       "  right: .2ex;\n",
       "  padding: .5ex;\n",
       "  margin: .5ex;\n",
       "  width: min-content;\n",
       "  min-width: 20ex;\n",
       "  max-width: 50ex;\n",
       "  color: var(--sklearn-color-text);\n",
       "  box-shadow: 2pt 2pt 4pt #999;\n",
       "  /* unfitted */\n",
       "  background: var(--sklearn-color-unfitted-level-0);\n",
       "  border: .5pt solid var(--sklearn-color-unfitted-level-3);\n",
       "}\n",
       "\n",
       ".sk-estimator-doc-link.fitted span {\n",
       "  /* fitted */\n",
       "  background: var(--sklearn-color-fitted-level-0);\n",
       "  border: var(--sklearn-color-fitted-level-3);\n",
       "}\n",
       "\n",
       ".sk-estimator-doc-link:hover span {\n",
       "  display: block;\n",
       "}\n",
       "\n",
       "/* \"?\"-specific style due to the `<a>` HTML tag */\n",
       "\n",
       "#sk-container-id-2 a.estimator_doc_link {\n",
       "  float: right;\n",
       "  font-size: 1rem;\n",
       "  line-height: 1em;\n",
       "  font-family: monospace;\n",
       "  background-color: var(--sklearn-color-background);\n",
       "  border-radius: 1rem;\n",
       "  height: 1rem;\n",
       "  width: 1rem;\n",
       "  text-decoration: none;\n",
       "  /* unfitted */\n",
       "  color: var(--sklearn-color-unfitted-level-1);\n",
       "  border: var(--sklearn-color-unfitted-level-1) 1pt solid;\n",
       "}\n",
       "\n",
       "#sk-container-id-2 a.estimator_doc_link.fitted {\n",
       "  /* fitted */\n",
       "  border: var(--sklearn-color-fitted-level-1) 1pt solid;\n",
       "  color: var(--sklearn-color-fitted-level-1);\n",
       "}\n",
       "\n",
       "/* On hover */\n",
       "#sk-container-id-2 a.estimator_doc_link:hover {\n",
       "  /* unfitted */\n",
       "  background-color: var(--sklearn-color-unfitted-level-3);\n",
       "  color: var(--sklearn-color-background);\n",
       "  text-decoration: none;\n",
       "}\n",
       "\n",
       "#sk-container-id-2 a.estimator_doc_link.fitted:hover {\n",
       "  /* fitted */\n",
       "  background-color: var(--sklearn-color-fitted-level-3);\n",
       "}\n",
       "</style><div id=\"sk-container-id-2\" class=\"sk-top-container\"><div class=\"sk-text-repr-fallback\"><pre>XGBClassifier(base_score=None, booster=None, callbacks=None,\n",
       "              colsample_bylevel=None, colsample_bynode=None,\n",
       "              colsample_bytree=None, device=None, early_stopping_rounds=None,\n",
       "              enable_categorical=False, eval_metric=None, feature_types=None,\n",
       "              feature_weights=None, gamma=None, grow_policy=None,\n",
       "              importance_type=None, interaction_constraints=None,\n",
       "              learning_rate=0.1, max_bin=None, max_cat_threshold=None,\n",
       "              max_cat_to_onehot=None, max_delta_step=None, max_depth=5,\n",
       "              max_leaves=None, min_child_weight=None, missing=nan,\n",
       "              monotone_constraints=None, multi_strategy=None, n_estimators=200,\n",
       "              n_jobs=None, num_parallel_tree=None, ...)</pre><b>In a Jupyter environment, please rerun this cell to show the HTML representation or trust the notebook. <br />On GitHub, the HTML representation is unable to render, please try loading this page with nbviewer.org.</b></div><div class=\"sk-container\" hidden><div class=\"sk-item\"><div class=\"sk-estimator fitted sk-toggleable\"><input class=\"sk-toggleable__control sk-hidden--visually\" id=\"sk-estimator-id-2\" type=\"checkbox\" checked><label for=\"sk-estimator-id-2\" class=\"sk-toggleable__label fitted sk-toggleable__label-arrow fitted\">&nbsp;&nbsp;XGBClassifier<a class=\"sk-estimator-doc-link fitted\" rel=\"noreferrer\" target=\"_blank\" href=\"https://xgboost.readthedocs.io/en/release_3.0.0/python/python_api.html#xgboost.XGBClassifier\">?<span>Documentation for XGBClassifier</span></a><span class=\"sk-estimator-doc-link fitted\">i<span>Fitted</span></span></label><div class=\"sk-toggleable__content fitted\"><pre>XGBClassifier(base_score=None, booster=None, callbacks=None,\n",
       "              colsample_bylevel=None, colsample_bynode=None,\n",
       "              colsample_bytree=None, device=None, early_stopping_rounds=None,\n",
       "              enable_categorical=False, eval_metric=None, feature_types=None,\n",
       "              feature_weights=None, gamma=None, grow_policy=None,\n",
       "              importance_type=None, interaction_constraints=None,\n",
       "              learning_rate=0.1, max_bin=None, max_cat_threshold=None,\n",
       "              max_cat_to_onehot=None, max_delta_step=None, max_depth=5,\n",
       "              max_leaves=None, min_child_weight=None, missing=nan,\n",
       "              monotone_constraints=None, multi_strategy=None, n_estimators=200,\n",
       "              n_jobs=None, num_parallel_tree=None, ...)</pre></div> </div></div></div></div>"
      ],
      "text/plain": [
       "XGBClassifier(base_score=None, booster=None, callbacks=None,\n",
       "              colsample_bylevel=None, colsample_bynode=None,\n",
       "              colsample_bytree=None, device=None, early_stopping_rounds=None,\n",
       "              enable_categorical=False, eval_metric=None, feature_types=None,\n",
       "              feature_weights=None, gamma=None, grow_policy=None,\n",
       "              importance_type=None, interaction_constraints=None,\n",
       "              learning_rate=0.1, max_bin=None, max_cat_threshold=None,\n",
       "              max_cat_to_onehot=None, max_delta_step=None, max_depth=5,\n",
       "              max_leaves=None, min_child_weight=None, missing=nan,\n",
       "              monotone_constraints=None, multi_strategy=None, n_estimators=200,\n",
       "              n_jobs=None, num_parallel_tree=None, ...)"
      ]
     },
     "execution_count": 53,
     "metadata": {},
     "output_type": "execute_result"
    }
   ],
   "source": [
    "# 여기에 답안을 작성하세요.\n",
    "xgbc = XGBClassifier(n_estimators = 200, max_depth = 5, learning_rate = 0.1, random_state = 42)\n",
    "xgbc.fit(X_train, y_train)"
   ]
  },
  {
   "cell_type": "markdown",
   "id": "6f6463a4-d8c9-420d-9b6a-b236ad584f9b",
   "metadata": {
    "jp-MarkdownHeadingCollapsed": true
   },
   "source": [
    "##### **정답코드**"
   ]
  },
  {
   "cell_type": "code",
   "execution_count": null,
   "id": "ed263fd0-585a-4ba7-85f1-c27d74d136ee",
   "metadata": {},
   "outputs": [],
   "source": [
    "xgbc = XGBClassifier(n_estimators = 200, max_depth = 5, learning_rate = 0.1, random_state = 42)\n",
    "xgbc.fit(X_train, y_train)"
   ]
  },
  {
   "cell_type": "markdown",
   "id": "b7e20891",
   "metadata": {},
   "source": [
    "\n",
    "### 문제 12. 모델 성능 평가\n",
    "\n",
    "🎯 목표  \n",
    "학습된 모델의 정확도와 F1 점수를 비교합니다.\n",
    "\n",
    "📑 조건  \n",
    "- randomforest의 predict를 이용하여 검증 데이터를 예측하고, 예측된 데이터는 rfc_predict변수에 저장하여 주세요.\n",
    "- xgboost의 predict를 이용하여 검증 데이터를 예측하고, 예측된 데이터는 xgbc_predict변수에 저장하여 주세요.\n",
    "- accuracy_score와 f1_score를 사용하여 두 모델의 성능을 비교하고, 정확도가 더 높은 모델을 답12 변수에 저장하세요.(예 : 답12 = 'RF' or 'XGBC')  \n"
   ]
  },
  {
   "cell_type": "code",
   "execution_count": 59,
   "id": "58abcfde",
   "metadata": {},
   "outputs": [
    {
     "name": "stdout",
     "output_type": "stream",
     "text": [
      "RandomForest\n",
      "RF acc  0.428\n",
      "RF f1  0.3700440528634361\n",
      "XGBoost\n",
      "XGB acc  0.628\n",
      "XGB f1  0.24390243902439024\n"
     ]
    },
    {
     "name": "stderr",
     "output_type": "stream",
     "text": [
      "C:\\Users\\MEDIA-CAM2\\anaconda3\\Lib\\site-packages\\sklearn\\base.py:486: UserWarning: X has feature names, but RandomForestClassifier was fitted without feature names\n",
      "  warnings.warn(\n"
     ]
    }
   ],
   "source": [
    "# 여기에 답안을 작성하세요.\n",
    "from sklearn.metrics import accuracy_score, f1_score\n",
    "\n",
    "rfc_predict = rfc.predict(X_valid)\n",
    "xgbc_predict = xgbc.predict(X_valid)\n",
    "\n",
    "print('RandomForest')\n",
    "print('RF acc ', accuracy_score(y_valid, rfc_predict))\n",
    "print('RF f1 ', f1_score(y_valid, rfc_predict))\n",
    "\n",
    "print('XGBoost')\n",
    "print('XGB acc ', accuracy_score(y_valid, xgbc_predict))\n",
    "print('XGB f1 ', f1_score(y_valid, xgbc_predict))\n",
    "답12 = 'XGBC'"
   ]
  },
  {
   "cell_type": "markdown",
   "id": "884ee8a8-9c3c-4d94-be55-7aee86082ace",
   "metadata": {
    "jp-MarkdownHeadingCollapsed": true
   },
   "source": [
    "##### **정답코드**"
   ]
  },
  {
   "cell_type": "code",
   "execution_count": null,
   "id": "95a0ea5a-fdd7-4d73-8f20-ca171d06d5e5",
   "metadata": {},
   "outputs": [],
   "source": [
    "from sklearn.metrics import accuracy_score, f1_score\n",
    "\n",
    "rfc_predict = rfc.predict(X_valid)\n",
    "xgbc_predict = xgbc.predict(X_valid)\n",
    "\n",
    "print(\"Random Forest\")\n",
    "print(\"Accuracy:\", accuracy_score(y_valid, rfc_predict))\n",
    "print(\"F1 Score:\", f1_score(y_valid, rfc_predict))\n",
    "\n",
    "print(\"XGBoost\")\n",
    "print(\"Accuracy:\", accuracy_score(y_valid, xgbc_predict))\n",
    "print(\"F1 Score:\", f1_score(y_valid, xgbc_predict))\n",
    "\n",
    "답12 = 'XGBC'"
   ]
  },
  {
   "cell_type": "markdown",
   "id": "54525b88",
   "metadata": {},
   "source": [
    "\n",
    "### 문제 13. 딥러닝 분류 모델 설계 및 학습\n",
    "\n",
    "🎯 목표  \n",
    "딥러닝 모델을 구성하여 이탈 여부를 예측합니다.\n",
    "\n",
    "[사전 실행 지시사항]\n",
    "- 아래 셀을 실행하여 TensorFlow 라이브러리를 불러오세요.\n"
   ]
  },
  {
   "cell_type": "code",
   "execution_count": 61,
   "id": "a3f9dd04",
   "metadata": {},
   "outputs": [],
   "source": [
    "import tensorflow as tf\n",
    "from tensorflow.keras.models import Sequential\n",
    "from tensorflow.keras.layers import Dense, BatchNormalization\n",
    "from tensorflow.keras.callbacks import EarlyStopping\n",
    "tf.random.set_seed(10)"
   ]
  },
  {
   "cell_type": "markdown",
   "id": "585cb78c",
   "metadata": {},
   "source": [
    "\n",
    "📑 조건  \n",
    "- 다음을 보고 모델을 구성하고 학습하세요.\n",
    "  \n",
    "  ##### **모델 구조**\n",
    "  - Dense(64, selu) → BatchNormalization  \n",
    "  - Dense(32, selu) → BatchNormalization  \n",
    "  - Dense(16, selu)  \n",
    "  - Dense(1, sigmoid)\n",
    "  \n",
    "  ##### **학습 설정**\n",
    "\n",
    "  - Optimizer: adam  \n",
    "  - Loss: binary_crossentropy  \n",
    "  - Metric: accuracy  \n",
    "  - Epochs: 45  \n",
    "  - Batch size: 32  \n"
   ]
  },
  {
   "cell_type": "code",
   "execution_count": 71,
   "id": "687b98d5",
   "metadata": {
    "scrolled": true
   },
   "outputs": [
    {
     "name": "stdout",
     "output_type": "stream",
     "text": [
      "Epoch 1/45\n"
     ]
    },
    {
     "name": "stderr",
     "output_type": "stream",
     "text": [
      "C:\\Users\\MEDIA-CAM2\\anaconda3\\Lib\\site-packages\\keras\\src\\layers\\core\\dense.py:87: UserWarning: Do not pass an `input_shape`/`input_dim` argument to a layer. When using Sequential models, prefer using an `Input(shape)` object as the first layer in the model instead.\n",
      "  super().__init__(activity_regularizer=activity_regularizer, **kwargs)\n"
     ]
    },
    {
     "name": "stdout",
     "output_type": "stream",
     "text": [
      "\u001b[1m32/32\u001b[0m \u001b[32m━━━━━━━━━━━━━━━━━━━━\u001b[0m\u001b[37m\u001b[0m \u001b[1m3s\u001b[0m 5ms/step - accuracy: 0.6940 - loss: nan  \n",
      "Epoch 2/45\n",
      "\u001b[1m32/32\u001b[0m \u001b[32m━━━━━━━━━━━━━━━━━━━━\u001b[0m\u001b[37m\u001b[0m \u001b[1m0s\u001b[0m 4ms/step - accuracy: 0.6863 - loss: nan\n",
      "Epoch 3/45\n",
      "\u001b[1m32/32\u001b[0m \u001b[32m━━━━━━━━━━━━━━━━━━━━\u001b[0m\u001b[37m\u001b[0m \u001b[1m0s\u001b[0m 5ms/step - accuracy: 0.6863 - loss: nan\n",
      "Epoch 4/45\n",
      "\u001b[1m32/32\u001b[0m \u001b[32m━━━━━━━━━━━━━━━━━━━━\u001b[0m\u001b[37m\u001b[0m \u001b[1m0s\u001b[0m 5ms/step - accuracy: 0.6863 - loss: nan\n",
      "Epoch 5/45\n",
      "\u001b[1m32/32\u001b[0m \u001b[32m━━━━━━━━━━━━━━━━━━━━\u001b[0m\u001b[37m\u001b[0m \u001b[1m0s\u001b[0m 6ms/step - accuracy: 0.6863 - loss: nan\n",
      "Epoch 6/45\n",
      "\u001b[1m32/32\u001b[0m \u001b[32m━━━━━━━━━━━━━━━━━━━━\u001b[0m\u001b[37m\u001b[0m \u001b[1m0s\u001b[0m 5ms/step - accuracy: 0.6863 - loss: nan\n",
      "Epoch 7/45\n",
      "\u001b[1m32/32\u001b[0m \u001b[32m━━━━━━━━━━━━━━━━━━━━\u001b[0m\u001b[37m\u001b[0m \u001b[1m0s\u001b[0m 6ms/step - accuracy: 0.6863 - loss: nan\n",
      "Epoch 8/45\n",
      "\u001b[1m32/32\u001b[0m \u001b[32m━━━━━━━━━━━━━━━━━━━━\u001b[0m\u001b[37m\u001b[0m \u001b[1m0s\u001b[0m 4ms/step - accuracy: 0.6863 - loss: nan\n",
      "Epoch 9/45\n",
      "\u001b[1m32/32\u001b[0m \u001b[32m━━━━━━━━━━━━━━━━━━━━\u001b[0m\u001b[37m\u001b[0m \u001b[1m0s\u001b[0m 5ms/step - accuracy: 0.6863 - loss: nan\n",
      "Epoch 10/45\n",
      "\u001b[1m32/32\u001b[0m \u001b[32m━━━━━━━━━━━━━━━━━━━━\u001b[0m\u001b[37m\u001b[0m \u001b[1m0s\u001b[0m 5ms/step - accuracy: 0.6863 - loss: nan\n",
      "Epoch 11/45\n",
      "\u001b[1m32/32\u001b[0m \u001b[32m━━━━━━━━━━━━━━━━━━━━\u001b[0m\u001b[37m\u001b[0m \u001b[1m0s\u001b[0m 6ms/step - accuracy: 0.6863 - loss: nan\n",
      "Epoch 12/45\n",
      "\u001b[1m32/32\u001b[0m \u001b[32m━━━━━━━━━━━━━━━━━━━━\u001b[0m\u001b[37m\u001b[0m \u001b[1m0s\u001b[0m 5ms/step - accuracy: 0.6863 - loss: nan\n",
      "Epoch 13/45\n",
      "\u001b[1m32/32\u001b[0m \u001b[32m━━━━━━━━━━━━━━━━━━━━\u001b[0m\u001b[37m\u001b[0m \u001b[1m0s\u001b[0m 5ms/step - accuracy: 0.6863 - loss: nan\n",
      "Epoch 14/45\n",
      "\u001b[1m32/32\u001b[0m \u001b[32m━━━━━━━━━━━━━━━━━━━━\u001b[0m\u001b[37m\u001b[0m \u001b[1m0s\u001b[0m 5ms/step - accuracy: 0.6863 - loss: nan\n",
      "Epoch 15/45\n",
      "\u001b[1m32/32\u001b[0m \u001b[32m━━━━━━━━━━━━━━━━━━━━\u001b[0m\u001b[37m\u001b[0m \u001b[1m0s\u001b[0m 5ms/step - accuracy: 0.6863 - loss: nan\n",
      "Epoch 16/45\n",
      "\u001b[1m32/32\u001b[0m \u001b[32m━━━━━━━━━━━━━━━━━━━━\u001b[0m\u001b[37m\u001b[0m \u001b[1m0s\u001b[0m 5ms/step - accuracy: 0.6863 - loss: nan\n",
      "Epoch 17/45\n",
      "\u001b[1m32/32\u001b[0m \u001b[32m━━━━━━━━━━━━━━━━━━━━\u001b[0m\u001b[37m\u001b[0m \u001b[1m0s\u001b[0m 5ms/step - accuracy: 0.6863 - loss: nan\n",
      "Epoch 18/45\n",
      "\u001b[1m32/32\u001b[0m \u001b[32m━━━━━━━━━━━━━━━━━━━━\u001b[0m\u001b[37m\u001b[0m \u001b[1m0s\u001b[0m 5ms/step - accuracy: 0.6863 - loss: nan\n",
      "Epoch 19/45\n",
      "\u001b[1m32/32\u001b[0m \u001b[32m━━━━━━━━━━━━━━━━━━━━\u001b[0m\u001b[37m\u001b[0m \u001b[1m0s\u001b[0m 5ms/step - accuracy: 0.6863 - loss: nan\n",
      "Epoch 20/45\n",
      "\u001b[1m32/32\u001b[0m \u001b[32m━━━━━━━━━━━━━━━━━━━━\u001b[0m\u001b[37m\u001b[0m \u001b[1m0s\u001b[0m 5ms/step - accuracy: 0.6863 - loss: nan\n",
      "Epoch 21/45\n",
      "\u001b[1m32/32\u001b[0m \u001b[32m━━━━━━━━━━━━━━━━━━━━\u001b[0m\u001b[37m\u001b[0m \u001b[1m0s\u001b[0m 5ms/step - accuracy: 0.6863 - loss: nan\n",
      "Epoch 22/45\n",
      "\u001b[1m32/32\u001b[0m \u001b[32m━━━━━━━━━━━━━━━━━━━━\u001b[0m\u001b[37m\u001b[0m \u001b[1m0s\u001b[0m 5ms/step - accuracy: 0.6863 - loss: nan\n",
      "Epoch 23/45\n",
      "\u001b[1m32/32\u001b[0m \u001b[32m━━━━━━━━━━━━━━━━━━━━\u001b[0m\u001b[37m\u001b[0m \u001b[1m0s\u001b[0m 5ms/step - accuracy: 0.6863 - loss: nan\n",
      "Epoch 24/45\n",
      "\u001b[1m32/32\u001b[0m \u001b[32m━━━━━━━━━━━━━━━━━━━━\u001b[0m\u001b[37m\u001b[0m \u001b[1m0s\u001b[0m 4ms/step - accuracy: 0.6863 - loss: nan\n",
      "Epoch 25/45\n",
      "\u001b[1m32/32\u001b[0m \u001b[32m━━━━━━━━━━━━━━━━━━━━\u001b[0m\u001b[37m\u001b[0m \u001b[1m0s\u001b[0m 4ms/step - accuracy: 0.6863 - loss: nan\n",
      "Epoch 26/45\n",
      "\u001b[1m32/32\u001b[0m \u001b[32m━━━━━━━━━━━━━━━━━━━━\u001b[0m\u001b[37m\u001b[0m \u001b[1m0s\u001b[0m 5ms/step - accuracy: 0.6863 - loss: nan\n",
      "Epoch 27/45\n",
      "\u001b[1m32/32\u001b[0m \u001b[32m━━━━━━━━━━━━━━━━━━━━\u001b[0m\u001b[37m\u001b[0m \u001b[1m0s\u001b[0m 5ms/step - accuracy: 0.6863 - loss: nan\n",
      "Epoch 28/45\n",
      "\u001b[1m32/32\u001b[0m \u001b[32m━━━━━━━━━━━━━━━━━━━━\u001b[0m\u001b[37m\u001b[0m \u001b[1m0s\u001b[0m 5ms/step - accuracy: 0.6863 - loss: nan\n",
      "Epoch 29/45\n",
      "\u001b[1m32/32\u001b[0m \u001b[32m━━━━━━━━━━━━━━━━━━━━\u001b[0m\u001b[37m\u001b[0m \u001b[1m0s\u001b[0m 4ms/step - accuracy: 0.6863 - loss: nan\n",
      "Epoch 30/45\n",
      "\u001b[1m32/32\u001b[0m \u001b[32m━━━━━━━━━━━━━━━━━━━━\u001b[0m\u001b[37m\u001b[0m \u001b[1m0s\u001b[0m 5ms/step - accuracy: 0.6863 - loss: nan\n",
      "Epoch 31/45\n",
      "\u001b[1m32/32\u001b[0m \u001b[32m━━━━━━━━━━━━━━━━━━━━\u001b[0m\u001b[37m\u001b[0m \u001b[1m0s\u001b[0m 5ms/step - accuracy: 0.6863 - loss: nan\n",
      "Epoch 32/45\n",
      "\u001b[1m32/32\u001b[0m \u001b[32m━━━━━━━━━━━━━━━━━━━━\u001b[0m\u001b[37m\u001b[0m \u001b[1m0s\u001b[0m 5ms/step - accuracy: 0.6863 - loss: nan\n",
      "Epoch 33/45\n",
      "\u001b[1m32/32\u001b[0m \u001b[32m━━━━━━━━━━━━━━━━━━━━\u001b[0m\u001b[37m\u001b[0m \u001b[1m0s\u001b[0m 5ms/step - accuracy: 0.6863 - loss: nan\n",
      "Epoch 34/45\n",
      "\u001b[1m32/32\u001b[0m \u001b[32m━━━━━━━━━━━━━━━━━━━━\u001b[0m\u001b[37m\u001b[0m \u001b[1m0s\u001b[0m 5ms/step - accuracy: 0.6863 - loss: nan\n",
      "Epoch 35/45\n",
      "\u001b[1m32/32\u001b[0m \u001b[32m━━━━━━━━━━━━━━━━━━━━\u001b[0m\u001b[37m\u001b[0m \u001b[1m0s\u001b[0m 4ms/step - accuracy: 0.6863 - loss: nan\n",
      "Epoch 36/45\n",
      "\u001b[1m32/32\u001b[0m \u001b[32m━━━━━━━━━━━━━━━━━━━━\u001b[0m\u001b[37m\u001b[0m \u001b[1m0s\u001b[0m 5ms/step - accuracy: 0.6863 - loss: nan\n",
      "Epoch 37/45\n",
      "\u001b[1m32/32\u001b[0m \u001b[32m━━━━━━━━━━━━━━━━━━━━\u001b[0m\u001b[37m\u001b[0m \u001b[1m0s\u001b[0m 6ms/step - accuracy: 0.6863 - loss: nan\n",
      "Epoch 38/45\n",
      "\u001b[1m32/32\u001b[0m \u001b[32m━━━━━━━━━━━━━━━━━━━━\u001b[0m\u001b[37m\u001b[0m \u001b[1m0s\u001b[0m 5ms/step - accuracy: 0.6863 - loss: nan\n",
      "Epoch 39/45\n",
      "\u001b[1m32/32\u001b[0m \u001b[32m━━━━━━━━━━━━━━━━━━━━\u001b[0m\u001b[37m\u001b[0m \u001b[1m0s\u001b[0m 6ms/step - accuracy: 0.6863 - loss: nan\n",
      "Epoch 40/45\n",
      "\u001b[1m32/32\u001b[0m \u001b[32m━━━━━━━━━━━━━━━━━━━━\u001b[0m\u001b[37m\u001b[0m \u001b[1m0s\u001b[0m 4ms/step - accuracy: 0.6863 - loss: nan\n",
      "Epoch 41/45\n",
      "\u001b[1m32/32\u001b[0m \u001b[32m━━━━━━━━━━━━━━━━━━━━\u001b[0m\u001b[37m\u001b[0m \u001b[1m0s\u001b[0m 5ms/step - accuracy: 0.6863 - loss: nan\n",
      "Epoch 42/45\n",
      "\u001b[1m32/32\u001b[0m \u001b[32m━━━━━━━━━━━━━━━━━━━━\u001b[0m\u001b[37m\u001b[0m \u001b[1m0s\u001b[0m 5ms/step - accuracy: 0.6863 - loss: nan\n",
      "Epoch 43/45\n",
      "\u001b[1m32/32\u001b[0m \u001b[32m━━━━━━━━━━━━━━━━━━━━\u001b[0m\u001b[37m\u001b[0m \u001b[1m0s\u001b[0m 5ms/step - accuracy: 0.6863 - loss: nan\n",
      "Epoch 44/45\n",
      "\u001b[1m32/32\u001b[0m \u001b[32m━━━━━━━━━━━━━━━━━━━━\u001b[0m\u001b[37m\u001b[0m \u001b[1m0s\u001b[0m 5ms/step - accuracy: 0.6863 - loss: nan\n",
      "Epoch 45/45\n",
      "\u001b[1m32/32\u001b[0m \u001b[32m━━━━━━━━━━━━━━━━━━━━\u001b[0m\u001b[37m\u001b[0m \u001b[1m0s\u001b[0m 5ms/step - accuracy: 0.6863 - loss: nan\n"
     ]
    },
    {
     "data": {
      "text/plain": [
       "<keras.src.callbacks.history.History at 0x1a68906a210>"
      ]
     },
     "execution_count": 71,
     "metadata": {},
     "output_type": "execute_result"
    }
   ],
   "source": [
    "# 여기에 답안을 작성하세요.\n",
    "model = Sequential()\n",
    "model.add(Dense(64, activation='selu', input_shape=(X_train.shape[1],)))\n",
    "model.add(BatchNormalization())\n",
    "model.add(Dense(32, activation='selu'))\n",
    "model.add(BatchNormalization())\n",
    "model.add(Dense(16, activation='selu'))\n",
    "model.add(Dense(1, activation='sigmoid'))\n",
    "\n",
    "model.compile(optimizer = 'adam',\n",
    "              loss = 'binary_crossentropy',\n",
    "              metrics = ['accuracy'])\n",
    "\n",
    "model.fit(X_train, y_train,\n",
    "          epochs = 45,\n",
    "          batch_size = 32)"
   ]
  },
  {
   "cell_type": "markdown",
   "id": "a5e8b188-3f39-463f-87b0-bc5f026c6dd7",
   "metadata": {
    "jp-MarkdownHeadingCollapsed": true
   },
   "source": [
    "##### **정답코드**"
   ]
  },
  {
   "cell_type": "code",
   "execution_count": null,
   "id": "26e3bc67-9c49-40e1-9132-f9b321da65d6",
   "metadata": {},
   "outputs": [],
   "source": [
    "model = Sequential()\n",
    "model.add(Dense(64, activation='selu', input_shape=(X_train.shape[1],)))\n",
    "model.add(BatchNormalization())\n",
    "model.add(Dense(32, activation='selu'))\n",
    "model.add(BatchNormalization())\n",
    "model.add(Dense(16, activation='selu'))\n",
    "model.add(Dense(1, activation='sigmoid'))\n",
    "\n",
    "model.compile(\n",
    "    optimizer='adam',\n",
    "    loss='binary_crossentropy',\n",
    "    metrics=['accuracy']\n",
    ")\n",
    "\n",
    "model.fit(\n",
    "    X_train, y_train,\n",
    "    epochs=45,\n",
    "    batch_size=32\n",
    ")"
   ]
  },
  {
   "cell_type": "markdown",
   "id": "ef1879d6",
   "metadata": {},
   "source": [
    "\n",
    "### 문제 14. 딥러닝 모델을 이용한 시뮬레이션 예측\n",
    "\n",
    "🖋 상황 설명   \n",
    "딥러닝 모델을 이용해 새로운 데이터를 예측합니다.\n",
    "\n",
    "[사전 실행 지시사항]\n",
    "- 아래 셀을 실행하여 시뮬레이션 데이터를 생성하세요.\n"
   ]
  },
  {
   "cell_type": "code",
   "execution_count": 73,
   "id": "d3c6c982",
   "metadata": {},
   "outputs": [],
   "source": [
    "simul_data = np.array([[0.3, 0.5, 0.7, 120]])"
   ]
  },
  {
   "cell_type": "markdown",
   "id": "abf4b711",
   "metadata": {},
   "source": [
    "\n",
    "📑 조건  \n",
    "- simul_data를 이용해 예측 결과를 출력하고 해당 결과를 deep_pre 변수로 저장하세요.\n",
    "- 저장된 데이터는 sigmoid로 인해 확률 값을 나타내고 있습니다.\n",
    "  - 0.5를 기준으로 미만이면 0, 이상이면 1로 저장하는 코드를 작성하고 해당 값을 '답14' 변수에 저장하세요.\n",
    "  - numpy의 where을 사용하여 처리하세요.\n"
   ]
  },
  {
   "cell_type": "code",
   "execution_count": 81,
   "id": "bff4696f",
   "metadata": {},
   "outputs": [
    {
     "name": "stdout",
     "output_type": "stream",
     "text": [
      "\u001b[1m1/1\u001b[0m \u001b[32m━━━━━━━━━━━━━━━━━━━━\u001b[0m\u001b[37m\u001b[0m \u001b[1m0s\u001b[0m 74ms/step\n"
     ]
    },
    {
     "data": {
      "text/plain": [
       "array([[0]])"
      ]
     },
     "execution_count": 81,
     "metadata": {},
     "output_type": "execute_result"
    }
   ],
   "source": [
    "# 여기에 답안을 작성하세요.\n",
    "deep_pre = model.predict(simul_data)\n",
    "\n",
    "답14 = np.where(deep_pre >= 0.5, 1, 0)\n",
    "답14"
   ]
  },
  {
   "cell_type": "markdown",
   "id": "f436546d-404d-496c-85b9-5cef4264fd65",
   "metadata": {
    "jp-MarkdownHeadingCollapsed": true
   },
   "source": [
    "##### **정답코드**"
   ]
  },
  {
   "cell_type": "code",
   "execution_count": null,
   "id": "821aaa47-3054-429d-aaef-8fac712cfc7f",
   "metadata": {},
   "outputs": [],
   "source": [
    "deep_pre = model.predict(simul_data)\n",
    "\n",
    "답14 = np.where(deep_pre >= 0.5, 1, 0)"
   ]
  }
 ],
 "metadata": {
  "kernelspec": {
   "display_name": "Python 3 (ipykernel)",
   "language": "python",
   "name": "python3"
  },
  "language_info": {
   "codemirror_mode": {
    "name": "ipython",
    "version": 3
   },
   "file_extension": ".py",
   "mimetype": "text/x-python",
   "name": "python",
   "nbconvert_exporter": "python",
   "pygments_lexer": "ipython3",
   "version": "3.12.4"
  }
 },
 "nbformat": 4,
 "nbformat_minor": 5
}
