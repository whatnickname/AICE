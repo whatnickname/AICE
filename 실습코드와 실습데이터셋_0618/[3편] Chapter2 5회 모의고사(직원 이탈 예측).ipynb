{
 "cells": [
  {
   "cell_type": "markdown",
   "id": "5f2c4e5b-1f79-4cf9-85e8-5c0b6a4d5fe0",
   "metadata": {},
   "source": [
    "# <font color=\"#2E86C1\"><b>AICE Associate 5회 모의고사</b></font>\n",
    "---"
   ]
  },
  {
   "cell_type": "markdown",
   "id": "868efb7e-f600-45ce-a0e0-a9ce8ef27082",
   "metadata": {},
   "source": [
    "## <font color=\"#117A65\"><b>직원 이탈 예측</b></font>"
   ]
  },
  {
   "cell_type": "markdown",
   "id": "453792d4-acf9-47c0-be2f-b5768e944178",
   "metadata": {},
   "source": [
    "### <font color=\"#5D6D7E\"><b>목적</b></font>\n",
    "<b>직원 이탈 가능성이 높은 인원을 사전에 예측</b>하여  \n",
    "조직의 인사관리 전략에 활용할 수 있도록  \n",
    "직원 특성 데이터를 기반으로 예측 모델을 구축합니다.  \n",
    "\n",
    "### <font color=\"#5D6D7E\"><b>배경 시나리오</b></font>  \n",
    "<b>B사</b>는 최근 퇴사율이 증가하면서 인재 유출에 대한 우려가 커지고 있습니다.  \n",
    "회사는 직원들이 어떤 특성을 보일 때 이탈 가능성이 높은지를 파악하고,  \n",
    "이를 위해 다양한 직원 정보를 수집하고,\n",
    "<b>이직 여부</b>를 예측하는 모델을 구축하고자 합니다.\n",
    "\n",
    "---"
   ]
  },
  {
   "cell_type": "markdown",
   "id": "c7c8e721-c53e-4a2c-8fd3-8c9011032b08",
   "metadata": {},
   "source": [
    "### 📊 데이터 설명\n",
    "**파일 이름:** `employee_churn.csv`\n",
    "\n",
    "| 컬럼명               | 설명                                                                 |\n",
    "|----------------------|----------------------------------------------------------------------|\n",
    "| `years_experience`   | 근속 연수 (년 단위, 연속형)                                          |\n",
    "| `salary`             | 급여 수준                                       |\n",
    "| `education_level`    | 교육 수준 (예: `High School`, `Bachelor`, `Master`, `PhD` 등)        |\n",
    "| `department`         | 부서명 (예: `Sales`, `R&D`, `HR`, `Finance`, `Engineering` 등)       |\n",
    "| `overtime`           | 초과근무 여부 (Y/N)                                |\n",
    "| `job_satisfaction`   | 직무 만족도 (1~5 점 척도)                                            |\n",
    "| `work_life_balance`  | 일과 삶의 균형 만족도 (1~5 점 척도)                                 |\n",
    "| `attrition`          | **이직 여부 (`1`: 이직함, `0`: 재직 중)** ← ⭐ **예측 대상 변수**\n",
    "\n",
    "---"
   ]
  },
  {
   "cell_type": "markdown",
   "id": "d69234bf",
   "metadata": {},
   "source": [
    "\n",
    "### 문제 1. 라이브러리 불러오기\n",
    "\n",
    "🎯 목표  \n",
    "데이터 분석을 위해 pandas, numpy, seaborn, matplotlib 라이브러리를 불러옵니다.\n",
    "\n",
    "📑 조건  \n",
    "- pandas를 `pd`, numpy를 `np`, seaborn을 `sns`, matplotlib.pyplot을 `plt`로 임포트하세요.\n"
   ]
  },
  {
   "cell_type": "code",
   "execution_count": 318,
   "id": "902ca9a2",
   "metadata": {},
   "outputs": [],
   "source": [
    "# 여기에 답안코드를 작성하세요.\n"
   ]
  },
  {
   "cell_type": "markdown",
   "id": "0653cdc4-e2d1-4700-a38f-fb26194b5533",
   "metadata": {},
   "source": [
    "##### **정답코드**"
   ]
  },
  {
   "cell_type": "code",
   "execution_count": null,
   "id": "61e261ca-57e0-48f9-96af-5eb0079129d8",
   "metadata": {},
   "outputs": [],
   "source": [
    "import pandas as pd\n",
    "import numpy as np\n",
    "import seaborn as sns\n",
    "import matplotlib.pyplot as plt"
   ]
  },
  {
   "cell_type": "markdown",
   "id": "8e2fac88",
   "metadata": {},
   "source": [
    "## [문제 2] 데이터 불러오기\n",
    " \n",
    "🖋 상황 설명  \n",
    "`employee_churn.csv` 파일을 불러오려 합니다.\n",
    "\n",
    "🎯 목표\n",
    "- 파일을 읽어 churn_df라는 이름의 데이터프레임으로 저장하세요.\n",
    "\n",
    "📑 조건\n",
    "- 파일명: employee_churn.csv"
   ]
  },
  {
   "cell_type": "code",
   "execution_count": 316,
   "id": "4b4ae1c9",
   "metadata": {},
   "outputs": [],
   "source": [
    "# 여기에 답안코드를 작성하세요.\n"
   ]
  },
  {
   "cell_type": "markdown",
   "id": "c0e17bb7-f9c3-44f1-9a59-8e371ffea599",
   "metadata": {},
   "source": [
    "##### **정답코드**"
   ]
  },
  {
   "cell_type": "code",
   "execution_count": null,
   "id": "05b47804-c48b-4665-b496-0141efd4ad06",
   "metadata": {},
   "outputs": [],
   "source": [
    "churn_df = pd.read_csv('employee_churn.csv')\n",
    "churn_df"
   ]
  },
  {
   "cell_type": "markdown",
   "id": "25d6d671",
   "metadata": {},
   "source": [
    "## [문제 3] 데이터 확인\n",
    "\n",
    "🖋 상황 설명  \n",
    "work_life_balance(일과 삶의 균형 만족도)와 department(부서명)에 따른 overtime(초과근무)를 시각화를 통해 보고자합니다.\n",
    "\n",
    "🎯 목표\n",
    "- seaborn의 barplot()을 이용하여 그래프를 만드세요.\n",
    "- x= 'department', y='work_life_balance', hue='overtime'\n",
    "- 4지 선다의 문제를 보고 정답을 답03 변수에 저장하세요.\n",
    "\n",
    "다음 중 부서(department)와 초과근무 여부(overtime)에 따른 work_life_balance 평균 비교 결과에 대한 설명으로 가장 적절한 것은 무엇인가?\n",
    "\n",
    "1. 모든 부서에서 초과근무를 하지 않는 직원들의 work_life_balance가 더 높다.\n",
    "2. finance 부서는 초과근무를 하는 직원의 work_life_balance가 더 높다.\n",
    "3. engineering 부서는 초과근무 여부와 관계없이 work_life_balance에 큰 차이가 없다.\n",
    "4. sales 부서는 초과근무를 하는 직원의 work_life_balance가 더 높다."
   ]
  },
  {
   "cell_type": "code",
   "execution_count": 312,
   "id": "cf5286f7",
   "metadata": {},
   "outputs": [],
   "source": [
    "# 여기에 답안코드를 작성하세요.\n"
   ]
  },
  {
   "cell_type": "markdown",
   "id": "db5c5360-3429-4692-8a9f-0693e8d30b5c",
   "metadata": {},
   "source": [
    "##### **정답코드**"
   ]
  },
  {
   "cell_type": "code",
   "execution_count": null,
   "id": "47131245-4a71-4396-8c46-02b2a003b248",
   "metadata": {},
   "outputs": [],
   "source": [
    "sns.barplot(data=churn_df, x= 'department', y='work_life_balance', hue='overtime')\n",
    "답03 = 2"
   ]
  },
  {
   "cell_type": "markdown",
   "id": "f1b436c4",
   "metadata": {},
   "source": [
    "## [문제 4] 결측치 처리\n",
    "\n",
    "🖋 상황 설명  \n",
    "결측치가 있는 컬럼을 찾고, 결측치가 존재하는 행을 지우고자 합니다.\n",
    "\n",
    "🎯 목표\n",
    "- 결측치를 찾는 코드를 작성하고, 결측치가 존재하는 컬럼명을 답04 변수에 저장하세요(예 : 답04 = 'overtime, attrition')\n",
    "- 결측치가 존재하는 행을 지우고 처리한 데이터를 pre_df 변수에 저장하세요.\n",
    "\n",
    "📑 조건\n",
    "- 저장된 pre_df 변수는 reset_index()를 이용하여 index를 초기화 하세요.\n",
    "- drop = True, inplace = True"
   ]
  },
  {
   "cell_type": "code",
   "execution_count": 314,
   "id": "06705c51",
   "metadata": {},
   "outputs": [],
   "source": [
    "# 여기에 답안코드를 작성하세요.\n"
   ]
  },
  {
   "cell_type": "markdown",
   "id": "1f26201a-a709-4737-981d-7823907a8de6",
   "metadata": {},
   "source": [
    "##### **정답코드**"
   ]
  },
  {
   "cell_type": "code",
   "execution_count": null,
   "id": "ca588b28-bffe-432c-9b3d-b0fe38cc5c7f",
   "metadata": {},
   "outputs": [],
   "source": [
    "churn_df.isna().sum()\n",
    "\n",
    "답04 = 'years_experience, salary'\n",
    "pre_df = churn_df.dropna(subset=['years_experience', 'salary'])\n",
    "pre_df.reset_index(drop=True, inplace=True)\n",
    "pre_df"
   ]
  },
  {
   "cell_type": "markdown",
   "id": "cce59850-47fb-4603-adbd-1b573e022fab",
   "metadata": {},
   "source": [
    "## [문제 5] Groupby를 이용한 데이터 확인\n",
    "\n",
    "🖋 상황 설명  \n",
    "부서별로 직원들의 직무 만족도(job_satisfaction) 평균을 분석하여, 직원 만족도가 높은 부서를 찾고자 합니다.\n",
    "\n",
    "🎯 목표\n",
    "- groupby를 이용하여 각 부서(department)의 평균 직무 만족도를 계산하여, 가장 만족도가 높은 부서를 찾으세요.\n",
    "- 문제를 보고 만족도가 높은 부서를 답05 변수에 저장하세요.\n",
    "  \n",
    "📑 문제\n",
    "1. Sales\n",
    "2. HR\n",
    "3. Engineering\n",
    "4. Marketing\n",
    "5. Engineering"
   ]
  },
  {
   "cell_type": "code",
   "execution_count": 177,
   "id": "e162863d-4e3c-43bd-88a8-b6b02bcc3be3",
   "metadata": {},
   "outputs": [],
   "source": [
    "# 여기에 답안코드를 작성하세요.\n"
   ]
  },
  {
   "cell_type": "markdown",
   "id": "985269ef-002a-41b0-a5b0-97d753ed2f38",
   "metadata": {},
   "source": [
    "##### **정답코드**"
   ]
  },
  {
   "cell_type": "code",
   "execution_count": null,
   "id": "c584948f-0e6c-44be-a825-49ad67b162de",
   "metadata": {},
   "outputs": [],
   "source": [
    "pre_df.groupby('department')['job_satisfaction'].mean()\n",
    "답05 = 4"
   ]
  },
  {
   "cell_type": "markdown",
   "id": "8a39b250-24ee-4917-be83-c86842def4f8",
   "metadata": {},
   "source": [
    "## [문제 6] crosstab을 이용한 데이터 확인\n",
    "\n",
    "🖋 상황 설명  \n",
    "부서별로 이직률(Attrition 비율)을 분석하고자 합니다.  \n",
    "이를 위해 pandas의 crosstab() 함수를 사용하여 부서(department)별 이직 여부(attrition) 비율을 계산합니다.\n",
    "\n",
    "🎯 목표\n",
    "- 각 부서별로 이직률과 재직률을 비율(%)로 확인합니다.\n",
    "- 가장 attribution(이직여부)가 높은 부서를 답06 변수에 저장하세요(예 : 답06 = 'hr')\n",
    "\n",
    "📑 조건\n",
    "- normalize = 'index'\n",
    "- round()를 사용하여 소수점 둘째자리까지 출력하세요."
   ]
  },
  {
   "cell_type": "code",
   "execution_count": 180,
   "id": "cf9cab60-edbe-4b4d-9605-195e04d66c75",
   "metadata": {},
   "outputs": [
    {
     "name": "stdout",
     "output_type": "stream",
     "text": [
      "attrition       0     1\n",
      "department             \n",
      "engineering  0.61  0.39\n",
      "finance      0.67  0.33\n",
      "hr           0.66  0.34\n",
      "marketing    0.69  0.31\n",
      "sales        0.73  0.27\n"
     ]
    }
   ],
   "source": [
    "# 여기에 답안코드를 작성하세요.\n"
   ]
  },
  {
   "cell_type": "markdown",
   "id": "d0fb1249-f8bc-43aa-878a-fb9a72630663",
   "metadata": {},
   "source": [
    "##### **정답코드**"
   ]
  },
  {
   "cell_type": "code",
   "execution_count": null,
   "id": "749d0330-a11e-4ca2-8271-51c56d166bc2",
   "metadata": {},
   "outputs": [],
   "source": [
    "print(pd.crosstab(pre_df['department'], pre_df['attrition'], normalize='index').round(2))\n",
    "답06 = 'engineering'"
   ]
  },
  {
   "cell_type": "markdown",
   "id": "49cc73c2",
   "metadata": {},
   "source": [
    "## [문제 7] 범주형 변수 인코딩\n",
    "\n",
    "🖋 상황 설명  \n",
    "범주형 변수들을 인코딩 합니다.\n",
    "\n",
    "🎯 목표\n",
    "- department 변수는 원핫 인코딩 진행\n",
    "- overtime은 np.where을 이용하여 Y는 1로 N은 0으로 변경"
   ]
  },
  {
   "cell_type": "markdown",
   "id": "243d311e-d3c8-414b-bc18-5b6331b93752",
   "metadata": {},
   "source": [
    "[사전 실행 지시사항]\n",
    "- 아래 셀을 실행하여 education_level에 대한 인코딩을 진행해 주세요."
   ]
  },
  {
   "cell_type": "code",
   "execution_count": 184,
   "id": "bbdb38f9-9e64-4c5a-9e9a-44d3758a28cf",
   "metadata": {
    "scrolled": true
   },
   "outputs": [
    {
     "name": "stderr",
     "output_type": "stream",
     "text": [
      "C:\\Users\\User\\AppData\\Local\\Temp\\ipykernel_24344\\3839330536.py:7: SettingWithCopyWarning: \n",
      "A value is trying to be set on a copy of a slice from a DataFrame.\n",
      "Try using .loc[row_indexer,col_indexer] = value instead\n",
      "\n",
      "See the caveats in the documentation: https://pandas.pydata.org/pandas-docs/stable/user_guide/indexing.html#returning-a-view-versus-a-copy\n",
      "  pre_df['education_level'] = pre_df['education_level'].map(edu_map)\n"
     ]
    }
   ],
   "source": [
    "edu_map = {\n",
    "    'high_school': 0,\n",
    "    'bachelor': 1,\n",
    "    'master': 2,\n",
    "    'phd': 3\n",
    "}\n",
    "pre_df['education_level'] = pre_df['education_level'].map(edu_map)\n"
   ]
  },
  {
   "cell_type": "markdown",
   "id": "f85f4746-c5a3-468f-8c6a-a083a4d2febc",
   "metadata": {},
   "source": [
    "📑 조건\n",
    "- 원핫 인코딩은 drop_first = True 옵션 사용\n",
    "- 처리된 데이터는 encoding_df 변수에 저장"
   ]
  },
  {
   "cell_type": "code",
   "execution_count": 187,
   "id": "0a6ce86a",
   "metadata": {},
   "outputs": [
    {
     "data": {
      "text/html": [
       "<div>\n",
       "<style scoped>\n",
       "    .dataframe tbody tr th:only-of-type {\n",
       "        vertical-align: middle;\n",
       "    }\n",
       "\n",
       "    .dataframe tbody tr th {\n",
       "        vertical-align: top;\n",
       "    }\n",
       "\n",
       "    .dataframe thead th {\n",
       "        text-align: right;\n",
       "    }\n",
       "</style>\n",
       "<table border=\"1\" class=\"dataframe\">\n",
       "  <thead>\n",
       "    <tr style=\"text-align: right;\">\n",
       "      <th></th>\n",
       "      <th>years_experience</th>\n",
       "      <th>salary</th>\n",
       "      <th>education_level</th>\n",
       "      <th>overtime</th>\n",
       "      <th>job_satisfaction</th>\n",
       "      <th>work_life_balance</th>\n",
       "      <th>attrition</th>\n",
       "      <th>department_finance</th>\n",
       "      <th>department_hr</th>\n",
       "      <th>department_marketing</th>\n",
       "      <th>department_sales</th>\n",
       "    </tr>\n",
       "  </thead>\n",
       "  <tbody>\n",
       "    <tr>\n",
       "      <th>0</th>\n",
       "      <td>15.0</td>\n",
       "      <td>54.6</td>\n",
       "      <td>2</td>\n",
       "      <td>0</td>\n",
       "      <td>3</td>\n",
       "      <td>4</td>\n",
       "      <td>1</td>\n",
       "      <td>1</td>\n",
       "      <td>0</td>\n",
       "      <td>0</td>\n",
       "      <td>0</td>\n",
       "    </tr>\n",
       "    <tr>\n",
       "      <th>1</th>\n",
       "      <td>5.6</td>\n",
       "      <td>116.6</td>\n",
       "      <td>1</td>\n",
       "      <td>0</td>\n",
       "      <td>3</td>\n",
       "      <td>2</td>\n",
       "      <td>1</td>\n",
       "      <td>0</td>\n",
       "      <td>1</td>\n",
       "      <td>0</td>\n",
       "      <td>0</td>\n",
       "    </tr>\n",
       "    <tr>\n",
       "      <th>2</th>\n",
       "      <td>11.0</td>\n",
       "      <td>32.2</td>\n",
       "      <td>3</td>\n",
       "      <td>0</td>\n",
       "      <td>4</td>\n",
       "      <td>2</td>\n",
       "      <td>1</td>\n",
       "      <td>0</td>\n",
       "      <td>1</td>\n",
       "      <td>0</td>\n",
       "      <td>0</td>\n",
       "    </tr>\n",
       "    <tr>\n",
       "      <th>3</th>\n",
       "      <td>16.2</td>\n",
       "      <td>82.2</td>\n",
       "      <td>3</td>\n",
       "      <td>1</td>\n",
       "      <td>1</td>\n",
       "      <td>3</td>\n",
       "      <td>1</td>\n",
       "      <td>0</td>\n",
       "      <td>0</td>\n",
       "      <td>0</td>\n",
       "      <td>1</td>\n",
       "    </tr>\n",
       "    <tr>\n",
       "      <th>4</th>\n",
       "      <td>12.4</td>\n",
       "      <td>97.7</td>\n",
       "      <td>0</td>\n",
       "      <td>0</td>\n",
       "      <td>2</td>\n",
       "      <td>3</td>\n",
       "      <td>1</td>\n",
       "      <td>0</td>\n",
       "      <td>0</td>\n",
       "      <td>0</td>\n",
       "      <td>0</td>\n",
       "    </tr>\n",
       "    <tr>\n",
       "      <th>...</th>\n",
       "      <td>...</td>\n",
       "      <td>...</td>\n",
       "      <td>...</td>\n",
       "      <td>...</td>\n",
       "      <td>...</td>\n",
       "      <td>...</td>\n",
       "      <td>...</td>\n",
       "      <td>...</td>\n",
       "      <td>...</td>\n",
       "      <td>...</td>\n",
       "      <td>...</td>\n",
       "    </tr>\n",
       "    <tr>\n",
       "      <th>1009</th>\n",
       "      <td>19.2</td>\n",
       "      <td>113.5</td>\n",
       "      <td>1</td>\n",
       "      <td>0</td>\n",
       "      <td>1</td>\n",
       "      <td>1</td>\n",
       "      <td>1</td>\n",
       "      <td>0</td>\n",
       "      <td>0</td>\n",
       "      <td>0</td>\n",
       "      <td>0</td>\n",
       "    </tr>\n",
       "    <tr>\n",
       "      <th>1010</th>\n",
       "      <td>11.6</td>\n",
       "      <td>117.4</td>\n",
       "      <td>0</td>\n",
       "      <td>1</td>\n",
       "      <td>2</td>\n",
       "      <td>2</td>\n",
       "      <td>0</td>\n",
       "      <td>0</td>\n",
       "      <td>1</td>\n",
       "      <td>0</td>\n",
       "      <td>0</td>\n",
       "    </tr>\n",
       "    <tr>\n",
       "      <th>1011</th>\n",
       "      <td>18.0</td>\n",
       "      <td>58.3</td>\n",
       "      <td>0</td>\n",
       "      <td>0</td>\n",
       "      <td>2</td>\n",
       "      <td>4</td>\n",
       "      <td>0</td>\n",
       "      <td>0</td>\n",
       "      <td>0</td>\n",
       "      <td>1</td>\n",
       "      <td>0</td>\n",
       "    </tr>\n",
       "    <tr>\n",
       "      <th>1012</th>\n",
       "      <td>15.9</td>\n",
       "      <td>39.8</td>\n",
       "      <td>2</td>\n",
       "      <td>1</td>\n",
       "      <td>3</td>\n",
       "      <td>3</td>\n",
       "      <td>0</td>\n",
       "      <td>1</td>\n",
       "      <td>0</td>\n",
       "      <td>0</td>\n",
       "      <td>0</td>\n",
       "    </tr>\n",
       "    <tr>\n",
       "      <th>1013</th>\n",
       "      <td>2.1</td>\n",
       "      <td>114.1</td>\n",
       "      <td>3</td>\n",
       "      <td>0</td>\n",
       "      <td>3</td>\n",
       "      <td>1</td>\n",
       "      <td>0</td>\n",
       "      <td>0</td>\n",
       "      <td>0</td>\n",
       "      <td>0</td>\n",
       "      <td>1</td>\n",
       "    </tr>\n",
       "  </tbody>\n",
       "</table>\n",
       "<p>1014 rows × 11 columns</p>\n",
       "</div>"
      ],
      "text/plain": [
       "      years_experience  salary  education_level  overtime  job_satisfaction  \\\n",
       "0                 15.0    54.6                2         0                 3   \n",
       "1                  5.6   116.6                1         0                 3   \n",
       "2                 11.0    32.2                3         0                 4   \n",
       "3                 16.2    82.2                3         1                 1   \n",
       "4                 12.4    97.7                0         0                 2   \n",
       "...                ...     ...              ...       ...               ...   \n",
       "1009              19.2   113.5                1         0                 1   \n",
       "1010              11.6   117.4                0         1                 2   \n",
       "1011              18.0    58.3                0         0                 2   \n",
       "1012              15.9    39.8                2         1                 3   \n",
       "1013               2.1   114.1                3         0                 3   \n",
       "\n",
       "      work_life_balance  attrition  department_finance  department_hr  \\\n",
       "0                     4          1                   1              0   \n",
       "1                     2          1                   0              1   \n",
       "2                     2          1                   0              1   \n",
       "3                     3          1                   0              0   \n",
       "4                     3          1                   0              0   \n",
       "...                 ...        ...                 ...            ...   \n",
       "1009                  1          1                   0              0   \n",
       "1010                  2          0                   0              1   \n",
       "1011                  4          0                   0              0   \n",
       "1012                  3          0                   1              0   \n",
       "1013                  1          0                   0              0   \n",
       "\n",
       "      department_marketing  department_sales  \n",
       "0                        0                 0  \n",
       "1                        0                 0  \n",
       "2                        0                 0  \n",
       "3                        0                 1  \n",
       "4                        0                 0  \n",
       "...                    ...               ...  \n",
       "1009                     0                 0  \n",
       "1010                     0                 0  \n",
       "1011                     1                 0  \n",
       "1012                     0                 0  \n",
       "1013                     0                 1  \n",
       "\n",
       "[1014 rows x 11 columns]"
      ]
     },
     "execution_count": 187,
     "metadata": {},
     "output_type": "execute_result"
    }
   ],
   "source": [
    "# 여기에 답안코드를 작성하세요.\n"
   ]
  },
  {
   "cell_type": "markdown",
   "id": "9e4105fe-96a1-4b0c-9603-eb44ab3433ad",
   "metadata": {},
   "source": [
    "##### **정답코드**"
   ]
  },
  {
   "cell_type": "code",
   "execution_count": null,
   "id": "bf8b456d-92a6-40c9-8188-3909690ec398",
   "metadata": {},
   "outputs": [],
   "source": [
    "encoding_df = pd.get_dummies(data=pre_df, columns=['department'], drop_first=True)\n",
    "encoding_df['overtime'] = np.where(encoding_df['overtime'] == 'Y', 1, 0)\n",
    "encoding_df"
   ]
  },
  {
   "cell_type": "markdown",
   "id": "5ab37928",
   "metadata": {},
   "source": [
    "## [문제 8] feature/target 분리\n",
    "\n",
    "🖋 상황 설명  \n",
    "모델 학습을 위해 X, y를 분리합니다.\n",
    "\n",
    "🎯 목표\n",
    "- X = attrition 제외 전부\n",
    "- y = attrition"
   ]
  },
  {
   "cell_type": "code",
   "execution_count": 206,
   "id": "78d4810e",
   "metadata": {},
   "outputs": [],
   "source": [
    "# 여기에 답안코드를 작성하세요.\n"
   ]
  },
  {
   "cell_type": "markdown",
   "id": "c860bfff-311f-40d0-9cd0-98f096b4b4b6",
   "metadata": {},
   "source": [
    "##### **정답코드**"
   ]
  },
  {
   "cell_type": "code",
   "execution_count": null,
   "id": "988e8a7a-1c3c-431d-99e0-3e7fa7324a93",
   "metadata": {},
   "outputs": [],
   "source": [
    "X = churn_df_clean.drop(columns='attrition')\n",
    "y = churn_df_clean['attrition']"
   ]
  },
  {
   "cell_type": "markdown",
   "id": "9701cfc2",
   "metadata": {},
   "source": [
    "## [문제 9] train/test 데이터 분리\n",
    "\n",
    "🖋 상황 설명  \n",
    "모델 학습 및 평가를 위해 데이터를 분리합니다.\n",
    "\n",
    "🎯 목표\n",
    "- 데이터셋을 분리하기 위해 train_test_split을 import하세요.\n",
    "- 훈련 데이터 셋 = X_train, y_train\n",
    "- 검증 데이터 셋 = X_valid, y_valid\n",
    "- random_state=42\n",
    "- 훈련 데이터셋과 검증 데이터셋의 비율은 8:2"
   ]
  },
  {
   "cell_type": "code",
   "execution_count": 209,
   "id": "1280fedb",
   "metadata": {},
   "outputs": [],
   "source": [
    "# 여기에 답안코드를 작성하세요.\n"
   ]
  },
  {
   "cell_type": "markdown",
   "id": "39f94c32-aa09-4f4d-9ab5-79bc95436a7e",
   "metadata": {},
   "source": [
    "##### **정답코드**"
   ]
  },
  {
   "cell_type": "code",
   "execution_count": null,
   "id": "05e08bdb-d3ee-44b0-9672-39cef5075dca",
   "metadata": {},
   "outputs": [],
   "source": [
    "from sklearn.model_selection import train_test_split\n",
    "X_train, X_valid, y_train, y_valid = train_test_split(X, y, test_size=0.2, random_state=42)"
   ]
  },
  {
   "cell_type": "markdown",
   "id": "ec96192b",
   "metadata": {},
   "source": [
    "## [문제 10] 데이터 표준화\n",
    "\n",
    "🎯 목표  \n",
    "데이터 스케일링을 통해 모델 학습의 성능을 높입니다.\n",
    "\n",
    "[사전 실행 지시사항]\n",
    "- 아래 셀을 실행하여 StandardScaler를 불러오세요."
   ]
  },
  {
   "cell_type": "code",
   "execution_count": 214,
   "id": "278747ce",
   "metadata": {},
   "outputs": [],
   "source": [
    "from sklearn.preprocessing import StandardScaler"
   ]
  },
  {
   "cell_type": "markdown",
   "id": "f4798e34-a50b-4349-af7e-855a5362dca5",
   "metadata": {},
   "source": [
    "📑 조건  \n",
    "- StandardScaler를 이용해 Feature 데이터를 스케일링하세요.\n",
    "- X_train은 fit_tranform을 이용하여 X_train 변수에 저장\n",
    "- X_valid는 transform을 이용하여 X_test의 변수에 저장\n"
   ]
  },
  {
   "cell_type": "code",
   "execution_count": 310,
   "id": "f545c9ea",
   "metadata": {},
   "outputs": [],
   "source": [
    "# 여기에 답안코드를 작성하세요.\n"
   ]
  },
  {
   "cell_type": "markdown",
   "id": "e503e97c-4380-445e-800b-eb8f803384d2",
   "metadata": {},
   "source": [
    "##### **정답코드**"
   ]
  },
  {
   "cell_type": "code",
   "execution_count": null,
   "id": "6f148e53-f1cb-4d85-9fc8-7419ee5dd7b8",
   "metadata": {},
   "outputs": [],
   "source": [
    "scaler = StandardScaler()\n",
    "\n",
    "X_train = scaler.fit_transform(X_train)\n",
    "X_test = scaler.transform(X_valid)"
   ]
  },
  {
   "cell_type": "markdown",
   "id": "c92711c6",
   "metadata": {},
   "source": [
    "## [문제 11] LightGBM 모델 학습\n",
    "\n",
    "🖋 상황 설명  \n",
    "LightGBM 모델을 이용하여 학습합니다.\n",
    "\n",
    "🎯 목표\n",
    "- n_estimators=100, max_depth=7, random_state=10\n",
    "\n",
    "⚙ 주어진 코드"
   ]
  },
  {
   "cell_type": "code",
   "execution_count": 225,
   "id": "d3c34940",
   "metadata": {},
   "outputs": [],
   "source": [
    "from lightgbm import LGBMClassifier"
   ]
  },
  {
   "cell_type": "markdown",
   "id": "8bb4d7e4-05df-41b0-9c5d-7bf7746bb451",
   "metadata": {},
   "source": [
    "\n",
    "📑 조건  \n",
    "- LGBMClassifier를 사용해 attrition을 예측하는 모델을 학습하세요.\n",
    "- LGBM모델을 lgbmc변수에 저장하세요.\n",
    "- n_estimators=100, max_depth=6, learning_rate = 0.01, random_state=10\n",
    "- 훈련은 스케일링 처리된 데이터를 사용해 주세요."
   ]
  },
  {
   "cell_type": "code",
   "execution_count": 308,
   "id": "d07c6143",
   "metadata": {
    "scrolled": true
   },
   "outputs": [],
   "source": [
    "# 여기에 답안코드를 작성하세요.\n"
   ]
  },
  {
   "cell_type": "markdown",
   "id": "87fe0fc7-fa69-456d-83e5-d106ee87c237",
   "metadata": {},
   "source": [
    "##### **정답코드**"
   ]
  },
  {
   "cell_type": "code",
   "execution_count": null,
   "id": "354ec006-721a-486d-87ca-c8614258d9ca",
   "metadata": {},
   "outputs": [],
   "source": [
    "lgbmc = LGBMClassifier(n_estimators=100, learning_rate=0.1, max_depth=6, random_state=42)\n",
    "\n",
    "lgbmc.fit(X_train, y_train)"
   ]
  },
  {
   "cell_type": "markdown",
   "id": "d136a461",
   "metadata": {},
   "source": [
    "## [문제 12] XGBoost 모델 학습\n",
    "\n",
    "🖋 상황 설명  \n",
    "XGBoost 모델을 학습합니다.\n",
    "\n",
    "[사전 실행 지시사항]\n",
    "- 아래 셀을 실행하여 XGBClassifier를 불러오세요."
   ]
  },
  {
   "cell_type": "code",
   "execution_count": 250,
   "id": "7e2dc1e6",
   "metadata": {},
   "outputs": [],
   "source": [
    "from xgboost import XGBClassifier"
   ]
  },
  {
   "cell_type": "markdown",
   "id": "e194d234-2d82-4c67-98f5-53c7c03ff7e1",
   "metadata": {},
   "source": [
    "📑 조건  \n",
    "\n",
    "- XGBClassifier를 사용해 leave_yn을 예측하는 모델을 학습하세요.\n",
    "- XGBoost모델을 xgbc변수에 저장하세요.\n",
    "- n_estimators=200, max_depth=8, learning_rate=0.1, random_state=10\n",
    "- 훈련은 스케일링 처리된 데이터를 사용하여 주세요."
   ]
  },
  {
   "cell_type": "code",
   "execution_count": 306,
   "id": "07da426b",
   "metadata": {},
   "outputs": [],
   "source": [
    "# 여기에 답안코드를 작성하세요.\n"
   ]
  },
  {
   "cell_type": "markdown",
   "id": "3c9b21bc-7a75-41c3-90c0-0467a81a6a79",
   "metadata": {},
   "source": [
    "##### **정답코드**"
   ]
  },
  {
   "cell_type": "code",
   "execution_count": null,
   "id": "8d079354-f16a-42d0-8999-8f19f5fdc26b",
   "metadata": {},
   "outputs": [],
   "source": [
    "xgbc = XGBClassifier(n_estimators = 200, max_depth = 8, learning_rate = 0.1, random_state = 10)\n",
    "xgbc.fit(X_train, y_train)"
   ]
  },
  {
   "cell_type": "markdown",
   "id": "24218177",
   "metadata": {},
   "source": [
    "## [문제 13] 모델 성능 비교\n",
    "\n",
    "🖋 상황 설명  \n",
    "모델 예측 성능을 비교합니다.\n",
    "\n",
    "🎯 목표\n",
    "- accuracy_score, f1_score 출력\n"
   ]
  },
  {
   "cell_type": "markdown",
   "id": "e2d690f5-1e82-4687-9cf4-6e0c9580e317",
   "metadata": {},
   "source": [
    "[사전 실행 지시사항]\n",
    "- 아래 셀을 실행하여 accuracy_score와 f1-score를 불러오세요."
   ]
  },
  {
   "cell_type": "code",
   "execution_count": 258,
   "id": "2cdb743d",
   "metadata": {},
   "outputs": [],
   "source": [
    "from sklearn.metrics import accuracy_score, f1_score"
   ]
  },
  {
   "cell_type": "markdown",
   "id": "6ae8d9d8-fef6-4b52-9cd2-0c815b0424ba",
   "metadata": {},
   "source": [
    "📑 조건  \n",
    "- lightGBM의 predict를 이용하여 검증 데이터를 예측하고, 예측된 데이터는 lgbmc_predict변수에 저장하여 주세요.\n",
    "- xgboost의 predict를 이용하여 검증 데이터를 예측하고, 예측된 데이터는 xgbc_predict변수에 저장하여 주세요.\n",
    "- 각 모델별 정확도와 f1-score를 출력"
   ]
  },
  {
   "cell_type": "code",
   "execution_count": 304,
   "id": "7d08a6ab",
   "metadata": {},
   "outputs": [],
   "source": [
    "# 여기에 답안코드를 작성하세요.\n"
   ]
  },
  {
   "cell_type": "markdown",
   "id": "3d05d882-ca44-4c6a-91d1-d6960443be83",
   "metadata": {},
   "source": [
    "##### **정답코드**"
   ]
  },
  {
   "cell_type": "code",
   "execution_count": null,
   "id": "6dc8763d-3e03-4ac6-ad08-fcfe7630b890",
   "metadata": {},
   "outputs": [],
   "source": [
    "lgbmc_predict = lgbmc.predict(X_valid)\n",
    "xgbc_predict = xgbc.predict(X_valid)\n",
    "\n",
    "print(\"LightGBM\")\n",
    "print(\"Accuracy:\", accuracy_score(y_valid, lgbmc_predict))\n",
    "print(\"F1 Score:\", f1_score(y_valid, lgbmc_predict))\n",
    "\n",
    "print(\"XGBoost\")\n",
    "print(\"Accuracy:\", accuracy_score(y_valid, xgbc_predict))\n",
    "print(\"F1 Score:\", f1_score(y_valid, xgbc_predict))"
   ]
  },
  {
   "cell_type": "markdown",
   "id": "47722d6f",
   "metadata": {},
   "source": [
    "## [문제 14] 딥러닝 모델 설계 및 학습\n",
    "\n",
    "🖋 상황 설명  \n",
    "딥러닝 모델로 이직 여부를 예측합니다.\n",
    "\n",
    "🎯 목표\n",
    "  ##### **모델 구조**\n",
    "  - Dense(64, selu) → BatchNormalization  \n",
    "  - Dense(32, selu) → BatchNormalization  \n",
    "  - Dense(16, selu)  \n",
    "  - Dense(2, softmax)  \n",
    "\n",
    "\n",
    "optimizer: adam, loss: categorical_crossentropy, metric: accuracy  \n",
    "epochs=50, batch_size=32\n",
    "\n",
    "⚙ 주어진 코드"
   ]
  },
  {
   "cell_type": "code",
   "execution_count": 262,
   "id": "52d4c7d4",
   "metadata": {},
   "outputs": [],
   "source": [
    "import tensorflow as tf\n",
    "from tensorflow.keras.models import Sequential\n",
    "from tensorflow.keras.layers import Dense, BatchNormalization\n",
    "from tensorflow.keras.utils import to_categorical\n",
    "\n",
    "tf.random.set_seed(10)\n",
    "y_train = to_categorical(y_train, num_classes=2)\n",
    "y_valid = to_categorical(y_valid, num_classes=2)"
   ]
  },
  {
   "cell_type": "code",
   "execution_count": 302,
   "id": "d38eb067",
   "metadata": {
    "scrolled": true
   },
   "outputs": [],
   "source": [
    "# 여기에 답안코드를 작성하세요.\n"
   ]
  },
  {
   "cell_type": "markdown",
   "id": "4bc8462d-be4d-4c95-bc59-93034cdff458",
   "metadata": {},
   "source": [
    "##### **정답코드**"
   ]
  },
  {
   "cell_type": "code",
   "execution_count": null,
   "id": "23edfdc6-6f24-411e-a35a-9a44efcf3090",
   "metadata": {},
   "outputs": [],
   "source": [
    "model = Sequential()\n",
    "model.add(Dense(64, activation='selu', input_shape=(X_train.shape[1],)))\n",
    "model.add(BatchNormalization())\n",
    "model.add(Dense(32, activation='selu'))\n",
    "model.add(BatchNormalization())\n",
    "model.add(Dense(16, activation='selu'))\n",
    "model.add(Dense(2, activation='softmax'))\n",
    "\n",
    "model.compile(\n",
    "    optimizer='adam',\n",
    "    loss='binary_crossentropy',\n",
    "    metrics=['accuracy']\n",
    ")\n",
    "\n",
    "model.fit(\n",
    "    X_train, y_train,\n",
    "    epochs=50,\n",
    "    batch_size=32\n",
    ")"
   ]
  }
 ],
 "metadata": {
  "kernelspec": {
   "display_name": "Python 3 (ipykernel)",
   "language": "python",
   "name": "python3"
  },
  "language_info": {
   "codemirror_mode": {
    "name": "ipython",
    "version": 3
   },
   "file_extension": ".py",
   "mimetype": "text/x-python",
   "name": "python",
   "nbconvert_exporter": "python",
   "pygments_lexer": "ipython3",
   "version": "3.12.4"
  }
 },
 "nbformat": 4,
 "nbformat_minor": 5
}
